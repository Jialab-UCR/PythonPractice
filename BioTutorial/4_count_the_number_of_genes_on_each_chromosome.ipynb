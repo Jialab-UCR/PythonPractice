{
 "cells": [
  {
   "cell_type": "markdown",
   "metadata": {},
   "source": [
    "## <h1><center>4. Count the Number of Genes on Each Chromosome</center></h1>"
   ]
  },
  {
   "cell_type": "code",
   "execution_count": 12,
   "metadata": {
    "collapsed": false
   },
   "outputs": [
    {
     "name": "stdout",
     "output_type": "stream",
     "text": [
      "Number of genes on Chr 1: 3902\n",
      "Number of genes on Chr 10: 1600\n",
      "Number of genes on Chr 11: 2561\n",
      "Number of genes on Chr 12: 2140\n",
      "Number of genes on Chr 13: 872\n",
      "Number of genes on Chr 14: 1449\n",
      "Number of genes on Chr 15: 1476\n",
      "Number of genes on Chr 16: 1881\n",
      "Number of genes on Chr 17: 2280\n",
      "Number of genes on Chr 18: 766\n",
      "Number of genes on Chr 19: 2412\n",
      "Number of genes on Chr 2: 2806\n",
      "Number of genes on Chr 20: 965\n",
      "Number of genes on Chr 21: 541\n",
      "Number of genes on Chr 22: 996\n",
      "Number of genes on Chr 3: 2204\n",
      "Number of genes on Chr 4: 1751\n",
      "Number of genes on Chr 5: 2002\n",
      "Number of genes on Chr 6: 2154\n",
      "Number of genes on Chr 7: 2106\n",
      "Number of genes on Chr 8: 1628\n",
      "Number of genes on Chr 9: 1659\n",
      "Number of genes on Chr GL000009.2: 1\n",
      "Number of genes on Chr GL000194.1: 2\n",
      "Number of genes on Chr GL000195.1: 2\n",
      "Number of genes on Chr GL000205.2: 1\n",
      "Number of genes on Chr GL000213.1: 1\n",
      "Number of genes on Chr GL000218.1: 1\n",
      "Number of genes on Chr GL000219.1: 1\n",
      "Number of genes on Chr KI270711.1: 1\n",
      "Number of genes on Chr KI270713.1: 2\n",
      "Number of genes on Chr KI270721.1: 1\n",
      "Number of genes on Chr KI270726.1: 2\n",
      "Number of genes on Chr KI270727.1: 4\n",
      "Number of genes on Chr KI270728.1: 8\n",
      "Number of genes on Chr KI270731.1: 1\n",
      "Number of genes on Chr KI270734.1: 3\n",
      "Number of genes on Chr MT: 15\n",
      "Number of genes on Chr X: 1852\n",
      "Number of genes on Chr Y: 436\n",
      "Total number of genes: 42485\n"
     ]
    }
   ],
   "source": [
    "\n",
    "from operator import itemgetter\n",
    "totalGeneNum = 0\n",
    "geneNum = OrderedDict()\n",
    "with open('/home/ruidong/Documents/Research/share/biotrainee/Homo_sapiens.GRCh38.86.gff3', 'rt') as f:\n",
    "    for line in f:\n",
    "        line = line.rstrip()\n",
    "        if line.startswith('#'):\n",
    "            continue\n",
    "        \n",
    "        lst = line.split('\\t')\n",
    "        \n",
    "        if lst[2] == 'gene':\n",
    "            totalGeneNum += 1\n",
    "            if lst[0] not in geneNum.keys():\n",
    "                geneNum[lst[0]] = 1\n",
    "            else:\n",
    "                geneNum[lst[0]] += 1\n",
    "                \n",
    "for ke, val in geneNum.items():\n",
    "    print ('Number of genes on Chr %s: %d' %(ke, val))\n",
    "    \n",
    "print ('Total number of genes: %d' %totalGeneNum)\n",
    "    \n",
    "    \n",
    "#sortedGeneNum = sorted(geneNum.items(), key=itemgetter(0))\n",
    "#for ke, val in sortedGeneNum:\n",
    "#    print ('Number of genes on Chr %s: %d' %(ke, val))"
   ]
  },
  {
   "cell_type": "code",
   "execution_count": null,
   "metadata": {
    "collapsed": false
   },
   "outputs": [],
   "source": []
  }
 ],
 "metadata": {
  "anaconda-cloud": {},
  "kernelspec": {
   "display_name": "Python [Root]",
   "language": "python",
   "name": "Python [Root]"
  },
  "language_info": {
   "codemirror_mode": {
    "name": "ipython",
    "version": 3
   },
   "file_extension": ".py",
   "mimetype": "text/x-python",
   "name": "python",
   "nbconvert_exporter": "python",
   "pygments_lexer": "ipython3",
   "version": "3.5.2"
  }
 },
 "nbformat": 4,
 "nbformat_minor": 0
}
