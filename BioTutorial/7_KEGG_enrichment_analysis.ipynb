{
 "cells": [
  {
   "cell_type": "markdown",
   "metadata": {},
   "source": [
    "## <h1><center>7. KEGG Enrichment Anlaysis</center></h1>"
   ]
  },
  {
   "cell_type": "code",
   "execution_count": 4,
   "metadata": {
    "collapsed": false
   },
   "outputs": [],
   "source": [
    "import os\n",
    "import re\n",
    "from collections import OrderedDict\n",
    "\n",
    "### scipy, numpy, pandas, matplotlib ...\n",
    "from scipy.stats import hypergeom\n",
    "import numpy as np\n",
    "import pandas as pd\n",
    "\n",
    "### rpy2\n",
    "from rpy2.robjects.packages import importr\n",
    "from rpy2.robjects.vectors import FloatVector\n",
    "from rpy2.robjects import pandas2ri\n",
    "stats = importr('stats')"
   ]
  },
  {
   "cell_type": "code",
   "execution_count": null,
   "metadata": {
    "collapsed": true
   },
   "outputs": [],
   "source": []
  },
  {
   "cell_type": "markdown",
   "metadata": {
    "collapsed": true
   },
   "source": [
    "### Data organization\n",
    "**1. store kegg pathway information into a dictionary** --> SUCCESSES\n",
    "> kegg['hsa01210:2-Oxocarboxylic acid metabolism'] = [CS,ACO2,ACO1]\n",
    "\n",
    "**2. store all genes into a list** --> POPULATION\n",
    "\n",
    "**3. store DE genes into a list** --> SAMPLE"
   ]
  },
  {
   "cell_type": "code",
   "execution_count": null,
   "metadata": {
    "collapsed": true
   },
   "outputs": [],
   "source": []
  },
  {
   "cell_type": "code",
   "execution_count": 5,
   "metadata": {
    "collapsed": false
   },
   "outputs": [
    {
     "name": "stdout",
     "output_type": "stream",
     "text": [
      "Number of genes in the background list: 7234\n",
      "Number of DE genes involved in any pathways: 870\n"
     ]
    }
   ],
   "source": [
    "kegg = OrderedDict()\n",
    "pop = []\n",
    "with open('hsa00001.cleaned.keg') as f:\n",
    "    for line in f:\n",
    "        line = line.rstrip()\n",
    "        lst = line.split('\\t')\n",
    "        if len(lst) > 3:\n",
    "            geneList = lst[-2].split(';')\n",
    "            kegg[lst[2]] = geneList\n",
    "            pop = pop + [gene for gene in geneList if gene not in pop]\n",
    "            \n",
    "            \n",
    "            \n",
    "DEGs = []\n",
    "with open('limma_001_2X_RNAseq_II2N.txt') as f:\n",
    "    for line in f:\n",
    "        line = line.rstrip()\n",
    "        lst = line.split('\\t')\n",
    "        if lst[0] == '':\n",
    "            continue\n",
    "            \n",
    "        elif lst[0] in pop:\n",
    "            DEGs.append(lst[0])\n",
    "            \n",
    "popTotal = len(pop)\n",
    "listTotal = len(DEGs)\n",
    "\n",
    "print ('Number of genes in the background list: %d' %popTotal)\n",
    "print ('Number of DE genes involved in any pathways: %d' %listTotal)"
   ]
  },
  {
   "cell_type": "code",
   "execution_count": null,
   "metadata": {
    "collapsed": true
   },
   "outputs": [],
   "source": []
  },
  {
   "cell_type": "markdown",
   "metadata": {},
   "source": [
    "### Hypergeometric Test"
   ]
  },
  {
   "cell_type": "code",
   "execution_count": 6,
   "metadata": {
    "collapsed": false
   },
   "outputs": [
    {
     "name": "stdout",
     "output_type": "stream",
     "text": [
      "hsa00660:C5-Branched dibasic acid metabolism\n",
      "hsa00073:Cutin, suberine and wax biosynthesis\n",
      "hsa00290:Valine, leucine and isoleucine biosynthesis\n",
      "hsa00400:Phenylalanine, tyrosine and tryptophan biosynthesis\n",
      "hsa00430:Taurine and hypotaurine metabolism\n",
      "hsa00440:Phosphonate and phosphinate metabolism\n",
      "hsa00471:D-Glutamine and D-glutamate metabolism\n",
      "hsa00472:D-Arginine and D-ornithine metabolism\n",
      "hsa00563:Glycosylphosphatidylinositol(GPI)-anchor biosynthesis\n",
      "hsa00740:Riboflavin metabolism\n",
      "hsa00780:Biotin metabolism\n",
      "hsa00785:Lipoic acid metabolism\n",
      "hsa00130:Ubiquinone and other terpenoid-quinone biosynthesis\n",
      "hsa01051:Biosynthesis of ansamycins\n",
      "hsa00523:Polyketide sugar unit biosynthesis\n",
      "hsa01055:Biosynthesis of vancomycin group antibiotics\n",
      "hsa00232:Caffeine metabolism\n",
      "hsa00311:Penicillin and cephalosporin biosynthesis\n",
      "hsa00524:Neomycin, kanamycin and gentamicin biosynthesis\n",
      "hsa00525:Acarbose and validamycin biosynthesis\n",
      "hsa03022:Basal transcription factors\n",
      "hsa03010:Ribosome\n",
      "hsa03060:Protein export\n",
      "hsa03050:Proteasome\n",
      "hsa04966:Collecting duct acid secretion\n",
      "hsa04744:Phototransduction\n",
      "hsa05033:Nicotine addiction\n"
     ]
    }
   ],
   "source": [
    "from scipy.stats import hypergeom\n",
    "\n",
    "keggEnrich = OrderedDict()\n",
    "for ke, val in kegg.items():\n",
    "    hits = [gene for gene in val if gene in DEGs]\n",
    "    hitCount = len(hits)\n",
    "    popHits = len(val)\n",
    "    \n",
    "    if hitCount == 0:\n",
    "        print (ke)\n",
    "    else:\n",
    "        #rv = hypergeom.sf(k, M, n, N)\n",
    "        pVal = hypergeom.sf(hitCount-1, popTotal, popHits, listTotal) ### P(X >= hitCount)\n",
    "        keggEnrich[ke] = [hitCount, listTotal, popHits, popTotal, pVal, ';'.join(hits)]"
   ]
  },
  {
   "cell_type": "code",
   "execution_count": null,
   "metadata": {
    "collapsed": true
   },
   "outputs": [],
   "source": []
  },
  {
   "cell_type": "code",
   "execution_count": 1,
   "metadata": {
    "collapsed": false
   },
   "outputs": [],
   "source": [
    "#for ke, val in keggEnrich.items():\n",
    "#    print (ke)\n",
    "#    print (val)"
   ]
  },
  {
   "cell_type": "code",
   "execution_count": null,
   "metadata": {
    "collapsed": true
   },
   "outputs": [],
   "source": []
  },
  {
   "cell_type": "markdown",
   "metadata": {},
   "source": [
    "### Output organization"
   ]
  },
  {
   "cell_type": "code",
   "execution_count": 7,
   "metadata": {
    "collapsed": false
   },
   "outputs": [],
   "source": [
    "keggOutput = pd.DataFrame.from_dict(keggEnrich, orient='columns', dtype=None)\n",
    "keggOutput = pd.DataFrame.transpose(keggOutput)\n",
    "keggOutput.columns = ['Count','List Total','pop Hits','pop Total','pVal','Genes']\n",
    "keggOutput = keggOutput.sort_values(by='pVal',axis=0)"
   ]
  },
  {
   "cell_type": "code",
   "execution_count": null,
   "metadata": {
    "collapsed": false
   },
   "outputs": [],
   "source": []
  },
  {
   "cell_type": "code",
   "execution_count": 9,
   "metadata": {
    "collapsed": false,
    "scrolled": true
   },
   "outputs": [
    {
     "data": {
      "text/html": [
       "<div>\n",
       "<style>\n",
       "    .dataframe thead tr:only-child th {\n",
       "        text-align: right;\n",
       "    }\n",
       "\n",
       "    .dataframe thead th {\n",
       "        text-align: left;\n",
       "    }\n",
       "\n",
       "    .dataframe tbody tr th {\n",
       "        vertical-align: top;\n",
       "    }\n",
       "</style>\n",
       "<table border=\"1\" class=\"dataframe\">\n",
       "  <thead>\n",
       "    <tr style=\"text-align: right;\">\n",
       "      <th></th>\n",
       "      <th>Count</th>\n",
       "      <th>List Total</th>\n",
       "      <th>pop Hits</th>\n",
       "      <th>pop Total</th>\n",
       "      <th>pVal</th>\n",
       "      <th>Genes</th>\n",
       "    </tr>\n",
       "  </thead>\n",
       "  <tbody>\n",
       "    <tr>\n",
       "      <th>hsa04110:Cell cycle</th>\n",
       "      <td>45</td>\n",
       "      <td>870</td>\n",
       "      <td>124</td>\n",
       "      <td>7234</td>\n",
       "      <td>1.63946e-12</td>\n",
       "      <td>CCND2;RBL1;ABL1;E2F1;E2F2;TGFB2;TGFB3;MYC;CDKN...</td>\n",
       "    </tr>\n",
       "    <tr>\n",
       "      <th>hsa04510:Focal adhesion</th>\n",
       "      <td>53</td>\n",
       "      <td>870</td>\n",
       "      <td>199</td>\n",
       "      <td>7234</td>\n",
       "      <td>9.30412e-09</td>\n",
       "      <td>COL1A2;COL4A6;COL6A1;COL6A2;COL6A3;LAMA2;LAMA4...</td>\n",
       "    </tr>\n",
       "    <tr>\n",
       "      <th>hsa05200:Pathways in cancer</th>\n",
       "      <td>86</td>\n",
       "      <td>870</td>\n",
       "      <td>395</td>\n",
       "      <td>7234</td>\n",
       "      <td>1.28301e-08</td>\n",
       "      <td>CDH1;AXIN2;TCF7L1;BIRC5;MYC;WNT2B;WNT3;WNT5B;W...</td>\n",
       "    </tr>\n",
       "    <tr>\n",
       "      <th>hsa04022:cGMP - PKG signaling pathway</th>\n",
       "      <td>45</td>\n",
       "      <td>870</td>\n",
       "      <td>163</td>\n",
       "      <td>7234</td>\n",
       "      <td>3.90382e-08</td>\n",
       "      <td>EDNRA;EDNRB;ADRA2A;PPP3CC;MEF2C;MEF2D;NFATC1;N...</td>\n",
       "    </tr>\n",
       "    <tr>\n",
       "      <th>hsa05166:HTLV-I infection</th>\n",
       "      <td>60</td>\n",
       "      <td>870</td>\n",
       "      <td>256</td>\n",
       "      <td>7234</td>\n",
       "      <td>1.59522e-07</td>\n",
       "      <td>TGFB2;TGFB3;VCAM1;CD3E;TLN1;TLN2;MYC;CCND2;PPP...</td>\n",
       "    </tr>\n",
       "  </tbody>\n",
       "</table>\n",
       "</div>"
      ],
      "text/plain": [
       "                                      Count List Total pop Hits pop Total  \\\n",
       "hsa04110:Cell cycle                      45        870      124      7234   \n",
       "hsa04510:Focal adhesion                  53        870      199      7234   \n",
       "hsa05200:Pathways in cancer              86        870      395      7234   \n",
       "hsa04022:cGMP - PKG signaling pathway    45        870      163      7234   \n",
       "hsa05166:HTLV-I infection                60        870      256      7234   \n",
       "\n",
       "                                              pVal  \\\n",
       "hsa04110:Cell cycle                    1.63946e-12   \n",
       "hsa04510:Focal adhesion                9.30412e-09   \n",
       "hsa05200:Pathways in cancer            1.28301e-08   \n",
       "hsa04022:cGMP - PKG signaling pathway  3.90382e-08   \n",
       "hsa05166:HTLV-I infection              1.59522e-07   \n",
       "\n",
       "                                                                                   Genes  \n",
       "hsa04110:Cell cycle                    CCND2;RBL1;ABL1;E2F1;E2F2;TGFB2;TGFB3;MYC;CDKN...  \n",
       "hsa04510:Focal adhesion                COL1A2;COL4A6;COL6A1;COL6A2;COL6A3;LAMA2;LAMA4...  \n",
       "hsa05200:Pathways in cancer            CDH1;AXIN2;TCF7L1;BIRC5;MYC;WNT2B;WNT3;WNT5B;W...  \n",
       "hsa04022:cGMP - PKG signaling pathway  EDNRA;EDNRB;ADRA2A;PPP3CC;MEF2C;MEF2D;NFATC1;N...  \n",
       "hsa05166:HTLV-I infection              TGFB2;TGFB3;VCAM1;CD3E;TLN1;TLN2;MYC;CCND2;PPP...  "
      ]
     },
     "execution_count": 9,
     "metadata": {},
     "output_type": "execute_result"
    }
   ],
   "source": [
    "keggOutput.head()"
   ]
  },
  {
   "cell_type": "code",
   "execution_count": null,
   "metadata": {
    "collapsed": true
   },
   "outputs": [],
   "source": []
  },
  {
   "cell_type": "markdown",
   "metadata": {},
   "source": [
    "### FDR correction"
   ]
  },
  {
   "cell_type": "code",
   "execution_count": 11,
   "metadata": {
    "collapsed": false
   },
   "outputs": [],
   "source": [
    "from rpy2.robjects.packages import importr\n",
    "from rpy2.robjects.vectors import FloatVector\n",
    "from rpy2.robjects import pandas2ri\n",
    "stats = importr('stats')\n",
    "\n",
    "\n",
    "pVal = keggOutput['pVal']\n",
    "fdr = stats.p_adjust(FloatVector(pVal), method = 'fdr')\n",
    "fdrPD = pandas2ri.ri2py(fdr)\n",
    "\n",
    "keggOutput.insert(5,'FDR',fdrPD)"
   ]
  },
  {
   "cell_type": "code",
   "execution_count": null,
   "metadata": {
    "collapsed": false
   },
   "outputs": [],
   "source": []
  },
  {
   "cell_type": "code",
   "execution_count": 12,
   "metadata": {
    "collapsed": false
   },
   "outputs": [
    {
     "data": {
      "text/html": [
       "<div>\n",
       "<style>\n",
       "    .dataframe thead tr:only-child th {\n",
       "        text-align: right;\n",
       "    }\n",
       "\n",
       "    .dataframe thead th {\n",
       "        text-align: left;\n",
       "    }\n",
       "\n",
       "    .dataframe tbody tr th {\n",
       "        vertical-align: top;\n",
       "    }\n",
       "</style>\n",
       "<table border=\"1\" class=\"dataframe\">\n",
       "  <thead>\n",
       "    <tr style=\"text-align: right;\">\n",
       "      <th></th>\n",
       "      <th>Count</th>\n",
       "      <th>List Total</th>\n",
       "      <th>pop Hits</th>\n",
       "      <th>pop Total</th>\n",
       "      <th>pVal</th>\n",
       "      <th>FDR</th>\n",
       "      <th>Genes</th>\n",
       "    </tr>\n",
       "  </thead>\n",
       "  <tbody>\n",
       "    <tr>\n",
       "      <th>hsa04110:Cell cycle</th>\n",
       "      <td>45</td>\n",
       "      <td>870</td>\n",
       "      <td>124</td>\n",
       "      <td>7234</td>\n",
       "      <td>1.63946e-12</td>\n",
       "      <td>4.820000e-10</td>\n",
       "      <td>CCND2;RBL1;ABL1;E2F1;E2F2;TGFB2;TGFB3;MYC;CDKN...</td>\n",
       "    </tr>\n",
       "    <tr>\n",
       "      <th>hsa04510:Focal adhesion</th>\n",
       "      <td>53</td>\n",
       "      <td>870</td>\n",
       "      <td>199</td>\n",
       "      <td>7234</td>\n",
       "      <td>9.30412e-09</td>\n",
       "      <td>1.257355e-06</td>\n",
       "      <td>COL1A2;COL4A6;COL6A1;COL6A2;COL6A3;LAMA2;LAMA4...</td>\n",
       "    </tr>\n",
       "    <tr>\n",
       "      <th>hsa05200:Pathways in cancer</th>\n",
       "      <td>86</td>\n",
       "      <td>870</td>\n",
       "      <td>395</td>\n",
       "      <td>7234</td>\n",
       "      <td>1.28301e-08</td>\n",
       "      <td>1.257355e-06</td>\n",
       "      <td>CDH1;AXIN2;TCF7L1;BIRC5;MYC;WNT2B;WNT3;WNT5B;W...</td>\n",
       "    </tr>\n",
       "    <tr>\n",
       "      <th>hsa04022:cGMP - PKG signaling pathway</th>\n",
       "      <td>45</td>\n",
       "      <td>870</td>\n",
       "      <td>163</td>\n",
       "      <td>7234</td>\n",
       "      <td>3.90382e-08</td>\n",
       "      <td>2.869307e-06</td>\n",
       "      <td>EDNRA;EDNRB;ADRA2A;PPP3CC;MEF2C;MEF2D;NFATC1;N...</td>\n",
       "    </tr>\n",
       "    <tr>\n",
       "      <th>hsa05166:HTLV-I infection</th>\n",
       "      <td>60</td>\n",
       "      <td>870</td>\n",
       "      <td>256</td>\n",
       "      <td>7234</td>\n",
       "      <td>1.59522e-07</td>\n",
       "      <td>9.379905e-06</td>\n",
       "      <td>TGFB2;TGFB3;VCAM1;CD3E;TLN1;TLN2;MYC;CCND2;PPP...</td>\n",
       "    </tr>\n",
       "  </tbody>\n",
       "</table>\n",
       "</div>"
      ],
      "text/plain": [
       "                                      Count List Total pop Hits pop Total  \\\n",
       "hsa04110:Cell cycle                      45        870      124      7234   \n",
       "hsa04510:Focal adhesion                  53        870      199      7234   \n",
       "hsa05200:Pathways in cancer              86        870      395      7234   \n",
       "hsa04022:cGMP - PKG signaling pathway    45        870      163      7234   \n",
       "hsa05166:HTLV-I infection                60        870      256      7234   \n",
       "\n",
       "                                              pVal           FDR  \\\n",
       "hsa04110:Cell cycle                    1.63946e-12  4.820000e-10   \n",
       "hsa04510:Focal adhesion                9.30412e-09  1.257355e-06   \n",
       "hsa05200:Pathways in cancer            1.28301e-08  1.257355e-06   \n",
       "hsa04022:cGMP - PKG signaling pathway  3.90382e-08  2.869307e-06   \n",
       "hsa05166:HTLV-I infection              1.59522e-07  9.379905e-06   \n",
       "\n",
       "                                                                                   Genes  \n",
       "hsa04110:Cell cycle                    CCND2;RBL1;ABL1;E2F1;E2F2;TGFB2;TGFB3;MYC;CDKN...  \n",
       "hsa04510:Focal adhesion                COL1A2;COL4A6;COL6A1;COL6A2;COL6A3;LAMA2;LAMA4...  \n",
       "hsa05200:Pathways in cancer            CDH1;AXIN2;TCF7L1;BIRC5;MYC;WNT2B;WNT3;WNT5B;W...  \n",
       "hsa04022:cGMP - PKG signaling pathway  EDNRA;EDNRB;ADRA2A;PPP3CC;MEF2C;MEF2D;NFATC1;N...  \n",
       "hsa05166:HTLV-I infection              TGFB2;TGFB3;VCAM1;CD3E;TLN1;TLN2;MYC;CCND2;PPP...  "
      ]
     },
     "execution_count": 12,
     "metadata": {},
     "output_type": "execute_result"
    }
   ],
   "source": [
    "keggOutput.head()"
   ]
  },
  {
   "cell_type": "code",
   "execution_count": null,
   "metadata": {
    "collapsed": true
   },
   "outputs": [],
   "source": []
  },
  {
   "cell_type": "code",
   "execution_count": 295,
   "metadata": {
    "collapsed": true
   },
   "outputs": [],
   "source": [
    "keggOutput.to_excel('kegg_pathway_enrichment.xlsx', sheet_name='kegg')"
   ]
  },
  {
   "cell_type": "code",
   "execution_count": 128,
   "metadata": {
    "collapsed": false
   },
   "outputs": [],
   "source": []
  }
 ],
 "metadata": {
  "anaconda-cloud": {},
  "kernelspec": {
   "display_name": "Python [Root]",
   "language": "python",
   "name": "Python [Root]"
  },
  "language_info": {
   "codemirror_mode": {
    "name": "ipython",
    "version": 3
   },
   "file_extension": ".py",
   "mimetype": "text/x-python",
   "name": "python",
   "nbconvert_exporter": "python",
   "pygments_lexer": "ipython3",
   "version": "3.5.2"
  }
 },
 "nbformat": 4,
 "nbformat_minor": 0
}
