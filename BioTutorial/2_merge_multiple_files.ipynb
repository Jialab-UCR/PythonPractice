{
 "cells": [
  {
   "cell_type": "markdown",
   "metadata": {},
   "source": [
    "## <h1><center>2. Merge Multiple Files</center></h1>"
   ]
  },
  {
   "cell_type": "code",
   "execution_count": null,
   "metadata": {
    "collapsed": true
   },
   "outputs": [],
   "source": [
    "from collections import OrderedDict\n",
    "\n",
    "htseqFiles = os.listdir('./htseq/')\n",
    "\n",
    "sammples = []\n",
    "htseqCounts = OrderedDict()\n",
    "\n",
    "for fl in htseqFiles:\n",
    "    if fl.endswith('.htseq.counts'):\n",
    "        samples.append(fl.split('.htseq')[0])\n",
    "        with open(fh, 'rt') as f:\n",
    "            for line in f:\n",
    "                line = line.rstrip()\n",
    "                lst = line.split('\\t')\n",
    "                if lst[0] not in htseqCounts.keys():\n",
    "                    htseqCounts[lst[0]] = []\n",
    "                htseqCounts[lst[0]].append(lst[1])\n",
    "                \n",
    "fh = open('all_samples.htseq.counts.txt', 'wt')            \n",
    "fh.write('\\t'+'\\t'.join(samples)+'\\n')\n",
    "\n",
    "for ke, val in htseqCounts.items():\n",
    "    fh.write(ke+'\\t'+'\\t'.join(map(str,val))+'\\n')\n",
    "\n",
    "fh.close()"
   ]
  },
  {
   "cell_type": "code",
   "execution_count": null,
   "metadata": {
    "collapsed": true
   },
   "outputs": [],
   "source": []
  },
  {
   "cell_type": "code",
   "execution_count": null,
   "metadata": {
    "collapsed": false
   },
   "outputs": [],
   "source": []
  }
 ],
 "metadata": {
  "anaconda-cloud": {},
  "kernelspec": {
   "display_name": "Python [Root]",
   "language": "python",
   "name": "Python [Root]"
  },
  "language_info": {
   "codemirror_mode": {
    "name": "ipython",
    "version": 3
   },
   "file_extension": ".py",
   "mimetype": "text/x-python",
   "name": "python",
   "nbconvert_exporter": "python",
   "pygments_lexer": "ipython3",
   "version": "3.5.2"
  }
 },
 "nbformat": 4,
 "nbformat_minor": 0
}
