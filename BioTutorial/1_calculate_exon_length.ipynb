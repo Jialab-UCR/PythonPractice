{
 "cells": [
  {
   "cell_type": "markdown",
   "metadata": {},
   "source": [
    "### <h1><center>1. Calculate Exon Length</center></h1>"
   ]
  },
  {
   "cell_type": "code",
   "execution_count": 1,
   "metadata": {
    "collapsed": true
   },
   "outputs": [],
   "source": [
    "import re\n",
    "import os\n",
    "from collections import OrderedDict\n",
    "from operator import itemgetter"
   ]
  },
  {
   "cell_type": "code",
   "execution_count": 3,
   "metadata": {
    "collapsed": false
   },
   "outputs": [
    {
     "name": "stdout",
     "output_type": "stream",
     "text": [
      "36048075\n"
     ]
    }
   ],
   "source": [
    "exonLength = 0\n",
    "overlapExons = OrderedDict()\n",
    "with open('CCDS.current.txt', 'rt') as f:\n",
    "    for line in f:\n",
    "        if line.startswith('#'):\n",
    "            continue\n",
    "        line = line.rstrip()\n",
    "        lst = line.split('\\t')\n",
    "        if lst[-2] == '-':\n",
    "            continue\n",
    "        lst[-2] = re.sub('\\[|\\]', '', lst[-2])\n",
    "        exons = lst[-2].split(', ')\n",
    "        for exon in exons:\n",
    "            start = int(exon.split('-')[0])\n",
    "            end = int(exon.split('-')[1])\n",
    "            coordinate = lst[0]+':'+exon\n",
    "            if coordinate not in overlapExons.keys():\n",
    "                overlapExons[coordinate] = 1\n",
    "                exonLength += end-start\n",
    "            \n",
    "print (exonLength)\n",
    "            "
   ]
  },
  {
   "cell_type": "code",
   "execution_count": null,
   "metadata": {
    "collapsed": true
   },
   "outputs": [],
   "source": []
  }
 ],
 "metadata": {
  "anaconda-cloud": {},
  "kernelspec": {
   "display_name": "Python [Root]",
   "language": "python",
   "name": "Python [Root]"
  },
  "language_info": {
   "codemirror_mode": {
    "name": "ipython",
    "version": 3
   },
   "file_extension": ".py",
   "mimetype": "text/x-python",
   "name": "python",
   "nbconvert_exporter": "python",
   "pygments_lexer": "ipython3",
   "version": "3.5.2"
  }
 },
 "nbformat": 4,
 "nbformat_minor": 0
}
