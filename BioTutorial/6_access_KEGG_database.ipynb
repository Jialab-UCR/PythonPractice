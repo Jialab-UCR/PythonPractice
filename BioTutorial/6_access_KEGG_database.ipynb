{
 "cells": [
  {
   "cell_type": "code",
   "execution_count": null,
   "metadata": {
    "collapsed": true
   },
   "outputs": [],
   "source": [
    "## <h1><center>5. Access KEGG Database</center></h1>"
   ]
  },
  {
   "cell_type": "code",
   "execution_count": 1,
   "metadata": {
    "collapsed": false
   },
   "outputs": [],
   "source": [
    "import os\n",
    "import re\n",
    "from collections import OrderedDict"
   ]
  },
  {
   "cell_type": "code",
   "execution_count": 2,
   "metadata": {
    "collapsed": false
   },
   "outputs": [],
   "source": [
    "hsaKEGG = OrderedDict()\n",
    "with open('hsa00001.keg') as f:\n",
    "    for line in f:\n",
    "        line = line.rstrip()\n",
    "        if line.startswith('A'):\n",
    "            mch = re.search('A<b>(.+)</b>',line)\n",
    "            className = mch.group(1)\n",
    "            hsaKEGG[className] = OrderedDict()\n",
    "                \n",
    "        elif line.startswith('B'):\n",
    "            if line == 'B':\n",
    "                continue\n",
    "            else:\n",
    "                mch = re.search('<b>(.+)</b>', line)\n",
    "                subClass = mch.group(1)\n",
    "                hsaKEGG[className][subClass] = OrderedDict()\n",
    "                \n",
    "        elif line.startswith('C'):\n",
    "            mch = re.search('(\\d+)\\s(.+)', line)\n",
    "            pathID = 'hsa'+mch.group(1)\n",
    "            pathName = re.sub('\\s\\[.+\\]', '', mch.group(2))\n",
    "            pathway = pathID + ':' + pathName\n",
    "            \n",
    "            hsaKEGG[className][subClass][pathway] = [[],[]]\n",
    "            \n",
    "        \n",
    "        elif line.startswith('D'):\n",
    "            lst = line.split(';')\n",
    "            geneInfo = lst[0].split('\\t')\n",
    "            mch = re.match('D\\s+(\\d+)\\s(.+)', geneInfo[0])\n",
    "            geneID = mch.group(1)\n",
    "            gene = mch.group(2)\n",
    "\n",
    "            hsaKEGG[className][subClass][pathway][0].append(gene)\n",
    "            hsaKEGG[className][subClass][pathway][1].append(geneID)\n",
    "            \n",
    "            \n",
    "fh = open('hsa00001.cleaned.keg', 'wt')\n",
    "for ke, val in hsaKEGG.items():\n",
    "    for subk, subv in val.items():\n",
    "        for ptwy, geneList in subv.items():\n",
    "            genes = ';'.join(geneList[0])\n",
    "            geneIDs = ';'.join(geneList[1])\n",
    "            fh.write('\\t'.join([ke, subk, ptwy, genes, geneIDs])+'\\n')\n",
    "            \n",
    "            \n",
    "fh.close()"
   ]
  },
  {
   "cell_type": "code",
   "execution_count": 3,
   "metadata": {
    "collapsed": false
   },
   "outputs": [
    {
     "name": "stdout",
     "output_type": "stream",
     "text": [
      "Number of non-empty pathways: 321\n",
      "Number of genes in all pathways: 7233\n"
     ]
    }
   ],
   "source": [
    "pthwyNum = 0\n",
    "allGenes = []\n",
    "with open('hsa00001.cleaned.keg') as f:\n",
    "    for line in f:\n",
    "        line = line.rstrip()\n",
    "        lst = line.split('\\t')\n",
    "        if len(lst) > 3:\n",
    "            pthwyNum += 1\n",
    "            geneList = lst[-2].split(';')\n",
    "            allGenes = allGenes + [gene for gene in geneList if gene not in allGenes]\n",
    "        \n",
    "        \n",
    "print ('Number of non-empty pathways: %d' %pthwyNum)\n",
    "print ('Number of genes in all pathways: %d' %len(allGenes))\n",
    "        "
   ]
  },
  {
   "cell_type": "code",
   "execution_count": null,
   "metadata": {
    "collapsed": true
   },
   "outputs": [],
   "source": []
  }
 ],
 "metadata": {
  "anaconda-cloud": {},
  "kernelspec": {
   "display_name": "Python [Root]",
   "language": "python",
   "name": "Python [Root]"
  },
  "language_info": {
   "codemirror_mode": {
    "name": "ipython",
    "version": 3
   },
   "file_extension": ".py",
   "mimetype": "text/x-python",
   "name": "python",
   "nbconvert_exporter": "python",
   "pygments_lexer": "ipython3",
   "version": "3.5.2"
  }
 },
 "nbformat": 4,
 "nbformat_minor": 0
}
