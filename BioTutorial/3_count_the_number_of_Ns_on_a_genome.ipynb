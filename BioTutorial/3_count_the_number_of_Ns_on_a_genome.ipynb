{
 "cells": [
  {
   "cell_type": "markdown",
   "metadata": {},
   "source": [
    "## 3. Count the Number of Ns on a Genome"
   ]
  },
  {
   "cell_type": "code",
   "execution_count": 4,
   "metadata": {
    "collapsed": false
   },
   "outputs": [
    {
     "name": "stdout",
     "output_type": "stream",
     "text": [
      "HSBGPG Human gene for bone gla protein (BGP)\t10\n",
      "HSGLTH1 Human theta 1-globin gene\t0\n"
     ]
    }
   ],
   "source": [
    "\n",
    "import re\n",
    "from collections import OrderedDict\n",
    "\n",
    "def parse_genome(genomeFile, fmt='fasta'):\n",
    "    genome = OrderedDict()\n",
    "    chrm = ''\n",
    "    seq = ''\n",
    "    \n",
    "    with open(genomeFile, 'rt') as f:\n",
    "        for line in f:\n",
    "            line = line.strip()\n",
    "            if line.startswith('>'):\n",
    "                genome[chrm] = seq\n",
    "                \n",
    "                chrm = re.sub('>', '', line)\n",
    "                seq = ''\n",
    "            else:\n",
    "                line = line.upper()\n",
    "                seq = seq+line\n",
    "        \n",
    "        genome[chrm] = seq\n",
    "        del genome['']\n",
    "        \n",
    "    return (genome.items())\n",
    "\n",
    "sampleGenome = parse_genome('sample_genome.fasta')\n",
    "\n",
    "for chrm, seq in sampleGenome:\n",
    "    print ('\\t'.join(map(str, [chrm, seq.count('N')])))\n",
    "    \n"
   ]
  },
  {
   "cell_type": "code",
   "execution_count": null,
   "metadata": {
    "collapsed": true
   },
   "outputs": [],
   "source": []
  }
 ],
 "metadata": {
  "anaconda-cloud": {},
  "kernelspec": {
   "display_name": "Python [Root]",
   "language": "python",
   "name": "Python [Root]"
  },
  "language_info": {
   "codemirror_mode": {
    "name": "ipython",
    "version": 3
   },
   "file_extension": ".py",
   "mimetype": "text/x-python",
   "name": "python",
   "nbconvert_exporter": "python",
   "pygments_lexer": "ipython3",
   "version": "3.5.2"
  }
 },
 "nbformat": 4,
 "nbformat_minor": 0
}
