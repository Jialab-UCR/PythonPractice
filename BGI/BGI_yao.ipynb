{
 "cells": [
  {
   "cell_type": "code",
   "execution_count": 2,
   "metadata": {},
   "outputs": [
    {
     "data": {
      "text/plain": [
       "<Figure size 640x480 with 1 Axes>"
      ]
     },
     "metadata": {},
     "output_type": "display_data"
    },
    {
     "data": {
      "text/plain": [
       "\"\\n### 1d. retrival of all cds sequence\\ncds = OrderedDict()\\nfh = open('output/cds_retrieval.fa', 'wt')\\nwith open('scaffold.gff', 'rt') as f:\\n    for line in f:\\n        line = line.rstrip()\\n        lst = line.split()\\n        scfd = lst[0]\\n        start = int(lst[3])\\n        end = int(lst[4])\\n        if lst[2] == 'CDS':\\n            cds[line] = genome[scfd][start-1:end]\\n            \\nfor k, v in cds.items():\\n    fh.write('>'+k+'\\n')\\n    fh.write(v+'\\n')\\n    \\nfh.close()\\n\""
      ]
     },
     "execution_count": 2,
     "metadata": {},
     "output_type": "execute_result"
    }
   ],
   "source": [
    "import re\n",
    "from collections import OrderedDict\n",
    "import matplotlib.pyplot as plt\n",
    "\n",
    "### read genome into a dictionary key=scaffold, value=sequence\n",
    "genome = OrderedDict()\n",
    "fh = open('output/chromsome_information.txt', 'wt')\n",
    "fh.write('Name\\tTotal_Length\\tEffective_length\\tN_length\\tGC_length\\tGC_rate(%)\\n')\n",
    "\n",
    "with open('scaffold.fa', 'rt') as f:\n",
    "    scfd = ''\n",
    "    seq = ''\n",
    "    for line in f:\n",
    "        line = line.rstrip()\n",
    "        if line.startswith('>'):\n",
    "            lst = line.split()\n",
    "            genome[scfd] = seq\n",
    "            scfd = lst[0]\n",
    "            scfd = re.sub(r'>', r'', scfd)\n",
    "            seq = ''\n",
    "        else:\n",
    "            line = line.upper()\n",
    "            seq += line\n",
    "    genome[scfd] = seq\n",
    "    \n",
    "    del genome['']\n",
    "\n",
    "'''\n",
    "### 1a. GC content analysis on each scaffold\n",
    "for k, v in genome.items():\n",
    "    total_len = len(v)\n",
    "    eff_len = 0\n",
    "    n = 0\n",
    "    at = 0\n",
    "    gc = 0\n",
    "\n",
    "    for nt in v:\n",
    "        if nt == 'A' or nt == 'T':\n",
    "            at += 1\n",
    "            eff_len += 1\n",
    "        elif nt == 'G' or nt == 'C':\n",
    "            gc += 1\n",
    "            eff_len += 1\n",
    "        elif nt == 'N':\n",
    "            n += 1\n",
    "    \n",
    "    gc_rate = round(gc/(gc+at)*100, 2)\n",
    "    \n",
    "    fh.write(k+'\\t'+str(total_len)+'\\t'+str(eff_len)+'\\t'+str(n)+'\\t'+str(gc)+'\\t'+str(gc_rate)+'\\n')\n",
    "\n",
    "fh.close()\n",
    "     \n",
    "    \n",
    "### 1c. analyze the GC content in every 250bp non-overlapping sliding window\n",
    "fh = open('output/gc_distribution.txt', 'wt')\n",
    "fh.write('Scaffold\\tStart\\tEnd\\tGC_num\\tGC_content\\n')\n",
    "\n",
    "for k, v in genome.items():\n",
    "    seq = re.sub(r'N+', r'', v)\n",
    "    for i in range(250, len(seq), 250):\n",
    "        fh.write(k+'\\t')\n",
    "        start = i-250+1\n",
    "        end = i\n",
    "        fh.write(str(start)+'\\t'+str(end)+'\\t')\n",
    "        window = seq[i-250:i]\n",
    "        gc = 0\n",
    "        at = 0\n",
    "        for j in range(250):\n",
    "            if window[j] == 'G' or window[j] == 'C':\n",
    "                gc += 1\n",
    "            elif window[j] == 'A' or window[j] == 'T':\n",
    "                at += 1\n",
    "\n",
    "        gc_rate = round(gc/(gc+at)*100, 2)\n",
    "        fh.write(str(gc)+'\\t'+str(gc_rate)+'\\n') \n",
    "    \n",
    "    if len(seq)-i > 200 and len(seq)-i < 250:\n",
    "        fh.write(k+'\\t')\n",
    "        start = i+1\n",
    "        end = len(seq)\n",
    "        fh.write(str(start)+'\\t'+str(end)+'\\t')\n",
    "        window = seq[i:end]\n",
    "        gc = 0\n",
    "        at = 0\n",
    "        for j in range(end-i):\n",
    "            if window[j] == 'G' or window[j] == 'C':\n",
    "                gc += 1\n",
    "            elif window[j] == 'A' or window[j] == 'T':\n",
    "                at += 1\n",
    "        gc_rate = round(gc/(gc+at)*100, 2)\n",
    "        fh.write(str(gc)+'\\t'+str(gc_rate)+'\\n')  \n",
    "        \n",
    "fh.close()\n",
    "'''\n",
    "\n",
    "### plot GC content curve\n",
    "def gc_content(scaffold = 'scaffold16'):\n",
    "    with open('output/gc_distribution.txt', 'rt') as f:\n",
    "        x = []\n",
    "        y = []\n",
    "        for line in f:\n",
    "            if line.startswith('Chr'):\n",
    "                continue\n",
    "            elif line.startswith(scaffold):\n",
    "                lst = line.rstrip().split('\\t')\n",
    "                end = int(lst[2])\n",
    "                gc_rate = float(lst[4])\n",
    "            \n",
    "                x.append(end)\n",
    "                y.append(gc_rate)\n",
    "    return x, y\n",
    "\n",
    "position, gc = gc_content(scaffold = 'scaffold16')\n",
    "seq = re.sub(r'N+', r'', genome['scaffold16'])\n",
    "\n",
    "plt.plot(position,gc)\n",
    "plt.xlim(250,len(seq))\n",
    "plt.ylim(0, 100)\n",
    "plt.xticks([250, 250000, 500000, 750000, len(seq)], ['Start', '25K', '50K', '75K', 'End'])\n",
    "plt.xlabel('Scaffold16')\n",
    "plt.ylabel('GC Content (%)')\n",
    "plt.savefig('output/Scaffold16 GC content curve')\n",
    "plt.show()\n",
    "\n",
    "'''\n",
    "### 1d. retrival of all cds sequence\n",
    "cds = OrderedDict()\n",
    "fh = open('output/cds_retrieval.fa', 'wt')\n",
    "with open('scaffold.gff', 'rt') as f:\n",
    "    for line in f:\n",
    "        line = line.rstrip()\n",
    "        lst = line.split()\n",
    "        scfd = lst[0]\n",
    "        start = int(lst[3])\n",
    "        end = int(lst[4])\n",
    "        if lst[2] == 'CDS':\n",
    "            cds[line] = genome[scfd][start-1:end]\n",
    "            \n",
    "for k, v in cds.items():\n",
    "    fh.write('>'+k+'\\n')\n",
    "    fh.write(v+'\\n')\n",
    "    \n",
    "fh.close()\n",
    "'''"
   ]
  },
  {
   "cell_type": "code",
   "execution_count": null,
   "metadata": {},
   "outputs": [],
   "source": [
    "import subprocess as sp\n",
    "from subprocess import call\n",
    "from collections import OrderedDict, defaultdict\n",
    "\n",
    "cds = defaultdict(list)\n",
    "with open('selectedGene.gff', 'rt') as f:\n",
    "    for line in f:\n",
    "        line = line.rstrip()\n",
    "        lst = line.split()\n",
    "        if lst[2] == 'mRNA':\n",
    "            mch1 = re.search(r'Gene_name=(.+);Transcript', lst[9])\n",
    "            gene = mch1.group(1)\n",
    "            mch2 = re.search(r'Transcript=(.+);$', lst[9])\n",
    "            transcript = mch2.group(1)\n",
    "            geneid = lst[0]+'\\t'+gene+'\\t'+transcript\n",
    "            cds[geneid] = []\n",
    "            continue\n",
    "        elif lst[2] == 'CDS':\n",
    "            cds[geneid].append((lst[3], lst[4]))\n",
    "        \n",
    "        \n",
    "bam2sam = ('samtools view -h -o inputData.sort.sam inputData.sort.bam')\n",
    "print (bam2sam)\n",
    "call(bam2sam, shell = True)\n",
    "\n",
    "fh = open('read_cds_overlap.txt', 'wt')\n",
    "with open('inputData.sort.sam', 'rt') as f:\n",
    "    for line in f:\n",
    "        line = line.rstrip()\n",
    "        lst = line.split()\n",
    "        if lst[6] == '*':\n",
    "            continue\n",
    "        elif lst[6] == '=':\n",
    "            chrread2 = lst[2]\n",
    "        else:\n",
    "            chrread2 = lst[6]\n",
    "    \n",
    "        for k, v in cds.items():\n",
    "            yes = 0\n",
    "            chrk, genek, transk = k.split()\n",
    "            if chrread2 != chrk:\n",
    "                continue\n",
    "            else:\n",
    "                for coord in v:\n",
    "                    start = min(int(coord[0]), int(coord[1]))\n",
    "                    end = max(int(coord[0]), int(coord[1]))\n",
    "                    pos1 = int(lst[7])\n",
    "                    pos2 = pos1+85\n",
    "                    if (pos1 >= start and pos1 <= end) or (pos2 >= start and pos2 <= end):\n",
    "                        yes = 1\n",
    "            \n",
    "            if yes == 1:        \n",
    "                fh.write(lst[0]+'\\t'+genek+'\\n')"
   ]
  },
  {
   "cell_type": "code",
   "execution_count": null,
   "metadata": {},
   "outputs": [],
   "source": []
  },
  {
   "cell_type": "code",
   "execution_count": 6,
   "metadata": {},
   "outputs": [
    {
     "name": "stdout",
     "output_type": "stream",
     "text": [
      "tcgtgAGATA\n"
     ]
    }
   ],
   "source": [
    "import re\n",
    "x = 'atacagtagaAGATA'\n",
    "y = re.sub(r'a+', r'', x)\n",
    "print (y)"
   ]
  },
  {
   "cell_type": "code",
   "execution_count": null,
   "metadata": {},
   "outputs": [],
   "source": [
    "import matplotlib.pyplot as plt\n",
    "with open('output/gc_distribution.txt', 'rt') as f:\n",
    "    x = []\n",
    "    y = []\n",
    "    for line in f:\n",
    "        if line.startswith('Chr'):\n",
    "            continue\n",
    "        elif line.startswith('scaffold16'):\n",
    "            lst = line.rstrip().split('\\t')\n",
    "            end = int(lst[2])\n",
    "            gc_rate = float(lst[4])\n",
    "            \n",
    "            x.append(end)\n",
    "            y.append(gc_rate)\n",
    "        seq = genome[lst[0]]\n",
    "\n",
    "plt.plot(x,y)\n",
    "plt.xlim(250,len(seq))\n",
    "plt.ylim(0, 100)\n",
    "plt.xticks([250, 250000, 500000, 750000, len(seq)], ['Start', '25K', '50K', '75K', 'End'])\n",
    "plt.xlabel('Scaffold16')\n",
    "plt.ylabel('GC Content (%)')\n",
    "plt.savefig('output/Scaffold16 GC content curve')\n",
    "plt.show()"
   ]
  },
  {
   "cell_type": "code",
   "execution_count": null,
   "metadata": {},
   "outputs": [],
   "source": []
  },
  {
   "cell_type": "code",
   "execution_count": null,
   "metadata": {},
   "outputs": [],
   "source": [
    "from collections import OrderedDict\n",
    "cds = OrderedDict()\n",
    "\n",
    "fh = open('output/cds_retrieval.fa', 'wt')\n",
    "with open('scaffold.gff', 'rt') as f:\n",
    "    for line in f:\n",
    "        line = line.rstrip()\n",
    "        lst = line.split()\n",
    "        scfd = lst[0]\n",
    "        start = int(lst[3])\n",
    "        end = int(lst[4])\n",
    "        if lst[2] == 'CDS':\n",
    "            cds[line] = genome[scfd][start-1:end].upper()\n",
    "            \n",
    "for k, v in cds.items():\n",
    "    fh.write('>'+k+'\\n')\n",
    "    fh.write(v+'\\n')\n",
    "    \n",
    "fh.close()\n",
    "    "
   ]
  },
  {
   "cell_type": "code",
   "execution_count": null,
   "metadata": {},
   "outputs": [],
   "source": []
  },
  {
   "cell_type": "code",
   "execution_count": null,
   "metadata": {
    "collapsed": true
   },
   "outputs": [],
   "source": [
    "codons = {'TTT':'F', 'TTC':'F', 'TTA':'L', 'TTG':'L', 'CTT':'L', 'CTC':'L', 'CTA':'L', 'CTG':'L',\n",
    "          'ATT':'I', 'ATC':'I', 'ATA':'I', 'ATG':'M', 'GTT':'V', 'GTC':'V', 'GTA':'V', 'GTG':'V',\n",
    "          'TCT':'S', 'TCC':'S', 'TCA':'S', 'TCG':'S', 'CCT':'P', 'CCC':'P', 'CCA':'P', 'CCG':'P',\n",
    "          'ACT':'T', 'ACC':'T', 'ACA':'T', 'ACG':'T', 'GCT':'A', 'GCC':'A', 'GCA':'A', 'GCG':'A',\n",
    "          'TAT':'Y', 'TAC':'Y', 'TAA':'-', 'TAG':'-', 'CAT':'H', 'CAC':'H', 'CAA':'Q', 'CAG':'Q',\n",
    "          'AAT':'N', 'AAC':'N', 'AAA':'K', 'AAG':'K', 'GAT':'D', 'GAC':'D', 'GAA':'E', 'GAG':'E',\n",
    "          'TGT':'C', 'TGC':'C' ,'TGA':'-', 'TGG':'W', 'CGT':'R', 'CGC':'R', 'CGA':'R', 'CGG':'R',\n",
    "          'AGT':'S', 'AGC':'S', 'AGA':'R', 'AGG':'R', 'GGT':'G', 'GGC':'G', 'GGA':'G', 'GGG':'G'\n",
    "         }\n",
    "\n"
   ]
  },
  {
   "cell_type": "code",
   "execution_count": 78,
   "metadata": {},
   "outputs": [
    {
     "name": "stdout",
     "output_type": "stream",
     "text": [
      "TCAGCATGGCACTTTTTTCTGTAACTGTGTCAATTTGAG\n"
     ]
    }
   ],
   "source": [
    "with open('scaffold.fa', 'rt') as f:\n",
    "    yes = 0\n",
    "    for line in f:\n",
    "        line = line.rstrip()\n",
    "        if line.startswith('>scaffold101'):\n",
    "            seq = ''\n",
    "            yes = 1\n",
    "            continue\n",
    "        if yes == 1:\n",
    "            if line.startswith('>'):\n",
    "                break\n",
    "            else:\n",
    "                seq += line\n",
    "\n",
    "print (seq[1861:1900])"
   ]
  },
  {
   "cell_type": "code",
   "execution_count": null,
   "metadata": {},
   "outputs": [],
   "source": [
    "from collections import defaultdict\n",
    "import re\n",
    "cds = defaultdict(list)\n",
    "with open('selectedGene.gff', 'rt') as f:\n",
    "    for line in f:\n",
    "        line = line.rstrip()\n",
    "        lst = line.split()\n",
    "        if lst[2] == 'mRNA':\n",
    "            mch = re.search(r'Gene_name=(.+);Transcript', lst[9])\n",
    "            gene = mch.group(1)\n",
    "            mch = re.search(r'Transcript=(.+);$', lst[9])\n",
    "            transcript = mch.group(1)\n",
    "            \n",
    "            geneid = lst[0]+'\\t'+gene+'\\t'+transcript\n",
    "            cds[geneid] = []\n",
    "            continue\n",
    "        elif lst[2] == 'CDS':\n",
    "            cds[geneid].append((lst[3], lst[4]))\n",
    "\n",
    "\n",
    "for k, v in cds.items():\n",
    "    print (k, v)"
   ]
  },
  {
   "cell_type": "code",
   "execution_count": null,
   "metadata": {},
   "outputs": [],
   "source": []
  },
  {
   "cell_type": "code",
   "execution_count": 6,
   "metadata": {},
   "outputs": [
    {
     "data": {
      "text/plain": [
       "85"
      ]
     },
     "execution_count": 6,
     "metadata": {},
     "output_type": "execute_result"
    }
   ],
   "source": [
    "len('GTCTCTATTAAAAATACAAAAAAATTAGCCGGGCATGGCGGTACATCCCTGTAACCCCAGCTACTCACAGGAAGAGGCAGTGCAC')"
   ]
  },
  {
   "cell_type": "code",
   "execution_count": 5,
   "metadata": {},
   "outputs": [
    {
     "name": "stdout",
     "output_type": "stream",
     "text": [
      "OR2G2\n"
     ]
    }
   ],
   "source": [
    "import re\n",
    "gene = 'ID=ENSP00000326349; Gene=ENSG00000177489;Gene_name=OR2G2;Transcript=ENST00000320065;'\n",
    "\n",
    "mch = re.search(r'Gene_name=(.+);Transcript', gene)\n",
    "gene = mch.group(1)\n",
    "print (gene)"
   ]
  },
  {
   "cell_type": "code",
   "execution_count": 44,
   "metadata": {},
   "outputs": [
    {
     "name": "stdout",
     "output_type": "stream",
     "text": [
      "A\n",
      "A\n",
      "A\n",
      "A\n"
     ]
    }
   ],
   "source": [
    "na = ''\n",
    "def main():\n",
    "    global na\n",
    "    for a in ['A', 'C', 'G', 'T']:\n",
    "        na = ''\n",
    "        ge()\n",
    "\n",
    "def ge():\n",
    "    global na\n",
    "    na += 'A'\n",
    "    print (na)\n",
    "\n",
    "if __name__ == '__main__':\n",
    "    main()"
   ]
  },
  {
   "cell_type": "code",
   "execution_count": 15,
   "metadata": {},
   "outputs": [
    {
     "name": "stdout",
     "output_type": "stream",
     "text": [
      "3\n"
     ]
    }
   ],
   "source": [
    "yes = 0\n",
    "x = 3\n",
    "if x == 1:\n",
    "    print (x)\n",
    "else:\n",
    "    yes = 1\n",
    "    \n",
    "if yes == 1:\n",
    "    print (3)"
   ]
  },
  {
   "cell_type": "code",
   "execution_count": 9,
   "metadata": {},
   "outputs": [
    {
     "data": {
      "text/plain": [
       "2"
      ]
     },
     "execution_count": 9,
     "metadata": {},
     "output_type": "execute_result"
    }
   ],
   "source": [
    "x = (1,2)\n",
    "max(x)"
   ]
  },
  {
   "cell_type": "code",
   "execution_count": null,
   "metadata": {
    "collapsed": true
   },
   "outputs": [],
   "source": []
  },
  {
   "cell_type": "code",
   "execution_count": null,
   "metadata": {
    "collapsed": true
   },
   "outputs": [],
   "source": []
  },
  {
   "cell_type": "code",
   "execution_count": null,
   "metadata": {
    "collapsed": true
   },
   "outputs": [],
   "source": []
  },
  {
   "cell_type": "code",
   "execution_count": 30,
   "metadata": {},
   "outputs": [
    {
     "data": {
      "text/plain": [
       "0.0"
      ]
     },
     "execution_count": 30,
     "metadata": {},
     "output_type": "execute_result"
    }
   ],
   "source": [
    "round(0/3, 2)"
   ]
  },
  {
   "cell_type": "code",
   "execution_count": 36,
   "metadata": {},
   "outputs": [
    {
     "name": "stdout",
     "output_type": "stream",
     "text": [
      "tgcg\n",
      "200\n",
      "400\n",
      "600\n",
      "800\n"
     ]
    }
   ],
   "source": [
    "v = 'atgcgacganngacg'\n",
    "seq = re.sub(r'n+', r'', v)\n",
    "print (seq[1:5])\n",
    "\n",
    "for i in range(200, 1000, 200):\n",
    "    print (i)"
   ]
  },
  {
   "cell_type": "code",
   "execution_count": 31,
   "metadata": {
    "collapsed": true
   },
   "outputs": [],
   "source": [
    "for seq in genome['scaffold16 36.5']:\n",
    "    if seq not in ['A','T','C','G','N']:\n",
    "        print (seq)"
   ]
  },
  {
   "cell_type": "code",
   "execution_count": null,
   "metadata": {},
   "outputs": [],
   "source": [
    "def gc_content(scaffold = 'scaffold16'):\n",
    "    with open('output/gc_distribution.txt', 'rt') as f:\n",
    "        x = []\n",
    "        y = []\n",
    "        for line in f:\n",
    "            if line.startswith('Chr'):\n",
    "                continue\n",
    "            elif line.startswith(scaffold):\n",
    "                lst = line.rstrip().split('\\t')\n",
    "                end = int(lst[2])\n",
    "                gc_rate = float(lst[4])\n",
    "            \n",
    "                x.append(end)\n",
    "                y.append(gc_rate)\n",
    "    return x, y\n",
    "\n",
    "position, gc = gc_content(scaffold = 'scaffold16')\n",
    "seq = genome['scaffold16']\n",
    "\n",
    "plt.plot(position,gc)\n",
    "plt.xlim(250,len(seq))\n",
    "plt.ylim(0, 100)\n",
    "plt.xticks([250, 250000, 500000, 750000, len(seq)], ['Start', '25K', '50K', '75K', 'End'])\n",
    "plt.xlabel('Scaffold16')\n",
    "plt.ylabel('GC Content (%)')\n",
    "plt.savefig('output/Scaffold16 GC content curve')\n",
    "plt.show()"
   ]
  },
  {
   "cell_type": "code",
   "execution_count": null,
   "metadata": {
    "collapsed": true
   },
   "outputs": [],
   "source": []
  }
 ],
 "metadata": {
  "kernelspec": {
   "display_name": "Python 3",
   "language": "python",
   "name": "python3"
  },
  "language_info": {
   "codemirror_mode": {
    "name": "ipython",
    "version": 3
   },
   "file_extension": ".py",
   "mimetype": "text/x-python",
   "name": "python",
   "nbconvert_exporter": "python",
   "pygments_lexer": "ipython3",
   "version": "3.6.5"
  }
 },
 "nbformat": 4,
 "nbformat_minor": 1
}
