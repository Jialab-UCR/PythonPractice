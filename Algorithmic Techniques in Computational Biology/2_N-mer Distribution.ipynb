{
 "cells": [
  {
   "cell_type": "code",
   "execution_count": 373,
   "metadata": {},
   "outputs": [
    {
     "name": "stdout",
     "output_type": "stream",
     "text": [
      "[0, 3, 5, 8, 10, 11, 12]\n",
      "[0, 1, 2, 3, 4, 5, 6, 7, 8, 9]\n",
      "[0, 1, 2, 3, 4, 5, 6, 7, 8, 10, 11, 12, 13, 14, 15, 16, 17, 18]\n"
     ]
    }
   ],
   "source": [
    "import math\n",
    "\n",
    "L1 = [1,1,2,2,2,3,3,3,4,5,5,5,6,7,7,8,8,9,10,11,12]\n",
    "L2 = []\n",
    "for i in range(1,10):\n",
    "    for j in range(0,10-i):\n",
    "        L2.append(i)\n",
    "L31 = []\n",
    "L32 = []\n",
    "for i in range(1,10):\n",
    "    for j in range(0,17-i):\n",
    "        L31.append(i)\n",
    "    for k in range(0,10-i):\n",
    "        L32.append(9+i)\n",
    "L3 = L31 + L32\n",
    "\n",
    "Solution = []\n",
    "def PLACE(L,X):\n",
    "    if not L:\n",
    "        sss = sorted(X, key=int)\n",
    "        rrr = sorted([abs(max(X)-x) for x in X], key=int)\n",
    "        \n",
    "        if sss not in Solution:\n",
    "            Solution.append(sss)\n",
    "            print (sss)\n",
    "            Solution.append(rrr)\n",
    "        return\n",
    "    \n",
    "    y = max(L)\n",
    "    z = width - y\n",
    "    \n",
    "    dyX = [abs(x-y) for x in X]\n",
    "    dzX = [abs(x-z) for x in X]\n",
    "    \n",
    "    ly = len(dyX)\n",
    "    lz = len(dzX)\n",
    "    \n",
    "    tmpdyX = []\n",
    "    tmpdyX.extend(dyX)\n",
    "    tmpdzX = []\n",
    "    tmpdzX.extend(dzX)\n",
    "    \n",
    "    tmpL = []\n",
    "    tmpL.extend(L)\n",
    "    tmpyL = []\n",
    "    tmpyL.extend(L)\n",
    "    tmpzL = []\n",
    "    tmpzL.extend(L)\n",
    "    \n",
    "    for i in range(ly):\n",
    "        mm = dyX[i]\n",
    "        if mm in tmpyL:\n",
    "            tmpdyX.remove(mm)\n",
    "            tmpyL.remove(mm)\n",
    "            \n",
    "    if not tmpdyX:\n",
    "        X.append(y)\n",
    "        for j in range(ly):\n",
    "            L.remove(dyX[j])\n",
    "            \n",
    "        PLACE(L,X)\n",
    "        X.remove(y)\n",
    "        L.extend(dyX)\n",
    "    \n",
    "    for s in range(lz):\n",
    "        nn = dzX[s]\n",
    "        if nn in tmpzL:\n",
    "            tmpdzX.remove(nn)\n",
    "            tmpzL.remove(nn)\n",
    "            \n",
    "    if not tmpdzX:\n",
    "        X.append(z)\n",
    "        for t in range(lz):\n",
    "            L.remove(dzX[t])\n",
    "        PLACE(L,X)\n",
    "        X.remove(z)\n",
    "        L.extend(dzX)\n",
    "    return\n",
    "      \n",
    "def PARTIALDIGESTION(L):\n",
    "    width = max(L)\n",
    "    L.remove(width)\n",
    "    X = [0]\n",
    "    X.append(width)\n",
    "    PLACE(L,X)\n",
    "\n",
    "#PARTIALDIGESTION(L1)\n",
    "#PARTIALDIGESTION(L2)\n",
    "#PARTIALDIGESTION(L3)\n",
    "\n",
    "width = max(L1)\n",
    "L1.remove(width)\n",
    "X = [0]\n",
    "X.append(width)\n",
    "PLACE(L1,X)\n",
    "\n",
    "width = max(L2)\n",
    "L2.remove(width)\n",
    "X = [0]\n",
    "X.append(width)\n",
    "PLACE(L2,X)\n",
    "\n",
    "width = max(L3)\n",
    "L3.remove(width)\n",
    "X = [0]\n",
    "X.append(width)\n",
    "PLACE(L3,X)"
   ]
  },
  {
   "cell_type": "code",
   "execution_count": 108,
   "metadata": {},
   "outputs": [
    {
     "data": {
      "text/plain": [
       "True"
      ]
     },
     "execution_count": 108,
     "metadata": {},
     "output_type": "execute_result"
    }
   ],
   "source": [
    "def sublist(T,M):\n",
    "    for i in T:\n",
    "        if i not in M:\n",
    "            return False\n",
    "            break\n",
    "        return True\n",
    "    \n",
    "    \n",
    "T = [1,1,1,2]\n",
    "M = [1,1,2,3,4,5]\n",
    "sublist(T,M)"
   ]
  },
  {
   "cell_type": "code",
   "execution_count": null,
   "metadata": {
    "collapsed": true
   },
   "outputs": [],
   "source": [
    "# def PARTIALDIGEST(L)"
   ]
  },
  {
   "cell_type": "code",
   "execution_count": 74,
   "metadata": {},
   "outputs": [
    {
     "name": "stdout",
     "output_type": "stream",
     "text": [
      "The Partial Digestion Pattern:1,2\n",
      "[1, 2]\n",
      "2\n",
      "[2]\n"
     ]
    }
   ],
   "source": [
    "L_input = input('The Partial Digestion Pattern:')\n",
    "\n",
    "L = list(map(int, sorted(L_input.split(','), key = int)))\n",
    "\n",
    "print (L)\n",
    "X = []\n",
    "#s = len(L)\n",
    "#print (s)\n",
    "\n",
    "#delta = 1+4*2*s\n",
    "#n = int((1 + math.sqrt(delta))/2)\n",
    "\n",
    "\n",
    "width = max(L)\n",
    "L.remove(width)\n",
    "X.insert(0,width)\n",
    "print (width)\n",
    "print (X)"
   ]
  },
  {
   "cell_type": "code",
   "execution_count": 70,
   "metadata": {},
   "outputs": [
    {
     "name": "stdout",
     "output_type": "stream",
     "text": [
      "The Partial Digestion Pattern:1,2,3\n",
      "['1', '2', '3']\n",
      "[1, 2, 3]\n"
     ]
    }
   ],
   "source": [
    "L_input = input('The Partial Digestion Pattern:')\n",
    "\n",
    "L = sorted(L_input.split(','), key = int)\n",
    "print (L)\n",
    "\n",
    "L = list(map(int, L))\n",
    "print (L)\n"
   ]
  },
  {
   "cell_type": "code",
   "execution_count": 87,
   "metadata": {},
   "outputs": [
    {
     "name": "stdout",
     "output_type": "stream",
     "text": [
      "[1, 1, 1, 1, 1, 1, 1, 1, 1, 2, 2, 2, 2, 2, 2, 2, 2, 3, 3, 3, 3, 3, 3, 3, 4, 4, 4, 4, 4, 4, 5, 5, 5, 5, 5, 6, 6, 6, 6, 7, 7, 7, 8, 8, 9]\n"
     ]
    }
   ],
   "source": [
    "L2 = []\n",
    "for i in range(1,10):\n",
    "    for j in range(0,10-i):\n",
    "        L2.append(i)\n",
    "print (L2)"
   ]
  },
  {
   "cell_type": "code",
   "execution_count": 363,
   "metadata": {},
   "outputs": [
    {
     "data": {
      "text/plain": [
       "[2, 3]"
      ]
     },
     "execution_count": 363,
     "metadata": {},
     "output_type": "execute_result"
    }
   ],
   "source": [
    "m = [2,3]\n",
    "n = [2]\n",
    "sorted(m,key=int)"
   ]
  },
  {
   "cell_type": "code",
   "execution_count": 95,
   "metadata": {},
   "outputs": [
    {
     "name": "stdout",
     "output_type": "stream",
     "text": [
      "[1, 1, 1, 1, 1, 1, 1, 1, 1, 1, 1, 1, 1, 1, 1, 1, 2, 2, 2, 2, 2, 2, 2, 2, 2, 2, 2, 2, 2, 2, 2, 3, 3, 3, 3, 3, 3, 3, 3, 3, 3, 3, 3, 3, 3, 4, 4, 4, 4, 4, 4, 4, 4, 4, 4, 4, 4, 4, 5, 5, 5, 5, 5, 5, 5, 5, 5, 5, 5, 5, 6, 6, 6, 6, 6, 6, 6, 6, 6, 6, 6, 7, 7, 7, 7, 7, 7, 7, 7, 7, 7, 8, 8, 8, 8, 8, 8, 8, 8, 8, 9, 9, 9, 9, 9, 9, 9, 9]\n",
      "[10, 10, 10, 10, 10, 10, 10, 10, 10, 11, 11, 11, 11, 11, 11, 11, 11, 12, 12, 12, 12, 12, 12, 12, 13, 13, 13, 13, 13, 13, 14, 14, 14, 14, 14, 15, 15, 15, 15, 16, 16, 16, 17, 17, 18]\n",
      "[1, 1, 1, 1, 1, 1, 1, 1, 1, 1, 1, 1, 1, 1, 1, 1, 2, 2, 2, 2, 2, 2, 2, 2, 2, 2, 2, 2, 2, 2, 2, 3, 3, 3, 3, 3, 3, 3, 3, 3, 3, 3, 3, 3, 3, 4, 4, 4, 4, 4, 4, 4, 4, 4, 4, 4, 4, 4, 5, 5, 5, 5, 5, 5, 5, 5, 5, 5, 5, 5, 6, 6, 6, 6, 6, 6, 6, 6, 6, 6, 6, 7, 7, 7, 7, 7, 7, 7, 7, 7, 7, 8, 8, 8, 8, 8, 8, 8, 8, 8, 9, 9, 9, 9, 9, 9, 9, 9, 10, 10, 10, 10, 10, 10, 10, 10, 10, 11, 11, 11, 11, 11, 11, 11, 11, 12, 12, 12, 12, 12, 12, 12, 13, 13, 13, 13, 13, 13, 14, 14, 14, 14, 14, 15, 15, 15, 15, 16, 16, 16, 17, 17, 18]\n"
     ]
    }
   ],
   "source": [
    "L31 = []\n",
    "L32 = []\n",
    "\n",
    "for i in range(1,10):\n",
    "    for j in range(0,17-i):\n",
    "        L31.append(i)\n",
    "    for k in range(0,10-i):\n",
    "        L32.append(9+i)\n",
    "L3 = L31 + L32\n",
    "print (L31)\n",
    "print (L32)\n",
    "print (L3)"
   ]
  },
  {
   "cell_type": "code",
   "execution_count": 37,
   "metadata": {},
   "outputs": [
    {
     "data": {
      "text/plain": [
       "[1, 0, 1, 2, 3]"
      ]
     },
     "execution_count": 37,
     "metadata": {},
     "output_type": "execute_result"
    }
   ],
   "source": [
    "dX = [abs(x-1) for x in range(5)]\n",
    "dX"
   ]
  },
  {
   "cell_type": "code",
   "execution_count": 115,
   "metadata": {},
   "outputs": [
    {
     "name": "stdout",
     "output_type": "stream",
     "text": [
      "[1, 1, 4, 5]\n"
     ]
    }
   ],
   "source": [
    "b1 = [1,1,2,3,4,5,9,11,15]\n",
    "b2 = [1,4,5,6,7,8]\n",
    "b3 = [val for val in b1 if val in b2]\n",
    "print (b3)"
   ]
  },
  {
   "cell_type": "code",
   "execution_count": 43,
   "metadata": {},
   "outputs": [
    {
     "name": "stdout",
     "output_type": "stream",
     "text": [
      "[2, 3, 4, 6]\n"
     ]
    }
   ],
   "source": [
    "xxx = [2,3,4,6,2]\n",
    "xxx.pop()\n",
    "print (xxx)"
   ]
  },
  {
   "cell_type": "code",
   "execution_count": 261,
   "metadata": {
    "scrolled": false
   },
   "outputs": [
    {
     "name": "stdout",
     "output_type": "stream",
     "text": [
      "Populating the interactive namespace from numpy and matplotlib\n",
      "2329769\n"
     ]
    },
    {
     "name": "stderr",
     "output_type": "stream",
     "text": [
      "WARNING: pylab import has clobbered these variables: ['f', 'random']\n",
      "`%matplotlib` prevents importing * from pylab and numpy\n"
     ]
    },
    {
     "data": {
      "text/plain": [
       "<matplotlib.text.Annotation at 0x111b21c18>"
      ]
     },
     "execution_count": 261,
     "metadata": {},
     "output_type": "execute_result"
    },
    {
     "data": {
      "image/png": "[encoded data removed]",
      "text/plain": [
       "<matplotlib.figure.Figure at 0x1116b82e8>"
      ]
     },
     "metadata": {},
     "output_type": "display_data"
    }
   ],
   "source": [
    "%pylab inline\n",
    "\n",
    "import matplotlib\n",
    "import matplotlib.pyplot as plt\n",
    "import random\n",
    "\n",
    "bacseq = ''\n",
    "with open('Acidaminococcus_fermentans_DSM_20731.fa') as f:\n",
    "    for line in f:\n",
    "        line = line.rstrip()\n",
    "        if line.startswith('>'):\n",
    "            name = line\n",
    "            continue\n",
    "        bacseq += line\n",
    "length = len(bacseq)\n",
    "randseq = ''.join(random.choice('ATCG') for _ in range(length))\n",
    "\n",
    "def mer6stat(seq):\n",
    "    mers = {}\n",
    "    for i in range(0,length-5):\n",
    "        mer6 = seq[i:i+6]\n",
    "        if mer6 not in mers.keys():\n",
    "            mers[mer6] = 1\n",
    "        else:\n",
    "            mers[mer6] += 1\n",
    "\n",
    "    stat = {}\n",
    "    for k in mers.keys():\n",
    "        if mers[k] not in stat.keys():\n",
    "            stat[mers[k]] = 1\n",
    "        else:\n",
    "            stat[mers[k]] += 1\n",
    "             \n",
    "    freq = []\n",
    "    occ = []\n",
    "    for x in stat.keys():\n",
    "        freq.append(x)\n",
    "        occ.append(stat[x])\n",
    "    return (freq,occ)\n",
    "\n",
    "bacx, bacy = mer6stat(bacseq)\n",
    "randx, randy = mer6stat(randseq)\n",
    "\n",
    "#plt.scatter(bacx, bacy, c = 'red', marker = '.') \n",
    "#plt.scatter(randx,randy, c = 'green', marker = '.')\n",
    "plt.plot(randx, randy)\n",
    "plt.plot(bacx, bacy)\n",
    "\n",
    "plt.xlabel('Freqency of 6-mers')\n",
    "plt.ylabel('Number of 6-mers')\n",
    "\n",
    "plt.annotate('Random sequence', xy=(700, 70), xytext=(1000, 75), color = 'blue',\n",
    "            arrowprops=dict(facecolor='blue', shrink=0.01, width=1, headwidth=5))\n",
    "plt.annotate('Acidaminococcus fermentans DM20731', xy=(1000, 6), xytext=(1200, 12), color = 'green',\n",
    "            arrowprops=dict(facecolor='green', shrink=0.001, width=1, headwidth=5))"
   ]
  },
  {
   "cell_type": "code",
   "execution_count": null,
   "metadata": {},
   "outputs": [],
   "source": []
  },
  {
   "cell_type": "code",
   "execution_count": null,
   "metadata": {},
   "outputs": [],
   "source": []
  }
 ],
 "metadata": {
  "kernelspec": {
   "display_name": "Python 3",
   "language": "python",
   "name": "python3"
  },
  "language_info": {
   "codemirror_mode": {
    "name": "ipython",
    "version": 3
   },
   "file_extension": ".py",
   "mimetype": "text/x-python",
   "name": "python",
   "nbconvert_exporter": "python",
   "pygments_lexer": "ipython3",
   "version": "3.6.5"
  }
 },
 "nbformat": 4,
 "nbformat_minor": 1
}
