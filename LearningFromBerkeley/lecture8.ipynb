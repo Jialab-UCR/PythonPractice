{
 "metadata": {
  "name": "",
  "signature": "sha256:ea99f49e5404801a8b0979d17ad0ca2bfa67f0215b01e6b15c3d38fd6ed3e0a4"
 },
 "nbformat": 3,
 "nbformat_minor": 0,
 "worksheets": [
  {
   "cells": [
    {
     "cell_type": "heading",
     "level": 1,
     "metadata": {
      "slideshow": {
       "slide_type": "slide"
      }
     },
     "source": [
      "Lecture 8: Categorical Variables in Pandas"
     ]
    },
    {
     "cell_type": "markdown",
     "metadata": {
      "slideshow": {
       "slide_type": "slide"
      }
     },
     "source": [
      "##This lecture's topics:\n",
      "\n",
      "* Categorical variable reminder\n",
      "* Analysing and visualizing categorical variables using the <code>Series</code> class\n",
      "* Analysing and visualizing categorical variables using the <code>Categorical</code> class\n",
      "* Computing frequency cross-tables for pairs of categorical variables\n",
      "\n"
     ]
    },
    {
     "cell_type": "code",
     "collapsed": false,
     "input": [
      "import pandas as pd\n",
      "from pandas import Series, DataFrame\n",
      "\n",
      "%pylab inline"
     ],
     "language": "python",
     "metadata": {
      "slideshow": {
       "slide_type": "fragment"
      }
     },
     "outputs": [
      {
       "output_type": "stream",
       "stream": "stdout",
       "text": [
        "Populating the interactive namespace from numpy and matplotlib\n"
       ]
      }
     ],
     "prompt_number": 1
    },
    {
     "cell_type": "heading",
     "level": 2,
     "metadata": {
      "slideshow": {
       "slide_type": "slide"
      }
     },
     "source": [
      "Reading the data into DataFrames"
     ]
    },
    {
     "cell_type": "code",
     "collapsed": false,
     "input": [
      "url = 'https://db.tt/OBdD63fw'\n",
      "SCORES = pd.read_csv(url, index_col=0)\n",
      "SCORES.head()"
     ],
     "language": "python",
     "metadata": {
      "slideshow": {
       "slide_type": "fragment"
      }
     },
     "outputs": [
      {
       "html": [
        "<div style=\"max-height:1000px;max-width:1500px;overflow:auto;\">\n",
        "<table border=\"1\" class=\"dataframe\">\n",
        "  <thead>\n",
        "    <tr style=\"text-align: right;\">\n",
        "      <th></th>\n",
        "      <th>Score</th>\n",
        "      <th>Section</th>\n",
        "      <th>Major</th>\n",
        "    </tr>\n",
        "    <tr>\n",
        "      <th>SID</th>\n",
        "      <th></th>\n",
        "      <th></th>\n",
        "      <th></th>\n",
        "    </tr>\n",
        "  </thead>\n",
        "  <tbody>\n",
        "    <tr>\n",
        "      <th>0</th>\n",
        "      <td> 55</td>\n",
        "      <td> 103</td>\n",
        "      <td> ECON</td>\n",
        "    </tr>\n",
        "    <tr>\n",
        "      <th>1</th>\n",
        "      <td> 56</td>\n",
        "      <td> 101</td>\n",
        "      <td> MYST</td>\n",
        "    </tr>\n",
        "    <tr>\n",
        "      <th>2</th>\n",
        "      <td> 56</td>\n",
        "      <td> 103</td>\n",
        "      <td> ECON</td>\n",
        "    </tr>\n",
        "    <tr>\n",
        "      <th>3</th>\n",
        "      <td> 59</td>\n",
        "      <td> 101</td>\n",
        "      <td> ECON</td>\n",
        "    </tr>\n",
        "    <tr>\n",
        "      <th>4</th>\n",
        "      <td> 41</td>\n",
        "      <td> 103</td>\n",
        "      <td> ECON</td>\n",
        "    </tr>\n",
        "  </tbody>\n",
        "</table>\n",
        "</div>"
       ],
       "metadata": {},
       "output_type": "pyout",
       "prompt_number": 2,
       "text": [
        "     Score  Section Major\n",
        "SID                      \n",
        "0       55      103  ECON\n",
        "1       56      101  MYST\n",
        "2       56      103  ECON\n",
        "3       59      101  ECON\n",
        "4       41      103  ECON"
       ]
      }
     ],
     "prompt_number": 2
    },
    {
     "cell_type": "heading",
     "level": 1,
     "metadata": {
      "slideshow": {
       "slide_type": "slide"
      }
     },
     "source": [
      "Categorical variable reminder"
     ]
    },
    {
     "cell_type": "markdown",
     "metadata": {
      "slideshow": {
       "slide_type": "fragment"
      }
     },
     "source": [
      "**Categorical Variables** = variables whose **values** are **non-numerical**\n",
      "\n",
      ">The **values** of a categorical variable allows us to **group the data set** into different **groups**, called **categories** or **classes**.\n",
      "\n",
      "**Example:** Possible categorical variables for a student data set:\n",
      "\n",
      "* **categorical variable** = Sex\n",
      " * **values** = Male, Female, Transgender\n",
      " \n",
      " \n",
      "* **categorical variable** = Major\n",
      " * **values** = ECON, MATH, STAT, BIOL, etc.\n",
      " \n",
      " \n",
      "* **categorical variable** = Section\n",
      " * **values** = 101, 102, 103, etc. \n",
      " \n",
      " \n",
      "* **categorical variable** = Type\n",
      " * **values** = Freshman, Sophomore, Senior\n"
     ]
    },
    {
     "cell_type": "heading",
     "level": 2,
     "metadata": {
      "slideshow": {
       "slide_type": "slide"
      }
     },
     "source": [
      "Questions one can ask about categorical variables"
     ]
    },
    {
     "cell_type": "heading",
     "level": 3,
     "metadata": {
      "slideshow": {
       "slide_type": "fragment"
      }
     },
     "source": [
      "(1) What is the **class frequencies** in the population sample?"
     ]
    },
    {
     "cell_type": "markdown",
     "metadata": {
      "slideshow": {
       "slide_type": "fragment"
      }
     },
     "source": [
      "**Examples:** \n",
      "\n",
      "* What is the proportion/number of students in each major, in each section, etc.\n",
      "\n",
      "* What is the proportion/number of Male students, Female students, etc."
     ]
    },
    {
     "cell_type": "markdown",
     "metadata": {
      "slideshow": {
       "slide_type": "fragment"
      }
     },
     "source": [
      "**Class frequencies** can be **expressed** either in term of\n",
      "\n",
      "* **percentage of the total sample** \n",
      "* **numbers** of sample individuals in the class"
     ]
    },
    {
     "cell_type": "markdown",
     "metadata": {
      "slideshow": {
       "slide_type": "fragment"
      }
     },
     "source": [
      "**Class frequencies** are best **visualized** using\n",
      "\n",
      "* **bar plots** (horizontal or vertical)\n",
      "* **pie charts**"
     ]
    },
    {
     "cell_type": "heading",
     "level": 3,
     "metadata": {
      "slideshow": {
       "slide_type": "slide"
      }
     },
     "source": [
      "(2) Given two categorical variables, what are the classes _cross frequencies_?"
     ]
    },
    {
     "cell_type": "markdown",
     "metadata": {
      "slideshow": {
       "slide_type": "fragment"
      }
     },
     "source": [
      "For instance, given the categorical variables\n",
      "\n",
      "* Majors\n",
      "* Sections\n",
      "\n",
      "one would like to know the frequency of each major per section.\n",
      "\n",
      "This information is best displayed in a **cross-table**, also called **two-way table** whose\n",
      "\n",
      "* row labels = values of the first variable\n",
      "\n",
      "* column labels = values of the second variable\n",
      "\n",
      "and where the\n",
      "\n",
      "* values are the **cross-frequencie** of the two variables (e.g. proportion of ECON students in the section 101)"
     ]
    },
    {
     "cell_type": "heading",
     "level": 1,
     "metadata": {
      "slideshow": {
       "slide_type": "slide"
      }
     },
     "source": [
      "Categorical variables using Series"
     ]
    },
    {
     "cell_type": "markdown",
     "metadata": {
      "slideshow": {
       "slide_type": "fragment"
      }
     },
     "source": [
      "Let's use as example the \"Major\" categorical variable in our DataFrame <code>SCORES</code>:"
     ]
    },
    {
     "cell_type": "code",
     "collapsed": false,
     "input": [
      "majors = SCORES.Major\n",
      "majors.head()"
     ],
     "language": "python",
     "metadata": {
      "slideshow": {
       "slide_type": "fragment"
      }
     },
     "outputs": [
      {
       "metadata": {},
       "output_type": "pyout",
       "prompt_number": 3,
       "text": [
        "SID\n",
        "0      ECON\n",
        "1      MYST\n",
        "2      ECON\n",
        "3      ECON\n",
        "4      ECON\n",
        "Name: Major, dtype: object"
       ]
      }
     ],
     "prompt_number": 3
    },
    {
     "cell_type": "markdown",
     "metadata": {
      "slideshow": {
       "slide_type": "slide"
      }
     },
     "source": [
      "Pandas provides the function\n",
      "\n",
      "    value_counts(X, normalize=False)\n",
      "that \n",
      "\n",
      "* takes as input a **categorical Series** <code>X</code> representing the values of a categorical variable for a sample\n",
      "\n",
      "\n",
      "* returns as output a **numerical Series** whose \n",
      " * **labels** = the categorical variable **values**\n",
      " * **values** = the **number of individuals** per category\n",
      " \n",
      "**Remark:** <code>normalize=True</code>  $\\longrightarrow$  **returned frequencies** =  **percentages** (instead of counts)\n"
     ]
    },
    {
     "cell_type": "code",
     "collapsed": false,
     "input": [
      "from pandas import value_counts"
     ],
     "language": "python",
     "metadata": {
      "slideshow": {
       "slide_type": "slide"
      }
     },
     "outputs": [],
     "prompt_number": 4
    },
    {
     "cell_type": "code",
     "collapsed": false,
     "input": [
      "major_rel_freq = value_counts(majors)\n",
      "\n",
      "major_abs_freq"
     ],
     "language": "python",
     "metadata": {
      "slideshow": {
       "slide_type": "fragment"
      }
     },
     "outputs": [
      {
       "ename": "NameError",
       "evalue": "name 'major_abs_freq' is not defined",
       "output_type": "pyerr",
       "traceback": [
        "\u001b[0;31m---------------------------------------------------------------------------\u001b[0m\n\u001b[0;31mNameError\u001b[0m                                 Traceback (most recent call last)",
        "\u001b[0;32m<ipython-input-10-9827725013f8>\u001b[0m in \u001b[0;36m<module>\u001b[0;34m()\u001b[0m\n\u001b[1;32m      1\u001b[0m \u001b[0mmajor_rel_freq\u001b[0m \u001b[0;34m=\u001b[0m \u001b[0mvalue_counts\u001b[0m\u001b[0;34m(\u001b[0m\u001b[0mmajors\u001b[0m\u001b[0;34m)\u001b[0m\u001b[0;34m\u001b[0m\u001b[0m\n\u001b[1;32m      2\u001b[0m \u001b[0;34m\u001b[0m\u001b[0m\n\u001b[0;32m----> 3\u001b[0;31m \u001b[0mmajor_abs_freq\u001b[0m\u001b[0;34m\u001b[0m\u001b[0m\n\u001b[0m",
        "\u001b[0;31mNameError\u001b[0m: name 'major_abs_freq' is not defined"
       ]
      }
     ],
     "prompt_number": 10
    },
    {
     "cell_type": "code",
     "collapsed": false,
     "input": [
      "major_abs_freq = value_counts(majors, normalize=False)\n",
      "\n",
      "major_abs_freq"
     ],
     "language": "python",
     "metadata": {
      "slideshow": {
       "slide_type": "fragment"
      }
     },
     "outputs": [
      {
       "metadata": {},
       "output_type": "pyout",
       "prompt_number": 11,
       "text": [
        "ECON    35\n",
        "STAT    24\n",
        "MYST    15\n",
        "dtype: int64"
       ]
      }
     ],
     "prompt_number": 11
    },
    {
     "cell_type": "markdown",
     "metadata": {
      "slideshow": {
       "slide_type": "slide"
      }
     },
     "source": [
      "The Series class provides the method\n",
      "\n",
      "    plot(kind='line')\n",
      "    \n",
      "to plot the data points stored in a **numerical Series**."
     ]
    },
    {
     "cell_type": "markdown",
     "metadata": {
      "slideshow": {
       "slide_type": "fragment"
      }
     },
     "source": [
      "<code>kind</code> can be set to\n",
      "\n",
      "* <code>'line'</code> resulting in a **line interpolation** of the data points\n",
      "* <code>'bar'</code> resulting in a **horizotal bar plot**\n",
      "* <code>'barh'</code> resulting in a **vertical bar plot**\n",
      "\n",
      "By default: <code>kind='line'</code>"
     ]
    },
    {
     "cell_type": "code",
     "collapsed": false,
     "input": [
      "major_abs_freq.plot(majors, kind='barh');"
     ],
     "language": "python",
     "metadata": {
      "slideshow": {
       "slide_type": "slide"
      }
     },
     "outputs": []
    },
    {
     "cell_type": "markdown",
     "metadata": {
      "slideshow": {
       "slide_type": "slide"
      }
     },
     "source": [
      "To display a **pie chart** of the class frequencies, one needs to use the Numpy method <code>pie</code> (explore its argument options):"
     ]
    },
    {
     "cell_type": "code",
     "collapsed": false,
     "input": [
      "from pylab import pie\n",
      "\n",
      "pie(major_abs_freq, labels=major_abs_freq.index);"
     ],
     "language": "python",
     "metadata": {
      "slideshow": {
       "slide_type": "fragment"
      }
     },
     "outputs": []
    },
    {
     "cell_type": "heading",
     "level": 2,
     "metadata": {
      "slideshow": {
       "slide_type": "slide"
      }
     },
     "source": [
      "Categorical variables using the <code>Categorical</code> class"
     ]
    },
    {
     "cell_type": "markdown",
     "metadata": {
      "slideshow": {
       "slide_type": "fragment"
      }
     },
     "source": [
      "Pandas offers the special class <code>Categorical</code> to represent categorical variables or **factors**:"
     ]
    },
    {
     "cell_type": "code",
     "collapsed": false,
     "input": [
      "from pandas import Categorical"
     ],
     "language": "python",
     "metadata": {
      "slideshow": {
       "slide_type": "fragment"
      }
     },
     "outputs": [],
     "prompt_number": 6
    },
    {
     "cell_type": "markdown",
     "metadata": {
      "slideshow": {
       "slide_type": "fragment"
      }
     },
     "source": [
      "One can construct a Categorical object by passing a categorical Series to its constructor.\n",
      "\n",
      "The resulting object is very similar to the original Series."
     ]
    },
    {
     "cell_type": "code",
     "collapsed": false,
     "input": [
      "major_factor = Categorical(SCORES.Major)\n",
      "major_factor"
     ],
     "language": "python",
     "metadata": {
      "slideshow": {
       "slide_type": "fragment"
      }
     },
     "outputs": [
      {
       "metadata": {},
       "output_type": "pyout",
       "prompt_number": 7,
       "text": [
        " ECON\n",
        " MYST\n",
        " ECON\n",
        " ECON\n",
        " ECON\n",
        " ECON\n",
        " MYST\n",
        " MYST\n",
        " ECON\n",
        " MYST\n",
        " ECON\n",
        " ECON\n",
        " STAT\n",
        "...\n",
        " MYST\n",
        " MYST\n",
        " MYST\n",
        " STAT\n",
        " MYST\n",
        " STAT\n",
        " STAT\n",
        " STAT\n",
        " STAT\n",
        " STAT\n",
        " STAT\n",
        " STAT\n",
        " MYST\n",
        "Levels (3): Index(['ECON', 'MYST', 'STAT'], dtype=object)\n",
        "Name: Major, Length: 74"
       ]
      }
     ],
     "prompt_number": 7
    },
    {
     "cell_type": "markdown",
     "metadata": {
      "slideshow": {
       "slide_type": "slide"
      }
     },
     "source": [
      "This class offers the additional method\n",
      "\n",
      "    describe()\n",
      "    \n",
      "that \n",
      "\n",
      "* provides a shortcut to using <code>value_counts</code> \n",
      "\n",
      "\n",
      "* displays the information in a nice formatted DataFrame:"
     ]
    },
    {
     "cell_type": "code",
     "collapsed": false,
     "input": [
      "major_factor.describe()"
     ],
     "language": "python",
     "metadata": {
      "slideshow": {
       "slide_type": "fragment"
      }
     },
     "outputs": [
      {
       "html": [
        "<div style=\"max-height:1000px;max-width:1500px;overflow:auto;\">\n",
        "<table border=\"1\" class=\"dataframe\">\n",
        "  <thead>\n",
        "    <tr style=\"text-align: right;\">\n",
        "      <th></th>\n",
        "      <th>counts</th>\n",
        "      <th>freqs</th>\n",
        "    </tr>\n",
        "    <tr>\n",
        "      <th>levels</th>\n",
        "      <th></th>\n",
        "      <th></th>\n",
        "    </tr>\n",
        "  </thead>\n",
        "  <tbody>\n",
        "    <tr>\n",
        "      <th>ECON</th>\n",
        "      <td> 35</td>\n",
        "      <td> 0.472973</td>\n",
        "    </tr>\n",
        "    <tr>\n",
        "      <th>MYST</th>\n",
        "      <td> 15</td>\n",
        "      <td> 0.202703</td>\n",
        "    </tr>\n",
        "    <tr>\n",
        "      <th>STAT</th>\n",
        "      <td> 24</td>\n",
        "      <td> 0.324324</td>\n",
        "    </tr>\n",
        "  </tbody>\n",
        "</table>\n",
        "</div>"
       ],
       "metadata": {},
       "output_type": "pyout",
       "prompt_number": 8,
       "text": [
        "        counts     freqs\n",
        "levels                  \n",
        "ECON        35  0.472973\n",
        "MYST        15  0.202703\n",
        "STAT        24  0.324324"
       ]
      }
     ],
     "prompt_number": 8
    },
    {
     "cell_type": "code",
     "collapsed": false,
     "input": [
      "major_factor.describe().counts.plot(kind='barh')"
     ],
     "language": "python",
     "metadata": {
      "slideshow": {
       "slide_type": "fragment"
      }
     },
     "outputs": [
      {
       "metadata": {},
       "output_type": "pyout",
       "prompt_number": 9,
       "text": [
        "<matplotlib.axes.AxesSubplot at 0x1075b7c10>"
       ]
      },
      {
       "metadata": {},
       "output_type": "display_data",
       "png": "[encoded data removed]",
       "text": [
        "<matplotlib.figure.Figure at 0x107eff4d0>"
       ]
      }
     ],
     "prompt_number": 9
    },
    {
     "cell_type": "heading",
     "level": 2,
     "metadata": {
      "slideshow": {
       "slide_type": "slide"
      }
     },
     "source": [
      "Computing cross-tables of pairs of categorical variables"
     ]
    },
    {
     "cell_type": "markdown",
     "metadata": {
      "slideshow": {
       "slide_type": "fragment"
      }
     },
     "source": [
      "Pandas provides a function to compute **cross-tables** for a pair of categorical variables:"
     ]
    },
    {
     "cell_type": "code",
     "collapsed": false,
     "input": [
      "from pandas import crosstab"
     ],
     "language": "python",
     "metadata": {
      "slideshow": {
       "slide_type": "fragment"
      }
     },
     "outputs": []
    },
    {
     "cell_type": "markdown",
     "metadata": {
      "slideshow": {
       "slide_type": "fragment"
      }
     },
     "source": [
      "The Pandas function \n",
      "\n",
      "    crosstab(rows, cols)\n",
      "\n",
      "* takes as input two categorical variables (represented by Series for instance)\n",
      "\n",
      "\n",
      "* returns as output a DataFrame containing the frequency **cross-table** of the two categorical variables"
     ]
    },
    {
     "cell_type": "code",
     "collapsed": false,
     "input": [
      "majors_sections = crosstab(SCORES.Section, SCORES.Major, margins=True)\n",
      "majors_sections"
     ],
     "language": "python",
     "metadata": {
      "slideshow": {
       "slide_type": "fragment"
      }
     },
     "outputs": []
    },
    {
     "cell_type": "markdown",
     "metadata": {
      "slideshow": {
       "slide_type": "slide"
      }
     },
     "source": [
      "One can then display a **bar plot** of the **major frequencies per section** with the DataFrame method\n",
      "\n",
      "            plot(kind)\n",
      "    \n",
      "which functions exactly as the corresponding Series method. \n",
      "\n",
      "Explore the parameters you can pass to this method."
     ]
    },
    {
     "cell_type": "code",
     "collapsed": false,
     "input": [
      "majors_sections.plot(kind='bar', rot=True);"
     ],
     "language": "python",
     "metadata": {
      "slideshow": {
       "slide_type": "fragment"
      }
     },
     "outputs": []
    }
   ],
   "metadata": {}
  }
 ]
}