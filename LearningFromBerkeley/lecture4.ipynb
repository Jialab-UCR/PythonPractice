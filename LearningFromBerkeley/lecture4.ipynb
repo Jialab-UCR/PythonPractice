{
 "metadata": {
  "name": "",
  "signature": "sha256:387de05a312bdc7a9ddf5544f8edde6e11f226f1f9fec0d6ea3977019a2fe60a"
 },
 "nbformat": 3,
 "nbformat_minor": 0,
 "worksheets": [
  {
   "cells": [
    {
     "cell_type": "heading",
     "level": 1,
     "metadata": {
      "slideshow": {
       "slide_type": "slide"
      }
     },
     "source": [
      " Lecture 4: Elements of functional programming"
     ]
    },
    {
     "cell_type": "markdown",
     "metadata": {
      "slideshow": {
       "slide_type": "fragment"
      }
     },
     "source": [
      "## This week topics:\n",
      "\n",
      "* writing scripts in bash and python\n",
      "* learning the basic elements of a scripting language\n",
      "* python's variables and primitive types\n",
      "* looping and branching with python\n",
      "* python functions and module\n",
      "* how to write and read data to files and from the internet"
     ]
    },
    {
     "cell_type": "heading",
     "level": 1,
     "metadata": {
      "slideshow": {
       "slide_type": "slide"
      }
     },
     "source": [
      "Writing scripts in Bash and Python"
     ]
    },
    {
     "cell_type": "markdown",
     "metadata": {
      "slideshow": {
       "slide_type": "fragment"
      }
     },
     "source": [
      "> **Definitions:** \n",
      "> \n",
      ">* **script** = file containing a sequence of commands written in a **scripting language** (like Bash, Python, or R) to be executed by an **interpreter** that understands the language\n",
      "\n",
      "> **Examples:**\n",
      ">\n",
      "> * **Bash scripts** are executed by the **Bash intepreter**  \n",
      "> * **Python scripts** are executed by the **Python interpreter** \n",
      "> * **R scripts** are executed by the **R interpreter**\n"
     ]
    },
    {
     "cell_type": "heading",
     "level": 2,
     "metadata": {
      "slideshow": {
       "slide_type": "slide"
      }
     },
     "source": [
      "How can I find where the interpreters are located on my computer?\n"
     ]
    },
    {
     "cell_type": "code",
     "collapsed": false,
     "input": [
      "%%bash\n",
      "\n",
      "interpreters=\"bash ipython Rscript\"\n",
      "\n",
      "for interpreter in $interpreters\n",
      "do\n",
      "    interpreter_location=$(which $interpreter)\n",
      "    printf \"The $interpreter interpreter is located at $interpreter_location\\n\\n\"\n",
      "done"
     ],
     "language": "python",
     "metadata": {
      "slideshow": {
       "slide_type": "fragment"
      }
     },
     "outputs": [
      {
       "output_type": "stream",
       "stream": "stdout",
       "text": [
        "The bash interpreter is located at /bin/bash\n",
        "\n",
        "The ipython interpreter is located at /Applications/anaconda/bin/ipython\n",
        "\n",
        "The Rscript interpreter is located at /usr/bin/Rscript\n",
        "\n"
       ]
      }
     ],
     "prompt_number": 1
    },
    {
     "cell_type": "code",
     "collapsed": false,
     "input": [
      "%%bash\n",
      "\n",
      "\n",
      "pwd\n",
      "ls"
     ],
     "language": "python",
     "metadata": {},
     "outputs": [
      {
       "output_type": "stream",
       "stream": "stdout",
       "text": [
        "/Users/DONG/Documents/Python/ipython-2.1.0/LearningfromBerkeley\n",
        "Berkeley_Weather.txt\n",
        "another_file.txt\n",
        "exercises\n",
        "hw\n",
        "lecture4.ipynb\n",
        "lecture4note.ipynb\n",
        "lecture5.ipynb\n",
        "lecture5note.ipynb\n",
        "lecture6.ipynb\n",
        "lecture6_note.ipynb\n",
        "lecture7.ipynb\n",
        "lecture7_note.ipynb\n",
        "lecture8.ipynb\n",
        "lecture8_note.ipynb\n",
        "lecture9.ipynb\n",
        "lecture9_note.ipynb\n",
        "my_first_python_script\n",
        "nother_file.txt\n",
        "silly.py\n",
        "silly.pyc\n"
       ]
      },
      {
       "output_type": "stream",
       "stream": "stderr",
       "text": [
        "bash: line 2: print: command not found\n"
       ]
      }
     ],
     "prompt_number": 6
    },
    {
     "cell_type": "heading",
     "level": 2,
     "metadata": {
      "slideshow": {
       "slide_type": "slide"
      }
     },
     "source": [
      "Interactive mode and script mode"
     ]
    },
    {
     "cell_type": "markdown",
     "metadata": {
      "slideshow": {
       "slide_type": "fragment"
      }
     },
     "source": [
      ">**Interactive mode:**\n",
      ">\n",
      "> * one launches the interpreter by typing its name on the terminal\n",
      "> * one types in a command one at a time at the terminal **prompt**\n",
      "> * the command is executed once <code>return</code> is pressed\n",
      "\n",
      "**Remark:** That's how we have used the Bash interpreter so far"
     ]
    },
    {
     "cell_type": "markdown",
     "metadata": {
      "slideshow": {
       "slide_type": "fragment"
      }
     },
     "source": [
      ">**Script mode:**\n",
      ">\n",
      "> * one writes all the commands at once in a file (with name, say, \"my_script\")\n",
      "> * one adds the following **bang line** \"<code>#!interpreter_path</code>\" on the file **first line** (NOT ON ANY OTHER LINE!!!)\n",
      "> * one makes the file executable by typing the command \n",
      ">\n",
      "><pre><code>chmod +x my_script </code></pre>\n",
      "\n",
      "\n",
      "**Remark:** The bang line is necessary to tell the computer which interpreter to use to execute the commands in \"my_script\""
     ]
    },
    {
     "cell_type": "heading",
     "level": 3,
     "metadata": {
      "slideshow": {
       "slide_type": "slide"
      }
     },
     "source": [
      "Examples"
     ]
    },
    {
     "cell_type": "heading",
     "level": 4,
     "metadata": {},
     "source": [
      "Consider the Bash commands we ended up with in the last lecture:"
     ]
    },
    {
     "cell_type": "code",
     "collapsed": false,
     "input": [
      "%%bash\n",
      "\n",
      "curl http://www.stat.berkeley.edu/classes/s133/data/conts.txt > continent.txt\n",
      "\n",
      "cat continent.txt | grep \"[A-Z]$\" | sed 's/^\\([^,]*\\),\\(.*\\)/\\2/' | sort |uniq > codes.txt\n",
      "\n",
      "continent_codes=$(cat codes.txt)\n",
      "\n",
      "for code in $continent_codes\n",
      "do\n",
      "    cat continent.txt | grep $code | sed 's/^\\([^,]*\\),\\(.*\\)/\\1/' | sort |uniq > $code.txt\n",
      "done"
     ],
     "language": "python",
     "metadata": {
      "slideshow": {
       "slide_type": "fragment"
      }
     },
     "outputs": [
      {
       "output_type": "stream",
       "stream": "stderr",
       "text": [
        "  % Total    % Received % Xferd  Average Speed   Time    Time     Time  Current\n",
        "                                 Dload  Upload   Total   Spent    Left  Speed\n",
        "\r",
        "  0     0    0     0    0     0      0      0 --:--:-- --:--:-- --:--:--     0\r",
        "100  3422  100  3422    0     0   879k      0 --:--:-- --:--:-- --:--:-- 3341k\n"
       ]
      }
     ],
     "prompt_number": 184
    },
    {
     "cell_type": "heading",
     "level": 4,
     "metadata": {
      "slideshow": {
       "slide_type": "slide"
      }
     },
     "source": [
      "Let us create a script out of these commands"
     ]
    },
    {
     "cell_type": "markdown",
     "metadata": {
      "slideshow": {
       "slide_type": "fragment"
      }
     },
     "source": [
      "> The **magic command** \n",
      "<pre><code>%%file file_name</code></pre>\n",
      "in an ipython notebook cell creates  a file in the current working directory, named \"file_name\" with the content of the ipython notebook cell in it."
     ]
    },
    {
     "cell_type": "code",
     "collapsed": false,
     "input": [
      "%%file my_script\n",
      "#!/bin/bash \n",
      "\n",
      "curl http://www.stat.berkeley.edu/classes/s133/data/conts.txt > continent.txt\n",
      "\n",
      "cat continent.txt | grep \"[A-Z]$\" | sed 's/^\\([^,]*\\),\\(.*\\)/\\2/' | sort | uniq > codes.txt\n",
      "\n",
      "continent_codes=$(cat codes.txt)\n",
      "\n",
      "for code in $continent_codes\n",
      "do\n",
      "    cat continent.txt | grep $code | sed 's/^\\([^,]*\\),\\(.*\\)/\\1/' | sort |uniq > $code.txt\n",
      "done"
     ],
     "language": "python",
     "metadata": {
      "slideshow": {
       "slide_type": "fragment"
      }
     },
     "outputs": [
      {
       "output_type": "stream",
       "stream": "stdout",
       "text": [
        "Writing my_script\n"
       ]
      }
     ],
     "prompt_number": 185
    },
    {
     "cell_type": "heading",
     "level": 4,
     "metadata": {
      "slideshow": {
       "slide_type": "slide"
      }
     },
     "source": [
      "Executing the script"
     ]
    },
    {
     "cell_type": "markdown",
     "metadata": {
      "slideshow": {
       "slide_type": "fragment"
      }
     },
     "source": [
      "if we try to execute the script by typing in the terminal <code> ./myscript </code>, we get an error: \n",
      "\n",
      "> the file \"my_script\" is created by default only **readable (r)** and **writable (w)** but not **executable (x)**"
     ]
    },
    {
     "cell_type": "code",
     "collapsed": false,
     "input": [
      "%%bash\n",
      "\n",
      "./my_script"
     ],
     "language": "python",
     "metadata": {
      "slideshow": {
       "slide_type": "fragment"
      }
     },
     "outputs": [
      {
       "output_type": "stream",
       "stream": "stderr",
       "text": [
        "bash: line 2: ./my_script: Permission denied\n"
       ]
      }
     ],
     "prompt_number": 186
    },
    {
     "cell_type": "markdown",
     "metadata": {
      "slideshow": {
       "slide_type": "fragment"
      }
     },
     "source": [
      "We need to render the file **executable** by typing in the terminal \n",
      "\n",
      "<pre><code> chmod +x my_script </code></pre>"
     ]
    },
    {
     "cell_type": "code",
     "collapsed": false,
     "input": [
      "%%bash\n",
      "\n",
      "ls -l my_script\n",
      "\n",
      "chmod +x my_script\n",
      "\n",
      "ls -l my_script"
     ],
     "language": "python",
     "metadata": {
      "slideshow": {
       "slide_type": "fragment"
      }
     },
     "outputs": [
      {
       "output_type": "stream",
       "stream": "stdout",
       "text": [
        "-rw-r--r--  1 bdherin  faculty  348 Sep 24  2013 my_script\n",
        "-rwxr-xr-x  1 bdherin  faculty  348 Sep 24  2013 my_script\n"
       ]
      }
     ],
     "prompt_number": 187
    },
    {
     "cell_type": "heading",
     "level": 4,
     "metadata": {
      "slideshow": {
       "slide_type": "slide"
      }
     },
     "source": [
      "Let us first remove the files created by the previous execution of our code"
     ]
    },
    {
     "cell_type": "code",
     "collapsed": false,
     "input": [
      "%%file clean_all\n",
      "#!/bin/bash\n",
      "\n",
      "for code in $(cat codes.txt)\n",
      "do\n",
      "    rm $code.txt\n",
      "done\n",
      "\n",
      "rm continent.txt codes.txt\n"
     ],
     "language": "python",
     "metadata": {
      "slideshow": {
       "slide_type": "fragment"
      }
     },
     "outputs": [
      {
       "output_type": "stream",
       "stream": "stdout",
       "text": [
        "Writing clean_all\n"
       ]
      }
     ],
     "prompt_number": 188
    },
    {
     "cell_type": "code",
     "collapsed": false,
     "input": [
      "%%bash\n",
      "chmod +x clean_all"
     ],
     "language": "python",
     "metadata": {
      "slideshow": {
       "slide_type": "fragment"
      }
     },
     "outputs": [],
     "prompt_number": 189
    },
    {
     "cell_type": "heading",
     "level": 4,
     "metadata": {
      "slideshow": {
       "slide_type": "slide"
      }
     },
     "source": [
      "Let us execute our scripts now"
     ]
    },
    {
     "cell_type": "code",
     "collapsed": false,
     "input": [
      "%%bash\n",
      "\n",
      "printf \"Directory content before invoking clean_all:\\n\\n\"\n",
      "ls\n",
      "\n",
      "printf \"\\nDirectory content after invoking clean_all:\\n\\n\"\n",
      "./clean_all\n",
      "ls\n",
      "\n",
      "printf \"\\nDirectory content after invoking my_script:\\n\\n\"\n",
      "./my_script\n",
      "ls"
     ],
     "language": "python",
     "metadata": {
      "slideshow": {
       "slide_type": "fragment"
      }
     },
     "outputs": [
      {
       "output_type": "stream",
       "stream": "stdout",
       "text": [
        "Directory content before invoking clean_all:\n",
        "\n",
        "AF.txt\n",
        "AN.txt\n",
        "AS.txt\n",
        "EU.txt\n",
        "Lecture4.ipynb\n",
        "NA.txt\n",
        "OC.txt\n",
        "SA.txt\n",
        "clean_all\n",
        "codes.txt\n",
        "continent.txt\n",
        "my_script\n",
        "\n",
        "Directory content after invoking clean_all:\n",
        "\n",
        "Lecture4.ipynb\n",
        "clean_all\n",
        "my_script\n",
        "\n",
        "Directory content after invoking my_script:\n",
        "\n",
        "AF.txt\n",
        "AN.txt\n",
        "AS.txt\n",
        "EU.txt\n",
        "Lecture4.ipynb\n",
        "NA.txt\n",
        "OC.txt\n",
        "SA.txt\n",
        "clean_all\n",
        "codes.txt\n",
        "continent.txt\n",
        "my_script\n"
       ]
      },
      {
       "output_type": "stream",
       "stream": "stderr",
       "text": [
        "  % Total    % Received % Xferd  Average Speed   Time    Time     Time  Current\n",
        "                                 Dload  Upload   Total   Spent    Left  Speed\n",
        "\r",
        "  0     0    0     0    0     0      0      0 --:--:-- --:--:-- --:--:--     0\r",
        "100  3422  100  3422    0     0   660k      0 --:--:-- --:--:-- --:--:-- 1670k\n"
       ]
      }
     ],
     "prompt_number": 190
    },
    {
     "cell_type": "heading",
     "level": 2,
     "metadata": {
      "slideshow": {
       "slide_type": "slide"
      }
     },
     "source": [
      "Writing Python scripts"
     ]
    },
    {
     "cell_type": "markdown",
     "metadata": {
      "slideshow": {
       "slide_type": "fragment"
      }
     },
     "source": [
      "The procedure is the same, although the command and their syntax are different than that of the bash interpreter.\n",
      "\n",
      "**REMARK:** By default, the ipython notebook assumes that the commands written in the cells are in the Python script. Because of that, we don't need to put \n",
      "<pre><code>%%python</code></pre>\n",
      "at the beginning of the cell as we did in order to execute bash commands"
     ]
    },
    {
     "cell_type": "code",
     "collapsed": false,
     "input": [
      "%%file my_first_python_script\n",
      "#!/usr/bin/python\n",
      "\n",
      "print \"Hello World!\""
     ],
     "language": "python",
     "metadata": {
      "slideshow": {
       "slide_type": "fragment"
      }
     },
     "outputs": [
      {
       "output_type": "stream",
       "stream": "stdout",
       "text": [
        "Writing my_first_python_script\n"
       ]
      }
     ],
     "prompt_number": 191
    },
    {
     "cell_type": "markdown",
     "metadata": {
      "slideshow": {
       "slide_type": "fragment"
      }
     },
     "source": [
      "###Let's change the permission of our python script and execute it:"
     ]
    },
    {
     "cell_type": "code",
     "collapsed": false,
     "input": [
      "%%bash\n",
      "\n",
      "chmod +x my_first_python_script\n",
      "\n",
      "./my_first_python_script"
     ],
     "language": "python",
     "metadata": {
      "slideshow": {
       "slide_type": "fragment"
      }
     },
     "outputs": [
      {
       "output_type": "stream",
       "stream": "stdout",
       "text": [
        "Hello World!\n"
       ]
      }
     ],
     "prompt_number": 192
    },
    {
     "cell_type": "heading",
     "level": 2,
     "metadata": {
      "slideshow": {
       "slide_type": "slide"
      }
     },
     "source": [
      "What are the basic elements of a scripting language:"
     ]
    },
    {
     "cell_type": "markdown",
     "metadata": {
      "slideshow": {
       "slide_type": "slide"
      }
     },
     "source": [
      "* **How to assign value of a certain type to variables and retrieve these values:**\n",
      " * Ex: In bash, x=3 and $x\n",
      " "
     ]
    },
    {
     "cell_type": "markdown",
     "metadata": {
      "slideshow": {
       "slide_type": "fragment"
      }
     },
     "source": [
      "* **How to manipulate basic variable types (numbers, strings, and boolean):**\n",
      "\n",
      " * Ex: add and multiply numbers, concatenate strings, logical operations on boolean variable, etc."
     ]
    },
    {
     "cell_type": "markdown",
     "metadata": {
      "slideshow": {
       "slide_type": "fragment"
      }
     },
     "source": [
      "* **How to group variables together in containers (lists, maps, dictionaries, etc.)** \n",
      " * Ex: how to create sequences of numbers, lists of strings\n",
      " "
     ]
    },
    {
     "cell_type": "markdown",
     "metadata": {
      "slideshow": {
       "slide_type": "slide"
      }
     },
     "source": [
      "* **How to repeat a block of code automatically (looping)** \n",
      " * Ex: for, until, and while\n",
      " "
     ]
    },
    {
     "cell_type": "markdown",
     "metadata": {
      "slideshow": {
       "slide_type": "fragment"
      }
     },
     "source": [
      "* **How to execute a block of code depending on a condition (branching):** \n",
      " * Ex: if, case\n",
      " "
     ]
    },
    {
     "cell_type": "markdown",
     "metadata": {
      "slideshow": {
       "slide_type": "slide"
      }
     },
     "source": [
      "* **How to package code to be shared and reused: scripts, functions, and modules**"
     ]
    },
    {
     "cell_type": "markdown",
     "metadata": {
      "slideshow": {
       "slide_type": "fragment"
      }
     },
     "source": [
      "* **How to get and store data (input and output)** \n",
      " * Ex: how to access stdin, stdout, to read data from a file, from the web, etc., to save data, etc."
     ]
    },
    {
     "cell_type": "markdown",
     "metadata": {
      "slideshow": {
       "slide_type": "fragment"
      }
     },
     "source": [
      "* **What are the language quirks and how to use them**\n",
      " * list comprehension, available modules and libraries, etc."
     ]
    },
    {
     "cell_type": "markdown",
     "metadata": {
      "slideshow": {
       "slide_type": "skip"
      }
     },
     "source": [
      "We learned some of these elements for the Bash scripting language\n",
      "\n",
      "* **in class:** variable assignment, variable value retrieval, and for loop\n",
      "* **in the reading assignements:** the rest\n",
      "\n",
      "**We will now start learning the basic elements of the Python language**\n",
      "\n",
      "**ADVICE:** if your program needs more than text manipulations and <code>for</code> loops, use Python or R instead of Bash\n",
      "\n",
      "\n"
     ]
    },
    {
     "cell_type": "heading",
     "level": 2,
     "metadata": {
      "slideshow": {
       "slide_type": "slide"
      }
     },
     "source": [
      "How to assign and retrieve values to variables in Python"
     ]
    },
    {
     "cell_type": "code",
     "collapsed": false,
     "input": [
      "x = \"This number is\"  #assign to the variable x the string \"this number is\"\n",
      "y = 3                 #assign to the variable y the integer 3\n",
      "\n",
      "print x, y            #observe the difference with Bash: one doesn not need the dollar sign to retrieve values"
     ],
     "language": "python",
     "metadata": {
      "slideshow": {
       "slide_type": "fragment"
      }
     },
     "outputs": [
      {
       "output_type": "stream",
       "stream": "stdout",
       "text": [
        "This number is 3\n"
       ]
      }
     ],
     "prompt_number": 193
    },
    {
     "cell_type": "heading",
     "level": 2,
     "metadata": {
      "slideshow": {
       "slide_type": "slide"
      }
     },
     "source": [
      "How to perform basic number manipulation in Python"
     ]
    },
    {
     "cell_type": "markdown",
     "metadata": {
      "slideshow": {
       "slide_type": "fragment"
      }
     },
     "source": [
      "Python has two main number types: **integers** and **real numbers** (called **float**)\n",
      "\n",
      "> The python command <code>type</code> takes as input a variable and returns the type of this variable:"
     ]
    },
    {
     "cell_type": "code",
     "collapsed": false,
     "input": [
      "x=2; y=3.4\n",
      "print \"The type of the variable x is\", type(x)\n",
      "print \"The type of the variable y is\", type(y)"
     ],
     "language": "python",
     "metadata": {
      "slideshow": {
       "slide_type": "fragment"
      }
     },
     "outputs": [
      {
       "output_type": "stream",
       "stream": "stdout",
       "text": [
        "The type of the variable x is <type 'int'>\n",
        "The type of the variable y is <type 'float'>\n"
       ]
      }
     ],
     "prompt_number": 194
    },
    {
     "cell_type": "markdown",
     "metadata": {
      "slideshow": {
       "slide_type": "slide"
      }
     },
     "source": [
      "Now the **basic operations** on numbers:"
     ]
    },
    {
     "cell_type": "code",
     "collapsed": false,
     "input": [
      "x=2; y=3\n",
      "\n",
      "print \"addition:\", x+y\n",
      "print \"substraction:\", x-y\n",
      "print \"multiplication:\", x*y\n",
      "print \"exponentiation:\", x**y\n",
      "print \"modulo:\", y%x\n",
      "print \"complicated formula:\", (x+y)**x-y*x+x"
     ],
     "language": "python",
     "metadata": {},
     "outputs": [
      {
       "output_type": "stream",
       "stream": "stdout",
       "text": [
        "addition: 5\n",
        "substraction: -1\n",
        "multiplication: 6\n",
        "exponentiation: 8\n",
        "modulo: 1\n",
        "complicated formula: 21\n"
       ]
      }
     ],
     "prompt_number": 195
    },
    {
     "cell_type": "heading",
     "level": 3,
     "metadata": {
      "slideshow": {
       "slide_type": "slide"
      }
     },
     "source": [
      "Float/int conversion and division issues"
     ]
    },
    {
     "cell_type": "code",
     "collapsed": false,
     "input": [
      "x=40; y=13\n",
      "print \"40 divided by 13 equals\", x/y"
     ],
     "language": "python",
     "metadata": {
      "slideshow": {
       "slide_type": "fragment"
      }
     },
     "outputs": [
      {
       "output_type": "stream",
       "stream": "stdout",
       "text": [
        "40 divided by 13 equals 3\n"
       ]
      }
     ],
     "prompt_number": 196
    },
    {
     "cell_type": "markdown",
     "metadata": {
      "slideshow": {
       "slide_type": "slide"
      }
     },
     "source": [
      "**WHAT HAPPENED????**"
     ]
    },
    {
     "cell_type": "markdown",
     "metadata": {
      "slideshow": {
       "slide_type": "fragment"
      }
     },
     "source": [
      "40 and 30 are integers, so the **integer division** is used\n",
      "\n",
      "> To tell Python to use the real (or float) division, one of the two numbers must be a real number\n",
      ">\n",
      "> * **Trick 1:** write 40.0 instead of  40"
     ]
    },
    {
     "cell_type": "code",
     "collapsed": false,
     "input": [
      "print 40.0/13\n",
      "print 40/13.0\n",
      "print 40/13"
     ],
     "language": "python",
     "metadata": {
      "slideshow": {
       "slide_type": "fragment"
      }
     },
     "outputs": [
      {
       "output_type": "stream",
       "stream": "stdout",
       "text": [
        "3.07692307692\n",
        "3.07692307692\n",
        "3\n"
       ]
      }
     ],
     "prompt_number": 197
    },
    {
     "cell_type": "markdown",
     "metadata": {
      "slideshow": {
       "slide_type": "fragment"
      }
     },
     "source": [
      "> * **Trick 2:** Tell Python to explicitly to convert an integer variable to a float variable\n",
      "> * **conversion operators:**\n",
      ">  * <code>float(x)</code> converts the variable x into a float\n",
      ">  * <code>int(x)</code> converts the variable x into an integer"
     ]
    },
    {
     "cell_type": "code",
     "collapsed": false,
     "input": [
      "x=40; y=13\n",
      "print float(x)/y\n",
      "print x/float(y)\n",
      "print int(40.0)/13"
     ],
     "language": "python",
     "metadata": {
      "slideshow": {
       "slide_type": "fragment"
      }
     },
     "outputs": [
      {
       "output_type": "stream",
       "stream": "stdout",
       "text": [
        "3.07692307692\n",
        "3.07692307692\n",
        "3\n"
       ]
      }
     ],
     "prompt_number": 198
    },
    {
     "cell_type": "heading",
     "level": 2,
     "metadata": {
      "slideshow": {
       "slide_type": "slide"
      }
     },
     "source": [
      "How to perform basic manipulations on Python's strings"
     ]
    },
    {
     "cell_type": "heading",
     "level": 3,
     "metadata": {
      "slideshow": {
       "slide_type": "slide"
      }
     },
     "source": [
      "Concatenating:"
     ]
    },
    {
     "cell_type": "code",
     "collapsed": false,
     "input": [
      "my_string = \"I am a string.\"\n",
      "your_string = \"And you?\"\n",
      "\n",
      "their_string = my_string + \" \" + your_string\n",
      "\n",
      "print their_string\n",
      "print type(their_string)"
     ],
     "language": "python",
     "metadata": {
      "slideshow": {
       "slide_type": "fragment"
      }
     },
     "outputs": [
      {
       "output_type": "stream",
       "stream": "stdout",
       "text": [
        "I am a string. And you?\n",
        "<type 'str'>\n"
       ]
      }
     ],
     "prompt_number": 199
    },
    {
     "cell_type": "heading",
     "level": 3,
     "metadata": {
      "slideshow": {
       "slide_type": "slide"
      }
     },
     "source": [
      "Repeating:"
     ]
    },
    {
     "cell_type": "code",
     "collapsed": false,
     "input": [
      "print \"hello! \"*3\n",
      "print 20 * \"-\"\n"
     ],
     "language": "python",
     "metadata": {
      "slideshow": {
       "slide_type": "fragment"
      }
     },
     "outputs": [
      {
       "output_type": "stream",
       "stream": "stdout",
       "text": [
        "hello! hello! hello! \n",
        "--------------------\n"
       ]
      }
     ],
     "prompt_number": 200
    },
    {
     "cell_type": "heading",
     "level": 3,
     "metadata": {
      "slideshow": {
       "slide_type": "slide"
      }
     },
     "source": [
      "Formatting:"
     ]
    },
    {
     "cell_type": "code",
     "collapsed": false,
     "input": [
      "print \"%-10s %-10s\" %(\"Julien\", \"Damien\")    ### CAUTION: difference with Bash: \n",
      "print \"%-10s %-10s\" %(\"Solange\", \"Adeline\")  ### the number of arguments should equal the number of place holder"
     ],
     "language": "python",
     "metadata": {
      "slideshow": {
       "slide_type": "fragment"
      }
     },
     "outputs": [
      {
       "output_type": "stream",
       "stream": "stdout",
       "text": [
        "Julien     Damien    \n",
        "Solange    Adeline   \n"
       ]
      }
     ],
     "prompt_number": 201
    },
    {
     "cell_type": "heading",
     "level": 2,
     "metadata": {
      "slideshow": {
       "slide_type": "slide"
      }
     },
     "source": [
      "How to manipulate boolean expressions"
     ]
    },
    {
     "cell_type": "markdown",
     "metadata": {
      "slideshow": {
       "slide_type": "fragment"
      }
     },
     "source": [
      "In Python, there is a boolean type representing the logical values **true** and **false**"
     ]
    },
    {
     "cell_type": "code",
     "collapsed": false,
     "input": [
      "x = True; y = False\n",
      "print \"The type of the variable x is\", type(x)\n",
      "print \"The type of the variable y is\", type(y)"
     ],
     "language": "python",
     "metadata": {
      "slideshow": {
       "slide_type": "fragment"
      }
     },
     "outputs": [
      {
       "output_type": "stream",
       "stream": "stdout",
       "text": [
        "The type of the variable x is <type 'bool'>\n",
        "The type of the variable y is <type 'bool'>\n"
       ]
      }
     ],
     "prompt_number": 202
    },
    {
     "cell_type": "markdown",
     "metadata": {
      "slideshow": {
       "slide_type": "fragment"
      }
     },
     "source": [
      "> * A boolean variable can take two values: <code>True</code> and <code>False</code>\n",
      "> * One can combine **boolean variables** with **boolean operators** (and, or, not, etc.) into **boolean expressions** that evaluate to true or false\n",
      "> * Here are the boolean operators: \n",
      "<pre><code> x and y, x or y, not x </code></pre>"
     ]
    },
    {
     "cell_type": "code",
     "collapsed": false,
     "input": [
      "x = True; y = False\n",
      "\n",
      "print \"The boolean variable x has value:\", x\n",
      "print \"The boolean variable y has value:\", y, \"\\n\"\n",
      "\n",
      "print \"The bolean expressions:\", \"\\n\"\n",
      "\n",
      "print \"'x and y' evaluates to\", x and y\n",
      "\n",
      "print \"'x or y' evaluates to\", x or y\n",
      "\n",
      "print \"'not x' evaluates to\", not x\n",
      "\n",
      "print \"'not y' evaluates to\", not y\n",
      "\n",
      "print \"'not ((not y) and (x or y))' evaluates to\", not ((not y) and (x or y))\n"
     ],
     "language": "python",
     "metadata": {
      "slideshow": {
       "slide_type": "fragment"
      }
     },
     "outputs": [
      {
       "output_type": "stream",
       "stream": "stdout",
       "text": [
        "The boolean variable x has value: True\n",
        "The boolean variable y has value: False \n",
        "\n",
        "The bolean expressions: \n",
        "\n",
        "'x and y' evaluates to False\n",
        "'x or y' evaluates to True\n",
        "'not x' evaluates to False\n",
        "'not y' evaluates to True\n",
        "'not ((not y) and (x or y))' evaluates to False\n"
       ]
      }
     ],
     "prompt_number": 203
    },
    {
     "cell_type": "heading",
     "level": 3,
     "metadata": {
      "slideshow": {
       "slide_type": "slide"
      }
     },
     "source": [
      "Boolean expressions from objects comparison"
     ]
    },
    {
     "cell_type": "markdown",
     "metadata": {
      "slideshow": {
       "slide_type": "fragment"
      }
     },
     "source": [
      "It is possible to compare certain objects (numbers, strings, etc.) in Python\n",
      "\n",
      "* The result of the comparison is a boolean expression\n",
      "* The compoarison operators are the following:\n",
      " * **equality:** $\\qquad$ <code>==</code>\n",
      " * **not equal:** $\\qquad$ <code>!=</code>\n",
      " * **greater:** $\\qquad$ <code> < </code> and <code> > </code>\n",
      " * **greater or equal:** $\\qquad$<code> <= </code> and <code> => </code>\n"
     ]
    },
    {
     "cell_type": "code",
     "collapsed": false,
     "input": [
      "print 3 < 5\n",
      "print 4 <= 6\n",
      "print \"hello\" != \"bonjour\"\n",
      "print \"a\" > \"b\"\n",
      "print \"abc\" < \"azk\""
     ],
     "language": "python",
     "metadata": {
      "slideshow": {
       "slide_type": "fragment"
      }
     },
     "outputs": [
      {
       "output_type": "stream",
       "stream": "stdout",
       "text": [
        "True\n",
        "True\n",
        "True\n",
        "False\n",
        "True\n"
       ]
      }
     ],
     "prompt_number": 204
    },
    {
     "cell_type": "heading",
     "level": 2,
     "metadata": {
      "slideshow": {
       "slide_type": "slide"
      }
     },
     "source": [
      "How to group variables in Python's lists"
     ]
    },
    {
     "cell_type": "heading",
     "level": 3,
     "metadata": {
      "slideshow": {
       "slide_type": "fragment"
      }
     },
     "source": [
      "Definition"
     ]
    },
    {
     "cell_type": "markdown",
     "metadata": {
      "slideshow": {
       "slide_type": "fragment"
      }
     },
     "source": [
      "A **Python's list** an ordered sequence of variable, not necessarily of the same type:\n",
      "\n",
      "* one defines a list by listing its elements between square brackets: <code> my_list = [1,\"hello\",4] </code>\n",
      "* the first element has **index 0** and not 1!!!\n",
      "* one retrieves the list element at position n as follows: <code> my_list[n-1] </code>"
     ]
    },
    {
     "cell_type": "code",
     "collapsed": false,
     "input": [
      "my_list = [1,2,3,\"Hello\",5,6,\"apple\"]\n",
      "\n",
      "print type(my_list)\n",
      "print \"the third element is\", my_list[2]\n",
      "print \"the fourth element is\", my_list[3]"
     ],
     "language": "python",
     "metadata": {
      "slideshow": {
       "slide_type": "fragment"
      }
     },
     "outputs": [
      {
       "output_type": "stream",
       "stream": "stdout",
       "text": [
        "<type 'list'>\n",
        "the third element is 3\n",
        "the fourth element is Hello\n"
       ]
      }
     ],
     "prompt_number": 205
    },
    {
     "cell_type": "heading",
     "level": 3,
     "metadata": {
      "slideshow": {
       "slide_type": "slide"
      }
     },
     "source": [
      "Returning sublists by slicing"
     ]
    },
    {
     "cell_type": "markdown",
     "metadata": {
      "slideshow": {
       "slide_type": "fragment"
      }
     },
     "source": [
      "One retrieves from a given Python's list, say <code>my_list</code>, a sublist of consecutive indices by indicating the **sublist range or \"slice\":**\n",
      "<pre><code>my_list[3:6]</code></pre>\n",
      "returns the sublist\n",
      "<pre><code>[my_list[3], my_list[4], my_list[5]]</code></pre>"
     ]
    },
    {
     "cell_type": "code",
     "collapsed": false,
     "input": [
      "my_list = [1,2,3,\"Hello\",5,6,\"apple\"]\n",
      "\n",
      "print my_list[2:6]"
     ],
     "language": "python",
     "metadata": {
      "slideshow": {
       "slide_type": "fragment"
      }
     },
     "outputs": [
      {
       "output_type": "stream",
       "stream": "stdout",
       "text": [
        "[3, 'Hello', 5, 6]\n"
       ]
      }
     ],
     "prompt_number": 206
    },
    {
     "cell_type": "markdown",
     "metadata": {
      "slideshow": {
       "slide_type": "slide"
      }
     },
     "source": [
      "**Remarks:**\n",
      "\n",
      "* The function <code>len(my_list)</code> returns the **length** of my_list\n",
      "* The range $[m:n]$ is **open-ended**: element $m$ is included but not the element $n$\n",
      "* $[:n]$ is a shorthand for $[0:n]$\n",
      "* $[m:]$ is a shorthand for $[m:n]$ where $n$ is the list lenght\n",
      "* Negative numbers can also be used to indicate positions and ranges:\n",
      " * <code> my_list[-1] </code> is the last element of the list\n",
      " * <code> my_list[-2] </code> is the element before the last element, etc.\n",
      " * etc."
     ]
    },
    {
     "cell_type": "code",
     "collapsed": false,
     "input": [
      "my_list = [1,2,3,\"Hello\",5,6,\"apple\"]\n",
      "\n",
      "print len(my_list)\n",
      "print my_list[:4]\n",
      "print my_list[2:]\n",
      "print my_list[-1]\n",
      "print my_list[-3:-1]"
     ],
     "language": "python",
     "metadata": {
      "slideshow": {
       "slide_type": "fragment"
      }
     },
     "outputs": [
      {
       "output_type": "stream",
       "stream": "stdout",
       "text": [
        "7\n",
        "[1, 2, 3, 'Hello']\n",
        "[3, 'Hello', 5, 6, 'apple']\n",
        "apple\n",
        "[5, 6]\n"
       ]
      }
     ],
     "prompt_number": 207
    },
    {
     "cell_type": "heading",
     "level": 2,
     "metadata": {
      "slideshow": {
       "slide_type": "slide"
      }
     },
     "source": [
      "How to repeat blocks of code automatically (looping)"
     ]
    },
    {
     "cell_type": "markdown",
     "metadata": {
      "slideshow": {
       "slide_type": "fragment"
      }
     },
     "source": [
      "The looping mechanisms are the **musles** of a scripting language:\n",
      "\n",
      "* They allow the computer to repeat a **block of code** as many time as needed\n",
      "* A **block of code** is a sequence of **instructions** or **commands** that are grouped together\n",
      "* One pass of code block is called an **iteration**\n",
      "\n",
      "> In Python, one tells the interpreter that a sequence of instructions are part of the same block by\n",
      "> \n",
      ">* **indenting** the lines containing the instructions the same way\n",
      ">* adding a semi-colon to the line preceeding the block\n",
      "\n",
      "<pre><code>\n",
      "start of a block:\n",
      "[space][space]block instruction 1\n",
      "[space][space]block instruction 2\n",
      "[space][space]block instruction 3 \n",
      "</code></pre>\n"
     ]
    },
    {
     "cell_type": "markdown",
     "metadata": {
      "slideshow": {
       "slide_type": "fragment"
      }
     },
     "source": [
      "**INDENTATION CONVENTIONS**:\n",
      "\n",
      "* Python standard = 4 spaces\n",
      "* Google stardard = 2 spaces\n",
      "* you can also use one <code>tab</code>\n",
      "\n",
      "The important is to **be coherent with the convention you choose**. \n",
      "\n",
      "Most editors (including the ipython notebook cells) will do the indentation for you, when \n",
      "your press <code>return</code> after a semi-colon."
     ]
    },
    {
     "cell_type": "heading",
     "level": 3,
     "metadata": {
      "slideshow": {
       "slide_type": "slide"
      }
     },
     "source": [
      "The <code>for</code> loop"
     ]
    },
    {
     "cell_type": "markdown",
     "metadata": {
      "slideshow": {
       "slide_type": "fragment"
      }
     },
     "source": [
      "The <code>for</code> loop **iterates over a list of variables contained in a list**, very much the same way as in Bash\n",
      "\n"
     ]
    },
    {
     "cell_type": "code",
     "collapsed": false,
     "input": [
      "looping_list = [\"car\", \"tramway\", \"bike\", \"rollers\"]\n",
      "a_growing_string = \"\"\n",
      "\n",
      "for thing in looping_list:\n",
      "    a_growing_string = a_growing_string + \" \" + thing\n",
      "    print a_growing_string"
     ],
     "language": "python",
     "metadata": {
      "slideshow": {
       "slide_type": "fragment"
      }
     },
     "outputs": [
      {
       "output_type": "stream",
       "stream": "stdout",
       "text": [
        " car\n",
        " car tramway\n",
        " car tramway bike\n",
        " car tramway bike rollers\n"
       ]
      }
     ],
     "prompt_number": 208
    },
    {
     "cell_type": "code",
     "collapsed": false,
     "input": [
      "numbers_to_add = range(3,21,2) \n",
      "print \"We will add the numbers in the list\", numbers_to_add, \"with a for loop\"\n",
      "\n",
      "sum = 0\n",
      "for number in numbers_to_add:\n",
      "    sum += number\n",
      "\n",
      "print \"The sum is\", sum"
     ],
     "language": "python",
     "metadata": {
      "slideshow": {
       "slide_type": "fragment"
      }
     },
     "outputs": [
      {
       "output_type": "stream",
       "stream": "stdout",
       "text": [
        "We will add the numbers in the list [3, 5, 7, 9, 11, 13, 15, 17, 19] with a for loop\n",
        "The sum is 99\n"
       ]
      }
     ],
     "prompt_number": 209
    },
    {
     "cell_type": "heading",
     "level": 3,
     "metadata": {
      "slideshow": {
       "slide_type": "slide"
      }
     },
     "source": [
      "The <code>while</code> loop"
     ]
    },
    {
     "cell_type": "markdown",
     "metadata": {
      "slideshow": {
       "slide_type": "fragment"
      }
     },
     "source": [
      "The <code>while</code> loop **repeats a block of code while a boolean condition evaluates to <code>True</code>**:"
     ]
    },
    {
     "cell_type": "code",
     "collapsed": false,
     "input": [
      "n = 100; k=0\n",
      "\n",
      "my_sum = 0\n",
      "\n",
      "while k < n:\n",
      "    my_sum += k\n",
      "    k += 1\n",
      "    \n",
      "print my_sum"
     ],
     "language": "python",
     "metadata": {
      "slideshow": {
       "slide_type": "fragment"
      }
     },
     "outputs": [
      {
       "output_type": "stream",
       "stream": "stdout",
       "text": [
        "4950\n"
       ]
      }
     ],
     "prompt_number": 210
    },
    {
     "cell_type": "code",
     "collapsed": false,
     "input": [
      "my_string = \"\"\n",
      "\n",
      "while my_string != \"aaaaa\":\n",
      "    my_string += \"a\"\n",
      "    \n",
      "print my_string"
     ],
     "language": "python",
     "metadata": {
      "slideshow": {
       "slide_type": "fragment"
      }
     },
     "outputs": [
      {
       "output_type": "stream",
       "stream": "stdout",
       "text": [
        "aaaaa\n"
       ]
      }
     ],
     "prompt_number": 211
    },
    {
     "cell_type": "heading",
     "level": 2,
     "metadata": {
      "slideshow": {
       "slide_type": "slide"
      }
     },
     "source": [
      "How to execute a block of code depending on a condition (branching)"
     ]
    },
    {
     "cell_type": "markdown",
     "metadata": {
      "slideshow": {
       "slide_type": "fragment"
      }
     },
     "source": [
      "If looping mechanisms are the **muscles** of a programming language, then **branching** mechanisms are the **brain** of the language.\n",
      "\n",
      "> * Branching mechanisms allows the computer to **execute certain blocks of code depending on a boolean expresssion**\n",
      "> * In Python, the block of code <code> if condition: </code> is executed only if <code>condition</code> is true\n",
      "> * The general <code>if</code> syntax is the following:\n",
      "\n",
      "<pre><code>\n",
      "if condition1:\n",
      "    block of code to be executed if \"condition\" evaluates to True\n",
      "    \n",
      "elif condition2:\n",
      "    block of code to be executed if condition1 is False but condition2 is True\n",
      "        \n",
      "elseif condition3: \n",
      "    block of code to be executed if condition1 and condition2 are False but condition3 is True\n",
      "    \n",
      "else:\n",
      "    block of code to be executed if none of the above applies\n",
      "</code></pre>"
     ]
    },
    {
     "cell_type": "code",
     "collapsed": false,
     "input": [
      "a = \"hello\"\n",
      "b = \"hello\"\n",
      "\n",
      "if a == b:\n",
      "    print a, \"equals\", b\n",
      "else:\n",
      "    print a, \"is not equal to\", b"
     ],
     "language": "python",
     "metadata": {
      "slideshow": {
       "slide_type": "fragment"
      }
     },
     "outputs": [
      {
       "output_type": "stream",
       "stream": "stdout",
       "text": [
        "hello equals hello\n"
       ]
      }
     ],
     "prompt_number": 212
    },
    {
     "cell_type": "code",
     "collapsed": false,
     "input": [
      "bag_of_greetings = [\"Good morning\", \"Bonjour\", \"Gruezi\", \"Sausage\", \"Bom dia\", \"Guten Tag\"]\n",
      "\n",
      "my_greeting = \"Gruezi\"\n",
      "\n",
      "for greeting in bag_of_greetings:\n",
      "    \n",
      "    if greeting == \"Good morning\":\n",
      "        print greeting, \"is English, isn't it?\"\n",
      "        \n",
      "    elif greeting == \"Bonjour\":\n",
      "        print greeting, \"is French, isn't it?\"\n",
      "        \n",
      "    elif greeting == \"Gruezi\":\n",
      "        print greeting, \"is Swiss German, isn't it?\"\n",
      "        \n",
      "    elif greeting == \"Bom dia\":\n",
      "        print greeting, \"is Portuguese, isn't it?\"\n",
      "        \n",
      "    elif greeting == \"Guten Tag\":\n",
      "        print greeting, \"is German, isn't it?\"\n",
      "        \n",
      "    else:\n",
      "        print greeting + \"!\" + \" What does it mean?\"\n",
      "        \n",
      "    print \"I like \" + greeting + \"\\n\""
     ],
     "language": "python",
     "metadata": {
      "slideshow": {
       "slide_type": "slide"
      }
     },
     "outputs": [
      {
       "output_type": "stream",
       "stream": "stdout",
       "text": [
        "Good morning is English, isn't it?\n",
        "I like Good morning\n",
        "\n",
        "Bonjour is French, isn't it?\n",
        "I like Bonjour\n",
        "\n",
        "Gruezi is Swiss German, isn't it?\n",
        "I like Gruezi\n",
        "\n",
        "Sausage! What does it mean?\n",
        "I like Sausage\n",
        "\n",
        "Bom dia is Portuguese, isn't it?\n",
        "I like Bom dia\n",
        "\n",
        "Guten Tag is German, isn't it?\n",
        "I like Guten Tag\n",
        "\n"
       ]
      }
     ],
     "prompt_number": 213
    },
    {
     "cell_type": "heading",
     "level": 2,
     "metadata": {
      "slideshow": {
       "slide_type": "slide"
      }
     },
     "source": [
      "How to package code to be reused: scripts, functions, and modules"
     ]
    },
    {
     "cell_type": "heading",
     "level": 3,
     "metadata": {
      "slideshow": {
       "slide_type": "slide"
      }
     },
     "source": [
      "Scripts"
     ]
    },
    {
     "cell_type": "markdown",
     "metadata": {
      "slideshow": {
       "slide_type": "fragment"
      }
     },
     "source": [
      "We already saw how to package Bash or Python code into an executable file that behaves like a math function upon execution:\n",
      "\n",
      ">* a script takes data from the standard input, transforms it, and spits out the result to the standard output\n",
      "\n",
      "They are two other way to package your code for further reuse: **functions and modules**\n"
     ]
    },
    {
     "cell_type": "heading",
     "level": 3,
     "metadata": {
      "slideshow": {
       "slide_type": "slide"
      }
     },
     "source": [
      "Functions"
     ]
    },
    {
     "cell_type": "markdown",
     "metadata": {
      "slideshow": {
       "slide_type": "fragment"
      }
     },
     "source": [
      "\n",
      "\n",
      "> A **function** is a block of code *inside* a script that takes an input, transforms it, and returns the results to whatever **called** the function\n",
      "\n",
      "Python function syntax:\n",
      "<pre><code>\n",
      "def f(x,y,z):\n",
      "    block of code\n",
      "    return output\n",
      "</code></pre>\n",
      "\n",
      "> * \"f\" is the **function name**\n",
      "\n",
      "> * x, y, z are the **function arguments**. They constitute the input passed to the function\n",
      "\n",
      "> * Whatever comes after the <code>return</code> keyword will be returned as **the function output** to whoever called the function"
     ]
    },
    {
     "cell_type": "heading",
     "level": 3,
     "metadata": {
      "slideshow": {
       "slide_type": "slide"
      }
     },
     "source": [
      "Examples:"
     ]
    },
    {
     "cell_type": "code",
     "collapsed": false,
     "input": [
      "def f(x,y):\n",
      "    return x+y-x*y\n",
      "\n",
      "def g(z):\n",
      "    return z**8-0.5*z\n",
      "    \n",
      "print f(3,4)\n",
      "print g(8)\n",
      "print g(f(4,5))\n",
      "print f(g(f(3,4)), g(f(5,6)))\n"
     ],
     "language": "python",
     "metadata": {
      "slideshow": {
       "slide_type": "fragment"
      }
     },
     "outputs": [
      {
       "output_type": "stream",
       "stream": "stdout",
       "text": [
        "-5\n",
        "16777212.0\n",
        "214358886.5\n",
        "-6.63422979156e+15\n"
       ]
      }
     ],
     "prompt_number": 214
    },
    {
     "cell_type": "code",
     "collapsed": false,
     "input": [
      "def line(n):\n",
      "    return n*\"-\"\n",
      "\n",
      "def make_beauty_for_string(ugly_string):\n",
      "    n = len(ugly_string)\n",
      "    \n",
      "    if n == 0:\n",
      "        return \"Noting to do about that! Sorry\"\n",
      "    else:\n",
      "        beauty_string = line(10+n) + \"\\n\" + line(5) + ugly_string + line(5) + \"\\n\" + line(10+n)\n",
      "        return beauty_string"
     ],
     "language": "python",
     "metadata": {
      "slideshow": {
       "slide_type": "slide"
      }
     },
     "outputs": [],
     "prompt_number": 215
    },
    {
     "cell_type": "code",
     "collapsed": false,
     "input": [
      "string_dialogue = [\"Am I an ugly string? Am I?\",\\\n",
      "                   \"Hello you!\", \\\n",
      "                   \"You quite cute for a string!\", \\\n",
      "                   \"Your string outfit is awesome! Never seen something quite like it!\"\\\n",
      "                   ]\n",
      "\n",
      "for pick_up_line in string_dialogue:\n",
      "    print make_beauty_for_string(pick_up_line)"
     ],
     "language": "python",
     "metadata": {
      "slideshow": {
       "slide_type": "fragment"
      }
     },
     "outputs": [
      {
       "output_type": "stream",
       "stream": "stdout",
       "text": [
        "------------------------------------\n",
        "-----Am I an ugly string? Am I?-----\n",
        "------------------------------------\n",
        "--------------------\n",
        "-----Hello you!-----\n",
        "--------------------\n",
        "--------------------------------------\n",
        "-----You quite cute for a string!-----\n",
        "--------------------------------------\n",
        "----------------------------------------------------------------------------\n",
        "-----Your string outfit is awesome! Never seen something quite like it!-----\n",
        "----------------------------------------------------------------------------\n"
       ]
      }
     ],
     "prompt_number": 216
    },
    {
     "cell_type": "heading",
     "level": 3,
     "metadata": {
      "slideshow": {
       "slide_type": "slide"
      }
     },
     "source": [
      "Arguments names "
     ]
    },
    {
     "cell_type": "markdown",
     "metadata": {
      "slideshow": {
       "slide_type": "fragment"
      }
     },
     "source": [
      "For additional clarity, the argument names can be specified when calling a function. \n",
      "\n",
      "**If the argument names are fully specified, the order in which they are passed to the function becomes irrelevant:**"
     ]
    },
    {
     "cell_type": "code",
     "collapsed": false,
     "input": [
      "def string_concatenate(first_str, second_str):\n",
      "    return first_str + \" \" + second_str\n",
      "\n",
      "print string_concatenate(\"How are\", \"you?\")\n",
      "\n",
      "print string_concatenate(first_str=\"How are\", second_str=\"you?\")\n",
      "\n",
      "print string_concatenate(\"you?\", \"How are\")\n",
      "\n",
      "print string_concatenate(second_str=\"you?\", first_str=\"How are\")"
     ],
     "language": "python",
     "metadata": {
      "slideshow": {
       "slide_type": "fragment"
      }
     },
     "outputs": [
      {
       "output_type": "stream",
       "stream": "stdout",
       "text": [
        "How are you?\n",
        "How are you?\n",
        "you? How are\n",
        "How are you?\n"
       ]
      }
     ],
     "prompt_number": 217
    },
    {
     "cell_type": "heading",
     "level": 3,
     "metadata": {
      "slideshow": {
       "slide_type": "slide"
      }
     },
     "source": [
      "Argument defaults"
     ]
    },
    {
     "cell_type": "markdown",
     "metadata": {
      "slideshow": {
       "slide_type": "fragment"
      }
     },
     "source": [
      "Default values for function arguments can be specified in the function definition.\n",
      "\n",
      "**If these arguments are not passed to the function, the default values are assumed:**"
     ]
    },
    {
     "cell_type": "code",
     "collapsed": false,
     "input": [
      "def question(question_str, person=\"Solange\"):\n",
      "    return question_str + \" \" + person\n",
      "\n",
      "print question(\"How are you?\")\n",
      "print question(\"How are you?\", \"Geraldine\")\n"
     ],
     "language": "python",
     "metadata": {
      "slideshow": {
       "slide_type": "fragment"
      }
     },
     "outputs": [
      {
       "output_type": "stream",
       "stream": "stdout",
       "text": [
        "How are you? Solange\n",
        "How are you? Geraldine\n"
       ]
      }
     ],
     "prompt_number": 218
    },
    {
     "cell_type": "heading",
     "level": 3,
     "metadata": {
      "slideshow": {
       "slide_type": "slide"
      }
     },
     "source": [
      "Modules"
     ]
    },
    {
     "cell_type": "markdown",
     "metadata": {
      "slideshow": {
       "slide_type": "fragment"
      }
     },
     "source": [
      "If you happen to define a lot of very useful functions for a given task at hand, you can group them into a separate file or **module** so that you can reuse them in many of your scripts. This is very easy to do in Python:\n",
      "\n",
      "> * simply write your functions in a spearate file with .py extension, say <code>my_module.py</code>\n",
      "> * invoke your module by adding the following command in any program that uses the functions stored in your module:\n",
      "<code> import my_module.py </code>\n"
     ]
    },
    {
     "cell_type": "markdown",
     "metadata": {
      "slideshow": {
       "slide_type": "fragment"
      }
     },
     "source": [
      "Some remarks are in order:\n",
      "\n",
      "> * your module should be in the same directory as your program\n",
      "> * a function <code>my_function()</code>, defined in your module, will be called **with the module name as a prefix**, followed by a period:\n",
      "<pre><code> my_module.my_function() </code></pre>\n",
      "\n",
      "In CS, one says that the module name acts a **namespace**."
     ]
    },
    {
     "cell_type": "markdown",
     "metadata": {
      "slideshow": {
       "slide_type": "slide"
      }
     },
     "source": [
      "Let's write a silly module with silly functions as example:"
     ]
    },
    {
     "cell_type": "code",
     "collapsed": false,
     "input": [
      "%%file silly.py\n",
      "\n",
      "def addition(x,y):\n",
      "    return x + y*2\n",
      "\n",
      "def multiplication(x,y):\n",
      "    return x*y-y\n",
      "\n",
      "def sillification(x,y):\n",
      "    return 'silly ' + x + ', silly ' + y"
     ],
     "language": "python",
     "metadata": {
      "slideshow": {
       "slide_type": "fragment"
      }
     },
     "outputs": [
      {
       "output_type": "stream",
       "stream": "stdout",
       "text": [
        "Writing silly.py\n"
       ]
      }
     ],
     "prompt_number": 219
    },
    {
     "cell_type": "code",
     "collapsed": false,
     "input": [
      "import silly\n",
      "\n",
      "print silly.multiplication(3,4)\n",
      "print silly.addition(4,5)\n",
      "print silly.sillification('x','y')\n"
     ],
     "language": "python",
     "metadata": {
      "slideshow": {
       "slide_type": "fragment"
      }
     },
     "outputs": [
      {
       "output_type": "stream",
       "stream": "stdout",
       "text": [
        "8\n",
        "9\n",
        "silly x, silly y\n"
       ]
      }
     ],
     "prompt_number": 220
    },
    {
     "cell_type": "heading",
     "level": 2,
     "metadata": {
      "slideshow": {
       "slide_type": "slide"
      }
     },
     "source": [
      "How to get and store data (input and output)"
     ]
    },
    {
     "cell_type": "heading",
     "level": 3,
     "metadata": {
      "slideshow": {
       "slide_type": "slide"
      }
     },
     "source": [
      "From the internet:"
     ]
    },
    {
     "cell_type": "markdown",
     "metadata": {
      "slideshow": {
       "slide_type": "fragment"
      }
     },
     "source": [
      "To import data from the internet into a Python program, we need to import the urllib Python's module that contains functions to retrieve and parse webpages:"
     ]
    },
    {
     "cell_type": "markdown",
     "metadata": {
      "slideshow": {
       "slide_type": "fragment"
      }
     },
     "source": [
      "> To use the module, add the following line on your script:\n",
      "<pre><code> import urllib</code></pre>"
     ]
    },
    {
     "cell_type": "markdown",
     "metadata": {
      "slideshow": {
       "slide_type": "fragment"
      }
     },
     "source": [
      "They are two ways to retrieve a webpage:"
     ]
    },
    {
     "cell_type": "markdown",
     "metadata": {
      "slideshow": {
       "slide_type": "fragment"
      }
     },
     "source": [
      "* Save the webpage into a file through the command:\n",
      "<pre><code> urllib.urlretrieve(url, filename)<pre><code>"
     ]
    },
    {
     "cell_type": "markdown",
     "metadata": {
      "slideshow": {
       "slide_type": "fragment"
      }
     },
     "source": [
      "* Import the file as a \"Python object\" into your code:\n",
      "<pre><code> webpage = urllib.urlopen(url)<pre><code>"
     ]
    },
    {
     "cell_type": "heading",
     "level": 3,
     "metadata": {
      "slideshow": {
       "slide_type": "slide"
      }
     },
     "source": [
      "Examples:"
     ]
    },
    {
     "cell_type": "markdown",
     "metadata": {
      "slideshow": {
       "slide_type": "fragment"
      }
     },
     "source": [
      "Let us retrieve a page from the web containing the temperatures and precipitation in Berkeley:\n",
      "\n",
      "http://www.stat.berkeley.edu/classes/s133/data/bwthr.txt\n",
      "\n",
      "and save the webpage content into the file Berkeley_Weather."
     ]
    },
    {
     "cell_type": "code",
     "collapsed": false,
     "input": [
      "import urllib\n",
      "\n",
      "url = \"http://www.stat.berkeley.edu/classes/s133/data/bwthr.txt\"\n",
      "\n",
      "urllib.urlretrieve(url, \"Berkeley_Weather.txt\")"
     ],
     "language": "python",
     "metadata": {
      "slideshow": {
       "slide_type": "fragment"
      }
     },
     "outputs": [
      {
       "metadata": {},
       "output_type": "pyout",
       "prompt_number": 221,
       "text": [
        "('Berkeley_Weather.txt', <httplib.HTTPMessage instance at 0x108fb6680>)"
       ]
      }
     ],
     "prompt_number": 221
    },
    {
     "cell_type": "heading",
     "level": 4,
     "metadata": {
      "slideshow": {
       "slide_type": "slide"
      }
     },
     "source": [
      "Let's verify that the internet page has been correctly downloaded into a file \"Berkeley_Weather.txt\":"
     ]
    },
    {
     "cell_type": "markdown",
     "metadata": {
      "slideshow": {
       "slide_type": "fragment"
      }
     },
     "source": [
      "> To invoke a single Bash command from a ipython notebook cell one can simply prefix it with a exclamation mark (instead of declaring the whole content of the cell to be Bash commands using the magic command <code>%%bash</code>).\n",
      "><pre><code> !command options arguments</code></pre>\n",
      ">invoke a bash command"
     ]
    },
    {
     "cell_type": "code",
     "collapsed": false,
     "input": [
      "!head Berkeley_Weather.txt\n",
      "\n",
      "print \"...\"\n",
      "\n",
      "!tail Berkeley_Weather.txt"
     ],
     "language": "python",
     "metadata": {
      "slideshow": {
       "slide_type": "fragment"
      }
     },
     "outputs": [
      {
       "output_type": "stream",
       "stream": "stdout",
       "text": [
        "Year,Month,Day,tmax,tmin,prcp\r\n",
        "2005,01,1,52,40,0.17\r\n",
        "2005,01,2,52,43,0.90\r\n",
        "2005,01,3,47,41,0\r\n",
        "2005,01,4,51,40,0\r\n",
        "2005,01,5,51,44,0.01\r\n",
        "2005,01,6,53,40,0.01\r\n",
        "2005,01,7,53,40,0.53\r\n",
        "2005,01,8,54,43,0.81\r\n",
        "2005,01,9,49,45,0.03\r\n"
       ]
      },
      {
       "output_type": "stream",
       "stream": "stdout",
       "text": [
        "...\n",
        "2005,10,22,66,49,0\r\n",
        "2005,10,23,64,51,0\r\n",
        "2005,10,24,68,50,0\r\n",
        "2005,10,25,63,52,0\r\n",
        "2005,10,26,59,47,0.16\r\n",
        "2005,10,27,63,52,0\r\n",
        "2005,10,28,64,54,0.03\r\n",
        "2005,10,29,71,53,0.04\r\n",
        "2005,10,30,65,45,0\r\n",
        "2005,10,31,69,47,0\r\n"
       ]
      }
     ],
     "prompt_number": 222
    },
    {
     "cell_type": "heading",
     "level": 4,
     "metadata": {
      "slideshow": {
       "slide_type": "slide"
      }
     },
     "source": [
      "Let us now import the file as a \"Python object\":"
     ]
    },
    {
     "cell_type": "code",
     "collapsed": false,
     "input": [
      "webpage = urllib.urlopen(url)\n",
      "\n",
      "print url #Observe that the variables are passed from one cell to the other"
     ],
     "language": "python",
     "metadata": {
      "slideshow": {
       "slide_type": "fragment"
      }
     },
     "outputs": [
      {
       "output_type": "stream",
       "stream": "stdout",
       "text": [
        "http://www.stat.berkeley.edu/classes/s133/data/bwthr.txt\n"
       ]
      }
     ],
     "prompt_number": 223
    },
    {
     "cell_type": "markdown",
     "metadata": {
      "slideshow": {
       "slide_type": "fragment"
      }
     },
     "source": [
      "The <code>readlines</code> method allows us to store the webpage lines into a list:"
     ]
    },
    {
     "cell_type": "code",
     "collapsed": false,
     "input": [
      "webpage_lines = webpage.readlines()\n",
      "\n",
      "print webpage_lines[0]\n",
      "print webpage_lines[1]\n",
      "print webpage_lines[2]\n",
      "\n",
      "print webpage_lines[-1]"
     ],
     "language": "python",
     "metadata": {
      "slideshow": {
       "slide_type": "fragment"
      }
     },
     "outputs": [
      {
       "output_type": "stream",
       "stream": "stdout",
       "text": [
        "Year,Month,Day,tmax,tmin,prcp\n",
        "\n",
        "2005,01,1,52,40,0.17\n",
        "\n",
        "2005,01,2,52,43,0.90\n",
        "\n",
        "2005,10,31,69,47,0\n",
        "\n"
       ]
      }
     ],
     "prompt_number": 224
    },
    {
     "cell_type": "heading",
     "level": 3,
     "metadata": {
      "slideshow": {
       "slide_type": "slide"
      }
     },
     "source": [
      "Reading data from files and writing data to files"
     ]
    },
    {
     "cell_type": "markdown",
     "metadata": {
      "slideshow": {
       "slide_type": "fragment"
      }
     },
     "source": [
      "Now, we have downloaded a file from the internet: \"Berkeley_Weather.txt\""
     ]
    },
    {
     "cell_type": "code",
     "collapsed": false,
     "input": [
      "!head Berkeley_Weather.txt"
     ],
     "language": "python",
     "metadata": {
      "slideshow": {
       "slide_type": "fragment"
      }
     },
     "outputs": [
      {
       "output_type": "stream",
       "stream": "stdout",
       "text": [
        "Year,Month,Day,tmax,tmin,prcp\r\n",
        "2005,01,1,52,40,0.17\r\n",
        "2005,01,2,52,43,0.90\r\n",
        "2005,01,3,47,41,0\r\n",
        "2005,01,4,51,40,0\r\n",
        "2005,01,5,51,44,0.01\r\n",
        "2005,01,6,53,40,0.01\r\n",
        "2005,01,7,53,40,0.53\r\n",
        "2005,01,8,54,43,0.81\r\n",
        "2005,01,9,49,45,0.03\r\n"
       ]
      }
     ],
     "prompt_number": 225
    },
    {
     "cell_type": "markdown",
     "metadata": {
      "slideshow": {
       "slide_type": "slide"
      }
     },
     "source": [
      "To access the file from Python, one needs to use the command <code>open</code> and store the \"file object\" that is returned by the function <code>open</code> into a variable:\n",
      "\n",
      "> <code> my_file = open(file_name, mode)</code>\n",
      "\n",
      "**mode** is a string that indicates whether we will use the file for reading from it, for writing to it:\n",
      "\n",
      "> * **'r'** means we open the file to read from it\n",
      "> * **'w'** means we open the file to write to it\n",
      "\n"
     ]
    },
    {
     "cell_type": "code",
     "collapsed": false,
     "input": [
      "my_file = open('Berkeley_Weather.txt', 'r')\n",
      "type(my_file)"
     ],
     "language": "python",
     "metadata": {
      "slideshow": {
       "slide_type": "fragment"
      }
     },
     "outputs": [
      {
       "metadata": {},
       "output_type": "pyout",
       "prompt_number": 226,
       "text": [
        "file"
       ]
      }
     ],
     "prompt_number": 226
    },
    {
     "cell_type": "markdown",
     "metadata": {
      "slideshow": {
       "slide_type": "slide"
      }
     },
     "source": [
      "A file object contains essentially two things:\n",
      "\n",
      "* the file content\n",
      "* a **cursor** indicating from where to start reading the file\n",
      "\n",
      "After opening the file, the cursor points to the first character in the file (index 0). Each time a line from the file is read, the cursor is moved to the first character that hasn't been read yet.\n",
      "> the cursor position can be manually controlled by the command\n",
      ">\n",
      "> * <code> my_file.seek(position) </code>\n",
      "> \n",
      ">where position indicates the index of the charater the cursor should point to"
     ]
    },
    {
     "cell_type": "markdown",
     "metadata": {
      "slideshow": {
       "slide_type": "slide"
      }
     },
     "source": [
      "To read a file line by line, use the function:\n",
      "\n",
      "> * line = file_object.readline()\n",
      "\n",
      "This function retrieves the current line (i.e. the line where the cursor is pointing to) as a string, which can be subsequently stored in a variable. "
     ]
    },
    {
     "cell_type": "heading",
     "level": 3,
     "metadata": {
      "slideshow": {
       "slide_type": "fragment"
      }
     },
     "source": [
      "After reading a line, the cursor points to the beginning of the next line:"
     ]
    },
    {
     "cell_type": "code",
     "collapsed": false,
     "input": [
      "print  my_file.readline()\n",
      "print  my_file.readline()\n",
      "print  my_file.readline()\n",
      "\n",
      "print 'Moving back to the file beginning with \"seek\"\\n'\n",
      "my_file.seek(0)\n",
      "\n",
      "print \"A call to readline now gives back the first line:\"\n",
      "print my_file.readline()\n",
      "\n"
     ],
     "language": "python",
     "metadata": {
      "slideshow": {
       "slide_type": "fragment"
      }
     },
     "outputs": [
      {
       "output_type": "stream",
       "stream": "stdout",
       "text": [
        "Year,Month,Day,tmax,tmin,prcp\n",
        "\n",
        "2005,01,1,52,40,0.17\n",
        "\n",
        "2005,01,2,52,43,0.90\n",
        "\n",
        "Moving back to the file beginning with \"seek\"\n",
        "\n",
        "A call to readline now gives back the first line:\n",
        "Year,Month,Day,tmax,tmin,prcp\n",
        "\n"
       ]
      }
     ],
     "prompt_number": 227
    },
    {
     "cell_type": "heading",
     "level": 3,
     "metadata": {
      "slideshow": {
       "slide_type": "slide"
      }
     },
     "source": [
      "Retrieving all the lines at once"
     ]
    },
    {
     "cell_type": "markdown",
     "metadata": {
      "slideshow": {
       "slide_type": "fragment"
      }
     },
     "source": [
      "They are two commands:\n",
      "\n",
      "> * <code>my_file.read()</code> returns the file content as a string\n",
      "> * <code>my_file.readlines()</code> returns the file content as a list of lines\n",
      "\n",
      "which can be subsequently stored in a variable for latter use."
     ]
    },
    {
     "cell_type": "code",
     "collapsed": false,
     "input": [
      "my_file.seek(0) # set the cursor back at the file beginning\n",
      "\n",
      "file_string = my_file.read()\n",
      "\n",
      "print type(file_string)\n",
      "\n",
      "print file_string[0:3]"
     ],
     "language": "python",
     "metadata": {
      "slideshow": {
       "slide_type": "fragment"
      }
     },
     "outputs": [
      {
       "output_type": "stream",
       "stream": "stdout",
       "text": [
        "<type 'str'>\n",
        "Yea\n"
       ]
      }
     ],
     "prompt_number": 228
    },
    {
     "cell_type": "code",
     "collapsed": false,
     "input": [
      "my_file.seek(0) #set the cursor back at the file beginning\n",
      "\n",
      "file_list = my_file.readlines()\n",
      "\n",
      "print type(file_list)\n",
      "\n",
      "print file_list[0:3]"
     ],
     "language": "python",
     "metadata": {
      "slideshow": {
       "slide_type": "fragment"
      }
     },
     "outputs": [
      {
       "output_type": "stream",
       "stream": "stdout",
       "text": [
        "<type 'list'>\n",
        "['Year,Month,Day,tmax,tmin,prcp\\n', '2005,01,1,52,40,0.17\\n', '2005,01,2,52,43,0.90\\n']\n"
       ]
      }
     ],
     "prompt_number": 229
    },
    {
     "cell_type": "heading",
     "level": 3,
     "metadata": {
      "slideshow": {
       "slide_type": "slide"
      }
     },
     "source": [
      "Writing to a file"
     ]
    },
    {
     "cell_type": "markdown",
     "metadata": {
      "slideshow": {
       "slide_type": "fragment"
      }
     },
     "source": [
      "Writing a file is easier. Use the command:\n",
      "<pre><code>another_file.write(string)</code></pre>"
     ]
    },
    {
     "cell_type": "code",
     "collapsed": false,
     "input": [
      "another_file = open('another_file.txt', 'w')\n",
      "\n",
      "cars = ['BMW', 'Volkswagen', 'Ford', 'Honda', 'Nissan']\n",
      "\n",
      "for car in cars:\n",
      "    another_file.write(car + '\\n')\n",
      "    #another_file.write(car)\n",
      "    \n",
      "!cat another_file.txt"
     ],
     "language": "python",
     "metadata": {
      "slideshow": {
       "slide_type": "fragment"
      }
     },
     "outputs": [],
     "prompt_number": 230
    },
    {
     "cell_type": "heading",
     "level": 3,
     "metadata": {
      "slideshow": {
       "slide_type": "slide"
      }
     },
     "source": [
      "Closing files"
     ]
    },
    {
     "cell_type": "markdown",
     "metadata": {
      "slideshow": {
       "slide_type": "fragment"
      }
     },
     "source": [
      "In Python, after a file has been used, it needs to be closed with the command\n",
      "<pre><code>my_file.close()</pre></code>\n",
      "\n",
      "**Observation:** File manipulation is much easier in Bash. For simple text processing, it may be a good idea to check if a one line bash command with pipes may do the job!"
     ]
    },
    {
     "cell_type": "code",
     "collapsed": false,
     "input": [
      "my_file.close()\n",
      "\n",
      "print 'Is \"my_file\" closed?', my_file.closed\n",
      "\n",
      "another_file.close()\n",
      "\n",
      "print 'Is \"another_file\" closed?', another_file.closed\n"
     ],
     "language": "python",
     "metadata": {
      "slideshow": {
       "slide_type": "fragment"
      }
     },
     "outputs": [
      {
       "output_type": "stream",
       "stream": "stdout",
       "text": [
        "Is \"my_file\" closed? True\n",
        "Is \"another_file\" closed? True\n"
       ]
      }
     ],
     "prompt_number": 231
    },
    {
     "cell_type": "heading",
     "level": 2,
     "metadata": {
      "slideshow": {
       "slide_type": "slide"
      }
     },
     "source": [
      "What are the language quirks and how to use them"
     ]
    },
    {
     "cell_type": "markdown",
     "metadata": {
      "slideshow": {
       "slide_type": "fragment"
      }
     },
     "source": [
      "The special quirks of a programming language often are what makes the language unique and specially powerful for certain tasks. These are the features that are not necessarilly shared among all programming languages.\n",
      "\n",
      "> These quirks or special features are nice but not necessary: they are **conveniences**\n",
      "\n",
      "although, knowing them can spare you many lines of code!"
     ]
    },
    {
     "cell_type": "markdown",
     "metadata": {
      "slideshow": {
       "slide_type": "slide"
      }
     },
     "source": [
      "In Python, we will see the following nice quirks:\n",
      "\n",
      "* List comprehension: how to build lists in math style notation\n",
      "* Membership testing with <code>in</code>\n",
      "* Inline branching statements for conditional value return\n",
      "* Inline function definition with <code>lambda</code> functions"
     ]
    },
    {
     "cell_type": "heading",
     "level": 2,
     "metadata": {
      "slideshow": {
       "slide_type": "slide"
      }
     },
     "source": [
      "List comprehension: how to build lists in math style notation"
     ]
    },
    {
     "cell_type": "markdown",
     "metadata": {
      "slideshow": {
       "slide_type": "fragment"
      }
     },
     "source": [
      "In math, we have the nice \"set-builder\" notation to characterise subsets of a given set:\n",
      "\n",
      "$$ S = \\{x\\in A:\\:x \\textrm{ satisfies a given property } P\\}$$ \n",
      "\n",
      "For instance, one can describe the set $S$ of even numbers as follows:\n",
      "\n",
      "$$ S = \\{n\\in \\mathbb{N}:\\: n \\textrm{ mod } 2 = 0\\} $$"
     ]
    },
    {
     "cell_type": "markdown",
     "metadata": {
      "slideshow": {
       "slide_type": "fragment"
      }
     },
     "source": [
      "In Python this notation reads\n",
      "\n",
      "<pre><code>\n",
      "S = [n for n in N if n%2 == 0]\n",
      "</code></pre>"
     ]
    },
    {
     "cell_type": "heading",
     "level": 3,
     "metadata": {
      "slideshow": {
       "slide_type": "slide"
      }
     },
     "source": [
      "Examples:"
     ]
    },
    {
     "cell_type": "code",
     "collapsed": false,
     "input": [
      "first_integers = [x for x in range(17)]\n",
      "\n",
      "print first_integers"
     ],
     "language": "python",
     "metadata": {
      "slideshow": {
       "slide_type": "fragment"
      }
     },
     "outputs": [
      {
       "output_type": "stream",
       "stream": "stdout",
       "text": [
        "[0, 1, 2, 3, 4, 5, 6, 7, 8, 9, 10, 11, 12, 13, 14, 15, 16]\n"
       ]
      }
     ],
     "prompt_number": 232
    },
    {
     "cell_type": "code",
     "collapsed": false,
     "input": [
      "even_numbers_up_to_twenty = [x for x in range(21) if x % 2 == 0]\n",
      "\n",
      "print even_numbers_up_to_twenty"
     ],
     "language": "python",
     "metadata": {
      "slideshow": {
       "slide_type": "fragment"
      }
     },
     "outputs": [
      {
       "output_type": "stream",
       "stream": "stdout",
       "text": [
        "[0, 2, 4, 6, 8, 10, 12, 14, 16, 18, 20]\n"
       ]
      }
     ],
     "prompt_number": 233
    },
    {
     "cell_type": "code",
     "collapsed": false,
     "input": [
      "squares_of_the_ten_first_numbers = [x**2 for x in range(11)]\n",
      "\n",
      "print squares_of_the_ten_first_numbers"
     ],
     "language": "python",
     "metadata": {
      "slideshow": {
       "slide_type": "fragment"
      }
     },
     "outputs": [
      {
       "output_type": "stream",
       "stream": "stdout",
       "text": [
        "[0, 1, 4, 9, 16, 25, 36, 49, 64, 81, 100]\n"
       ]
      }
     ],
     "prompt_number": 234
    },
    {
     "cell_type": "code",
     "collapsed": false,
     "input": [
      "squares_of_the_ten_first_numbers_whose_cube_is_even = \\\n",
      "[x**2 for x in range(11) if x**3 % 2 == 0]\n",
      "\n",
      "print squares_of_the_ten_first_numbers_whose_cube_is_even"
     ],
     "language": "python",
     "metadata": {
      "slideshow": {
       "slide_type": "slide"
      }
     },
     "outputs": [
      {
       "output_type": "stream",
       "stream": "stdout",
       "text": [
        "[0, 4, 16, 36, 64, 100]\n"
       ]
      }
     ],
     "prompt_number": 235
    },
    {
     "cell_type": "code",
     "collapsed": false,
     "input": [
      "greetings = ['hello', 'bonjour', 'guten tag', 'hello']\n",
      "\n",
      "not_hello_greetings = \\\n",
      "[greeting for greeting in greetings if greeting != 'hello' ]\n",
      "\n",
      "print not_hello_greetings"
     ],
     "language": "python",
     "metadata": {
      "slideshow": {
       "slide_type": "fragment"
      }
     },
     "outputs": [
      {
       "output_type": "stream",
       "stream": "stdout",
       "text": [
        "['bonjour', 'guten tag']\n"
       ]
      }
     ],
     "prompt_number": 236
    },
    {
     "cell_type": "heading",
     "level": 2,
     "metadata": {
      "slideshow": {
       "slide_type": "slide"
      }
     },
     "source": [
      "Membership testing with <code>in</code>"
     ]
    },
    {
     "cell_type": "markdown",
     "metadata": {
      "slideshow": {
       "slide_type": "fragment"
      }
     },
     "source": [
      "The keywords <code>in</code> and <code>not in<code> test for membership:\n",
      "<pre><code> a in my_list</code></pre>\n",
      "returns\n",
      "\n",
      "* <code>True</code> if the value of the variable <code>a</code> is in the list <code>my_list</code>\n",
      "* <code>False</code> if it is not the case\n",
      "\n",
      "Similarly for: <code> a not in my_list</code>\n"
     ]
    },
    {
     "cell_type": "markdown",
     "metadata": {
      "slideshow": {
       "slide_type": "slide"
      }
     },
     "source": [
      "Examples"
     ]
    },
    {
     "cell_type": "code",
     "collapsed": false,
     "input": [
      "print 3 in [2,3,4]\n",
      "print 3 not in [2,3,4]\n",
      "print 'hello' in ['bonjour', 'au revoir']"
     ],
     "language": "python",
     "metadata": {
      "slideshow": {
       "slide_type": "fragment"
      }
     },
     "outputs": [
      {
       "output_type": "stream",
       "stream": "stdout",
       "text": [
        "True\n",
        "False\n",
        "False\n"
       ]
      }
     ],
     "prompt_number": 2
    },
    {
     "cell_type": "heading",
     "level": 2,
     "metadata": {
      "slideshow": {
       "slide_type": "slide"
      }
     },
     "source": [
      "Inline branching statements for conditional value return"
     ]
    },
    {
     "cell_type": "markdown",
     "metadata": {},
     "source": [
      "The construct <pre><code>a if boolean_expression else b</code></pre>\n",
      " \n",
      "* returns <code>a</code> if the boolean expression evaluates to <code>True</code>\n",
      "* returns <code>b otheriwse\n",
      "\n",
      "The result is usually stored in a variable."
     ]
    },
    {
     "cell_type": "heading",
     "level": 3,
     "metadata": {
      "slideshow": {
       "slide_type": "fragment"
      }
     },
     "source": [
      "Example"
     ]
    },
    {
     "cell_type": "code",
     "collapsed": false,
     "input": [
      "a = 1; b = -3\n",
      "\n",
      "abs_a = a if a >= 0 else -a\n",
      "abs_b = b if b >=0 else -b\n",
      "\n",
      "print 'both values are positive:', abs_a, abs_b"
     ],
     "language": "python",
     "metadata": {
      "slideshow": {
       "slide_type": "fragment"
      }
     },
     "outputs": [
      {
       "output_type": "stream",
       "stream": "stdout",
       "text": [
        "both values are positive: 1 3\n"
       ]
      }
     ],
     "prompt_number": 238
    },
    {
     "cell_type": "heading",
     "level": 2,
     "metadata": {
      "slideshow": {
       "slide_type": "slide"
      }
     },
     "source": [
      "Inline function definition with lambda functions"
     ]
    },
    {
     "cell_type": "markdown",
     "metadata": {
      "slideshow": {
       "slide_type": "fragment"
      }
     },
     "source": [
      "For short functions, instead of writing\n",
      "<pre><code>\n",
      "def f(x,y,z):\n",
      "    return (x+y)*y\n",
      "</code></pre>\n",
      "one can use the one-liner:\n",
      "<pre><code>\n",
      "f = lambda x, y, z: (x+y)*Z\n",
      "</code></pre>\n",
      "using the <code>lambda</code> which function as a temporary name for the function."
     ]
    },
    {
     "cell_type": "heading",
     "level": 3,
     "metadata": {
      "slideshow": {
       "slide_type": "slide"
      }
     },
     "source": [
      "Examples"
     ]
    },
    {
     "cell_type": "code",
     "collapsed": false,
     "input": [
      "addition = lambda x, y:  x + y\n",
      "addition(3,4)"
     ],
     "language": "python",
     "metadata": {
      "slideshow": {
       "slide_type": "fragment"
      }
     },
     "outputs": [
      {
       "metadata": {},
       "output_type": "pyout",
       "prompt_number": 239,
       "text": [
        "7"
       ]
      }
     ],
     "prompt_number": 239
    },
    {
     "cell_type": "markdown",
     "metadata": {
      "slideshow": {
       "slide_type": "fragment"
      }
     },
     "source": [
      "The inline function construct is often use with the inline branching construct:"
     ]
    },
    {
     "cell_type": "code",
     "collapsed": false,
     "input": [
      "abs_value = lambda x: x if x >= 0 else -x\n",
      "\n",
      "print abs_value(-5)\n",
      "print abs_value(3)"
     ],
     "language": "python",
     "metadata": {
      "slideshow": {
       "slide_type": "fragment"
      }
     },
     "outputs": [
      {
       "output_type": "stream",
       "stream": "stdout",
       "text": [
        "5\n",
        "3\n"
       ]
      }
     ],
     "prompt_number": 240
    },
    {
     "cell_type": "code",
     "collapsed": false,
     "input": [],
     "language": "python",
     "metadata": {
      "slideshow": {
       "slide_type": "skip"
      }
     },
     "outputs": [],
     "prompt_number": 240
    },
    {
     "cell_type": "code",
     "collapsed": false,
     "input": [],
     "language": "python",
     "metadata": {
      "slideshow": {
       "slide_type": "skip"
      }
     },
     "outputs": [],
     "prompt_number": 240
    },
    {
     "cell_type": "heading",
     "level": 2,
     "metadata": {
      "slideshow": {
       "slide_type": "slide"
      }
     },
     "source": [
      "An exercise: computing means for different groups in a table"
     ]
    },
    {
     "cell_type": "heading",
     "level": 3,
     "metadata": {
      "slideshow": {
       "slide_type": "slide"
      }
     },
     "source": [
      "Let us write a function that transforms the list of lines contained in <code>webpage_lines</code> into table"
     ]
    },
    {
     "cell_type": "code",
     "collapsed": false,
     "input": [
      "def lines_to_reccord_table(lines):\n",
      "    table = []\n",
      "    for line in lines[1:]:\n",
      "        reccord = line.rstrip().split(\",\")\n",
      "        table.append(reccord)\n",
      "    return table"
     ],
     "language": "python",
     "metadata": {
      "slideshow": {
       "slide_type": "fragment"
      }
     },
     "outputs": [],
     "prompt_number": 241
    },
    {
     "cell_type": "code",
     "collapsed": false,
     "input": [
      "weather_table = lines_to_reccord_table(webpage_lines)\n",
      "\n",
      "print weather_table[0]\n",
      "print weather_table[1]\n",
      "print weather_table[1][3]"
     ],
     "language": "python",
     "metadata": {
      "slideshow": {
       "slide_type": "fragment"
      }
     },
     "outputs": [
      {
       "output_type": "stream",
       "stream": "stdout",
       "text": [
        "['2005', '01', '1', '52', '40', '0.17']\n",
        "['2005', '01', '2', '52', '43', '0.90']\n",
        "52\n"
       ]
      }
     ],
     "prompt_number": 242
    },
    {
     "cell_type": "heading",
     "level": 3,
     "metadata": {
      "slideshow": {
       "slide_type": "fragment"
      }
     },
     "source": [
      "Let's compare with before:"
     ]
    },
    {
     "cell_type": "code",
     "collapsed": false,
     "input": [
      "print webpage_lines[0]\n",
      "print webpage_lines[1]"
     ],
     "language": "python",
     "metadata": {
      "slideshow": {
       "slide_type": "fragment"
      }
     },
     "outputs": [
      {
       "output_type": "stream",
       "stream": "stdout",
       "text": [
        "Year,Month,Day,tmax,tmin,prcp\n",
        "\n",
        "2005,01,1,52,40,0.17\n",
        "\n"
       ]
      }
     ],
     "prompt_number": 243
    },
    {
     "cell_type": "heading",
     "level": 3,
     "metadata": {
      "slideshow": {
       "slide_type": "slide"
      }
     },
     "source": [
      "Let us write a function that extracts table reccords according to the value of a given field"
     ]
    },
    {
     "cell_type": "code",
     "collapsed": false,
     "input": [
      "def extract_reccords_from_table_where_field_equals(table, field_num, field_val):\n",
      "    matching_reccords = []\n",
      "    for reccord in table:\n",
      "        if reccord[field_num] == field_val:\n",
      "            matching_reccords.append(reccord)\n",
      "    return matching_reccords"
     ],
     "language": "python",
     "metadata": {
      "slideshow": {
       "slide_type": "fragment"
      }
     },
     "outputs": [],
     "prompt_number": 244
    },
    {
     "cell_type": "heading",
     "level": 3,
     "metadata": {
      "slideshow": {
       "slide_type": "fragment"
      }
     },
     "source": [
      "Let us use this function to extract the weather reccords of a given month"
     ]
    },
    {
     "cell_type": "code",
     "collapsed": false,
     "input": [
      "january_reccords = extract_reccords_from_table_where_field_equals(table=weather_table, field_num=1, field_val=\"01\")\n",
      "\n",
      "print january_reccords[0]\n",
      "print january_reccords[1]\n",
      "print january_reccords[2]\n"
     ],
     "language": "python",
     "metadata": {
      "slideshow": {
       "slide_type": "fragment"
      }
     },
     "outputs": [
      {
       "output_type": "stream",
       "stream": "stdout",
       "text": [
        "['2005', '01', '1', '52', '40', '0.17']\n",
        "['2005', '01', '2', '52', '43', '0.90']\n",
        "['2005', '01', '3', '47', '41', '0']\n"
       ]
      }
     ],
     "prompt_number": 245
    },
    {
     "cell_type": "heading",
     "level": 3,
     "metadata": {
      "slideshow": {
       "slide_type": "slide"
      }
     },
     "source": [
      "Let us write a function that extracts a column from a table and a function that averages that column"
     ]
    },
    {
     "cell_type": "code",
     "collapsed": false,
     "input": [
      "def extract_column_from_table(table, column):\n",
      "    extracted_col = []\n",
      "    for reccord in table:\n",
      "        extracted_col.append(reccord[column])\n",
      "    return extracted_col\n",
      "\n",
      "def average(col):\n",
      "    cum_sum = 0\n",
      "    for entry in col:\n",
      "        cum_sum += float(entry)\n",
      "    return cum_sum/len(col)\n",
      "    "
     ],
     "language": "python",
     "metadata": {
      "slideshow": {
       "slide_type": "fragment"
      }
     },
     "outputs": [],
     "prompt_number": 246
    },
    {
     "cell_type": "heading",
     "level": 3,
     "metadata": {
      "slideshow": {
       "slide_type": "slide"
      }
     },
     "source": [
      "Let us compute the temperature and precipitation averages for each month"
     ]
    },
    {
     "cell_type": "code",
     "collapsed": false,
     "input": [
      "months = [\"01\", \"02\", \"03\", \"04\", \"05\", \"06\", \"07\", \"08\", \"09\", \"10\"]\n",
      "\n",
      "print \"%-4s\\t%-10s\\t%-10s\" %(\"Month\", \"Av. Temp.\", \"Av. Precip.\")\n",
      "\n",
      "for month in months:\n",
      "    month_reccord_table = extract_reccords_from_table_where_field_equals(weather_table, field_num=1, field_val=month)\n",
      "    \n",
      "    month_temp = extract_column_from_table(month_reccord_table, column=3)\n",
      "    month_precip = extract_column_from_table(month_reccord_table, column=5)\n",
      "    \n",
      "    print \"%-5s\\t%-10.0f\\t%-10.3f\" %(month, average(month_temp), average(month_precip))\n",
      "    "
     ],
     "language": "python",
     "metadata": {
      "slideshow": {
       "slide_type": "fragment"
      }
     },
     "outputs": [
      {
       "output_type": "stream",
       "stream": "stdout",
       "text": [
        "Month\tAv. Temp. \tAv. Precip.\n",
        "01   \t54        \t0.140     \n",
        "02   \t60        \t0.157     \n",
        "03   \t65        \t0.155     \n",
        "04   \t67        \t0.072     \n",
        "05   \t70        \t0.059     \n",
        "06   \t73        \t0.035     \n",
        "07   \t76        \t0.000     \n",
        "08   \t73        \t0.000     \n",
        "09   \t72        \t0.000     \n",
        "10   \t71        \t0.015     \n"
       ]
      }
     ],
     "prompt_number": 247
    }
   ],
   "metadata": {}
  }
 ]
}