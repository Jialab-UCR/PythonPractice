{
 "metadata": {
  "name": ""
 },
 "nbformat": 3,
 "nbformat_minor": 0,
 "worksheets": [
  {
   "cells": [
    {
     "cell_type": "heading",
     "level": 1,
     "metadata": {
      "slideshow": {
       "slide_type": "slide"
      }
     },
     "source": [
      " Lecture 7: Series and DataFrames"
     ]
    },
    {
     "cell_type": "markdown",
     "metadata": {
      "slideshow": {
       "slide_type": "fragment"
      }
     },
     "source": [
      "##This lecture topics:\n",
      "\n",
      "* The classical objects of satistics: data point series and data tables\n",
      "\n",
      "\n",
      "* Simple data point series representations and Pandas Series\n",
      "\n",
      "\n",
      "* Simple data table representations and Pandas DataFrames\n",
      "\n",
      "\n",
      "* Series and DataFrames basic functionalities\n",
      "\n",
      "\n",
      "The Pandas module was created to bring R analysis capabilities to Python. \n",
      "\n",
      "It is heavilly inspired by R, and learning Pandas will help you transition to the R programming language."
     ]
    },
    {
     "cell_type": "heading",
     "level": 2,
     "metadata": {
      "slideshow": {
       "slide_type": "slide"
      }
     },
     "source": [
      "Necessary imports and conveniences for today"
     ]
    },
    {
     "cell_type": "code",
     "collapsed": false,
     "input": [
      "import pandas as pd\n",
      "import numpy as np\n",
      "import matplotlib.pyplot as pl\n",
      "\n",
      "from pandas import Series, DataFrame\n",
      "from numpy import array\n",
      "\n",
      "NL  = '\\n'\n",
      "NNL = 2*NL\n",
      "\n",
      "%matplotlib inline"
     ],
     "language": "python",
     "metadata": {
      "slideshow": {
       "slide_type": "fragment"
      }
     },
     "outputs": [],
     "prompt_number": 2
    },
    {
     "cell_type": "heading",
     "level": 2,
     "metadata": {
      "slideshow": {
       "slide_type": "slide"
      }
     },
     "source": [
      "The classical objects of statistics: data series and data tables"
     ]
    },
    {
     "cell_type": "markdown",
     "metadata": {
      "slideshow": {
       "slide_type": "fragment"
      }
     },
     "source": [
      "###Statistic main goal = obtain information on the characteristics of a given set of objects $\\Omega$\n",
      "\n",
      "This **set of objects** $\\Omega$, called **population** or **universe**, can be many things, for example:\n",
      "\n",
      "* an actual human population\n",
      " * the US population\n",
      " * the set of voters in a given election\n",
      " * the students in a given class\n",
      " \n",
      " \n",
      "      \n",
      "* the day by day state of a stock in the stock exchange\n",
      "\n",
      "\n",
      "* the genome of a given specie\n",
      "\n",
      "\n",
      "* the set of webpages in the internet\n",
      "\n",
      "\n",
      "* all the articles in a given selection of news papers\n",
      "\n",
      "\n",
      "* the students in a given class"
     ]
    },
    {
     "cell_type": "heading",
     "level": 3,
     "metadata": {
      "slideshow": {
       "slide_type": "slide"
      }
     },
     "source": [
      "Population characteristics and variable types"
     ]
    },
    {
     "cell_type": "markdown",
     "metadata": {
      "slideshow": {
       "slide_type": "fragment"
      }
     },
     "source": [
      "The **population characteristics**, also called **variables** are represented mathematically as **functions**\n",
      "\n",
      "$$X: \\Omega \\rightarrow A$$\n",
      "\n",
      "from the population to a **set of values** $A$ representing all the possible characteristic values."
     ]
    },
    {
     "cell_type": "markdown",
     "metadata": {
      "slideshow": {
       "slide_type": "fragment"
      }
     },
     "source": [
      "For example, if\n",
      "\n",
      "$$\\Omega = \\textrm{ set of voters at a given presidential election}$$\n",
      "\n",
      "a characteristic (or variable) can be:"
     ]
    },
    {
     "cell_type": "markdown",
     "metadata": {
      "slideshow": {
       "slide_type": "slide"
      }
     },
     "source": [
      "* the voter candidate hoice $X:\\Omega \\rightarrow A$\n",
      " * Here: $A = \\textrm{set of all the candidates}$\n",
      " * $X(x)$ is then the candidate that voter $x\\in\\Omega$ has chosen"
     ]
    },
    {
     "cell_type": "markdown",
     "metadata": {
      "slideshow": {
       "slide_type": "fragment"
      }
     },
     "source": [
      "* the voter age $Y:\\Omega \\rightarrow B$\n",
      " * Here: $B = \\{21, 22, 23, \\dots, 140\\}$ \n",
      " * $Y(x)$ is then the age of voter $x\\in\\Omega$\n",
      " \n",
      " "
     ]
    },
    {
     "cell_type": "markdown",
     "metadata": {
      "slideshow": {
       "slide_type": "fragment"
      }
     },
     "source": [
      "* the voter weight $Z:\\Omega \\rightarrow C$\n",
      " * Here: $C = [0, 300]$ \n",
      " * $Z(x)$ is then the weight of voter $x\\in\\Omega$\n",
      " "
     ]
    },
    {
     "cell_type": "markdown",
     "metadata": {
      "slideshow": {
       "slide_type": "slide"
      }
     },
     "source": [
      "In the previous example\n",
      "\n",
      "* The set $A$ of all the candidates is a set of **non-numerical values**\n",
      " * In this case, the variable $X$ is called a **categorical variable** or **factor**\n",
      " \n",
      " "
     ]
    },
    {
     "cell_type": "markdown",
     "metadata": {
      "slideshow": {
       "slide_type": "fragment"
      }
     },
     "source": [
      "* The set $B$ of possible ages is set of **discrete values**\n",
      " * In this case, $Y$ is called a **discrete variable**\n",
      " "
     ]
    },
    {
     "cell_type": "markdown",
     "metadata": {
      "slideshow": {
       "slide_type": "fragment"
      }
     },
     "source": [
      " \n",
      "* The set $C$ of possible weights is set of **continuous values**\n",
      " * In this case, $Z$ is called a **continuous variable**"
     ]
    },
    {
     "cell_type": "heading",
     "level": 3,
     "metadata": {
      "slideshow": {
       "slide_type": "slide"
      }
     },
     "source": [
      "Samples, Series, and Tables"
     ]
    },
    {
     "cell_type": "markdown",
     "metadata": {
      "slideshow": {
       "slide_type": "fragment"
      }
     },
     "source": [
      "Oftentimes, given \n",
      "\n",
      "* a population $\\Omega$\n",
      "\n",
      "\n",
      "* a variable $X:\\Omega \\rightarrow A$\n",
      "\n",
      "one has only access to a subset $S\\subset \\Omega$ of the population, called a **population sample**.\n",
      "\n",
      "From this sample $S$, one can construct a series of labeled data points\n",
      "\n",
      "$$S_X = \\big\\{(x_1,\\, X(x_1)),\\, (x_2,\\, X(x_2)),\\, (x_3,\\, X(x_3)),\\textrm{ etc.}\\big\\}$$\n",
      "\n",
      "which is just the **graph of the function** $X:\\Omega\\rightarrow A$ restricted to the sample $S\\subset\\Omega$, and where \n",
      "\n",
      "* the label $x_i$ corresponds to the individual $x_i$ in the population $\\Omega$\n",
      "\n",
      "\n",
      "* the value $X(x_i)\\in A$ is the actual characteristic of individual $x_i\\in \\Omega$\n",
      "\n",
      "\n",
      "**These data point series are the first building blocks of statistical analysis:**\n",
      "\n",
      "$\\longrightarrow$ In Pandas, data point series are represented by the **Series class**"
     ]
    },
    {
     "cell_type": "markdown",
     "metadata": {
      "slideshow": {
       "slide_type": "slide"
      }
     },
     "source": [
      "If one considers **many population variables** (i.e. many population characteristics), say\n",
      "\n",
      "$$X_1:\\Omega\\rightarrow A_1,\\quad X_2:\\Omega\\rightarrow A_2,\\,\\dots,\\quad X_n:\\Omega\\rightarrow A_n$$\n",
      "\n",
      "one can organize the corresponding data point series $S_1, S_2, \\dots, S_n$ into a $m\\times n$ **data table**, where \n",
      "\n",
      "* $n$ is the **number of population variables** considered\n",
      "\n",
      "\n",
      "* $m$ is the **number of individual in the sample** $S\\subset \\Omega$\n",
      "\n",
      "By convention:\n",
      "\n",
      "* the **rows** are labelled by the sample individuals: $x_1,\\,x_2,\\,\\dots,\\,x_m$ \n",
      "\n",
      "\n",
      "* the **columns** are labelled by the variable names: $X_1,\\,X_2,\\,\\dots,\\,X_n$\n",
      "\n",
      "**These data tables are the second building blocks of statistical analysis:**\n",
      "\n",
      "\n",
      "$\\longrightarrow$ In Pandas, data tables are represented by the **DataFrame class**"
     ]
    },
    {
     "cell_type": "heading",
     "level": 2,
     "metadata": {
      "slideshow": {
       "slide_type": "slide"
      }
     },
     "source": [
      "Simple data series representations and Pandas Series"
     ]
    },
    {
     "cell_type": "heading",
     "level": 3,
     "metadata": {
      "slideshow": {
       "slide_type": "fragment"
      }
     },
     "source": [
      "Simple representation for data series using dictionaries"
     ]
    },
    {
     "cell_type": "markdown",
     "metadata": {
      "slideshow": {
       "slide_type": "fragment"
      }
     },
     "source": [
      "In Python, a simple representation of a data series can be obtained by using **dictionaries**:\n",
      "\n",
      "* the **dictionary keys** correspond to the **sample individuals**\n",
      "\n",
      "\n",
      "* the **dictionary values** correspond to the **sample variable values**"
     ]
    },
    {
     "cell_type": "code",
     "collapsed": false,
     "input": [
      "# data point series corresponding to the class grades at a given exam\n",
      "grade_dic = {'Alain':12.1, 'Bertrand':15.4, 'Claude':33.8, 'Emilie':67.7}\n",
      "\n",
      "print grade_dic['Alain']"
     ],
     "language": "python",
     "metadata": {
      "slideshow": {
       "slide_type": "fragment"
      }
     },
     "outputs": [
      {
       "output_type": "stream",
       "stream": "stdout",
       "text": [
        "12.1\n"
       ]
      }
     ],
     "prompt_number": 7
    },
    {
     "cell_type": "markdown",
     "metadata": {
      "slideshow": {
       "slide_type": "slide"
      }
     },
     "source": [
      "Although this representation allows us to retrieve the student grade by name easily, using the convenient bracket notation:\n",
      "\n",
      "    Grade[name]\n",
      "\n",
      "it is not a very useful from the computational point of view, because it is difficult to compute statistics (e.g. the mean, standard deviation, etc.) with dictionaries."
     ]
    },
    {
     "cell_type": "heading",
     "level": 3,
     "metadata": {
      "slideshow": {
       "slide_type": "slide"
      }
     },
     "source": [
      "Simple representation for data series using arrays"
     ]
    },
    {
     "cell_type": "markdown",
     "metadata": {
      "slideshow": {
       "slide_type": "fragment"
      }
     },
     "source": [
      "A slightly better representation would be to use a pair with \n",
      "\n",
      "1. first element = list of labels or indices\n",
      "1. second element = Numpy array of grades (for computational facility)"
     ]
    },
    {
     "cell_type": "code",
     "collapsed": false,
     "input": [
      "data  = array([12.1, 15.4, 33.8, 67.7])\n",
      "index = ['Alain', 'Bertrand', 'Claude', 'Emilie']\n",
      "\n",
      "grade_arr = (data, index)"
     ],
     "language": "python",
     "metadata": {
      "slideshow": {
       "slide_type": "fragment"
      }
     },
     "outputs": [],
     "prompt_number": 3
    },
    {
     "cell_type": "markdown",
     "metadata": {
      "slideshow": {
       "slide_type": "fragment"
      }
     },
     "source": [
      "One can now get a feel for our data series by using\n",
      "\n",
      "$\\longrightarrow$ **Nympy array descriptive statistic methods:**\n",
      "\n",
      "    array.mean(axis)\n",
      "    array.std(axis)\n",
      "    array.max(axis)\n",
      "    array.min(axis)\n",
      "    \n",
      "where the argument\n",
      "    \n",
      "    axis\n",
      "indicates the **axis** along which to perform the computations:\n",
      "\n",
      "    axis=0 means the computation will be performed by columns\n",
      "    axis=1 means the computation will be performed by rows\n",
      "\n",
      "**Remark:** The default is the zero axis."
     ]
    },
    {
     "cell_type": "code",
     "collapsed": false,
     "input": [
      "# Class statistics\n",
      "\n",
      "print 'Class average:'            , NL, grade_arr[0].mean(), NL\n",
      "print 'Grade standard deviation:' , NL, grade_arr[0].std() , NL\n",
      "print 'Maximal grade:'            , NL, grade_arr[0].max() , NL\n",
      "print 'Minimum grade:'            , NL, grade_arr[0].min() , NL"
     ],
     "language": "python",
     "metadata": {
      "slideshow": {
       "slide_type": "fragment"
      }
     },
     "outputs": [
      {
       "output_type": "stream",
       "stream": "stdout",
       "text": [
        "Grade average: \n",
        "32.25 \n",
        "\n",
        "Grade standard deviation: \n",
        "22.0740231947 \n",
        "\n",
        "Maximal grade: \n",
        "67.7 \n",
        "\n",
        "Minimum grade: \n",
        "12.1 \n",
        "\n"
       ]
      }
     ],
     "prompt_number": 48
    },
    {
     "cell_type": "markdown",
     "metadata": {},
     "source": [
      "**Remark:** The axis issue is more visible for 2D arrays, as below:"
     ]
    },
    {
     "cell_type": "code",
     "collapsed": false,
     "input": [
      "# Example of different axis computations\n",
      "\n",
      "arr = array([1, 1, 1, 2, 2, 2, 3, 3, 3]).reshape(3,3)\n",
      "\n",
      "\n",
      "column_sum = arr.sum(axis=0)\n",
      "row_sum    = arr.sum(axis=1)\n",
      "\n",
      "print arr        , NNL\n",
      "print column_sum , NNL\n",
      "print row_sum    , NNL\n"
     ],
     "language": "python",
     "metadata": {
      "slideshow": {
       "slide_type": "fragment"
      }
     },
     "outputs": [
      {
       "output_type": "stream",
       "stream": "stdout",
       "text": [
        "[[1 1 1]\n",
        " [2 2 2]\n",
        " [3 3 3]] \n",
        "\n",
        "\n",
        "[6 6 6] \n",
        "\n",
        "\n",
        "[3 6 9] \n",
        "\n",
        "\n"
       ]
      }
     ],
     "prompt_number": 59
    },
    {
     "cell_type": "heading",
     "level": 3,
     "metadata": {
      "slideshow": {
       "slide_type": "slide"
      }
     },
     "source": [
      "Shortcomings and solutions: Pandas series"
     ]
    },
    {
     "cell_type": "markdown",
     "metadata": {
      "slideshow": {
       "slide_type": "fragment"
      }
     },
     "source": [
      "This representation has several shortcomings:\n",
      "\n",
      "1. loading and cleaning data points using this representation is cumbesome\n",
      "1. retrieving variables values from individual names is cumbersome\n",
      "1. visualizing the information with matplotlib is cumbersome\n",
      "\n",
      "**EXERCISE:** Try that!\n",
      "\n",
      "**The Pandas Series class** solves these problems, and many more...\n",
      "\n"
     ]
    },
    {
     "cell_type": "code",
     "collapsed": false,
     "input": [
      "from pandas import Series\n",
      "import pandas as pd"
     ],
     "language": "python",
     "metadata": {
      "slideshow": {
       "slide_type": "fragment"
      }
     },
     "outputs": [
      {
       "output_type": "stream",
       "stream": "stdout",
       "text": [
        "\n"
       ]
      }
     ],
     "prompt_number": 5
    },
    {
     "cell_type": "heading",
     "level": 3,
     "metadata": {
      "slideshow": {
       "slide_type": "slide"
      }
     },
     "source": [
      "Constructing Series from dictionary representation"
     ]
    },
    {
     "cell_type": "markdown",
     "metadata": {
      "slideshow": {
       "slide_type": "fragment"
      }
     },
     "source": [
      "The Series constructor can take a dictionary representing the data points.\n",
      "\n",
      "One can also name the Series by specifying a name in the <code>name</code> constructor argument.\n",
      "\n"
     ]
    },
    {
     "cell_type": "code",
     "collapsed": false,
     "input": [
      "grade_series1 = Series(grade_dic, name='Final Grades')\n",
      "print grade_series1"
     ],
     "language": "python",
     "metadata": {
      "slideshow": {
       "slide_type": "fragment"
      }
     },
     "outputs": [
      {
       "output_type": "stream",
       "stream": "stdout",
       "text": [
        "Alain       12.1\n",
        "Bertrand    15.4\n",
        "Claude      33.8\n",
        "Emilie      67.7\n",
        "Name: Final Grades, dtype: float64\n"
       ]
      }
     ],
     "prompt_number": 8
    },
    {
     "cell_type": "heading",
     "level": 3,
     "metadata": {
      "slideshow": {
       "slide_type": "slide"
      }
     },
     "source": [
      "Constructing Series from indices/array representation"
     ]
    },
    {
     "cell_type": "markdown",
     "metadata": {
      "slideshow": {
       "slide_type": "fragment"
      }
     },
     "source": [
      "The Series constructor can also take\n",
      "\n",
      "* a **list of indices/labels** passed to its <code>data</code> argument\n",
      "\n",
      "together with\n",
      "\n",
      "* a **list/array** of actual data points passed to its <code>index</code> argument"
     ]
    },
    {
     "cell_type": "code",
     "collapsed": false,
     "input": [
      "# I think it's the opposite\n",
      "grade_series2 = Series(data=grade_arr[1], index=grade_arr[0], name='Final Grade') \n",
      "\n",
      "print grade_series2"
     ],
     "language": "python",
     "metadata": {
      "slideshow": {
       "slide_type": "fragment"
      }
     },
     "outputs": [
      {
       "ename": "NameError",
       "evalue": "name 'Series' is not defined",
       "output_type": "pyerr",
       "traceback": [
        "\u001b[0;31m---------------------------------------------------------------------------\u001b[0m\n\u001b[0;31mNameError\u001b[0m                                 Traceback (most recent call last)",
        "\u001b[0;32m<ipython-input-1-1fce4a0557b6>\u001b[0m in \u001b[0;36m<module>\u001b[0;34m()\u001b[0m\n\u001b[1;32m      1\u001b[0m \u001b[0;31m# I think it's the opposite\u001b[0m\u001b[0;34m\u001b[0m\u001b[0;34m\u001b[0m\u001b[0m\n\u001b[0;32m----> 2\u001b[0;31m \u001b[0mgrade_series2\u001b[0m \u001b[0;34m=\u001b[0m \u001b[0mSeries\u001b[0m\u001b[0;34m(\u001b[0m\u001b[0mdata\u001b[0m\u001b[0;34m=\u001b[0m\u001b[0mgrade_arr\u001b[0m\u001b[0;34m[\u001b[0m\u001b[0;36m1\u001b[0m\u001b[0;34m]\u001b[0m\u001b[0;34m,\u001b[0m \u001b[0mindex\u001b[0m\u001b[0;34m=\u001b[0m\u001b[0mgrade_arr\u001b[0m\u001b[0;34m[\u001b[0m\u001b[0;36m0\u001b[0m\u001b[0;34m]\u001b[0m\u001b[0;34m,\u001b[0m \u001b[0mname\u001b[0m\u001b[0;34m=\u001b[0m\u001b[0;34m'Final Grade'\u001b[0m\u001b[0;34m)\u001b[0m\u001b[0;34m\u001b[0m\u001b[0m\n\u001b[0m\u001b[1;32m      3\u001b[0m \u001b[0;34m\u001b[0m\u001b[0m\n\u001b[1;32m      4\u001b[0m \u001b[0;32mprint\u001b[0m \u001b[0mgrade_series2\u001b[0m\u001b[0;34m.\u001b[0m\u001b[0mmean\u001b[0m\u001b[0;34m(\u001b[0m\u001b[0;34m)\u001b[0m\u001b[0;34m\u001b[0m\u001b[0m\n",
        "\u001b[0;31mNameError\u001b[0m: name 'Series' is not defined"
       ]
      }
     ],
     "prompt_number": 1
    },
    {
     "cell_type": "heading",
     "level": 3,
     "metadata": {
      "slideshow": {
       "slide_type": "slide"
      }
     },
     "source": [
      "Retrieving values and modifying values"
     ]
    },
    {
     "cell_type": "markdown",
     "metadata": {
      "slideshow": {
       "slide_type": "fragment"
      }
     },
     "source": [
      "One can **retrieve values** from a Pandas Series **the same way as from a Numpy array**.\n",
      "\n",
      "Conveniently, **one can use labels** with the bracket notation.\n",
      "\n",
      "For many purposes, a **Pandas Series behaves the same way as a Nympy array**:\n",
      "\n",
      "* slice indexing\n",
      "\n",
      "* logical indexing\n",
      "\n",
      "* vectorized computation\n",
      "\n",
      "* arithmetic component-wise operations\n",
      "\n",
      "\n"
     ]
    },
    {
     "cell_type": "code",
     "collapsed": false,
     "input": [
      "print grade_series1"
     ],
     "language": "python",
     "metadata": {
      "slideshow": {
       "slide_type": "slide"
      }
     },
     "outputs": [
      {
       "output_type": "stream",
       "stream": "stdout",
       "text": [
        "Alain       12.1\n",
        "Bertrand    15.4\n",
        "Claude      33.8\n",
        "Emilie      67.7\n",
        "Name: Final Grades, dtype: float64\n"
       ]
      }
     ],
     "prompt_number": 8
    },
    {
     "cell_type": "code",
     "collapsed": false,
     "input": [
      "print grade_series1[['Alain', 'Claude']], NNL\n",
      "\n",
      "print grade_series1[1:3], NNL\n",
      "\n",
      "# fancy indexing: setting Alain and Claude grades to zero\n",
      "grade_series1[['Alain', 'Claude']] = 0\n",
      "\n",
      "print grade_series1"
     ],
     "language": "python",
     "metadata": {
      "slideshow": {
       "slide_type": "fragment"
      }
     },
     "outputs": [
      {
       "output_type": "stream",
       "stream": "stdout",
       "text": [
        "Alain     12.1\n",
        "Claude    33.8\n",
        "Name: Final Grades, dtype: float64 \n",
        "\n",
        "\n",
        "Bertrand    15.4\n",
        "Claude      33.8\n",
        "Name: Final Grades, dtype: float64 \n",
        "\n",
        "\n",
        "Alain        0.0\n",
        "Bertrand    15.4\n",
        "Claude       0.0\n",
        "Emilie      67.7\n",
        "Name: Final Grades, dtype: float64\n"
       ]
      }
     ],
     "prompt_number": 9
    },
    {
     "cell_type": "heading",
     "level": 2,
     "metadata": {
      "slideshow": {
       "slide_type": "slide"
      }
     },
     "source": [
      "Simple data table representations and Pandas DataFrames"
     ]
    },
    {
     "cell_type": "heading",
     "level": 3,
     "metadata": {
      "slideshow": {
       "slide_type": "fragment"
      }
     },
     "source": [
      "Simple representation for data tables using dictionaries"
     ]
    },
    {
     "cell_type": "markdown",
     "metadata": {
      "slideshow": {
       "slide_type": "fragment"
      }
     },
     "source": [
      "In Python, a simple representation of a **data table** can be obtained by using\n",
      "**a dictionary of dictionaries**.\n",
      "\n",
      "Suppose the population $\\Omega$ has $n$ individuals:  $\\quad\\Omega = \\{\\omega_1,\\, \\omega_2,\\dots,\\,\\omega_n\\}$\n",
      "\n",
      "\n",
      "and that we are interested in 3 population variables:\n",
      "\n",
      "\n",
      "$$\\qquad\\qquad X:\\Omega\\rightarrow A,\\quad Y:\\Omega:\\rightarrow B,\\quad\\textrm{and} \\quad Z:\\Omega\\rightarrow C$$\n",
      "\n",
      "Now we can represent the corresponding data table with Python dictionaries as follows:\n",
      "\n",
      "$$ \n",
      "\\bigg\\{\\\\\n",
      "\\qquad X:\\Big\\{\\omega_1:X(\\omega_1)\\,,\\quad \\omega_2:X(\\omega_2)\\,,\\quad \\omega_3:X(\\omega_3)\\Big\\}\\,,\\quad \\\\\n",
      "\\qquad Y:\\Big\\{\\omega_1:Y(\\omega_1)\\,,\\quad \\omega_2:Y(\\omega_2)\\,,\\quad \\omega_3:Y(\\omega_3)\\Big\\}\\,,\\quad \\\\\n",
      "\\qquad Z:\\Big\\{\\omega_1:Z(\\omega_1)\\,,\\quad \\omega_2:Z(\\omega_2)\\,,\\quad \\omega_3:Z(\\omega_3)\\Big\\}\\,,\\quad \\\\\n",
      "\\bigg\\}\n",
      "$$\n",
      "\n",
      "* the **keys**, $X$, $Y$, and $Z$ from the **first dictionary** correspond to the **variable labels**\n",
      "\n",
      "\n",
      "* the **keys**, $\\omega_1$, $\\omega_2$, ..., $\\omega_3$ of the **second dictionary** corresponding to the **individual labels**\n",
      "\n",
      "\n",
      "* the **values** of the **first dictionary** corresponding to the data table columns\n",
      "\n",
      "\n",
      "* the **values** of the **second dictionary** corresponding to the **variable values**"
     ]
    },
    {
     "cell_type": "code",
     "collapsed": false,
     "input": [
      "data_table_dic =                                         \\\n",
      "{                                                        \\\n",
      " 'FI':{'Abigail':10.3, 'Bertrand':23.4, 'Claude':44.3},  \\\n",
      " 'MI':{'Abigail':44.2, 'Bertrand':89.2, 'Claude':69.4},  \\\n",
      " 'HW':{'Abigail':84.2, 'Bertrand':80.3, 'Claude':22.8}\n",
      "}\n",
      "\n",
      "\n",
      "print data_table_dic['FI']['Bertrand']"
     ],
     "language": "python",
     "metadata": {
      "slideshow": {
       "slide_type": "slide"
      }
     },
     "outputs": [
      {
       "output_type": "stream",
       "stream": "stdout",
       "text": [
        "23.4\n"
       ]
      }
     ],
     "prompt_number": 50
    },
    {
     "cell_type": "markdown",
     "metadata": {
      "slideshow": {
       "slide_type": "fragment"
      }
     },
     "source": [
      "The problems with this representation are the same as with the dictionary representation for data point series:\n",
      "\n",
      "#### $\\longrightarrow$ It's hard to compute anything with dictionaries"
     ]
    },
    {
     "cell_type": "heading",
     "level": 3,
     "metadata": {
      "slideshow": {
       "slide_type": "slide"
      }
     },
     "source": [
      "Simple representation for data tables using arrays"
     ]
    },
    {
     "cell_type": "markdown",
     "metadata": {
      "slideshow": {
       "slide_type": "fragment"
      }
     },
     "source": [
      "A better representation would be to have\n",
      "\n",
      "* the **variable values** stored in a **Numpy array**\n",
      "\n",
      "\n",
      "* the **individual names** (i.e. row labels) stored in a **list**\n",
      "\n",
      "\n",
      "* the **variable names** (i.e. column labels) stored in a **list**\n",
      "\n",
      "and to package the whole into a tuple of 3 elements."
     ]
    },
    {
     "cell_type": "code",
     "collapsed": false,
     "input": [
      "data = array([10.3, 84.2, 44.2, 23.4, 80.3, 89.2, 44.3, 22.8, 69.4]).reshape(3,3)\n",
      "individual_names = ['Abigail', 'Bertrand', 'Claude']\n",
      "variable_names = ['FI', 'MI', 'HW']\n",
      "\n",
      "data_table_arr = (data, individual_names, variable_names)"
     ],
     "language": "python",
     "metadata": {
      "slideshow": {
       "slide_type": "slide"
      }
     },
     "outputs": [],
     "prompt_number": 11
    },
    {
     "cell_type": "markdown",
     "metadata": {
      "slideshow": {
       "slide_type": "fragment"
      }
     },
     "source": [
      "It's easy now to compute basic stats for the class, for instance \n",
      "\n",
      "* the students class grades  = array mean along the 0th axis\n",
      "\n",
      "\n",
      "* the class average for each exams = array mean along the 1st axis"
     ]
    },
    {
     "cell_type": "code",
     "collapsed": false,
     "input": [
      "student_grades = data_table_arr[0].mean(axis=1)  # row mean\n",
      "exam_mean      = data_table_arr[0].mean(axis=0)  # column mean\n",
      "\n",
      "i = 0\n",
      "for student in data_table_arr[1]:\n",
      "    print \"%-8s : %-5.2f\" % (student, student_grades[i])\n",
      "    i += 1\n",
      "\n",
      "print NL\n",
      "\n",
      "i = 0    \n",
      "for exam in data_table_arr[2]:\n",
      "    print \"%-3s average: %-5.2f\" % (exam, exam_mean[i])\n",
      "    i += 1"
     ],
     "language": "python",
     "metadata": {
      "slideshow": {
       "slide_type": "slide"
      }
     },
     "outputs": [
      {
       "output_type": "stream",
       "stream": "stdout",
       "text": [
        "Abigail  : 46.23\n",
        "Bertrand : 64.30\n",
        "Claude   : 45.50\n",
        "\n",
        "\n",
        "FI  average: 26.00\n",
        "MI  average: 62.43\n",
        "HW  average: 67.60\n"
       ]
      }
     ],
     "prompt_number": 60
    },
    {
     "cell_type": "markdown",
     "metadata": {
      "slideshow": {
       "slide_type": "slide"
      }
     },
     "source": [
      "As before, accessing the data and visualizing it is cumbersome with this representation.\n",
      "\n",
      "####SOLUTION = Pandas DataFrames!!!!\n",
      "\n",
      "Let's import this class:"
     ]
    },
    {
     "cell_type": "code",
     "collapsed": false,
     "input": [
      "from pandas import DataFrame"
     ],
     "language": "python",
     "metadata": {
      "slideshow": {
       "slide_type": "fragment"
      }
     },
     "outputs": [],
     "prompt_number": 13
    },
    {
     "cell_type": "heading",
     "level": 3,
     "metadata": {
      "slideshow": {
       "slide_type": "slide"
      }
     },
     "source": [
      "Constructing DataFrames from dictionary representation"
     ]
    },
    {
     "cell_type": "markdown",
     "metadata": {
      "slideshow": {
       "slide_type": "fragment"
      }
     },
     "source": [
      "We can feed the DataFrame constructor directly with a dictionary representation of our data table through its\n",
      "\n",
      "    data=\n",
      "argument, which, by default, is the first one.\n",
      "\n",
      "Since the dictionary representation contains all the necessary information to construct a complete data table, \n",
      "we don't need to pass anything else.\n"
     ]
    },
    {
     "cell_type": "code",
     "collapsed": false,
     "input": [
      "data_table = DataFrame(data_table_dic)\n",
      "\n",
      "# Evaluating a DataFrame prints a prettyfied representation of the data\n",
      "data_table"
     ],
     "language": "python",
     "metadata": {
      "slideshow": {
       "slide_type": "fragment"
      }
     },
     "outputs": [
      {
       "html": [
        "<div style=\"max-height:1000px;max-width:1500px;overflow:auto;\">\n",
        "<table border=\"1\" class=\"dataframe\">\n",
        "  <thead>\n",
        "    <tr style=\"text-align: right;\">\n",
        "      <th></th>\n",
        "      <th>FI</th>\n",
        "      <th>HW</th>\n",
        "      <th>MI</th>\n",
        "    </tr>\n",
        "  </thead>\n",
        "  <tbody>\n",
        "    <tr>\n",
        "      <th>Abigail</th>\n",
        "      <td> 10.3</td>\n",
        "      <td> 84.2</td>\n",
        "      <td> 44.2</td>\n",
        "    </tr>\n",
        "    <tr>\n",
        "      <th>Bertrand</th>\n",
        "      <td> 23.4</td>\n",
        "      <td> 80.3</td>\n",
        "      <td> 89.2</td>\n",
        "    </tr>\n",
        "    <tr>\n",
        "      <th>Claude</th>\n",
        "      <td> 44.3</td>\n",
        "      <td> 22.8</td>\n",
        "      <td> 69.4</td>\n",
        "    </tr>\n",
        "  </tbody>\n",
        "</table>\n",
        "</div>"
       ],
       "metadata": {},
       "output_type": "pyout",
       "prompt_number": 52,
       "text": [
        "            FI    HW    MI\n",
        "Abigail   10.3  84.2  44.2\n",
        "Bertrand  23.4  80.3  89.2\n",
        "Claude    44.3  22.8  69.4"
       ]
      }
     ],
     "prompt_number": 52
    },
    {
     "cell_type": "heading",
     "level": 3,
     "metadata": {
      "slideshow": {
       "slide_type": "slide"
      }
     },
     "source": [
      "Constructing DataFrames from array/lists representation"
     ]
    },
    {
     "cell_type": "markdown",
     "metadata": {
      "slideshow": {
       "slide_type": "fragment"
      }
     },
     "source": [
      "Consider the array/lists representation of our grade data table from before:"
     ]
    },
    {
     "cell_type": "code",
     "collapsed": false,
     "input": [
      "print data_table_arr"
     ],
     "language": "python",
     "metadata": {
      "slideshow": {
       "slide_type": "fragment"
      }
     },
     "outputs": [
      {
       "output_type": "stream",
       "stream": "stdout",
       "text": [
        "(array([[ 10.3,  84.2,  44.2],\n",
        "       [ 23.4,  80.3,  89.2],\n",
        "       [ 44.3,  22.8,  69.4]]), ['Abigail', 'Bertrand', 'Claude'], ['FI', 'MI', 'HW'])\n"
       ]
      }
     ],
     "prompt_number": 15
    },
    {
     "cell_type": "markdown",
     "metadata": {
      "slideshow": {
       "slide_type": "fragment"
      }
     },
     "source": [
      "Let us retrieve from it:\n",
      "\n",
      "1. the grade values (i.e. the variable values, also refered to as the actual **data**)\n",
      "1. the student names (i.e. the row labels, also called **index** in Panda)\n",
      "1. the exam names (i.e. the variable names, or column names)\n",
      "\n"
     ]
    },
    {
     "cell_type": "code",
     "collapsed": false,
     "input": [
      "grades        = data_table_arr[0]         \n",
      "student_names = data_table_arr[1]    \n",
      "exam_names    = data_table_arr[2] "
     ],
     "language": "python",
     "metadata": {
      "slideshow": {
       "slide_type": "slide"
      }
     },
     "outputs": [],
     "prompt_number": 61
    },
    {
     "cell_type": "markdown",
     "metadata": {
      "slideshow": {
       "slide_type": "fragment"
      }
     },
     "source": [
      "The DataFrame constructor allows us to pass the three pieces of information making a data table separately through the\n",
      "\n",
      "    data=, index=, columns=\n",
      "    \n",
      "arguments."
     ]
    },
    {
     "cell_type": "code",
     "collapsed": false,
     "input": [
      "data_table = DataFrame(data=grades, index=student_names, columns=exam_names)\n",
      "\n",
      "print data_table"
     ],
     "language": "python",
     "metadata": {
      "slideshow": {
       "slide_type": "fragment"
      }
     },
     "outputs": [
      {
       "output_type": "stream",
       "stream": "stdout",
       "text": [
        "            FI    MI    HW\n",
        "Abigail   10.3  84.2  44.2\n",
        "Bertrand  23.4  80.3  89.2\n",
        "Claude    44.3  22.8  69.4\n"
       ]
      }
     ],
     "prompt_number": 17
    },
    {
     "cell_type": "heading",
     "level": 3,
     "metadata": {
      "slideshow": {
       "slide_type": "slide"
      }
     },
     "source": [
      "Constructing DataFrames from data files"
     ]
    },
    {
     "cell_type": "markdown",
     "metadata": {
      "slideshow": {
       "slide_type": "fragment"
      }
     },
     "source": [
      "Suppose we have a data point series located at the following url:\n",
      "    "
     ]
    },
    {
     "cell_type": "code",
     "collapsed": false,
     "input": [
      "url = 'https://dl.dropboxusercontent.com/u/48599099/Stat133/data/ALL_GRADES.csv'"
     ],
     "language": "python",
     "metadata": {
      "slideshow": {
       "slide_type": "fragment"
      }
     },
     "outputs": [],
     "prompt_number": 18
    },
    {
     "cell_type": "markdown",
     "metadata": {
      "slideshow": {
       "slide_type": "fragment"
      }
     },
     "source": [
      "Let's have a quick look at what it contains using a one-liner Bash command:"
     ]
    },
    {
     "cell_type": "code",
     "collapsed": false,
     "input": [
      "!curl $url 2> /dev/null | head -4"
     ],
     "language": "python",
     "metadata": {
      "slideshow": {
       "slide_type": "fragment"
      }
     },
     "outputs": [
      {
       "output_type": "stream",
       "stream": "stdout",
       "text": [
        "Student,F,HW1,HW2,HW3,HW4,HW5,HW6,HW7,HW8,HW9,HW10,HW11,THW,M1,M2,TG,LG\r\n",
        "0108_Student,10.5,10,9,9,10,10,4,10,6,9,0,7,8.88,8,9\r\n",
        "0154_Student,16,10,9,9,10,10,10,10,10,10,10,10,10,9,8\r\n",
        "0161_Student,13.5,8,9,8,10,10,10,10,10,9,10,9,9.66,10,9\r\n"
       ]
      }
     ],
     "prompt_number": 19
    },
    {
     "cell_type": "code",
     "collapsed": false,
     "input": [],
     "language": "python",
     "metadata": {},
     "outputs": []
    },
    {
     "cell_type": "markdown",
     "metadata": {
      "slideshow": {
       "slide_type": "slide"
      }
     },
     "source": [
      "Pandas offers **many functions for loading data contained in files into DataFrames**, accomodating many **file formats**:\n",
      "\n",
      "\n",
      "    pd.read_table   # data table: the separator needs to be specified\n",
      "    pd.read_csv     # data table with commas as separators\n",
      "    pd.read_excel   # excel spread sheets\n",
      "    pd.read_html    # html files\n",
      "    \n",
      "The actual **file location** is **the first argument**, and can be either \n",
      "\n",
      "* a **path** on the local file system\n",
      "\n",
      "\n",
      "* a **URL** on the internet     "
     ]
    },
    {
     "cell_type": "markdown",
     "metadata": {
      "slideshow": {
       "slide_type": "slide"
      }
     },
     "source": [
      "Let us load our comma separated value file (csv) into a DataFrame.\n",
      "\n",
      "By default, \n",
      "\n",
      "    pd.read_csv\n",
      "will \n",
      "\n",
      "* **detect the file header** (i.e. first line with column names)\n",
      "\n",
      "\n",
      "* **use these headear for the column names**\n",
      "\n",
      "However, we need to tell to the method **what column to use for the index** using the\n",
      "\n",
      "    index_col=\n",
      "argument of its constructor.\n"
     ]
    },
    {
     "cell_type": "code",
     "collapsed": false,
     "input": [
      "grade_table = pd.read_csv(url, index_col=0)"
     ],
     "language": "python",
     "metadata": {
      "slideshow": {
       "slide_type": "slide"
      }
     },
     "outputs": [
      {
       "html": [
        "<div style=\"max-height:1000px;max-width:1500px;overflow:auto;\">\n",
        "<table border=\"1\" class=\"dataframe\">\n",
        "  <thead>\n",
        "    <tr style=\"text-align: right;\">\n",
        "      <th></th>\n",
        "      <th>F</th>\n",
        "      <th>HW1</th>\n",
        "      <th>HW2</th>\n",
        "      <th>HW3</th>\n",
        "      <th>HW4</th>\n",
        "      <th>HW5</th>\n",
        "      <th>HW6</th>\n",
        "      <th>HW7</th>\n",
        "      <th>HW8</th>\n",
        "      <th>HW9</th>\n",
        "      <th>HW10</th>\n",
        "      <th>HW11</th>\n",
        "      <th>THW</th>\n",
        "      <th>M1</th>\n",
        "      <th>M2</th>\n",
        "      <th>TG</th>\n",
        "      <th>LG</th>\n",
        "    </tr>\n",
        "    <tr>\n",
        "      <th>Student</th>\n",
        "      <th></th>\n",
        "      <th></th>\n",
        "      <th></th>\n",
        "      <th></th>\n",
        "      <th></th>\n",
        "      <th></th>\n",
        "      <th></th>\n",
        "      <th></th>\n",
        "      <th></th>\n",
        "      <th></th>\n",
        "      <th></th>\n",
        "      <th></th>\n",
        "      <th></th>\n",
        "      <th></th>\n",
        "      <th></th>\n",
        "      <th></th>\n",
        "      <th></th>\n",
        "    </tr>\n",
        "  </thead>\n",
        "  <tbody>\n",
        "    <tr>\n",
        "      <th>0108_Student</th>\n",
        "      <td> 10.5</td>\n",
        "      <td> 10</td>\n",
        "      <td> 9</td>\n",
        "      <td>  9</td>\n",
        "      <td> 10</td>\n",
        "      <td> 10</td>\n",
        "      <td>  4</td>\n",
        "      <td> 10</td>\n",
        "      <td>  6</td>\n",
        "      <td>  9</td>\n",
        "      <td>  0</td>\n",
        "      <td>  7</td>\n",
        "      <td>  8.88</td>\n",
        "      <td>  8</td>\n",
        "      <td>  9</td>\n",
        "      <td>NaN</td>\n",
        "      <td>NaN</td>\n",
        "    </tr>\n",
        "    <tr>\n",
        "      <th>0154_Student</th>\n",
        "      <td> 16.0</td>\n",
        "      <td> 10</td>\n",
        "      <td> 9</td>\n",
        "      <td>  9</td>\n",
        "      <td> 10</td>\n",
        "      <td> 10</td>\n",
        "      <td> 10</td>\n",
        "      <td> 10</td>\n",
        "      <td> 10</td>\n",
        "      <td> 10</td>\n",
        "      <td> 10</td>\n",
        "      <td> 10</td>\n",
        "      <td> 10.00</td>\n",
        "      <td>  9</td>\n",
        "      <td>  8</td>\n",
        "      <td>NaN</td>\n",
        "      <td>NaN</td>\n",
        "    </tr>\n",
        "    <tr>\n",
        "      <th>0161_Student</th>\n",
        "      <td> 13.5</td>\n",
        "      <td>  8</td>\n",
        "      <td> 9</td>\n",
        "      <td>  8</td>\n",
        "      <td> 10</td>\n",
        "      <td> 10</td>\n",
        "      <td> 10</td>\n",
        "      <td> 10</td>\n",
        "      <td> 10</td>\n",
        "      <td>  9</td>\n",
        "      <td> 10</td>\n",
        "      <td>  9</td>\n",
        "      <td>  9.66</td>\n",
        "      <td> 10</td>\n",
        "      <td>  9</td>\n",
        "      <td>NaN</td>\n",
        "      <td>NaN</td>\n",
        "    </tr>\n",
        "    <tr>\n",
        "      <th>0233_Student</th>\n",
        "      <td> 14.5</td>\n",
        "      <td> 10</td>\n",
        "      <td> 8</td>\n",
        "      <td> 10</td>\n",
        "      <td> 10</td>\n",
        "      <td>  8</td>\n",
        "      <td> 10</td>\n",
        "      <td> 10</td>\n",
        "      <td> 10</td>\n",
        "      <td> 10</td>\n",
        "      <td> 15</td>\n",
        "      <td> 10</td>\n",
        "      <td> 10.56</td>\n",
        "      <td>  9</td>\n",
        "      <td>  8</td>\n",
        "      <td>NaN</td>\n",
        "      <td>NaN</td>\n",
        "    </tr>\n",
        "    <tr>\n",
        "      <th>0310_Student</th>\n",
        "      <td> 20.0</td>\n",
        "      <td> 10</td>\n",
        "      <td> 9</td>\n",
        "      <td>  8</td>\n",
        "      <td>  8</td>\n",
        "      <td> 10</td>\n",
        "      <td>  8</td>\n",
        "      <td> 10</td>\n",
        "      <td> 10</td>\n",
        "      <td>  9</td>\n",
        "      <td> 10</td>\n",
        "      <td>  6</td>\n",
        "      <td>  9.33</td>\n",
        "      <td>  8</td>\n",
        "      <td> 10</td>\n",
        "      <td>NaN</td>\n",
        "      <td>NaN</td>\n",
        "    </tr>\n",
        "  </tbody>\n",
        "</table>\n",
        "</div>"
       ],
       "metadata": {},
       "output_type": "pyout",
       "prompt_number": 20,
       "text": [
        "                 F  HW1  HW2  HW3  HW4  HW5  HW6  HW7  HW8  HW9  HW10  HW11  \\\n",
        "Student                                                                       \n",
        "0108_Student  10.5   10    9    9   10   10    4   10    6    9     0     7   \n",
        "0154_Student  16.0   10    9    9   10   10   10   10   10   10    10    10   \n",
        "0161_Student  13.5    8    9    8   10   10   10   10   10    9    10     9   \n",
        "0233_Student  14.5   10    8   10   10    8   10   10   10   10    15    10   \n",
        "0310_Student  20.0   10    9    8    8   10    8   10   10    9    10     6   \n",
        "\n",
        "                THW  M1  M2  TG  LG  \n",
        "Student                              \n",
        "0108_Student   8.88   8   9 NaN NaN  \n",
        "0154_Student  10.00   9   8 NaN NaN  \n",
        "0161_Student   9.66  10   9 NaN NaN  \n",
        "0233_Student  10.56   9   8 NaN NaN  \n",
        "0310_Student   9.33   8  10 NaN NaN  "
       ]
      }
     ],
     "prompt_number": 20
    },
    {
     "cell_type": "heading",
     "level": 3,
     "metadata": {
      "slideshow": {
       "slide_type": "slide"
      }
     },
     "source": [
      "Handling missing data: NaN"
     ]
    },
    {
     "cell_type": "markdown",
     "metadata": {
      "slideshow": {
       "slide_type": "fragment"
      }
     },
     "source": [
      "In our previous DataFrame of grades"
     ]
    },
    {
     "cell_type": "code",
     "collapsed": false,
     "input": [
      "grade_table.head()"
     ],
     "language": "python",
     "metadata": {
      "slideshow": {
       "slide_type": "fragment"
      }
     },
     "outputs": [
      {
       "html": [
        "<div style=\"max-height:1000px;max-width:1500px;overflow:auto;\">\n",
        "<table border=\"1\" class=\"dataframe\">\n",
        "  <thead>\n",
        "    <tr style=\"text-align: right;\">\n",
        "      <th></th>\n",
        "      <th>F</th>\n",
        "      <th>HW1</th>\n",
        "      <th>HW2</th>\n",
        "      <th>HW3</th>\n",
        "      <th>HW4</th>\n",
        "      <th>HW5</th>\n",
        "      <th>HW6</th>\n",
        "      <th>HW7</th>\n",
        "      <th>HW8</th>\n",
        "      <th>HW9</th>\n",
        "      <th>HW10</th>\n",
        "      <th>HW11</th>\n",
        "      <th>THW</th>\n",
        "      <th>M1</th>\n",
        "      <th>M2</th>\n",
        "      <th>TG</th>\n",
        "      <th>LG</th>\n",
        "    </tr>\n",
        "    <tr>\n",
        "      <th>Student</th>\n",
        "      <th></th>\n",
        "      <th></th>\n",
        "      <th></th>\n",
        "      <th></th>\n",
        "      <th></th>\n",
        "      <th></th>\n",
        "      <th></th>\n",
        "      <th></th>\n",
        "      <th></th>\n",
        "      <th></th>\n",
        "      <th></th>\n",
        "      <th></th>\n",
        "      <th></th>\n",
        "      <th></th>\n",
        "      <th></th>\n",
        "      <th></th>\n",
        "      <th></th>\n",
        "    </tr>\n",
        "  </thead>\n",
        "  <tbody>\n",
        "    <tr>\n",
        "      <th>0108_Student</th>\n",
        "      <td> 10.5</td>\n",
        "      <td> 10</td>\n",
        "      <td> 9</td>\n",
        "      <td>  9</td>\n",
        "      <td> 10</td>\n",
        "      <td> 10</td>\n",
        "      <td>  4</td>\n",
        "      <td> 10</td>\n",
        "      <td>  6</td>\n",
        "      <td>  9</td>\n",
        "      <td>  0</td>\n",
        "      <td>  7</td>\n",
        "      <td>  8.88</td>\n",
        "      <td>  8</td>\n",
        "      <td>  9</td>\n",
        "      <td>NaN</td>\n",
        "      <td>NaN</td>\n",
        "    </tr>\n",
        "    <tr>\n",
        "      <th>0154_Student</th>\n",
        "      <td> 16.0</td>\n",
        "      <td> 10</td>\n",
        "      <td> 9</td>\n",
        "      <td>  9</td>\n",
        "      <td> 10</td>\n",
        "      <td> 10</td>\n",
        "      <td> 10</td>\n",
        "      <td> 10</td>\n",
        "      <td> 10</td>\n",
        "      <td> 10</td>\n",
        "      <td> 10</td>\n",
        "      <td> 10</td>\n",
        "      <td> 10.00</td>\n",
        "      <td>  9</td>\n",
        "      <td>  8</td>\n",
        "      <td>NaN</td>\n",
        "      <td>NaN</td>\n",
        "    </tr>\n",
        "    <tr>\n",
        "      <th>0161_Student</th>\n",
        "      <td> 13.5</td>\n",
        "      <td>  8</td>\n",
        "      <td> 9</td>\n",
        "      <td>  8</td>\n",
        "      <td> 10</td>\n",
        "      <td> 10</td>\n",
        "      <td> 10</td>\n",
        "      <td> 10</td>\n",
        "      <td> 10</td>\n",
        "      <td>  9</td>\n",
        "      <td> 10</td>\n",
        "      <td>  9</td>\n",
        "      <td>  9.66</td>\n",
        "      <td> 10</td>\n",
        "      <td>  9</td>\n",
        "      <td>NaN</td>\n",
        "      <td>NaN</td>\n",
        "    </tr>\n",
        "    <tr>\n",
        "      <th>0233_Student</th>\n",
        "      <td> 14.5</td>\n",
        "      <td> 10</td>\n",
        "      <td> 8</td>\n",
        "      <td> 10</td>\n",
        "      <td> 10</td>\n",
        "      <td>  8</td>\n",
        "      <td> 10</td>\n",
        "      <td> 10</td>\n",
        "      <td> 10</td>\n",
        "      <td> 10</td>\n",
        "      <td> 15</td>\n",
        "      <td> 10</td>\n",
        "      <td> 10.56</td>\n",
        "      <td>  9</td>\n",
        "      <td>  8</td>\n",
        "      <td>NaN</td>\n",
        "      <td>NaN</td>\n",
        "    </tr>\n",
        "    <tr>\n",
        "      <th>0310_Student</th>\n",
        "      <td> 20.0</td>\n",
        "      <td> 10</td>\n",
        "      <td> 9</td>\n",
        "      <td>  8</td>\n",
        "      <td>  8</td>\n",
        "      <td> 10</td>\n",
        "      <td>  8</td>\n",
        "      <td> 10</td>\n",
        "      <td> 10</td>\n",
        "      <td>  9</td>\n",
        "      <td> 10</td>\n",
        "      <td>  6</td>\n",
        "      <td>  9.33</td>\n",
        "      <td>  8</td>\n",
        "      <td> 10</td>\n",
        "      <td>NaN</td>\n",
        "      <td>NaN</td>\n",
        "    </tr>\n",
        "  </tbody>\n",
        "</table>\n",
        "</div>"
       ],
       "metadata": {},
       "output_type": "pyout",
       "prompt_number": 23,
       "text": [
        "                 F  HW1  HW2  HW3  HW4  HW5  HW6  HW7  HW8  HW9  HW10  HW11  \\\n",
        "Student                                                                       \n",
        "0108_Student  10.5   10    9    9   10   10    4   10    6    9     0     7   \n",
        "0154_Student  16.0   10    9    9   10   10   10   10   10   10    10    10   \n",
        "0161_Student  13.5    8    9    8   10   10   10   10   10    9    10     9   \n",
        "0233_Student  14.5   10    8   10   10    8   10   10   10   10    15    10   \n",
        "0310_Student  20.0   10    9    8    8   10    8   10   10    9    10     6   \n",
        "\n",
        "                THW  M1  M2  TG  LG  \n",
        "Student                              \n",
        "0108_Student   8.88   8   9 NaN NaN  \n",
        "0154_Student  10.00   9   8 NaN NaN  \n",
        "0161_Student   9.66  10   9 NaN NaN  \n",
        "0233_Student  10.56   9   8 NaN NaN  \n",
        "0310_Student   9.33   8  10 NaN NaN  "
       ]
      }
     ],
     "prompt_number": 23
    },
    {
     "cell_type": "markdown",
     "metadata": {
      "slideshow": {
       "slide_type": "fragment"
      }
     },
     "source": [
      "we observe that the last two columns have the special value **NaN**.\n",
      "\n",
      "They correspond to\n",
      "\n",
      "    missing values\n",
      "\n",
      "in the original file.\n",
      "\n",
      "<code>DataFrame</code> uses the Numpy constant\n",
      "\n",
      "    np.nan \n",
      "    \n",
      "to represent missing values. \n",
      "\n",
      "This is convenient for several reasons:\n",
      "\n"
     ]
    },
    {
     "cell_type": "heading",
     "level": 4,
     "metadata": {
      "slideshow": {
       "slide_type": "slide"
      }
     },
     "source": [
      "NaN values are ignored during computations"
     ]
    },
    {
     "cell_type": "markdown",
     "metadata": {
      "slideshow": {
       "slide_type": "fragment"
      }
     },
     "source": [
      "This way the program do not crash while performing a computation when encoutering a missing values (provided this missing value is represented by \n",
      "<code>np.naa</code>).\n",
      "\n",
      "This behavior may not be always what you want tough, as below:"
     ]
    },
    {
     "cell_type": "code",
     "collapsed": false,
     "input": [
      "from numpy import nan as NA  # Here it would be better to define NoShow as the grade 0!!!\n",
      "\n",
      "grade_data = {                                             \\\n",
      "              'FI':{'Agnes':NA, 'Sophie':3  , 'Etienne':3},  \\\n",
      "              'MI':{'Agnes':4 , 'Sophie':NA , 'Etienne':23}  \\\n",
      "             }\n",
      "\n",
      "grades = DataFrame(grade_data)\n",
      "\n",
      "# We compute the student grades by averaging along the first axis (i.e. rows)\n",
      "print grades.mean(axis=1), '\\n'\n",
      "\n",
      "# We see that the missing values are simply disgarded by mean().\n",
      "# It's not what we want though for a no-show at the exam, is it?\n",
      "grades"
     ],
     "language": "python",
     "metadata": {
      "slideshow": {
       "slide_type": "fragment"
      }
     },
     "outputs": [
      {
       "output_type": "stream",
       "stream": "stdout",
       "text": [
        "Agnes       4\n",
        "Etienne    13\n",
        "Sophie      3\n",
        "dtype: float64 \n",
        "\n"
       ]
      },
      {
       "html": [
        "<div style=\"max-height:1000px;max-width:1500px;overflow:auto;\">\n",
        "<table border=\"1\" class=\"dataframe\">\n",
        "  <thead>\n",
        "    <tr style=\"text-align: right;\">\n",
        "      <th></th>\n",
        "      <th>FI</th>\n",
        "      <th>MI</th>\n",
        "    </tr>\n",
        "  </thead>\n",
        "  <tbody>\n",
        "    <tr>\n",
        "      <th>Agnes</th>\n",
        "      <td>NaN</td>\n",
        "      <td>  4</td>\n",
        "    </tr>\n",
        "    <tr>\n",
        "      <th>Etienne</th>\n",
        "      <td>  3</td>\n",
        "      <td> 23</td>\n",
        "    </tr>\n",
        "    <tr>\n",
        "      <th>Sophie</th>\n",
        "      <td>  3</td>\n",
        "      <td>NaN</td>\n",
        "    </tr>\n",
        "  </tbody>\n",
        "</table>\n",
        "</div>"
       ],
       "metadata": {},
       "output_type": "pyout",
       "prompt_number": 28,
       "text": [
        "         FI  MI\n",
        "Agnes   NaN   4\n",
        "Etienne   3  23\n",
        "Sophie    3 NaN"
       ]
      }
     ],
     "prompt_number": 28
    },
    {
     "cell_type": "heading",
     "level": 4,
     "metadata": {
      "slideshow": {
       "slide_type": "slide"
      }
     },
     "source": [
      "2. It makes it easy to remove or fill in missing data"
     ]
    },
    {
     "cell_type": "markdown",
     "metadata": {
      "slideshow": {
       "slide_type": "fragment"
      }
     },
     "source": [
      "Remove rows or columns with missing data with\n",
      "\n",
      "    DataFrame.dropna(axis)\n",
      "\n",
      "Fill missing data with a given value with\n",
      "\n",
      "    DataFrame.fillna(value)"
     ]
    },
    {
     "cell_type": "code",
     "collapsed": false,
     "input": [
      "data  = array([float(x) for x in range(25)]).reshape(5, 5)\n",
      "frame = DataFrame(data)\n",
      "frame"
     ],
     "language": "python",
     "metadata": {
      "slideshow": {
       "slide_type": "fragment"
      }
     },
     "outputs": [
      {
       "html": [
        "<div style=\"max-height:1000px;max-width:1500px;overflow:auto;\">\n",
        "<table border=\"1\" class=\"dataframe\">\n",
        "  <thead>\n",
        "    <tr style=\"text-align: right;\">\n",
        "      <th></th>\n",
        "      <th>0</th>\n",
        "      <th>1</th>\n",
        "      <th>2</th>\n",
        "      <th>3</th>\n",
        "      <th>4</th>\n",
        "    </tr>\n",
        "  </thead>\n",
        "  <tbody>\n",
        "    <tr>\n",
        "      <th>0</th>\n",
        "      <td>  0</td>\n",
        "      <td>  1</td>\n",
        "      <td>  2</td>\n",
        "      <td>  3</td>\n",
        "      <td>  4</td>\n",
        "    </tr>\n",
        "    <tr>\n",
        "      <th>1</th>\n",
        "      <td>  5</td>\n",
        "      <td>  6</td>\n",
        "      <td>  7</td>\n",
        "      <td>  8</td>\n",
        "      <td>  9</td>\n",
        "    </tr>\n",
        "    <tr>\n",
        "      <th>2</th>\n",
        "      <td> 10</td>\n",
        "      <td> 11</td>\n",
        "      <td> 12</td>\n",
        "      <td> 13</td>\n",
        "      <td> 14</td>\n",
        "    </tr>\n",
        "    <tr>\n",
        "      <th>3</th>\n",
        "      <td> 15</td>\n",
        "      <td> 16</td>\n",
        "      <td> 17</td>\n",
        "      <td> 18</td>\n",
        "      <td> 19</td>\n",
        "    </tr>\n",
        "    <tr>\n",
        "      <th>4</th>\n",
        "      <td> 20</td>\n",
        "      <td> 21</td>\n",
        "      <td> 22</td>\n",
        "      <td> 23</td>\n",
        "      <td> 24</td>\n",
        "    </tr>\n",
        "  </tbody>\n",
        "</table>\n",
        "</div>"
       ],
       "metadata": {},
       "output_type": "pyout",
       "prompt_number": 78,
       "text": [
        "    0   1   2   3   4\n",
        "0   0   1   2   3   4\n",
        "1   5   6   7   8   9\n",
        "2  10  11  12  13  14\n",
        "3  15  16  17  18  19\n",
        "4  20  21  22  23  24"
       ]
      }
     ],
     "prompt_number": 78
    },
    {
     "cell_type": "code",
     "collapsed": false,
     "input": [
      "# setting np.nan values (imported above as NA for convenience)\n",
      "\n",
      "frame.ix[2, 3] = NA  # Now row 2 and column 3 have a NA value\n",
      "frame"
     ],
     "language": "python",
     "metadata": {
      "slideshow": {
       "slide_type": "fragment"
      }
     },
     "outputs": [
      {
       "html": [
        "<div style=\"max-height:1000px;max-width:1500px;overflow:auto;\">\n",
        "<table border=\"1\" class=\"dataframe\">\n",
        "  <thead>\n",
        "    <tr style=\"text-align: right;\">\n",
        "      <th></th>\n",
        "      <th>0</th>\n",
        "      <th>1</th>\n",
        "      <th>2</th>\n",
        "      <th>3</th>\n",
        "      <th>4</th>\n",
        "    </tr>\n",
        "  </thead>\n",
        "  <tbody>\n",
        "    <tr>\n",
        "      <th>0</th>\n",
        "      <td>  0</td>\n",
        "      <td>  1</td>\n",
        "      <td>  2</td>\n",
        "      <td>  3</td>\n",
        "      <td>  4</td>\n",
        "    </tr>\n",
        "    <tr>\n",
        "      <th>1</th>\n",
        "      <td>  5</td>\n",
        "      <td>  6</td>\n",
        "      <td>  7</td>\n",
        "      <td>  8</td>\n",
        "      <td>  9</td>\n",
        "    </tr>\n",
        "    <tr>\n",
        "      <th>2</th>\n",
        "      <td> 10</td>\n",
        "      <td> 11</td>\n",
        "      <td> 12</td>\n",
        "      <td>NaN</td>\n",
        "      <td> 14</td>\n",
        "    </tr>\n",
        "    <tr>\n",
        "      <th>3</th>\n",
        "      <td> 15</td>\n",
        "      <td> 16</td>\n",
        "      <td> 17</td>\n",
        "      <td> 18</td>\n",
        "      <td> 19</td>\n",
        "    </tr>\n",
        "    <tr>\n",
        "      <th>4</th>\n",
        "      <td> 20</td>\n",
        "      <td> 21</td>\n",
        "      <td> 22</td>\n",
        "      <td> 23</td>\n",
        "      <td> 24</td>\n",
        "    </tr>\n",
        "  </tbody>\n",
        "</table>\n",
        "</div>"
       ],
       "metadata": {},
       "output_type": "pyout",
       "prompt_number": 84,
       "text": [
        "    0   1   2   3   4\n",
        "0   0   1   2   3   4\n",
        "1   5   6   7   8   9\n",
        "2  10  11  12 NaN  14\n",
        "3  15  16  17  18  19\n",
        "4  20  21  22  23  24"
       ]
      }
     ],
     "prompt_number": 84
    },
    {
     "cell_type": "code",
     "collapsed": false,
     "input": [
      "frame_cleaned_by_columns = frame.dropna(axis=0)\n",
      "frame_cleaned_by_rows    = frame.dropna(axis=1)\n",
      "frame_with_NA_replaced   = frame.fillna(100000000)"
     ],
     "language": "python",
     "metadata": {
      "slideshow": {
       "slide_type": "fragment"
      }
     },
     "outputs": [],
     "prompt_number": 90
    },
    {
     "cell_type": "code",
     "collapsed": false,
     "input": [
      "frame_cleaned_by_columns"
     ],
     "language": "python",
     "metadata": {},
     "outputs": [
      {
       "html": [
        "<div style=\"max-height:1000px;max-width:1500px;overflow:auto;\">\n",
        "<table border=\"1\" class=\"dataframe\">\n",
        "  <thead>\n",
        "    <tr style=\"text-align: right;\">\n",
        "      <th></th>\n",
        "      <th>0</th>\n",
        "      <th>1</th>\n",
        "      <th>2</th>\n",
        "      <th>3</th>\n",
        "      <th>4</th>\n",
        "    </tr>\n",
        "  </thead>\n",
        "  <tbody>\n",
        "    <tr>\n",
        "      <th>0</th>\n",
        "      <td>  0</td>\n",
        "      <td>  1</td>\n",
        "      <td>  2</td>\n",
        "      <td>  3</td>\n",
        "      <td>  4</td>\n",
        "    </tr>\n",
        "    <tr>\n",
        "      <th>1</th>\n",
        "      <td>  5</td>\n",
        "      <td>  6</td>\n",
        "      <td>  7</td>\n",
        "      <td>  8</td>\n",
        "      <td>  9</td>\n",
        "    </tr>\n",
        "    <tr>\n",
        "      <th>3</th>\n",
        "      <td> 15</td>\n",
        "      <td> 16</td>\n",
        "      <td> 17</td>\n",
        "      <td> 18</td>\n",
        "      <td> 19</td>\n",
        "    </tr>\n",
        "    <tr>\n",
        "      <th>4</th>\n",
        "      <td> 20</td>\n",
        "      <td> 21</td>\n",
        "      <td> 22</td>\n",
        "      <td> 23</td>\n",
        "      <td> 24</td>\n",
        "    </tr>\n",
        "  </tbody>\n",
        "</table>\n",
        "</div>"
       ],
       "metadata": {},
       "output_type": "pyout",
       "prompt_number": 91,
       "text": [
        "    0   1   2   3   4\n",
        "0   0   1   2   3   4\n",
        "1   5   6   7   8   9\n",
        "3  15  16  17  18  19\n",
        "4  20  21  22  23  24"
       ]
      }
     ],
     "prompt_number": 91
    },
    {
     "cell_type": "code",
     "collapsed": false,
     "input": [
      "frame_cleaned_by_rows"
     ],
     "language": "python",
     "metadata": {
      "slideshow": {
       "slide_type": "fragment"
      }
     },
     "outputs": [
      {
       "html": [
        "<div style=\"max-height:1000px;max-width:1500px;overflow:auto;\">\n",
        "<table border=\"1\" class=\"dataframe\">\n",
        "  <thead>\n",
        "    <tr style=\"text-align: right;\">\n",
        "      <th></th>\n",
        "      <th>0</th>\n",
        "      <th>1</th>\n",
        "      <th>2</th>\n",
        "      <th>4</th>\n",
        "    </tr>\n",
        "  </thead>\n",
        "  <tbody>\n",
        "    <tr>\n",
        "      <th>0</th>\n",
        "      <td>  0</td>\n",
        "      <td>  1</td>\n",
        "      <td>  2</td>\n",
        "      <td>  4</td>\n",
        "    </tr>\n",
        "    <tr>\n",
        "      <th>1</th>\n",
        "      <td>  5</td>\n",
        "      <td>  6</td>\n",
        "      <td>  7</td>\n",
        "      <td>  9</td>\n",
        "    </tr>\n",
        "    <tr>\n",
        "      <th>2</th>\n",
        "      <td> 10</td>\n",
        "      <td> 11</td>\n",
        "      <td> 12</td>\n",
        "      <td> 14</td>\n",
        "    </tr>\n",
        "    <tr>\n",
        "      <th>3</th>\n",
        "      <td> 15</td>\n",
        "      <td> 16</td>\n",
        "      <td> 17</td>\n",
        "      <td> 19</td>\n",
        "    </tr>\n",
        "    <tr>\n",
        "      <th>4</th>\n",
        "      <td> 20</td>\n",
        "      <td> 21</td>\n",
        "      <td> 22</td>\n",
        "      <td> 24</td>\n",
        "    </tr>\n",
        "  </tbody>\n",
        "</table>\n",
        "</div>"
       ],
       "metadata": {},
       "output_type": "pyout",
       "prompt_number": 92,
       "text": [
        "    0   1   2   4\n",
        "0   0   1   2   4\n",
        "1   5   6   7   9\n",
        "2  10  11  12  14\n",
        "3  15  16  17  19\n",
        "4  20  21  22  24"
       ]
      }
     ],
     "prompt_number": 92
    },
    {
     "cell_type": "code",
     "collapsed": false,
     "input": [
      "frame_with_NA_replaced"
     ],
     "language": "python",
     "metadata": {
      "slideshow": {
       "slide_type": "fragment"
      }
     },
     "outputs": [
      {
       "html": [
        "<div style=\"max-height:1000px;max-width:1500px;overflow:auto;\">\n",
        "<table border=\"1\" class=\"dataframe\">\n",
        "  <thead>\n",
        "    <tr style=\"text-align: right;\">\n",
        "      <th></th>\n",
        "      <th>0</th>\n",
        "      <th>1</th>\n",
        "      <th>2</th>\n",
        "      <th>3</th>\n",
        "      <th>4</th>\n",
        "    </tr>\n",
        "  </thead>\n",
        "  <tbody>\n",
        "    <tr>\n",
        "      <th>0</th>\n",
        "      <td>  0</td>\n",
        "      <td>  1</td>\n",
        "      <td>  2</td>\n",
        "      <td>         3</td>\n",
        "      <td>  4</td>\n",
        "    </tr>\n",
        "    <tr>\n",
        "      <th>1</th>\n",
        "      <td>  5</td>\n",
        "      <td>  6</td>\n",
        "      <td>  7</td>\n",
        "      <td>         8</td>\n",
        "      <td>  9</td>\n",
        "    </tr>\n",
        "    <tr>\n",
        "      <th>2</th>\n",
        "      <td> 10</td>\n",
        "      <td> 11</td>\n",
        "      <td> 12</td>\n",
        "      <td> 100000000</td>\n",
        "      <td> 14</td>\n",
        "    </tr>\n",
        "    <tr>\n",
        "      <th>3</th>\n",
        "      <td> 15</td>\n",
        "      <td> 16</td>\n",
        "      <td> 17</td>\n",
        "      <td>        18</td>\n",
        "      <td> 19</td>\n",
        "    </tr>\n",
        "    <tr>\n",
        "      <th>4</th>\n",
        "      <td> 20</td>\n",
        "      <td> 21</td>\n",
        "      <td> 22</td>\n",
        "      <td>        23</td>\n",
        "      <td> 24</td>\n",
        "    </tr>\n",
        "  </tbody>\n",
        "</table>\n",
        "</div>"
       ],
       "metadata": {},
       "output_type": "pyout",
       "prompt_number": 93,
       "text": [
        "    0   1   2          3   4\n",
        "0   0   1   2          3   4\n",
        "1   5   6   7          8   9\n",
        "2  10  11  12  100000000  14\n",
        "3  15  16  17         18  19\n",
        "4  20  21  22         23  24"
       ]
      }
     ],
     "prompt_number": 93
    },
    {
     "cell_type": "code",
     "collapsed": false,
     "input": [],
     "language": "python",
     "metadata": {},
     "outputs": [
      {
       "ename": "NameError",
       "evalue": "name 'randrange' is not defined",
       "output_type": "pyerr",
       "traceback": [
        "\u001b[0;31m---------------------------------------------------------------------------\u001b[0m\n\u001b[0;31mNameError\u001b[0m                                 Traceback (most recent call last)",
        "\u001b[0;32m<ipython-input-3-1d7c2cef552e>\u001b[0m in \u001b[0;36m<module>\u001b[0;34m()\u001b[0m\n\u001b[0;32m----> 1\u001b[0;31m \u001b[0mrandrange\u001b[0m\u001b[0;34m(\u001b[0m\u001b[0;36m0\u001b[0m\u001b[0;34m,\u001b[0m\u001b[0;36m100\u001b[0m\u001b[0;34m,\u001b[0m\u001b[0;36m10\u001b[0m\u001b[0;34m)\u001b[0m\u001b[0;34m\u001b[0m\u001b[0m\n\u001b[0m",
        "\u001b[0;31mNameError\u001b[0m: name 'randrange' is not defined"
       ]
      }
     ],
     "prompt_number": 3
    },
    {
     "cell_type": "code",
     "collapsed": false,
     "input": [],
     "language": "python",
     "metadata": {},
     "outputs": []
    }
   ],
   "metadata": {}
  }
 ]
}