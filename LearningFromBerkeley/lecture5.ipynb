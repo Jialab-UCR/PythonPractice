{
 "metadata": {
  "name": "",
  "signature": "sha256:0b15f60390e05c92ee2ab97e24cc27809b6e3e8e17785f7b9cad2c69ddbd1bb5"
 },
 "nbformat": 3,
 "nbformat_minor": 0,
 "worksheets": [
  {
   "cells": [
    {
     "cell_type": "heading",
     "level": 1,
     "metadata": {
      "slideshow": {
       "slide_type": "slide"
      }
     },
     "source": [
      " Lecture 5: Elements of object oriented programming"
     ]
    },
    {
     "cell_type": "markdown",
     "metadata": {
      "slideshow": {
       "slide_type": "fragment"
      }
     },
     "source": [
      "##This lecture topics:\n",
      "\n",
      "* Code reuse: scripts, functions, modules, and classes\n",
      "* Writing a class: constructors, attributes, and methods\n",
      "* Special methods that most classes should have\n",
      "* How to implement a class on an example: Table class\n",
      "* Python basic classes: int, float, str, list, dict, set\n"
     ]
    },
    {
     "cell_type": "heading",
     "level": 1,
     "metadata": {
      "slideshow": {
       "slide_type": "slide"
      }
     },
     "source": [
      "Code reuse: scripts, functions, modules, and classes"
     ]
    },
    {
     "cell_type": "markdown",
     "metadata": {
      "slideshow": {
       "slide_type": "fragment"
      }
     },
     "source": [
      "> **Programming golden rule 1:** \n",
      "> \n",
      ">* **\"The best line of code is the one you don't write!\"**"
     ]
    },
    {
     "cell_type": "markdown",
     "metadata": {
      "slideshow": {
       "slide_type": "fragment"
      }
     },
     "source": [
      "> **Programming golden rule 2:**\n",
      ">\n",
      "> * **\"Write code once and very well, then reuse it!\"**"
     ]
    },
    {
     "cell_type": "heading",
     "level": 2,
     "metadata": {
      "slideshow": {
       "slide_type": "slide"
      }
     },
     "source": [
      "Mechanism for code reuse (or code packaging)"
     ]
    },
    {
     "cell_type": "markdown",
     "metadata": {
      "slideshow": {
       "slide_type": "fragment"
      }
     },
     "source": [
      "###Package useful code in **SCRIPTS** (already been there!)\n",
      "\n",
      "* instead of retyping the same set of instructions over and over on the command line"
     ]
    },
    {
     "cell_type": "markdown",
     "metadata": {
      "slideshow": {
       "slide_type": "fragment"
      }
     },
     "source": [
      "###Package useful lines of codes in your script into FUNCTIONS (also been there!)\n",
      "* intstead of retyping the same set of instrutions many times in your script"
     ]
    },
    {
     "cell_type": "markdown",
     "metadata": {
      "slideshow": {
       "slide_type": "fragment"
      }
     },
     "source": [
      "###Package general enough functions into MODULES (been there too!)\n",
      "\n",
      "* instead of rewritting your useful functions over and over in each of you scripts\n"
     ]
    },
    {
     "cell_type": "markdown",
     "metadata": {
      "slideshow": {
       "slide_type": "fragment"
      }
     },
     "source": [
      "###Package functions processing the same type of data into CLASSES! (This lecture topic)\n",
      "\n",
      "* instead of having a large quantity of functions you don't remember on which data they are supposed to act on"
     ]
    },
    {
     "cell_type": "heading",
     "level": 2,
     "metadata": {
      "slideshow": {
       "slide_type": "slide"
      }
     },
     "source": [
      "Writing a class: constructors, attributes, and methods"
     ]
    },
    {
     "cell_type": "markdown",
     "metadata": {
      "slideshow": {
       "slide_type": "fragment"
      }
     },
     "source": [
      "> **Definition:**\n",
      "\n",
      "> A **class** is a set of data (i.e. variables), called **attributes**, packaged together with a set of functions, called **methods**, that act on them.\n",
      "\n",
      "\n",
      "> A special method called the **constructor** is in charge of initializing the class data.\n",
      "\n",
      ">This is the function that is called when an instance of the class is created.\n",
      "\n",
      "> A instance of the class is usually called an **object**"
     ]
    },
    {
     "cell_type": "markdown",
     "metadata": {
      "slideshow": {
       "slide_type": "slide"
      }
     },
     "source": [
      "###In Python, everything is an an object of some class. \n",
      "\n",
      "> **Example:** \n",
      "\n",
      ">For instance, real numbers are instances of the class <code>float</code>. In Python, when one writes <pre><code>my_float = float(3)</code></pre> to convert an <code>int</code> to a <code>float</code>, what really hapens is the following:\n",
      "\n",
      "> 1. the constructor of the class <code>float</code> is called with the argument 3\n",
      "> 1. this constructor creates an instance of the class float containing the number 3\n",
      "> 1. the object that results is stored in the variable <code>my_float</code>\n",
      "\n",
      "The command <code>type(x)</code> returns the class name of the object stored in the variable <code>x</code>."
     ]
    },
    {
     "cell_type": "heading",
     "level": 3,
     "metadata": {
      "slideshow": {
       "slide_type": "slide"
      }
     },
     "source": [
      "The following example prints the name of some basic Python classes:\n",
      "\n"
     ]
    },
    {
     "cell_type": "code",
     "collapsed": false,
     "input": [
      "print type(3)\n",
      "print type(3.0)\n",
      "print type(\"hello\")\n",
      "print type([1,3,4])\n"
     ],
     "language": "python",
     "metadata": {
      "slideshow": {
       "slide_type": "fragment"
      }
     },
     "outputs": [
      {
       "output_type": "stream",
       "stream": "stdout",
       "text": [
        "<type 'int'>\n",
        "<type 'float'>\n",
        "<type 'str'>\n",
        "<type 'list'>\n"
       ]
      }
     ],
     "prompt_number": 33
    },
    {
     "cell_type": "heading",
     "level": 3,
     "metadata": {
      "slideshow": {
       "slide_type": "slide"
      }
     },
     "source": [
      "How to create a object of a given class in Python?"
     ]
    },
    {
     "cell_type": "markdown",
     "metadata": {
      "slideshow": {
       "slide_type": "fragment"
      }
     },
     "source": [
      "**Use the class name as if it were a function** with the arguments required to construct the object:\n",
      "\n",
      "<pre><code> x = my_class(necessary_arg1, necessary_arg2, etc.)</code></pre>\n",
      "\n",
      "will create an instance of <code>my_class</code>, and store the object that results in the variable <code>x</code>.\n",
      "\n",
      "> one can do this for the basic Python classes: <code>int, float, str, list</code>"
     ]
    },
    {
     "cell_type": "code",
     "collapsed": false,
     "input": [
      "x = int(3)\n",
      "print type(x)\n",
      "\n",
      "y = str(\"hello\")\n",
      "print type(y)\n",
      "\n",
      "z = float(x)\n",
      "print type(z)\n",
      "\n",
      "w = list([1,2,3])\n",
      "print type(w)\n",
      "print w"
     ],
     "language": "python",
     "metadata": {
      "slideshow": {
       "slide_type": "slide"
      }
     },
     "outputs": [
      {
       "output_type": "stream",
       "stream": "stdout",
       "text": [
        "<type 'int'>\n",
        "<type 'str'>\n",
        "<type 'float'>\n",
        "<type 'list'>\n",
        "[1, 2, 3]\n"
       ]
      }
     ],
     "prompt_number": 34
    },
    {
     "cell_type": "heading",
     "level": 3,
     "metadata": {
      "slideshow": {
       "slide_type": "slide"
      }
     },
     "source": [
      "Remarks on Python basic classes:"
     ]
    },
    {
     "cell_type": "markdown",
     "metadata": {
      "slideshow": {
       "slide_type": "fragment"
      }
     },
     "source": [
      "For the basic classes <pre><code>int, float, str, list, etc.</code></pre>\n",
      "Python syntax allows special constructs to create objects of these classes:\n",
      "\n",
      ">* **int**: simply typing an integer will create an instance of the class <code>int</code>\n",
      "\n",
      ">* **float**: simply typing a real number will create an instance of the class <code>float</code>\n",
      "\n",
      ">* **string**: the construct <code>\"a string\"</code> will create an instance of the class <code>str</code>\n",
      "\n",
      ">* **list**: the construct <code>[a,b,c]</code> will create an instance of the class <code>list</code>\n"
     ]
    },
    {
     "cell_type": "heading",
     "level": 2,
     "metadata": {
      "slideshow": {
       "slide_type": "slide"
      }
     },
     "source": [
      "Defining your own class, now that's a good call! But how to do it?"
     ]
    },
    {
     "cell_type": "markdown",
     "metadata": {
      "slideshow": {
       "slide_type": "fragment"
      }
     },
     "source": [
      "####Creating a class\n",
      "In Python, the syntax to define a class is the following:\n",
      "\n",
      "    class MyClass:\n",
      "        def __init__(self, a, b, c):\n",
      "            self.a = a\n",
      "            self.b = b\n",
      "            self.c = c\n"
     ]
    },
    {
     "cell_type": "markdown",
     "metadata": {
      "slideshow": {
       "slide_type": "slide"
      }
     },
     "source": [
      "####The class constructor\n",
      "The special function \n",
      "<pre><code>\n",
      "    def \\_\\_init\\_\\_(self,a ,b, c):\n",
      "</code></pre>\n",
      "is the **class constructor**.\n",
      "\n",
      "> In Python, the constructor\n",
      "\n",
      "> * should always be named <code>\\_\\_init\\_\\_</code>\n",
      "\n",
      "> * have the keyword <code>self</code> as first argument\n",
      "\n",
      "\n"
     ]
    },
    {
     "cell_type": "markdown",
     "metadata": {
      "slideshow": {
       "slide_type": "slide"
      }
     },
     "source": [
      "####The class attributes\n",
      "The class <code>MyClass</code> has three **attributes** referred to as\n",
      "<pre><code>\n",
      "self.a\n",
      "self.b\n",
      "self.c\n",
      "</code></pre>\n",
      "These form the data encapsulated in the class <MyClass>. The constructor set their values to the variables that are passed to the <code>\\_\\_init\\_\\_</code> function. \n",
      "\n",
      "**Remark:** The keyword <code>self</code> is meant to refer to a given class instance inside the class definition. \n"
     ]
    },
    {
     "cell_type": "markdown",
     "metadata": {
      "slideshow": {
       "slide_type": "slide"
      }
     },
     "source": [
      "####Creating an object\n",
      "\n",
      "To create an object (or instance) of this class, one uses again the same syntax as for already pre-defined classes as <code>int, float, str, list, etc.</code>: \n",
      "\n",
      "<pre><code> x = MyClass(2,3,4)</code></pre>\n",
      "\n",
      "Now, the constructor will assign\n",
      "\n",
      "* value <code>2</code> to attribute <code>self.a</code>\n",
      "* value <code>3</code> to attribute <code>self.b</code>\n",
      "* value <code>4</code> to attribute <code>self.c</code>"
     ]
    },
    {
     "cell_type": "markdown",
     "metadata": {
      "slideshow": {
       "slide_type": "slide"
      }
     },
     "source": [
      "####Retrieving the values stored in the attributes\n",
      "\n",
      "Once an object has been created with the statement\n",
      "<pre><code> x = MyClass(2,3,4)</code></pre>\n",
      "the attribute values can be retrieved as follows:\n",
      "\n",
      "<pre><code>\n",
      "val_a = x.a\n",
      "val_b = x.b\n",
      "val_c = x.c\n",
      "</code></pre>\n",
      "\n",
      "The new variables <code>val_a, val_b, val_c</code> should now contain respectively the values <code>2,3,4</code>.\n"
     ]
    },
    {
     "cell_type": "heading",
     "level": 3,
     "metadata": {
      "slideshow": {
       "slide_type": "slide"
      }
     },
     "source": [
      "Try that in the cell below"
     ]
    },
    {
     "cell_type": "code",
     "collapsed": false,
     "input": [
      "class Human:\n",
      "    def __init__(self, name, age, weight):\n",
      "        self.name = name\n",
      "        self.age = age\n",
      "        self.weight = weight\n",
      "        \n",
      "        print \"Hello! I am \" + self.name\n",
      "        \n",
      "  "
     ],
     "language": "python",
     "metadata": {
      "slideshow": {
       "slide_type": "fragment"
      }
     },
     "outputs": [],
     "prompt_number": 35
    },
    {
     "cell_type": "code",
     "collapsed": false,
     "input": [
      "x = Human(\"Robert\", 17, 100)\n",
      "\n"
     ],
     "language": "python",
     "metadata": {
      "slideshow": {
       "slide_type": "fragment"
      }
     },
     "outputs": [
      {
       "output_type": "stream",
       "stream": "stdout",
       "text": [
        "Hello! I am Robert\n"
       ]
      }
     ],
     "prompt_number": 36
    },
    {
     "cell_type": "heading",
     "level": 2,
     "metadata": {
      "slideshow": {
       "slide_type": "slide"
      }
     },
     "source": [
      "How to implement class methods?"
     ]
    },
    {
     "cell_type": "markdown",
     "metadata": {
      "slideshow": {
       "slide_type": "fragment"
      }
     },
     "source": [
      "To be useful, a class needs to have \n",
      "\n",
      "> **methods = functions acting on the data (i.e. attributes) the class encapsulates** \n",
      "\n",
      "Methods are implemented as follows:\n",
      "\n",
      "    class AnotherClass:\n",
      "        def __init__(self, x):\n",
      "            self.x = x\n",
      "\n",
      "        def my_method(self, y, z):\n",
      "        \n",
      "            ...whatever needs to be done \n",
      "            with the class attributes \n",
      "            and the function variables...\n",
      "        \n",
      "         return \"whatever needs to be returned\"\n",
      "\n",
      "\n"
     ]
    },
    {
     "cell_type": "heading",
     "level": 2,
     "metadata": {
      "slideshow": {
       "slide_type": "slide"
      }
     },
     "source": [
      "How to use class methods?"
     ]
    },
    {
     "cell_type": "markdown",
     "metadata": {
      "slideshow": {
       "slide_type": "fragment"
      }
     },
     "source": [
      "Suppose you have defined a class \n",
      "\n",
      "    class AnotherClass:\n",
      "    \n",
      "        def __init__(self, a_string):\n",
      "        \n",
      "        def mymethod(self, my_int, my_second_int): \n",
      "\n",
      "Suppose you have also created an object, instance of this class:\n",
      "\n",
      "    x = AnotherClass(\"hello\")\n",
      "\n",
      "To call the method <code>mymethod</code> on the object <code>x</code>, simply type\n",
      "\n",
      "    x.mymethod(3,5)\n"
     ]
    },
    {
     "cell_type": "heading",
     "level": 3,
     "metadata": {
      "slideshow": {
       "slide_type": "slide"
      }
     },
     "source": [
      "Example: a class representing a function with parameters"
     ]
    },
    {
     "cell_type": "markdown",
     "metadata": {
      "slideshow": {
       "slide_type": "fragment"
      }
     },
     "source": [
      "Let us write a class named <code>NormalDist</code> representing the family of normal distributions:\n",
      "\n",
      "$$f(x; \\sigma, m) = \\frac{1}{\\sigma\\sqrt{2\\pi}}\\exp\\left(-\\frac{(x-m)^2}{2\\sigma^2}\\right),$$\n",
      "\n",
      "where the parametres $\\sigma$ and $m$ are the standard deviation and the mean, respectively.\n",
      "\n",
      "\n",
      "> * It is natural to take $\\sigma$ and $m$ to be the class attributes, which must be specified upon construction.\n",
      "\n",
      "> * It is also natural to have a method <code>compute(x)</code> that returns $f(x; \\sigma, m)$ for a given value of the variable $x$ and the parameters $\\sigma$ and $m$. "
     ]
    },
    {
     "cell_type": "code",
     "collapsed": false,
     "input": [
      "class NormalDist:\n",
      "    def __init__(self, mean, std):\n",
      "        self.mean = mean\n",
      "        self.std = std\n",
      "        \n",
      "    def compute(self, x):\n",
      "        from  math import exp, pi, sqrt\n",
      "        std = self.std; mean = self.mean #shorhand to have more readable formula\n",
      "        N = std*sqrt(2*pi)\n",
      "        A = ((x-mean)**2)/(2.0*std**2)\n",
      "        return (1/N)*exp(-A)    "
     ],
     "language": "python",
     "metadata": {
      "slideshow": {
       "slide_type": "fragment"
      }
     },
     "outputs": [],
     "prompt_number": 37
    },
    {
     "cell_type": "code",
     "collapsed": false,
     "input": [
      "F = NormalDist(0,1)\n",
      "print F.compute(0) # return f(0; 0, 1)\n",
      "\n",
      "G = NormalDist(3,4)\n",
      "print G.compute(2)\n"
     ],
     "language": "python",
     "metadata": {
      "slideshow": {
       "slide_type": "fragment"
      }
     },
     "outputs": [
      {
       "output_type": "stream",
       "stream": "stdout",
       "text": [
        "0.398942280401\n",
        "0.0966670292007\n"
       ]
      }
     ],
     "prompt_number": 38
    },
    {
     "cell_type": "heading",
     "level": 2,
     "metadata": {
      "slideshow": {
       "slide_type": "slide"
      }
     },
     "source": [
      "Implementing special methods"
     ]
    },
    {
     "cell_type": "heading",
     "level": 3,
     "metadata": {
      "slideshow": {
       "slide_type": "fragment"
      }
     },
     "source": [
      "Calling objects as functions and the \n",
      "    \\_\\_call\\_\\_ \n",
      "method"
     ]
    },
    {
     "cell_type": "markdown",
     "metadata": {
      "slideshow": {
       "slide_type": "fragment"
      }
     },
     "source": [
      "In the previous example, it would be desirable to be able \n",
      "\n",
      "> to **call** the object <code>NormalDist</code> as if it were an actual function:\n",
      "\n",
      "Suppose we have an instance of our class <code>NormalDist</code>:\n",
      "\n",
      "    F = NormalDist(3,5)\n",
      "We'd like to use the function-like notation:\n",
      "\n",
      "    F(2)\n",
      "\n",
      "instead of the previous notation:\n",
      "\n",
      "    F.compute(2)\n",
      "\n",
      "to retrieve the value $f(2; 3, 5)$. "
     ]
    },
    {
     "cell_type": "markdown",
     "metadata": {
      "slideshow": {
       "slide_type": "slide"
      }
     },
     "source": [
      ">We can render an object **callable** by implementing the special function\n",
      ">\n",
      ">   def \\_\\_call\\_\\_(self,x):\n",
      ">\n",
      ">as a class method. "
     ]
    },
    {
     "cell_type": "code",
     "collapsed": false,
     "input": [
      "class NormalDist:\n",
      "    def __init__(self, mean, std):\n",
      "        self.mean = mean\n",
      "        self.std = std\n",
      "        \n",
      "    def compute(self, x):\n",
      "        from math import exp, pi, sqrt\n",
      "        std = self.std; mean = self.mean #shorhand to have more readable formula\n",
      "        N = std*sqrt(2*pi)\n",
      "        A = ((x-mean)**2)/(2.0*std**2)\n",
      "        return (1/N)*exp(-A)\n",
      "        \n",
      "    def __call__(self,x):\n",
      "        return self.compute(x)"
     ],
     "language": "python",
     "metadata": {
      "slideshow": {
       "slide_type": "fragment"
      }
     },
     "outputs": [],
     "prompt_number": 39
    },
    {
     "cell_type": "heading",
     "level": 3,
     "metadata": {
      "slideshow": {
       "slide_type": "slide"
      }
     },
     "source": [
      "Remark: method calls inside other method"
     ]
    },
    {
     "cell_type": "markdown",
     "metadata": {
      "slideshow": {
       "slide_type": "fragment"
      }
     },
     "source": [
      "Observe in the code above that \n",
      "\n",
      "> **methods can be used inside methods in the class definition**\n",
      "\n",
      "However, the method should be prefixed by the keyword <code>self</code>:\n",
      "\n",
      "    def __call__(self,x):\n",
      "        self.compute(x)\n",
      "        \n",
      "Note also that \n",
      "\n",
      "* the keyword <code>self</code> is not passed to the method when calling it\n",
      "* the argument **<code>self</code> is only needed in the function definition**.\n",
      "\n",
      "Let us now use our enhanced class:"
     ]
    },
    {
     "cell_type": "heading",
     "level": 3,
     "metadata": {
      "slideshow": {
       "slide_type": "slide"
      }
     },
     "source": [
      "Now let's play with our callable object"
     ]
    },
    {
     "cell_type": "code",
     "collapsed": false,
     "input": [
      "F = NormalDist(0,3)\n",
      "G = NormalDist(5,9)\n",
      "\n",
      "print F(4), G(120), G(F(3)), F(G(G(G(G(G(G(4)))))))"
     ],
     "language": "python",
     "metadata": {
      "slideshow": {
       "slide_type": "fragment"
      }
     },
     "outputs": [
      {
       "output_type": "stream",
       "stream": "stdout",
       "text": [
        "0.054670024892 1.55843616652e-37 0.0381761068444 0.132970049228\n"
       ]
      }
     ],
     "prompt_number": 40
    },
    {
     "cell_type": "heading",
     "level": 3,
     "metadata": {
      "slideshow": {
       "slide_type": "slide"
      }
     },
     "source": [
      "Evaluating objects and the special method\n",
      "\\_\\_repr\\_\\_"
     ]
    },
    {
     "cell_type": "markdown",
     "metadata": {
      "slideshow": {
       "slide_type": "fragment"
      }
     },
     "source": [
      "Suppose we have an object of our class <code>NormalDist</code>:\n",
      "\n",
      "    F = NormalDist(3,4)\n",
      "\n",
      "We would like that the oject **evaluation**\n",
      "\n",
      "    F\n",
      "    \n",
      "returns a sensible **representation** of the object, for instance: its formula"
     ]
    },
    {
     "cell_type": "markdown",
     "metadata": {
      "slideshow": {
       "slide_type": "slide"
      }
     },
     "source": [
      ">To specify what should be returned upon evaluation, we only need to implement the special method: \n",
      "\n",
      "    def __repr__(self):\n",
      "\n",
      ">whose return value will be what a call to <code>F</code> will be evaluated to."
     ]
    },
    {
     "cell_type": "code",
     "collapsed": false,
     "input": [
      "class NormalDist:\n",
      "    def __init__(self, mean, std):\n",
      "        self.mean = mean\n",
      "        self.std = std\n",
      "        \n",
      "    def compute(self, x):\n",
      "        from math import exp, pi, sqrt\n",
      "        std = self.std; mean = self.mean #shorhand to have more readable formula\n",
      "        N = std*sqrt(2*pi)\n",
      "        A = ((x-mean)**2)/(2.0*std**2)\n",
      "        return (1/N)*exp(-A)\n",
      "        \n",
      "    def __call__(self,x):\n",
      "        return self.compute(x)\n",
      "    \n",
      "    def __repr__(self):\n",
      "        mean = str(self.mean); std = str(self.std)\n",
      "        formula = '1/(' + std + 'sqrt(2pi)) exp( - (x - ' + mean + ')^2/(2*' + std + '^2) )'\n",
      "        return formula"
     ],
     "language": "python",
     "metadata": {
      "slideshow": {
       "slide_type": "fragment"
      }
     },
     "outputs": [],
     "prompt_number": 41
    },
    {
     "cell_type": "code",
     "collapsed": false,
     "input": [
      "F = NormalDist(3, 5)"
     ],
     "language": "python",
     "metadata": {
      "slideshow": {
       "slide_type": "fragment"
      }
     },
     "outputs": [],
     "prompt_number": 42
    },
    {
     "cell_type": "code",
     "collapsed": false,
     "input": [
      "print F\n",
      "print F(4)"
     ],
     "language": "python",
     "metadata": {
      "slideshow": {
       "slide_type": "fragment"
      }
     },
     "outputs": [
      {
       "output_type": "stream",
       "stream": "stdout",
       "text": [
        "1/(5sqrt(2pi)) exp( - (x - 3)^2/(2*5^2) )\n",
        "0.0782085387951\n"
       ]
      }
     ],
     "prompt_number": 43
    },
    {
     "cell_type": "heading",
     "level": 3,
     "metadata": {
      "slideshow": {
       "slide_type": "slide"
      }
     },
     "source": [
      "Many more other special methods can be implemented, e.g. to add, multiply, compare objects (see your book)"
     ]
    },
    {
     "cell_type": "heading",
     "level": 2,
     "metadata": {
      "slideshow": {
       "slide_type": "slide"
      }
     },
     "source": [
      "An example:"
     ]
    },
    {
     "cell_type": "markdown",
     "metadata": {
      "slideshow": {
       "slide_type": "fragment"
      }
     },
     "source": [
      "Goal: write a class that\n",
      "\n",
      "1. takes an url of a webpage containing a data table\n",
      "1. extract the table content\n",
      "1. has a method that allows us to retrieve columns as lists given a column (or field) name\n",
      "1. has a method that allows us to display the first n lines of the table\n",
      "1. has a method that allows us to compute and display summary statistics for the columns (mean, std, etc.)"
     ]
    },
    {
     "cell_type": "markdown",
     "metadata": {
      "slideshow": {
       "slide_type": "slide"
      }
     },
     "source": [
      "A simple programming strategy:\n",
      "\n",
      "1. find the right line of code on the interactive shell\n",
      "1. package that code into a function\n",
      "1. test the function to make sure it does what you want\n",
      "1. package the function as class method\n",
      "1. test the class with the new method\n",
      "1. iterate the process untill you are done"
     ]
    },
    {
     "cell_type": "markdown",
     "metadata": {
      "slideshow": {
       "slide_type": "slide"
      }
     },
     "source": [
      "Let's find out the Python code to store a webpage into a variable"
     ]
    },
    {
     "cell_type": "code",
     "collapsed": false,
     "input": [
      "import urllib\n",
      "\n",
      "url = \"http://www.stat.berkeley.edu/classes/s133/data/bwthr.txt\"\n",
      "webpage = urllib.urlopen(url)\n",
      "\n",
      "table = webpage.readlines()\n",
      "\n",
      "print table[:10]\n",
      "        "
     ],
     "language": "python",
     "metadata": {
      "slideshow": {
       "slide_type": "fragment"
      }
     },
     "outputs": [
      {
       "output_type": "stream",
       "stream": "stdout",
       "text": [
        "['Year,Month,Day,tmax,tmin,prcp\\n', '2005,01,1,52,40,0.17\\n', '2005,01,2,52,43,0.90\\n', '2005,01,3,47,41,0\\n', '2005,01,4,51,40,0\\n', '2005,01,5,51,44,0.01\\n', '2005,01,6,53,40,0.01\\n', '2005,01,7,53,40,0.53\\n', '2005,01,8,54,43,0.81\\n', '2005,01,9,49,45,0.03\\n']\n"
       ]
      }
     ],
     "prompt_number": 44
    },
    {
     "cell_type": "markdown",
     "metadata": {
      "slideshow": {
       "slide_type": "slide"
      }
     },
     "source": [
      "It's good but we'd like to \n",
      "\n",
      "1. to get rid of the newlines\n",
      "1. have the first line indicating the fields stored separately as a list of strings\n",
      "2. have the row stored as a list of fields\n",
      "\n",
      "Let's find out by trial and error the code for that:"
     ]
    },
    {
     "cell_type": "code",
     "collapsed": false,
     "input": [
      "import urllib\n",
      "url = \"http://www.stat.berkeley.edu/classes/s133/data/bwthr.txt\"\n",
      "webpage = urllib.urlopen(url)\n",
      "\n",
      "separator = ','\n",
      "fields = webpage.readline().strip().split(separator)\n",
      "print fields\n",
      "\n",
      "reccords = []\n",
      "\n",
      "for reccord in webpage:\n",
      "    list_reccord = reccord.strip().split(separator)\n",
      "    reccords.append(list_reccord)\n",
      "    \n",
      "print reccords[:5]\n"
     ],
     "language": "python",
     "metadata": {
      "slideshow": {
       "slide_type": "fragment"
      }
     },
     "outputs": [
      {
       "output_type": "stream",
       "stream": "stdout",
       "text": [
        "['Year', 'Month', 'Day', 'tmax', 'tmin', 'prcp']\n",
        "[['2005', '01', '1', '52', '40', '0.17'], ['2005', '01', '2', '52', '43', '0.90'], ['2005', '01', '3', '47', '41', '0'], ['2005', '01', '4', '51', '40', '0'], ['2005', '01', '5', '51', '44', '0.01']]\n"
       ]
      }
     ],
     "prompt_number": 45
    },
    {
     "cell_type": "markdown",
     "metadata": {
      "slideshow": {
       "slide_type": "slide"
      }
     },
     "source": [
      "Let's package now our code into a function and test it:"
     ]
    },
    {
     "cell_type": "code",
     "collapsed": false,
     "input": [
      "def extract_table_from_url(url, separator):\n",
      "    import urllib\n",
      "    webpage = urllib.urlopen(url)\n",
      "\n",
      "    fields = webpage.readline().strip().split(separator)\n",
      "\n",
      "    reccords = []\n",
      "\n",
      "    for reccord in webpage:\n",
      "        list_reccord = reccord.strip().split(separator)\n",
      "        reccords.append(list_reccord)\n",
      "    return fields, reccords\n",
      "\n",
      "fields, reccords = extract_table_from_url(url, \",\")\n",
      "\n",
      "print fields\n",
      "print reccords[:10]"
     ],
     "language": "python",
     "metadata": {
      "slideshow": {
       "slide_type": "skip"
      }
     },
     "outputs": [
      {
       "output_type": "stream",
       "stream": "stdout",
       "text": [
        "['Year', 'Month', 'Day', 'tmax', 'tmin', 'prcp']\n",
        "[['2005', '01', '1', '52', '40', '0.17'], ['2005', '01', '2', '52', '43', '0.90'], ['2005', '01', '3', '47', '41', '0'], ['2005', '01', '4', '51', '40', '0'], ['2005', '01', '5', '51', '44', '0.01'], ['2005', '01', '6', '53', '40', '0.01'], ['2005', '01', '7', '53', '40', '0.53'], ['2005', '01', '8', '54', '43', '0.81'], ['2005', '01', '9', '49', '45', '0.03'], ['2005', '01', '10', '55', '43', '0.51']]\n"
       ]
      }
     ],
     "prompt_number": 58
    },
    {
     "cell_type": "markdown",
     "metadata": {
      "slideshow": {
       "slide_type": "slide"
      }
     },
     "source": [
      "Let's package now our function into a class method and use it to construct our objects:"
     ]
    },
    {
     "cell_type": "code",
     "collapsed": false,
     "input": [
      "class Table:\n",
      "    \n",
      "    def extract_table_from_url(self, url, separator):\n",
      "        import urllib\n",
      "        webpage = urllib.urlopen(url)\n",
      "        fields = webpage.readline().strip().split(separator)\n",
      "        reccords = []\n",
      "        for reccord in webpage:\n",
      "            list_reccord = reccord.strip().split(separator)\n",
      "            reccords.append(list_reccord)\n",
      "        return fields, reccords\n",
      "    \n",
      "    def __init__(self, url, separator=\",\"):\n",
      "        self.fields, self.reccords = self.extract_table_from_url(url, separator)\n",
      "    "
     ],
     "language": "python",
     "metadata": {
      "slideshow": {
       "slide_type": "fragment"
      }
     },
     "outputs": [],
     "prompt_number": 47
    },
    {
     "cell_type": "markdown",
     "metadata": {
      "slideshow": {
       "slide_type": "slide"
      }
     },
     "source": [
      "Let's test that our class works okay:"
     ]
    },
    {
     "cell_type": "code",
     "collapsed": false,
     "input": [
      "weather_url = \"http://www.stat.berkeley.edu/classes/s133/data/bwthr.txt\"\n",
      "country_url = \"http://www.stat.berkeley.edu/classes/s133/data/world.txt\"\n",
      "election_url = \"http://www.stat.berkeley.edu/classes/s133/data/elect.txt\"\n",
      "\n",
      "weather_table = Table(weather_url)\n",
      "country_table = Table(country_url)\n",
      "election_table = Table(election_url)\n",
      "\n",
      "print weather_table.fields\n",
      "print weather_table.reccords[0]\n",
      "print \"-\"*10\n",
      "\n",
      "print country_table.fields\n",
      "print country_table.reccords[0]\n",
      "print \"-\"*10\n",
      "\n",
      "print election_table.fields\n",
      "print election_table.reccords[0]\n"
     ],
     "language": "python",
     "metadata": {
      "slideshow": {
       "slide_type": "fragment"
      }
     },
     "outputs": [
      {
       "output_type": "stream",
       "stream": "stdout",
       "text": [
        "['Year', 'Month', 'Day', 'tmax', 'tmin', 'prcp']\n",
        "['2005', '01', '1', '52', '40', '0.17']\n",
        "----------\n",
        "['country', 'gdp', 'income', 'literacy', 'military']\n",
        "['Albania', '4500', '4937', '98.7', '56500000']\n",
        "----------\n",
        "['\"State\"', '\"TotalVote\"', '\"BushPct\"', '\"KerryPct\"']\n",
        "['\"Alabama\"', '1883449', '62.46', '36.84']\n"
       ]
      }
     ],
     "prompt_number": 48
    },
    {
     "cell_type": "markdown",
     "metadata": {
      "slideshow": {
       "slide_type": "slide"
      }
     },
     "source": [
      "Now the table content is nicely stored into the \"fields\" and \"reccords\" attributes of our Table class.\n",
      "\n",
      "Let's find out the code that extracts the values of a given field out of a list of list the \"reccord\" attribute of our table class. More precisely, we want:\n",
      "\n",
      "1. to find the column number from the field name\n",
      "1. to extract the field values corresponding to a column number"
     ]
    },
    {
     "cell_type": "code",
     "collapsed": false,
     "input": [
      "my_reccords = weather_table.reccords\n",
      "my_fields = weather_table.fields\n",
      "print my_fields\n",
      "print my_reccords[0]\n",
      "print my_reccords[1]\n",
      "print my_reccords[2]\n",
      "\n",
      "#extracting the column number from the field 'tmax'\n",
      "field_number = my_fields.index('tmax')\n",
      "\n",
      "#extracting the field values corresponding to the column number\n",
      "column = [row[field_number] for row in my_reccords]\n",
      "print column[:10]"
     ],
     "language": "python",
     "metadata": {
      "slideshow": {
       "slide_type": "fragment"
      }
     },
     "outputs": [
      {
       "output_type": "stream",
       "stream": "stdout",
       "text": [
        "['Year', 'Month', 'Day', 'tmax', 'tmin', 'prcp']\n",
        "['2005', '01', '1', '52', '40', '0.17']\n",
        "['2005', '01', '2', '52', '43', '0.90']\n",
        "['2005', '01', '3', '47', '41', '0']\n",
        "['52', '52', '47', '51', '51', '53', '53', '54', '49', '55']\n"
       ]
      }
     ],
     "prompt_number": 49
    },
    {
     "cell_type": "markdown",
     "metadata": {
      "slideshow": {
       "slide_type": "slide"
      }
     },
     "source": [
      "Let's package our code into two functions:\n",
      "\n",
      "1. the first function should get the column number corresponding to a given field name\n",
      "1. the second function should extract the column from a given column number"
     ]
    },
    {
     "cell_type": "code",
     "collapsed": false,
     "input": [
      "def get_field_number(fields, field_name):\n",
      "    return fields.index(field_name)\n",
      "\n",
      "def extract_column(reccords, field_number):\n",
      "    return [row[field_number] for row in reccords]\n",
      "    "
     ],
     "language": "python",
     "metadata": {
      "slideshow": {
       "slide_type": "fragment"
      }
     },
     "outputs": [],
     "prompt_number": 50
    },
    {
     "cell_type": "code",
     "collapsed": false,
     "input": [
      "column_number = get_field_number(my_fields, 'tmax')\n",
      "print column_number\n",
      "\n",
      "column = extract_column(my_reccords, column_number)\n",
      "print column[:10]\n",
      "                        "
     ],
     "language": "python",
     "metadata": {
      "slideshow": {
       "slide_type": "fragment"
      }
     },
     "outputs": [
      {
       "output_type": "stream",
       "stream": "stdout",
       "text": [
        "3\n",
        "['52', '52', '47', '51', '51', '53', '53', '54', '49', '55']\n"
       ]
      }
     ],
     "prompt_number": 51
    },
    {
     "cell_type": "markdown",
     "metadata": {
      "slideshow": {
       "slide_type": "slide"
      }
     },
     "source": [
      "Let's package our new functions as methods of our Table class and make a few cosmetic changes: namely,\n",
      "\n",
      "1. add one method that returns the column corresponding to a field name\n",
      "1. add one attributes that contains the table name\n",
      "1. add one method that prints the table name, as well as the fields and the first n lines\n"
     ]
    },
    {
     "cell_type": "code",
     "collapsed": false,
     "input": [
      "class Table:\n",
      "    \n",
      "    def extract_table_from_url(self, url, separator):\n",
      "        import urllib\n",
      "        webpage = urllib.urlopen(url)\n",
      "        fields = webpage.readline().strip().split(separator)\n",
      "      \n",
      "        reccords = []\n",
      "        for reccord in webpage:\n",
      "            list_reccord = reccord.strip().split(separator)\n",
      "            reccords.append(list_reccord)\n",
      "        return fields, reccords\n",
      "    \n",
      "    def __init__(self, url, table_name, separator=\",\"):\n",
      "        self.table_name = table_name\n",
      "        self.fields, self.reccords = self.extract_table_from_url(url, separator)\n",
      "        \n",
      "    def get_field_number(self, field_name):\n",
      "        return self.fields.index(field_name)\n",
      "\n",
      "    def extract_column(self, field_number):\n",
      "        return [row[field_number] for row in self.reccords]\n",
      "    \n",
      "    def get_fields(self, field_name):\n",
      "        return self.extract_column(self.get_field_number(field_name))\n",
      "    \n",
      "    def display(self, reccord_number):\n",
      "        field_number = len(self.fields)\n",
      "        print \"-\"*field_number*10; print self.table_name; print \"-\"*field_number*10\n",
      "      \n",
      "        format_string = \"%-10s\"*field_number\n",
      "        \n",
      "        print format_string % tuple(self.fields)\n",
      "        print \"-\"*field_number*10\n",
      "        \n",
      "        for reccord in self.reccords[0:reccord_number]:\n",
      "            print format_string % tuple(reccord)\n",
      "            \n",
      "        print \"\\n\\n\"\n",
      "    "
     ],
     "language": "python",
     "metadata": {
      "slideshow": {
       "slide_type": "fragment"
      }
     },
     "outputs": [],
     "prompt_number": 52
    },
    {
     "cell_type": "markdown",
     "metadata": {
      "slideshow": {
       "slide_type": "slide"
      }
     },
     "source": [
      "Let's now test the new class methods:"
     ]
    },
    {
     "cell_type": "code",
     "collapsed": false,
     "input": [
      "weather_url = \"http://www.stat.berkeley.edu/classes/s133/data/bwthr.txt\"\n",
      "country_url = \"http://www.stat.berkeley.edu/classes/s133/data/world.txt\"\n",
      "election_url = \"http://www.stat.berkeley.edu/classes/s133/data/elect.txt\"\n",
      "\n",
      "weather_table = Table(weather_url, \"Berkely Weather\")\n",
      "country_table = Table(country_url, \"Countries\")\n",
      "election_table = Table(election_url, \"Bush-Kerry election\")\n",
      "\n",
      "weather_table.display(3)\n",
      "country_table.display(3)\n",
      "election_table.display(3)\n",
      "\n",
      "print weather_table.get_fields('tmin')[:10]\n",
      "print country_table.get_fields('literacy')[:10]\n",
      "print election_table.get_fields('\"KerryPct\"')[:10]\n",
      "                            "
     ],
     "language": "python",
     "metadata": {
      "slideshow": {
       "slide_type": "fragment"
      }
     },
     "outputs": [
      {
       "output_type": "stream",
       "stream": "stdout",
       "text": [
        "------------------------------------------------------------\n",
        "Berkely Weather\n",
        "------------------------------------------------------------\n",
        "Year      Month     Day       tmax      tmin      prcp      \n",
        "------------------------------------------------------------\n",
        "2005      01        1         52        40        0.17      \n",
        "2005      01        2         52        43        0.90      \n",
        "2005      01        3         47        41        0         \n",
        "\n",
        "\n",
        "\n",
        "--------------------------------------------------\n",
        "Countries\n",
        "--------------------------------------------------\n",
        "country   gdp       income    literacy  military  \n",
        "--------------------------------------------------\n",
        "Albania   4500      4937      98.7      56500000  \n",
        "Algeria   5900      6799      69.8      2.48e+09  \n",
        "Angola    1900      2457      66.8      183580000 \n",
        "\n",
        "\n",
        "\n",
        "----------------------------------------\n",
        "Bush-Kerry election\n",
        "----------------------------------------\n",
        "\"State\"   \"TotalVote\"\"BushPct\" \"KerryPct\"\n",
        "----------------------------------------\n",
        "\"Alabama\" 1883449   62.46     36.84     \n",
        "\"Alaska\"  312598    61.07     35.52     \n",
        "\"Arizona\" 2012585   54.87     44.4      \n",
        "\n",
        "\n",
        "\n",
        "['40', '43', '41', '40', '44', '40', '40', '43', '45', '43']\n",
        "['98.7', '69.8', '66.8', '97.2', '99.4', '99.9', '99.9', '98.8', '87.7', '41.1']\n",
        "['36.84', '35.52', '44.4', '44.55', '54.31', '47.02', '54.31', '53.35', '47.09', '41.37']\n"
       ]
      }
     ],
     "prompt_number": 53
    },
    {
     "cell_type": "markdown",
     "metadata": {
      "slideshow": {
       "slide_type": "slide"
      }
     },
     "source": [
      "Let's now find out the code to compute and print nicely the mean, std, min, and max of a table column:\n",
      "\n",
      "The main problem is that the field are represented as string. \n",
      "\n",
      "Before computing the mean, we need to convert them into appropriate numbers."
     ]
    },
    {
     "cell_type": "code",
     "collapsed": false,
     "input": [
      "field_name = 'prcp'\n",
      "column = weather_table.get_fields(field_name)\n",
      "\n",
      "#converting the fields into floats\n",
      "float_fields = [float(field) for field in column]\n",
      "\n",
      "#computing the mean and the standard deviation\n",
      "mean = sum(float_fields)/len(float_fields)\n",
      "var_list = [(field-mean)**2 for field in float_fields]\n",
      "from math import sqrt\n",
      "std =  sqrt(sum(var_list)/len(var_list))\n",
      "\n",
      "#displaying the stat summary for the corresponing field\n",
      "\n",
      "print \"%-10s\\t%-10s\\t%-10s\\t%-10s\\t%-10s\" %(\"\",\"Mean\", \"Std\", \"Max\", \"Min\")\n",
      "print \"%-10s\\t%-10g\\t%-10g\\t%-10g\\t%-10g\" % (field_name, mean, std, max(float_fields), min(float_fields))\n"
     ],
     "language": "python",
     "metadata": {
      "slideshow": {
       "slide_type": "fragment"
      }
     },
     "outputs": [
      {
       "output_type": "stream",
       "stream": "stdout",
       "text": [
        "          \tMean      \tStd       \tMax       \tMin       \n",
        "prcp      \t0.0626316 \t0.178182  \t1.25      \t0         \n"
       ]
      }
     ],
     "prompt_number": 54
    },
    {
     "cell_type": "markdown",
     "metadata": {
      "slideshow": {
       "slide_type": "slide"
      }
     },
     "source": [
      "Let's incorporate that code directly in our class by creating a method called summary, which takes a field name as input and prints the stat summary of the corresponding column:\n"
     ]
    },
    {
     "cell_type": "code",
     "collapsed": false,
     "input": [
      " class Table:\n",
      "    \n",
      "    def extract_table_from_url(self, url, separator):\n",
      "        import urllib\n",
      "        webpage = urllib.urlopen(url)\n",
      "        fields = webpage.readline().strip().split(separator)\n",
      "      \n",
      "        reccords = []\n",
      "        for reccord in webpage:\n",
      "            list_reccord = reccord.strip().split(separator)\n",
      "            reccords.append(list_reccord)\n",
      "        return fields, reccords\n",
      "    \n",
      "    def __init__(self, url, table_name, separator=\",\"):\n",
      "        self.table_name = table_name\n",
      "        self.fields, self.reccords = self.extract_table_from_url(url, separator)\n",
      "           \n",
      "    def get_field_number(self, field_name):\n",
      "        return self.fields.index(field_name)\n",
      "\n",
      "    def extract_column(self, field_number):\n",
      "        return [row[field_number] for row in self.reccords]\n",
      "    \n",
      "    def get_fields(self, field_name):\n",
      "        return self.extract_column(self.get_field_number(field_name))\n",
      "    \n",
      "    def display(self, reccord_number):\n",
      "        field_number = len(self.fields)\n",
      "        print \"-\"*field_number*10; print self.table_name; print \"-\"*field_number*10\n",
      "      \n",
      "        format_string = \"%-10s\"*field_number\n",
      "        \n",
      "        print format_string % tuple(self.fields)\n",
      "        print \"-\"*field_number*10\n",
      "        \n",
      "        for reccord in self.reccords[0:reccord_number]:\n",
      "            print format_string % tuple(reccord)\n",
      "            \n",
      "        print \"\\n\\n\"\n",
      "        \n",
      "    def summary(self, field_name):\n",
      "        column = self.get_fields(field_name)        \n",
      "        float_fields = [float(field) for field in column]\n",
      "\n",
      "        mean = sum(float_fields)/len(float_fields)\n",
      "        var_list = [(field-mean)**2 for field in float_fields]\n",
      "        from math import sqrt\n",
      "        std =  sqrt(sum(var_list)/len(var_list))\n",
      "\n",
      "        print \"%-10s\\t%-10s\\t%-10s\\t%-10s\\t%-10s\" %(\"\",\"Mean\", \"Std\", \"Max\", \"Min\")\n",
      "        print \"%-10s\\t%-10g\\t%-10g\\t%-10g\\t%-10g\" % (field_name, mean, std, max(float_fields), min(float_fields))\n",
      "        print \"\\n\\n\""
     ],
     "language": "python",
     "metadata": {
      "slideshow": {
       "slide_type": "fragment"
      }
     },
     "outputs": [],
     "prompt_number": 66
    },
    {
     "cell_type": "markdown",
     "metadata": {
      "slideshow": {
       "slide_type": "slide"
      }
     },
     "source": [
      "Let us test our modifications:"
     ]
    },
    {
     "cell_type": "code",
     "collapsed": false,
     "input": [
      "weather_url = \"http://www.stat.berkeley.edu/classes/s133/data/bwthr.txt\"\n",
      "\n",
      "weather_table = Table(weather_url, \"Berkely Weather\")\n",
      "\n",
      "weather_table.display(3)\n",
      "\n",
      "weather_table.summary('tmax')\n",
      "weather_table.summary('tmin')\n",
      "weather_table.summary('prcp')\n"
     ],
     "language": "python",
     "metadata": {
      "slideshow": {
       "slide_type": "fragment"
      }
     },
     "outputs": [
      {
       "output_type": "stream",
       "stream": "stdout",
       "text": [
        "------------------------------------------------------------\n",
        "Berkely Weather\n",
        "------------------------------------------------------------\n",
        "Year      Month     Day       tmax      tmin      prcp      \n",
        "------------------------------------------------------------\n",
        "2005      01        1         52        40        0.17      \n",
        "2005      01        2         52        43        0.90      \n",
        "2005      01        3         47        41        0         \n",
        "\n",
        "\n",
        "\n",
        "          \tMean      \tStd       \tMax       \tMin       \n",
        "tmax      \t68.2171   \t8.07198   \t92        \t47        \n",
        "\n",
        "\n",
        "\n",
        "          \tMean      \tStd       \tMax       \tMin       \n",
        "tmin      \t49.9605   \t4.4224    \t58        \t38        \n",
        "\n",
        "\n",
        "\n",
        "          \tMean      \tStd       \tMax       \tMin       \n",
        "prcp      \t0.0626316 \t0.178182  \t1.25      \t0         \n",
        "\n",
        "\n",
        "\n"
       ]
      }
     ],
     "prompt_number": 68
    },
    {
     "cell_type": "code",
     "collapsed": false,
     "input": [],
     "language": "python",
     "metadata": {},
     "outputs": [],
     "prompt_number": 56
    }
   ],
   "metadata": {}
  }
 ]
}