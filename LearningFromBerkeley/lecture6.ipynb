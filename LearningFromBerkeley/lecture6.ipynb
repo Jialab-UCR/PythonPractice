{
 "metadata": {
  "name": "",
  "signature": "sha256:b03c8d731e55b6d941fe11cd58492fad5e2ef34f49693849f7fe88c0b8f593d9"
 },
 "nbformat": 3,
 "nbformat_minor": 0,
 "worksheets": [
  {
   "cells": [
    {
     "cell_type": "heading",
     "level": 1,
     "metadata": {
      "slideshow": {
       "slide_type": "slide"
      }
     },
     "source": [
      " Lecture 6: Data Structures and Vectorization"
     ]
    },
    {
     "cell_type": "markdown",
     "metadata": {
      "slideshow": {
       "slide_type": "fragment"
      }
     },
     "source": [
      "##This lecture topics:\n",
      "\n",
      "* Basic data structures Python: lists, sets, and dictionaries\n",
      "* Plotting arrays of data with matplotlib\n",
      "* Numpy arrays for large datasets and vectorized computations\n",
      "* Linear algebra with Numpy matrices"
     ]
    },
    {
     "cell_type": "heading",
     "level": 1,
     "metadata": {
      "slideshow": {
       "slide_type": "slide"
      }
     },
     "source": [
      "Basic data structures in Python"
     ]
    },
    {
     "cell_type": "markdown",
     "metadata": {
      "slideshow": {
       "slide_type": "fragment"
      }
     },
     "source": [
      "There are several classes in Python allowing us to **aggregate** data together and **manipulate them as a single object**:\n",
      "\n",
      "\n",
      "* **Lists** \n",
      "    * **ordered** arrays of **heterogeneous** elements\n",
      "    \n",
      "    \n",
      "* **Sets**\n",
      "    * **unordered** collections of **heterogeneous** elements\n",
      "    \n",
      "    \n",
      "* **Dictionaries** \n",
      "    * **unordered** collections of **indexed** and **heterogeneous** elements\n",
      "    \n",
      "These classes are often referred to as **data structures**, since they structure data into a coherent whole."
     ]
    },
    {
     "cell_type": "heading",
     "level": 2,
     "metadata": {
      "slideshow": {
       "slide_type": "slide"
      }
     },
     "source": [
      "Lists"
     ]
    },
    {
     "cell_type": "markdown",
     "metadata": {
      "slideshow": {
       "slide_type": "fragment"
      }
     },
     "source": [
      "We already saw how to\n",
      "\n",
      "* construct a list\n",
      "* retrieve list element using indices\n",
      "* retrieve sublists using slices\n",
      "\n",
      "**REMARK 1:** The returned element or the returned sublists are **copies** of the original list data. \n",
      "\n",
      "$\\longrightarrow$ **Modifying the returned elements or sublists will not change values of elements in the original list.**\n",
      "\n",
      "**REMARK 2:** List are **heterogeneous** data structures, since elements of **diferent types** can be stored into the same list. \n"
     ]
    },
    {
     "cell_type": "code",
     "collapsed": false,
     "input": [
      "# we construct an heterogeneous list\n",
      "x = [1,2, \"hello\", 0.54, \"bonjour\"]\n",
      "\n",
      "# we extract a sublist using the slice notation\n",
      "y = x[2:4]\n",
      "print y\n",
      "\n",
      "# we now modify the sublist contained in y\n",
      "y[0] = \"Guten Tag!\"\n",
      "\n",
      "# the original list contained in the variable x has not changed\n",
      "print x\n",
      "print y"
     ],
     "language": "python",
     "metadata": {
      "slideshow": {
       "slide_type": "slide"
      }
     },
     "outputs": [
      {
       "output_type": "stream",
       "stream": "stdout",
       "text": [
        "['hello', 0.54]\n",
        "[1, 2, 'hello', 0.54, 'bonjour']\n",
        "['Guten Tag!', 0.54]\n"
       ]
      }
     ]
    },
    {
     "cell_type": "markdown",
     "metadata": {
      "slideshow": {
       "slide_type": "slide"
      }
     },
     "source": [
      "###List are classes, and, thus, have methods!\n",
      "\n",
      "Use **tab completion** to know what methods are available to you. Then type\n",
      "\n",
      "    help(list.method_name)\n",
      "    \n",
      "to obtain information on the method.\n",
      "\n",
      "In iPython, you can also type\n",
      "\n",
      "    list.method_name?"
     ]
    },
    {
     "cell_type": "heading",
     "level": 3,
     "metadata": {
      "slideshow": {
       "slide_type": "slide"
      }
     },
     "source": [
      "List methods on examples:"
     ]
    },
    {
     "cell_type": "code",
     "collapsed": false,
     "input": [
      "#Let's create an heterogeneous list\n",
      "\n",
      "x = [1, 2, 3, 4, 5, 5, \"hello\", \"beautiful string\", 4]\n",
      "print x"
     ],
     "language": "python",
     "metadata": {
      "slideshow": {
       "slide_type": "fragment"
      }
     },
     "outputs": [
      {
       "output_type": "stream",
       "stream": "stdout",
       "text": [
        "[1, 2, 3, 4, 5, 5, 'hello', 'beautiful string', 4]\n"
       ]
      }
     ]
    },
    {
     "cell_type": "code",
     "collapsed": false,
     "input": [
      "#The append method appends an element at the end of the list\n",
      "\n",
      "x.append(2)\n",
      "\n",
      "print x"
     ],
     "language": "python",
     "metadata": {
      "slideshow": {
       "slide_type": "fragment"
      }
     },
     "outputs": [
      {
       "output_type": "stream",
       "stream": "stdout",
       "text": [
        "[1, 2, 3, 4, 5, 5, 'hello', 'beautiful string', 4, 2]\n"
       ]
      }
     ]
    },
    {
     "cell_type": "code",
     "collapsed": false,
     "input": [
      "#The count method counts the number of occurence of an element in the list\n",
      "\n",
      "print x.count(2)"
     ],
     "language": "python",
     "metadata": {
      "slideshow": {
       "slide_type": "fragment"
      }
     },
     "outputs": [
      {
       "output_type": "stream",
       "stream": "stdout",
       "text": [
        "2\n"
       ]
      }
     ]
    },
    {
     "cell_type": "code",
     "collapsed": false,
     "input": [
      "#The extend method appends a list to the original list\n",
      "\n",
      "x.extend([3, 4, 2])\n",
      "\n",
      "print x"
     ],
     "language": "python",
     "metadata": {
      "slideshow": {
       "slide_type": "slide"
      }
     },
     "outputs": [
      {
       "output_type": "stream",
       "stream": "stdout",
       "text": [
        "[1, 2, 3, 4, 5, 5, 'hello', 'beautiful string', 4, 2, 3, 4, 2]\n"
       ]
      }
     ]
    },
    {
     "cell_type": "code",
     "collapsed": false,
     "input": [
      "#The index method retrieves the index of the first occurence of an element\n",
      "\n",
      "print x.index(2)"
     ],
     "language": "python",
     "metadata": {
      "slideshow": {
       "slide_type": "fragment"
      }
     },
     "outputs": [
      {
       "output_type": "stream",
       "stream": "stdout",
       "text": [
        "1\n"
       ]
      }
     ]
    },
    {
     "cell_type": "code",
     "collapsed": false,
     "input": [
      "#The insert method inserts an element before the given index\n",
      "\n",
      "x.insert(3,\"ratatouille\")\n",
      "\n",
      "print x"
     ],
     "language": "python",
     "metadata": {
      "slideshow": {
       "slide_type": "fragment"
      }
     },
     "outputs": [
      {
       "output_type": "stream",
       "stream": "stdout",
       "text": [
        "[1, 2, 3, 'ratatouille', 4, 5, 5, 'hello', 'beautiful string', 4, 2, 3, 4, 2]\n"
       ]
      }
     ]
    },
    {
     "cell_type": "code",
     "collapsed": false,
     "input": [
      "#The pop mehtod retrieves and deletes the last list element\n",
      "\n",
      "print x.pop()\n",
      "\n",
      "print x"
     ],
     "language": "python",
     "metadata": {
      "slideshow": {
       "slide_type": "fragment"
      }
     },
     "outputs": [
      {
       "output_type": "stream",
       "stream": "stdout",
       "text": [
        "2\n",
        "[1, 2, 3, 'ratatouille', 4, 5, 5, 'hello', 'beautiful string', 4, 2, 3, 4]\n"
       ]
      }
     ]
    },
    {
     "cell_type": "code",
     "collapsed": false,
     "input": [
      "#The remove methods removes the first occurence of the element\n",
      "\n",
      "x.remove(2)\n",
      "\n",
      "print x"
     ],
     "language": "python",
     "metadata": {
      "slideshow": {
       "slide_type": "fragment"
      }
     },
     "outputs": [
      {
       "output_type": "stream",
       "stream": "stdout",
       "text": [
        "[1, 3, 'ratatouille', 4, 5, 5, 'hello', 'beautiful string', 4, 2, 3, 4]\n"
       ]
      }
     ]
    },
    {
     "cell_type": "code",
     "collapsed": false,
     "input": [
      "#The sort method sorts the original array\n",
      "\n",
      "print x.sort()\n",
      "\n",
      "print x"
     ],
     "language": "python",
     "metadata": {
      "slideshow": {
       "slide_type": "fragment"
      }
     },
     "outputs": [
      {
       "output_type": "stream",
       "stream": "stdout",
       "text": [
        "None\n",
        "[1, 2, 3, 3, 4, 4, 4, 5, 5, 'beautiful string', 'hello', 'ratatouille']\n"
       ]
      }
     ]
    },
    {
     "cell_type": "code",
     "collapsed": false,
     "input": [
      "#The reverse method sorts the original array in reverse order\n",
      "\n",
      "x.reverse()\n",
      "\n",
      "print x"
     ],
     "language": "python",
     "metadata": {
      "slideshow": {
       "slide_type": "fragment"
      }
     },
     "outputs": [
      {
       "output_type": "stream",
       "stream": "stdout",
       "text": [
        "['ratatouille', 'hello', 'beautiful string', 5, 5, 4, 4, 4, 3, 3, 2, 1]\n"
       ]
      }
     ]
    },
    {
     "cell_type": "heading",
     "level": 3,
     "metadata": {
      "slideshow": {
       "slide_type": "slide"
      }
     },
     "source": [
      "Two special functions that act on list objects"
     ]
    },
    {
     "cell_type": "code",
     "collapsed": false,
     "input": [
      "#The len function returns the length of the list\n",
      "\n",
      "y = [0, 1, 2, 3, 4, 5, 6, 7]\n",
      "\n",
      "print len(y)"
     ],
     "language": "python",
     "metadata": {
      "slideshow": {
       "slide_type": "fragment"
      }
     },
     "outputs": [
      {
       "output_type": "stream",
       "stream": "stdout",
       "text": [
        "8\n"
       ]
      }
     ]
    },
    {
     "cell_type": "code",
     "collapsed": false,
     "input": [
      "#The del function removes elements or sublists from a list\n",
      "\n",
      "del y[2:5]\n",
      "print y\n",
      "\n",
      "del y[0]\n",
      "print y"
     ],
     "language": "python",
     "metadata": {
      "slideshow": {
       "slide_type": "fragment"
      }
     },
     "outputs": [
      {
       "output_type": "stream",
       "stream": "stdout",
       "text": [
        "[0, 1, 5, 6, 7]\n",
        "[1, 5, 6, 7]\n"
       ]
      }
     ]
    },
    {
     "cell_type": "heading",
     "level": 3,
     "metadata": {
      "slideshow": {
       "slide_type": "slide"
      }
     },
     "source": [
      "Imutable lists = tuples"
     ]
    },
    {
     "cell_type": "markdown",
     "metadata": {
      "slideshow": {
       "slide_type": "fragment"
      }
     },
     "source": [
      "There is a special syntax for lists for which you can not modify elements:\n",
      "\n",
      "    my_tuple = (2, 3, 4, 5)\n",
      "\n",
      "These lists are called **tuples**. \n",
      "\n",
      "You access their elements the same way as for lists:"
     ]
    },
    {
     "cell_type": "code",
     "collapsed": false,
     "input": [
      "aaa = (2, 3, 4, 5)\n",
      "\n",
      "type(aaa)\n",
      "\n",
      "print aaa[1:3]"
     ],
     "language": "python",
     "metadata": {
      "slideshow": {
       "slide_type": "fragment"
      }
     },
     "outputs": [
      {
       "output_type": "stream",
       "stream": "stdout",
       "text": [
        "(3, 4)\n"
       ]
      }
     ]
    },
    {
     "cell_type": "heading",
     "level": 2,
     "metadata": {
      "slideshow": {
       "slide_type": "slide"
      }
     },
     "source": [
      "Sets"
     ]
    },
    {
     "cell_type": "markdown",
     "metadata": {
      "slideshow": {
       "slide_type": "fragment"
      }
     },
     "source": [
      "The class <code>set</code> is a data structure that is similar to the **mathematic notion of sets.**\n",
      "\n",
      "The notation is also similar as in math:\n",
      "\n",
      "    x = {2, 3, 4, \"hello\"}     \n",
      "    \n",
      "$\\longrightarrow$ the curly brackets are used to define a set, in a similar way as the square brackets are used to define a list\n",
      "\n",
      "The main difference is that **elements can not be repeated in a set**.\n",
      "\n",
      "**TIP:** You can use this property of sets to remove duplicates in a list. "
     ]
    },
    {
     "cell_type": "code",
     "collapsed": false,
     "input": [
      "x = {2, 3, 4, \"hello\"}\n",
      "print type(x)\n",
      "print x"
     ],
     "language": "python",
     "metadata": {
      "slideshow": {
       "slide_type": "fragment"
      }
     },
     "outputs": [
      {
       "output_type": "stream",
       "stream": "stdout",
       "text": [
        "<type 'set'>\n",
        "set([2, 3, 4, 'hello'])\n"
       ]
      }
     ]
    },
    {
     "cell_type": "code",
     "collapsed": false,
     "input": [
      "#removing duplicates from a list\n",
      "\n",
      "x = [x**2 for x in range(-9,10)]\n",
      "print x\n",
      "\n",
      "y = set(x)\n",
      "print y\n",
      "\n",
      "#we now create a sorted list with duplicates removed\n",
      "\n",
      "z = list(y)\n",
      "z.sort()\n",
      "print z"
     ],
     "language": "python",
     "metadata": {
      "slideshow": {
       "slide_type": "slide"
      }
     },
     "outputs": [
      {
       "output_type": "stream",
       "stream": "stdout",
       "text": [
        "[81, 64, 49, 36, 25, 16, 9, 4, 1, 0, 1, 4, 9, 16, 25, 36, 49, 64, 81]\n",
        "set([64, 1, 36, 0, 49, 9, 16, 81, 25, 4])\n",
        "[0, 1, 4, 9, 16, 25, 36, 49, 64, 81]\n"
       ]
      }
     ]
    },
    {
     "cell_type": "heading",
     "level": 3,
     "metadata": {
      "slideshow": {
       "slide_type": "slide"
      }
     },
     "source": [
      "Sets have also a \"comprenhesion\" mechanism, similar to lists"
     ]
    },
    {
     "cell_type": "code",
     "collapsed": false,
     "input": [
      "squares = {x**2 for x in range(-9,10)}\n",
      "print squares #notes that the duplicates are automatically removed"
     ],
     "language": "python",
     "metadata": {
      "slideshow": {
       "slide_type": "fragment"
      }
     },
     "outputs": [
      {
       "output_type": "stream",
       "stream": "stdout",
       "text": [
        "set([64, 1, 36, 0, 49, 9, 16, 81, 25, 4])\n"
       ]
      }
     ]
    },
    {
     "cell_type": "heading",
     "level": 3,
     "metadata": {
      "slideshow": {
       "slide_type": "slide"
      }
     },
     "source": [
      "Set have also methods, implementing the usual math operations on sets"
     ]
    },
    {
     "cell_type": "code",
     "collapsed": false,
     "input": [
      "warm_colors = {\"red\", \"purple\", \"orange\", \"yellow\", \"white\", \"black\"}\n",
      "cold_colors = {\"blue\", \"green\", \"white\", \"black\"}\n",
      "\n",
      "neutral_colors = cold_colors.intersection(warm_colors)\n",
      "print neutral_colors\n",
      "\n",
      "all_colors = warm_colors.union(cold_colors)\n",
      "print all_colors\n",
      "\n",
      "not_neutral_cold_colors = cold_colors.difference(warm_colors)\n",
      "print not_neutral_cold_colors"
     ],
     "language": "python",
     "metadata": {
      "slideshow": {
       "slide_type": "fragment"
      }
     },
     "outputs": [
      {
       "output_type": "stream",
       "stream": "stdout",
       "text": [
        "set(['white', 'black'])\n",
        "set(['blue', 'orange', 'black', 'red', 'purple', 'green', 'white', 'yellow'])\n",
        "set(['blue', 'green'])\n"
       ]
      }
     ]
    },
    {
     "cell_type": "heading",
     "level": 2,
     "metadata": {
      "slideshow": {
       "slide_type": "slide"
      }
     },
     "source": [
      "Dictionaries"
     ]
    },
    {
     "cell_type": "markdown",
     "metadata": {
      "slideshow": {
       "slide_type": "fragment"
      }
     },
     "source": [
      "Dictionaries are sets whose elements are pairs of \n",
      "\n",
      "    my_dico = {'key1':value1, 'key2':value2, 'key3':value3}\n",
      "\n",
      "One retrieves the value of a given key with the following indexing syntax:\n",
      "\n",
      "    my_value1 = my_dico['key1']\n",
      "    my_value2 = my_dico['key2']\n",
      "    my_value3 = my_dico['key3']\n",
      "    \n",
      "Usually, **keys are strings**."
     ]
    },
    {
     "cell_type": "code",
     "collapsed": false,
     "input": [
      "preferred_things = {'car':'Volkswagen Jetta', 'number':3, 'colors':{'blue','red'}}\n",
      "\n",
      "print preferred_things['car']\n",
      "print preferred_things['number']\n",
      "print preferred_things['colors']"
     ],
     "language": "python",
     "metadata": {
      "slideshow": {
       "slide_type": "slide"
      }
     },
     "outputs": [
      {
       "output_type": "stream",
       "stream": "stdout",
       "text": [
        "Volkswagen Jetta\n",
        "3\n",
        "set(['blue', 'red'])\n"
       ]
      }
     ]
    },
    {
     "cell_type": "heading",
     "level": 3,
     "metadata": {
      "slideshow": {
       "slide_type": "slide"
      }
     },
     "source": [
      "Dictionaries, as classes, have methods"
     ]
    },
    {
     "cell_type": "code",
     "collapsed": false,
     "input": [
      "#To retrieve the keys (usuful in a loop)\n",
      "preferred_things.keys()\n",
      "\n",
      "#To check if a key is present\n",
      "preferred_things.has_key('car')\n",
      "\n",
      "for key in preferred_things.keys():\n",
      "    print preferred_things[key]"
     ],
     "language": "python",
     "metadata": {
      "slideshow": {
       "slide_type": "fragment"
      }
     },
     "outputs": [
      {
       "output_type": "stream",
       "stream": "stdout",
       "text": [
        "Volkswagen Jetta\n",
        "set(['blue', 'red'])\n",
        "3\n"
       ]
      }
     ]
    },
    {
     "cell_type": "heading",
     "level": 3,
     "metadata": {
      "slideshow": {
       "slide_type": "slide"
      }
     },
     "source": [
      "Comprehension for dictionaries"
     ]
    },
    {
     "cell_type": "code",
     "collapsed": false,
     "input": [
      "phone_book = [\\\n",
      "            ('Julien   ', '510 234 2221'),\\\n",
      "            ('Julien   ', '413 234 2222'),\\\n",
      "            ('Mathieux ', '510 222 8921'),\\\n",
      "            ('Emilie   ', '510 333 1234'),\\\n",
      "            ]\n",
      "            \n",
      "phone_dic = {name: phone for (name, phone) in phone_book}\n",
      "\n",
      "#Caution: duplicate keys in dictionaries are removed\n",
      "for name in phone_dic.keys():\n",
      "    print name, phone_dic[name]"
     ],
     "language": "python",
     "metadata": {
      "slideshow": {
       "slide_type": "fragment"
      }
     },
     "outputs": [
      {
       "output_type": "stream",
       "stream": "stdout",
       "text": [
        "Julien    413 234 2222\n",
        "Emilie    510 333 1234\n",
        "Mathieux  510 222 8921\n"
       ]
      },
      {
       "output_type": "stream",
       "stream": "stdout",
       "text": [
        "Julien    413 234 2222\n",
        "Emilie    510 333 1234\n",
        "Mathieux  510 222 8921\n"
       ]
      }
     ],
     "prompt_number": 29
    },
    {
     "cell_type": "heading",
     "level": 2,
     "metadata": {
      "slideshow": {
       "slide_type": "slide"
      }
     },
     "source": [
      "Plotting arrays of data with matplotlib"
     ]
    },
    {
     "cell_type": "markdown",
     "metadata": {
      "slideshow": {
       "slide_type": "fragment"
      }
     },
     "source": [
      "Very often data come in the form of arrays of numbers that one wants to plot in order to get an intuition on the data.\n",
      "\n",
      "In Python, the <code>matplotlib.pyplot</code> module takes care of that. To use it, invoke\n",
      "\n",
      "    import matplotlib.pyplot as plt\n",
      "\n",
      "The <code>as plt</code> part of the previous statement, allows you to shorten the module name. In your code, you can write\n",
      "\n",
      "    plt.plot(x,y)\n",
      "    \n",
      "instead of the more verbose\n",
      "\n",
      "    mathplotlib.pyplot.plot(x,Y)\n"
     ]
    },
    {
     "cell_type": "heading",
     "level": 3,
     "metadata": {
      "slideshow": {
       "slide_type": "slide"
      }
     },
     "source": [
      "iPython notebook and matplotlib"
     ]
    },
    {
     "cell_type": "markdown",
     "metadata": {
      "slideshow": {
       "slide_type": "slide"
      }
     },
     "source": [
      "In the notebook, one needs to invoke the magic command\n",
      "\n",
      "    %matplotlib inline\n",
      "\n",
      "to have the plots drawn directly in the notebook, and not in a sperate widow.\n",
      "\n",
      "Compare the following:"
     ]
    },
    {
     "cell_type": "code",
     "collapsed": false,
     "input": [
      "import matplotlib.pyplot as plt\n",
      "\n",
      "data = [x**2 for x in range(100)]\n",
      "plt.plot(data)\n",
      "plt.show()"
     ],
     "language": "python",
     "metadata": {
      "slideshow": {
       "slide_type": "fragment"
      }
     },
     "outputs": [
      {
       "metadata": {},
       "output_type": "display_data",
       "png": "[encoded data removed]",
       "text": [
        "<matplotlib.figure.Figure at 0x10b57e490>"
       ]
      }
     ],
     "prompt_number": 7
    },
    {
     "cell_type": "code",
     "collapsed": false,
     "input": [
      "%matplotlib inline\n",
      "plt.plot(data)\n"
     ],
     "language": "python",
     "metadata": {
      "slideshow": {
       "slide_type": "fragment"
      }
     },
     "outputs": [
      {
       "metadata": {},
       "output_type": "pyout",
       "prompt_number": 8,
       "text": [
        "[<matplotlib.lines.Line2D at 0x10b33cb90>]"
       ]
      },
      {
       "metadata": {},
       "output_type": "display_data",
       "png": "[encoded data removed]",
       "text": [
        "<matplotlib.figure.Figure at 0x10b6f55d0>"
       ]
      }
     ],
     "prompt_number": 8
    },
    {
     "cell_type": "heading",
     "level": 3,
     "metadata": {
      "slideshow": {
       "slide_type": "slide"
      }
     },
     "source": [
      "Basic objects of the matplotlib module"
     ]
    },
    {
     "cell_type": "markdown",
     "metadata": {
      "slideshow": {
       "slide_type": "fragment"
      }
     },
     "source": [
      "There are two basic objects for plotting:\n",
      "\n",
      "* the **Figure** object that represents the **canvas** on which to plot\n",
      "* the **Axes** object that represents the coordinate axes to be plotted on the canvas"
     ]
    },
    {
     "cell_type": "heading",
     "level": 3,
     "metadata": {
      "slideshow": {
       "slide_type": "slide"
      }
     },
     "source": [
      "Constructing the Figure and Axes objects"
     ]
    },
    {
     "cell_type": "markdown",
     "metadata": {
      "slideshow": {
       "slide_type": "fragment"
      }
     },
     "source": [
      "The simplest is to construct the figure object, as well as the needed axes, organized into a grid, with the **subplots** function:\n",
      "\n",
      "    fig, axes = plt.subplots(nrows=2, ncol=3, figsize=(14, 4))\n",
      "\n",
      "It initializes the canvas to\n",
      "\n",
      "* a <code>nrows</code> x <code>ncol</code> **grid** of axes\n",
      "* of size <code>figsize</code> \n",
      "\n",
      "and returns\n",
      "\n",
      "* the figure object, which is stored in the variable <code>fig</code>\n",
      "* the axes objects, which are stored in the variable <code>axes</code> in a list of lists:\n",
      "\n",
      "    def axes = [ [ax1, ax2, ax3], [ax4, ax5, ax6]]\n",
      "    "
     ]
    },
    {
     "cell_type": "heading",
     "level": 3,
     "metadata": {
      "slideshow": {
       "slide_type": "slide"
      }
     },
     "source": [
      "Retrieving the axes and plotting on them"
     ]
    },
    {
     "cell_type": "markdown",
     "metadata": {
      "slideshow": {
       "slide_type": "fragment"
      }
     },
     "source": [
      "Once a axes has been retrieved, for instance with the command:\n",
      "\n",
      "    ax = axes[0][1]\n",
      "\n",
      "one can plot data on this axes, using one of the following standard plots:\n",
      "\n",
      "    ax.plot(x_value, y_value)            #standard interpolation of the points (x, y)\n",
      "    ax.scatter(x_value, y_value)         #standar scatter plot of the points (x, y)\n",
      "    ax.hist(data_points, bins=20)        #frequency histogram with 20 bins\n",
      "\n",
      "These plot commands have many options, which I encourage to explore for yourself.\n",
      "\n",
      " "
     ]
    },
    {
     "cell_type": "heading",
     "level": 3,
     "metadata": {
      "slideshow": {
       "slide_type": "slide"
      }
     },
     "source": [
      "Setting axes titles and labels"
     ]
    },
    {
     "cell_type": "markdown",
     "metadata": {
      "slideshow": {
       "slide_type": "fragment"
      }
     },
     "source": [
      "The Axes objects have methods to\n",
      "\n",
      ">* label the axes\n",
      ">* give a tittle to the plot\n",
      ">* and many more, which you should explore by yourself\n",
      "\n",
      "    ax.set_title(\"a title\")\n",
      "    ax.set_xlabel(\"a x label\")\n",
      "    ax.set_ylabel(\"a y label\")\n"
     ]
    },
    {
     "cell_type": "heading",
     "level": 2,
     "metadata": {
      "slideshow": {
       "slide_type": "slide"
      }
     },
     "source": [
      "Example:"
     ]
    },
    {
     "cell_type": "code",
     "collapsed": false,
     "input": [
      "from random import randrange\n",
      "x_values = [x for x in range(100)]\n",
      "y_values = [randrange(100) for x in x_values]\n",
      "\n",
      "\n",
      "fig, axes = plt.subplots(2,2, figsize=(12,6))\n",
      "\n",
      "#retrieving axies from the axes array returned by subplot\n",
      "ax1 = axes[0][0]; ax2 = axes[0][1]; ax3 = axes[1][0]; ax4 = axes[1][1]\n",
      "\n",
      "#diffent plotting schemes\n",
      "ax1.plot(x_values,y_values)\n",
      "\n",
      "ax2.scatter(x_values, y_values)\n",
      "\n",
      "ax3.hist(y_values, bins=20)\n",
      "\n",
      "#the plotting functions have many options: explore by yourself\n",
      "ax4.plot(x_values, linestyle='--', color='r')\n",
      "\n",
      "#setting axes labels and titles\n",
      "for ax in [ax1, ax2, ax3, ax4]:\n",
      "    ax.set_title('Interpolation of a random sequence of points')\n",
      "    ax.set_ylabel('Random Values');\n",
      "    ax.set_xlabel('x values');\n",
      "\n",
      "#make sure the legend are not overlapping\n",
      "fig.tight_layout()\n"
     ],
     "language": "python",
     "metadata": {
      "slideshow": {
       "slide_type": "fragment"
      }
     },
     "outputs": [
      {
       "metadata": {},
       "output_type": "display_data",
       "png": "[encoded data removed]",
       "text": [
        "<matplotlib.figure.Figure at 0x10b572a90>"
       ]
      }
     ],
     "prompt_number": 9
    },
    {
     "cell_type": "heading",
     "level": 2,
     "metadata": {
      "slideshow": {
       "slide_type": "slide"
      }
     },
     "source": [
      "Vectors and matrices"
     ]
    },
    {
     "cell_type": "markdown",
     "metadata": {
      "slideshow": {
       "slide_type": "fragment"
      }
     },
     "source": [
      "One would like \n",
      "\n",
      "* perform numerical operations on **row or colum vectors**\n",
      "* perfom numerical operations on **matrices**\n",
      "\n",
      "That is mathematical objects of the form\n",
      "#$\\qquad\\qquad\\left( \\begin{array}{ccc}\n",
      "a & b & c \\\\\n",
      "d & e & f \\\\\n",
      "g & h & i \n",
      "\\end{array} \\right) \\qquad \n",
      "\\left( \\begin{array}{ccc}\n",
      "a & b & c \\\\ \n",
      "\\end{array} \\right)\\qquad\n",
      "\\left( \\begin{array}{c}\n",
      "a \\\\\n",
      "b \\\\\n",
      "c  \n",
      "\\end{array} \\right)\n",
      "$"
     ]
    },
    {
     "cell_type": "heading",
     "level": 3,
     "metadata": {
      "slideshow": {
       "slide_type": "slide"
      }
     },
     "source": [
      "On can use lists to represent these objects"
     ]
    },
    {
     "cell_type": "code",
     "collapsed": false,
     "input": [
      "# row vector\n",
      "v = [1, 2, 4]\n",
      "\n",
      "# column vector\n",
      "w = [[1], [2], [4]]\n",
      "\n",
      "# 2 x 3 matrix\n",
      "A = [ [2, 4.4, 6], [0, 3, 9] ]\n",
      "\n",
      "print v\n",
      "print w\n",
      "print A"
     ],
     "language": "python",
     "metadata": {
      "slideshow": {
       "slide_type": "fragment"
      }
     },
     "outputs": [
      {
       "output_type": "stream",
       "stream": "stdout",
       "text": [
        "[1, 2, 4]\n",
        "[[1], [2], [4]]\n",
        "[[2, 4.4, 6], [0, 3, 9]]\n"
       ]
      }
     ],
     "prompt_number": 12
    },
    {
     "cell_type": "heading",
     "level": 2,
     "metadata": {
      "slideshow": {
       "slide_type": "slide"
      }
     },
     "source": [
      "However, the there are several issues with that..."
     ]
    },
    {
     "cell_type": "heading",
     "level": 4,
     "metadata": {
      "slideshow": {
       "slide_type": "fragment"
      }
     },
     "source": [
      "The addition is defined, but it is not what we expect:"
     ]
    },
    {
     "cell_type": "code",
     "collapsed": false,
     "input": [
      "v + v"
     ],
     "language": "python",
     "metadata": {
      "slideshow": {
       "slide_type": "fragment"
      }
     },
     "outputs": [
      {
       "metadata": {},
       "output_type": "pyout",
       "prompt_number": 26,
       "text": [
        "[1, 2, 4, 1, 2, 4]"
       ]
      },
      {
       "metadata": {},
       "output_type": "pyout",
       "prompt_number": 34,
       "text": [
        "[1, 2, 4, 1, 2, 4]"
       ]
      }
     ],
     "prompt_number": 34
    },
    {
     "cell_type": "heading",
     "level": 4,
     "metadata": {
      "slideshow": {
       "slide_type": "fragment"
      }
     },
     "source": [
      "The multiplication of a vector by a scalar is defined, but again is not what we expect:"
     ]
    },
    {
     "cell_type": "code",
     "collapsed": false,
     "input": [
      "3 * v"
     ],
     "language": "python",
     "metadata": {
      "slideshow": {
       "slide_type": "fragment"
      }
     },
     "outputs": [
      {
       "metadata": {},
       "output_type": "pyout",
       "prompt_number": 27,
       "text": [
        "[1, 2, 4, 1, 2, 4, 1, 2, 4]"
       ]
      },
      {
       "metadata": {},
       "output_type": "pyout",
       "prompt_number": 35,
       "text": [
        "[1, 2, 4, 1, 2, 4, 1, 2, 4]"
       ]
      }
     ],
     "prompt_number": 35
    },
    {
     "cell_type": "heading",
     "level": 4,
     "metadata": {
      "slideshow": {
       "slide_type": "fragment"
      }
     },
     "source": [
      "The matrix multiplication between matrices of appropriate size is not defined:"
     ]
    },
    {
     "cell_type": "code",
     "collapsed": false,
     "input": [
      "A * w"
     ],
     "language": "python",
     "metadata": {
      "slideshow": {
       "slide_type": "fragment"
      }
     },
     "outputs": [
      {
       "ename": "TypeError",
       "evalue": "can't multiply sequence by non-int of type 'list'",
       "output_type": "pyerr",
       "traceback": [
        "\u001b[0;31m---------------------------------------------------------------------------\u001b[0m\n\u001b[0;31mTypeError\u001b[0m                                 Traceback (most recent call last)",
        "\u001b[0;32m<ipython-input-28-5bea4bea9458>\u001b[0m in \u001b[0;36m<module>\u001b[0;34m()\u001b[0m\n\u001b[0;32m----> 1\u001b[0;31m \u001b[0mA\u001b[0m \u001b[0;34m*\u001b[0m \u001b[0mw\u001b[0m\u001b[0;34m\u001b[0m\u001b[0m\n\u001b[0m",
        "\u001b[0;31mTypeError\u001b[0m: can't multiply sequence by non-int of type 'list'"
       ]
      },
      {
       "ename": "TypeError",
       "evalue": "can't multiply sequence by non-int of type 'list'",
       "output_type": "pyerr",
       "traceback": [
        "\u001b[0;31m---------------------------------------------------------------------------\u001b[0m\n\u001b[0;31mTypeError\u001b[0m                                 Traceback (most recent call last)",
        "\u001b[0;32m<ipython-input-36-5bea4bea9458>\u001b[0m in \u001b[0;36m<module>\u001b[0;34m()\u001b[0m\n\u001b[0;32m----> 1\u001b[0;31m \u001b[0mA\u001b[0m \u001b[0;34m*\u001b[0m \u001b[0mw\u001b[0m\u001b[0;34m\u001b[0m\u001b[0m\n\u001b[0m",
        "\u001b[0;31mTypeError\u001b[0m: can't multiply sequence by non-int of type 'list'"
       ]
      }
     ],
     "prompt_number": 36
    },
    {
     "cell_type": "heading",
     "level": 3,
     "metadata": {
      "slideshow": {
       "slide_type": "slide"
      }
     },
     "source": [
      "Element manipulation is cumbersome"
     ]
    },
    {
     "cell_type": "heading",
     "level": 4,
     "metadata": {
      "slideshow": {
       "slide_type": "fragment"
      }
     },
     "source": [
      "Applying a function to a matrix requires to access each elements one at a time..."
     ]
    },
    {
     "cell_type": "markdown",
     "metadata": {
      "slideshow": {
       "slide_type": "fragment"
      }
     },
     "source": [
      "Suppose we want to apply the exmponential function to each element of a matrix.\n",
      "\n",
      "Then, we can do this with a for loop:"
     ]
    },
    {
     "cell_type": "code",
     "collapsed": false,
     "input": [
      "from math import exp\n",
      "\n",
      "B = []\n",
      "for i in range(2):\n",
      "    row = []\n",
      "    for j in range(3):\n",
      "        row.append(exp(A[i][j]))\n",
      "    B.append(row)\n",
      "print B"
     ],
     "language": "python",
     "metadata": {
      "slideshow": {
       "slide_type": "fragment"
      }
     },
     "outputs": []
    },
    {
     "cell_type": "markdown",
     "metadata": {
      "slideshow": {
       "slide_type": "slide"
      }
     },
     "source": [
      "Or with an iterated list comprehension:"
     ]
    },
    {
     "cell_type": "code",
     "collapsed": false,
     "input": [
      "B = [ [exp(A[i][j]) for j in range(3)] for i in range(2)]\n",
      "\n",
      "print B "
     ],
     "language": "python",
     "metadata": {
      "slideshow": {
       "slide_type": "fragment"
      }
     },
     "outputs": []
    },
    {
     "cell_type": "heading",
     "level": 2,
     "metadata": {
      "slideshow": {
       "slide_type": "slide"
      }
     },
     "source": [
      "Numpy arrays solve these problems"
     ]
    },
    {
     "cell_type": "markdown",
     "metadata": {
      "slideshow": {
       "slide_type": "fragment"
      }
     },
     "source": [
      "The Numpy module provides a class called <code>array</code> that\n",
      "\n",
      "* provides **basic numerical operations on arrays of numbers**\n",
      "* allows to **apply a function to the whole array at once**\n",
      "\n",
      "> This second feature is called **VECTORIZATION**\n",
      "\n",
      "Numpy stands for **Numerical Python**. Many interesting functions involving math and matrices can be found in this module."
     ]
    },
    {
     "cell_type": "heading",
     "level": 3,
     "metadata": {
      "slideshow": {
       "slide_type": "slide"
      }
     },
     "source": [
      "Importing Numpy"
     ]
    },
    {
     "cell_type": "code",
     "collapsed": false,
     "input": [
      "from numpy import array\n",
      "import numpy as np"
     ],
     "language": "python",
     "metadata": {
      "slideshow": {
       "slide_type": "fragment"
      }
     },
     "outputs": [],
     "prompt_number": 37
    },
    {
     "cell_type": "markdown",
     "metadata": {
      "slideshow": {
       "slide_type": "fragment"
      }
     },
     "source": [
      "Above, the first command \n",
      "\n",
      "* import the class <code>array</code> in way so that that **we don't need any prefixes** to access the <code>array</code> class.\n",
      "\n",
      "while the second command\n",
      "\n",
      "* import all the other functions and classes from Numpy as np, so that we can use them as follows:\n",
      " \n",
      "        np.function_name\n"
     ]
    },
    {
     "cell_type": "heading",
     "level": 3,
     "metadata": {
      "slideshow": {
       "slide_type": "slide"
      }
     },
     "source": [
      "Creating an Numpy array"
     ]
    },
    {
     "cell_type": "markdown",
     "metadata": {
      "slideshow": {
       "slide_type": "fragment"
      }
     },
     "source": [
      "To create an object of the class <code>array</code>, one can\n",
      "\n",
      "* construct a list of representing the matrix of the right size (i.e. n x m matrix)\n",
      "* then feed it the the <code>array</code> constructor"
     ]
    },
    {
     "cell_type": "code",
     "collapsed": false,
     "input": [
      "a = [[2, 4, 8.9], [2.5, 9, 0], [3, 4, 6], [3, 1, 2.4]] # list representing a 4 x 2 matrix\n",
      "A = array(a)\n",
      "\n",
      "print A"
     ],
     "language": "python",
     "metadata": {
      "slideshow": {
       "slide_type": "fragment"
      }
     },
     "outputs": [
      {
       "output_type": "stream",
       "stream": "stdout",
       "text": [
        "[[ 2.   4.   8.9]\n",
        " [ 2.5  9.   0. ]\n",
        " [ 3.   4.   6. ]\n",
        " [ 3.   1.   2.4]]\n"
       ]
      }
     ],
     "prompt_number": 38
    },
    {
     "cell_type": "markdown",
     "metadata": {
      "slideshow": {
       "slide_type": "fragment"
      }
     },
     "source": [
      "The printout of a Numpy array is already nicer than that of a list of lists."
     ]
    },
    {
     "cell_type": "heading",
     "level": 3,
     "metadata": {
      "slideshow": {
       "slide_type": "slide"
      }
     },
     "source": [
      "Shape and size"
     ]
    },
    {
     "cell_type": "markdown",
     "metadata": {
      "slideshow": {
       "slide_type": "slide"
      }
     },
     "source": [
      "The class attribute\n",
      "\n",
      "    array.shape\n",
      "    \n",
      "is a tuple of two integers, where \n",
      "\n",
      "* the 1st element is the **number of rows**\n",
      "* the 2nd element is the **number of columns** "
     ]
    },
    {
     "cell_type": "code",
     "collapsed": false,
     "input": [
      "print \"The number of rows of\\n\\n\", A, \"\\n\\nis\", A.shape[0]\n",
      "print \"\\nWhile the number of columns of\\n\\n\", A, \"\\n\\nis\", A.shape[1]"
     ],
     "language": "python",
     "metadata": {
      "slideshow": {
       "slide_type": "slide"
      }
     },
     "outputs": [
      {
       "output_type": "stream",
       "stream": "stdout",
       "text": [
        "The number of rows of\n",
        "\n",
        "[[ 2.   4.   8.9]\n",
        " [ 2.5  9.   0. ]\n",
        " [ 3.   4.   6. ]\n",
        " [ 3.   1.   2.4]] \n",
        "\n",
        "is 4\n",
        "\n",
        "While the number of columns of\n",
        "\n",
        "[[ 2.   4.   8.9]\n",
        " [ 2.5  9.   0. ]\n",
        " [ 3.   4.   6. ]\n",
        " [ 3.   1.   2.4]] \n",
        "\n",
        "is 3\n"
       ]
      }
     ],
     "prompt_number": 39
    },
    {
     "cell_type": "markdown",
     "metadata": {
      "slideshow": {
       "slide_type": "slide"
      }
     },
     "source": [
      "The class attribue\n",
      "\n",
      "    array.size\n",
      "\n",
      "give the total numbers of elements in the array"
     ]
    },
    {
     "cell_type": "code",
     "collapsed": false,
     "input": [
      "A.size"
     ],
     "language": "python",
     "metadata": {
      "slideshow": {
       "slide_type": "fragment"
      }
     },
     "outputs": [
      {
       "metadata": {},
       "output_type": "pyout",
       "prompt_number": 40,
       "text": [
        "12"
       ]
      }
     ],
     "prompt_number": 40
    },
    {
     "cell_type": "heading",
     "level": 3,
     "metadata": {
      "slideshow": {
       "slide_type": "slide"
      }
     },
     "source": [
      "Reshaping arrays"
     ]
    },
    {
     "cell_type": "markdown",
     "metadata": {
      "slideshow": {
       "slide_type": "slide"
      }
     },
     "source": [
      "One can reshape a given Numpy array using the\n",
      "\n",
      "    array.reshape((n,m))\n",
      "\n",
      "methods that return an array of shape $(n,m)$:\n",
      "\n",
      "* n = number of rows\n",
      "* m = number of columns"
     ]
    },
    {
     "cell_type": "code",
     "collapsed": false,
     "input": [
      "# a 4 x 3 array\n",
      "print A, \"\\n\\n\""
     ],
     "language": "python",
     "metadata": {
      "slideshow": {
       "slide_type": "fragment"
      }
     },
     "outputs": [
      {
       "output_type": "stream",
       "stream": "stdout",
       "text": [
        "[[ 2.   4.   8.9]\n",
        " [ 2.5  9.   0. ]\n",
        " [ 3.   4.   6. ]\n",
        " [ 3.   1.   2.4]] \n",
        "\n",
        "\n"
       ]
      }
     ],
     "prompt_number": 41
    },
    {
     "cell_type": "code",
     "collapsed": false,
     "input": [
      "# a 2 x 6 array\n",
      "print A.reshape(2, 6), \"\\n\\n\""
     ],
     "language": "python",
     "metadata": {
      "slideshow": {
       "slide_type": "fragment"
      }
     },
     "outputs": [
      {
       "output_type": "stream",
       "stream": "stdout",
       "text": [
        "[[ 2.   4.   8.9  2.5  9.   0. ]\n",
        " [ 3.   4.   6.   3.   1.   2.4]] \n",
        "\n",
        "\n"
       ]
      }
     ],
     "prompt_number": 42
    },
    {
     "cell_type": "code",
     "collapsed": false,
     "input": [
      "#a 1 x 12 array, i.e. a row vector\n",
      "print A.reshape(1, 12), \"\\n\\n\""
     ],
     "language": "python",
     "metadata": {
      "slideshow": {
       "slide_type": "slide"
      }
     },
     "outputs": [
      {
       "output_type": "stream",
       "stream": "stdout",
       "text": [
        "[[ 2.   4.   8.9  2.5  9.   0.   3.   4.   6.   3.   1.   2.4]] \n",
        "\n",
        "\n"
       ]
      }
     ],
     "prompt_number": 43
    },
    {
     "cell_type": "code",
     "collapsed": false,
     "input": [
      "#a 12 x 1 array, i.e. a row vector\n",
      "print A.reshape(12, 1), \"\\n\\n\""
     ],
     "language": "python",
     "metadata": {
      "slideshow": {
       "slide_type": "fragment"
      }
     },
     "outputs": [
      {
       "output_type": "stream",
       "stream": "stdout",
       "text": [
        "[[ 2. ]\n",
        " [ 4. ]\n",
        " [ 8.9]\n",
        " [ 2.5]\n",
        " [ 9. ]\n",
        " [ 0. ]\n",
        " [ 3. ]\n",
        " [ 4. ]\n",
        " [ 6. ]\n",
        " [ 3. ]\n",
        " [ 1. ]\n",
        " [ 2.4]] \n",
        "\n",
        "\n"
       ]
      }
     ],
     "prompt_number": 44
    },
    {
     "cell_type": "heading",
     "level": 4,
     "metadata": {
      "slideshow": {
       "slide_type": "slide"
      }
     },
     "source": [
      "Caution: Reshaping a $n$ x $m$ array into a $m$ x $n$ one is NOT equivalent to transposing the array:"
     ]
    },
    {
     "cell_type": "code",
     "collapsed": false,
     "input": [
      "B = A.reshape(2, 6)\n",
      "\n",
      "print B, \"\\n\\n\"\n",
      "\n",
      "print B.transpose(), \"\\n\\n\"\n",
      "\n",
      "print B.reshape(6, 2)"
     ],
     "language": "python",
     "metadata": {
      "slideshow": {
       "slide_type": "fragment"
      }
     },
     "outputs": [
      {
       "output_type": "stream",
       "stream": "stdout",
       "text": [
        "[[ 2.   4.   8.9  2.5  9.   0. ]\n",
        " [ 3.   4.   6.   3.   1.   2.4]] \n",
        "\n",
        "\n",
        "[[ 2.   3. ]\n",
        " [ 4.   4. ]\n",
        " [ 8.9  6. ]\n",
        " [ 2.5  3. ]\n",
        " [ 9.   1. ]\n",
        " [ 0.   2.4]] \n",
        "\n",
        "\n",
        "[[ 2.   4. ]\n",
        " [ 8.9  2.5]\n",
        " [ 9.   0. ]\n",
        " [ 3.   4. ]\n",
        " [ 6.   3. ]\n",
        " [ 1.   2.4]]\n"
       ]
      }
     ],
     "prompt_number": 45
    },
    {
     "cell_type": "heading",
     "level": 3,
     "metadata": {
      "slideshow": {
       "slide_type": "slide"
      }
     },
     "source": [
      "Vectorization"
     ]
    },
    {
     "cell_type": "markdown",
     "metadata": {
      "slideshow": {
       "slide_type": "fragment"
      }
     },
     "source": [
      "Given a **function** $F:\\mathbb{R}\\rightarrow \\mathbb{R}$ and a **array of numbers**\n",
      "\n",
      "$$A = \\qquad\\qquad\\left( \\begin{array}{ccc}\n",
      "x_{00} & x_{01} & x_{02} \\\\\n",
      "x_{10} & x_{11} & x_{12} \\\\\n",
      "x_{20} & x_{21} & x_{22} \n",
      "\\end{array} \\right)\n",
      "$$\n",
      "\n",
      "we would like to obtain the array $F(A)$ given by applying the function $F$ to each of the array's entries:\n",
      "\n",
      "$$F(A) = \\qquad\\qquad\\left( \\begin{array}{ccc}\n",
      "F(x_{00}) & F(x_{01}) & F(x_{02}) \\\\\n",
      "F(x_{10}) & F(x_{11}) & F(x_{12}) \\\\\n",
      "F(x_{20}) & F(x_{21}) & F(x_{22}) \n",
      "\\end{array} \\right)\n",
      "$$\n",
      "\n"
     ]
    },
    {
     "cell_type": "markdown",
     "metadata": {
      "slideshow": {
       "slide_type": "slide"
      }
     },
     "source": [
      "For that $\\longrightarrow$ simply apply the function to the array!\n",
      "\n",
      "**REMARK:** **This is possible only if you use the function defined in the Numpy module!!!!**"
     ]
    },
    {
     "cell_type": "code",
     "collapsed": false,
     "input": [
      "print B"
     ],
     "language": "python",
     "metadata": {
      "slideshow": {
       "slide_type": "fragment"
      }
     },
     "outputs": [
      {
       "output_type": "stream",
       "stream": "stdout",
       "text": [
        "[[ 2.   4.   8.9  2.5  9.   0. ]\n",
        " [ 3.   4.   6.   3.   1.   2.4]]\n"
       ]
      }
     ],
     "prompt_number": 46
    },
    {
     "cell_type": "code",
     "collapsed": false,
     "input": [
      "print np.cos(B)"
     ],
     "language": "python",
     "metadata": {
      "slideshow": {
       "slide_type": "fragment"
      }
     },
     "outputs": [
      {
       "output_type": "stream",
       "stream": "stdout",
       "text": [
        "[[-0.41614684 -0.65364362 -0.86543521 -0.80114362 -0.91113026  1.        ]\n",
        " [-0.9899925  -0.65364362  0.96017029 -0.9899925   0.54030231 -0.73739372]]\n"
       ]
      }
     ],
     "prompt_number": 47
    },
    {
     "cell_type": "code",
     "collapsed": false,
     "input": [
      "print np.exp(B)"
     ],
     "language": "python",
     "metadata": {
      "slideshow": {
       "slide_type": "fragment"
      }
     },
     "outputs": [
      {
       "output_type": "stream",
       "stream": "stdout",
       "text": [
        "[[  7.38905610e+00   5.45981500e+01   7.33197354e+03   1.21824940e+01\n",
        "    8.10308393e+03   1.00000000e+00]\n",
        " [  2.00855369e+01   5.45981500e+01   4.03428793e+02   2.00855369e+01\n",
        "    2.71828183e+00   1.10231764e+01]]\n"
       ]
      }
     ],
     "prompt_number": 48
    },
    {
     "cell_type": "heading",
     "level": 2,
     "metadata": {
      "slideshow": {
       "slide_type": "slide"
      }
     },
     "source": [
      "Mathematical operations on arrays"
     ]
    },
    {
     "cell_type": "markdown",
     "metadata": {
      "slideshow": {
       "slide_type": "fragment"
      }
     },
     "source": [
      "One can use the usual math symbols, but \n",
      "\n",
      "> **CAUTION: The operations are component-wise!**\n",
      "\n",
      "> **They are not the one we expect from linear algebra!!!!**\n",
      "\n",
      "The Numpy module has also convenient functions to define special arrays:\n",
      "####Array with 1's on the diagonal and zero elsewhere:\n",
      "    np.eye(n,m) \n",
      "####Array with zero everywhere:\n",
      "    np.zeros(n,m)\n",
      "    \n",
      "####Array of values linearly spaced between a range of numbers:\n",
      "\n",
      "    np.linspace(a, b, n)\n",
      "\n",
      "will construct a 1D-array of $n$ numbers linearly (i.e. equally) spaced between $a$ and $b$."
     ]
    },
    {
     "cell_type": "code",
     "collapsed": false,
     "input": [
      "A = np.eye(2,3)\n",
      "B = np.eye(2,3)\n",
      "C = np.zeros((2,9))\n",
      "D = np.linspace(12, 500, 5)\n",
      "\n",
      "NNL = \"\\n\\n\"\n",
      "\n",
      "arrays = [A, C, D, A + B, A - B, 3*A, A**B, D/3,]\n",
      "\n",
      "operations = [\"A\", \"C\", \"D\", \"A + B\", \"A - B\", \"3*A\", \"A**B\", \"D/3\"]\n",
      "\n",
      "for arr, op in zip(arrays, operations):\n",
      "    print op, \"=\", NNL, arr, NNL"
     ],
     "language": "python",
     "metadata": {
      "slideshow": {
       "slide_type": "fragment"
      }
     },
     "outputs": [
      {
       "output_type": "stream",
       "stream": "stdout",
       "text": [
        "A = \n",
        "\n",
        "[[ 1.  0.  0.]\n",
        " [ 0.  1.  0.]] \n",
        "\n",
        "\n",
        "C = \n",
        "\n",
        "[[ 0.  0.  0.  0.  0.  0.  0.  0.  0.]\n",
        " [ 0.  0.  0.  0.  0.  0.  0.  0.  0.]] \n",
        "\n",
        "\n",
        "D = \n",
        "\n",
        "[  12.  134.  256.  378.  500.] \n",
        "\n",
        "\n",
        "A + B = \n",
        "\n",
        "[[ 2.  0.  0.]\n",
        " [ 0.  2.  0.]] \n",
        "\n",
        "\n",
        "A - B = \n",
        "\n",
        "[[ 0.  0.  0.]\n",
        " [ 0.  0.  0.]] \n",
        "\n",
        "\n",
        "3*A = \n",
        "\n",
        "[[ 3.  0.  0.]\n",
        " [ 0.  3.  0.]] \n",
        "\n",
        "\n",
        "A**B = \n",
        "\n",
        "[[ 1.  1.  1.]\n",
        " [ 1.  1.  1.]] \n",
        "\n",
        "\n",
        "D/3 = \n",
        "\n",
        "[   4.           44.66666667   85.33333333  126.          166.66666667] \n",
        "\n",
        "\n"
       ]
      }
     ],
     "prompt_number": 49
    },
    {
     "cell_type": "heading",
     "level": 2,
     "metadata": {
      "slideshow": {
       "slide_type": "slide"
      }
     },
     "source": [
      "Linear algebra: the matrix class"
     ]
    },
    {
     "cell_type": "markdown",
     "metadata": {
      "slideshow": {
       "slide_type": "fragment"
      }
     },
     "source": [
      "Nympy array mathematical operations are not those of linear algebra\n",
      "\n",
      "$\\longrightarrow$ **Use Numpy matrix class for linear algebra!!!!**"
     ]
    },
    {
     "cell_type": "code",
     "collapsed": false,
     "input": [
      "from numpy import matrix\n",
      "\n",
      "# List representation:\n",
      "\n",
      "x = [ [1, 2, 3], [4, 5, 6]]\n",
      "\n",
      "# Arrays from lists:\n",
      "\n",
      "X_arr = array(x)\n",
      "Y_arr = X_arr.transpose()\n",
      "\n",
      "# Matrices from lists:\n",
      "\n",
      "X = matrix(x)\n",
      "Y = X.transpose()\n",
      "\n",
      "print \"X = \", NNL, X, NNL, \"Y = \", NNL, Y\n",
      "                                                       "
     ],
     "language": "python",
     "metadata": {
      "slideshow": {
       "slide_type": "fragment"
      }
     },
     "outputs": [
      {
       "output_type": "stream",
       "stream": "stdout",
       "text": [
        "X =  \n",
        "\n",
        "[[1 2 3]\n",
        " [4 5 6]] \n",
        "\n",
        "Y =  \n",
        "\n",
        "[[1 4]\n",
        " [2 5]\n",
        " [3 6]]\n"
       ]
      }
     ],
     "prompt_number": 58
    },
    {
     "cell_type": "code",
     "collapsed": false,
     "input": [
      "X * Y"
     ],
     "language": "python",
     "metadata": {
      "slideshow": {
       "slide_type": "fragment"
      }
     },
     "outputs": [
      {
       "metadata": {},
       "output_type": "pyout",
       "prompt_number": 59,
       "text": [
        "matrix([[14, 32],\n",
        "        [32, 77]])"
       ]
      }
     ],
     "prompt_number": 59
    },
    {
     "cell_type": "code",
     "collapsed": false,
     "input": [
      "# The component-wise multiplication fails if the arrays have different shapes:\n",
      "X_arr * Y_arr"
     ],
     "language": "python",
     "metadata": {
      "slideshow": {
       "slide_type": "fragment"
      }
     },
     "outputs": [
      {
       "ename": "ValueError",
       "evalue": "operands could not be broadcast together with shapes (2,3) (3,2) ",
       "output_type": "pyerr",
       "traceback": [
        "\u001b[0;31m---------------------------------------------------------------------------\u001b[0m\n\u001b[0;31mValueError\u001b[0m                                Traceback (most recent call last)",
        "\u001b[0;32m<ipython-input-60-3a4ea75e1c81>\u001b[0m in \u001b[0;36m<module>\u001b[0;34m()\u001b[0m\n\u001b[1;32m      1\u001b[0m \u001b[0;31m# The component-wise multiplication fails if the arrays have different shapes:\u001b[0m\u001b[0;34m\u001b[0m\u001b[0;34m\u001b[0m\u001b[0m\n\u001b[0;32m----> 2\u001b[0;31m \u001b[0mX_arr\u001b[0m \u001b[0;34m*\u001b[0m \u001b[0mY_arr\u001b[0m\u001b[0;34m\u001b[0m\u001b[0m\n\u001b[0m",
        "\u001b[0;31mValueError\u001b[0m: operands could not be broadcast together with shapes (2,3) (3,2) "
       ]
      }
     ],
     "prompt_number": 60
    },
    {
     "cell_type": "heading",
     "level": 3,
     "metadata": {
      "slideshow": {
       "slide_type": "slide"
      }
     },
     "source": [
      "Arrays (and Matrices) indexing (minimalistic version: complete with the textbook)"
     ]
    },
    {
     "cell_type": "markdown",
     "metadata": {
      "slideshow": {
       "slide_type": "fragment"
      }
     },
     "source": [
      "Arrays and matrices use the same (slicing) indexing as lists do.\n",
      "\n",
      "$\\longrightarrow$ Every indexing that works for lists will works for arrays and matrices\n",
      "\n",
      "$\\longrightarrow$ Arrays and matrices enjoy some enhance features though:\n",
      "\n",
      "    A[i, j] = A[i][j]\n",
      "    A[1:3]\n",
      "    A[:, :2]\n",
      "    A[1:4, 2]\n",
      "    A[-2, -2:-1]\n",
      "\n",
      "**Exercise:** Play with this indexing syntax, and find out for yourself what the expression above correspond to! Try the same indexing sytax for list of lists and see what still works and what don't. "
     ]
    },
    {
     "cell_type": "code",
     "collapsed": false,
     "input": [
      "a = range(15)\n",
      "A = array(a).reshape(5,3)\n",
      "\n",
      "my_arrays = [A, A[2][1], A[2,1], A[1:3], A[:, :2], A[1:4, 2], A[-2, -3:-1]]\n",
      "my_slices = ['A', 'A[2][1]','A[2,1]', 'A[1:3]', 'A[:, :2]', 'A[1:4, 2]', 'A[-2, -3:-1]']\n",
      "\n",
      "for my_slice, my_array in zip(my_slices, my_arrays):\n",
      "    print my_slice, \"=\", NNL, my_array, NNL\n",
      "    print 10*\"-\"\n"
     ],
     "language": "python",
     "metadata": {
      "slideshow": {
       "slide_type": "fragment"
      }
     },
     "outputs": [
      {
       "output_type": "stream",
       "stream": "stdout",
       "text": [
        "A = \n",
        "\n",
        "[[ 0  1  2]\n",
        " [ 3  4  5]\n",
        " [ 6  7  8]\n",
        " [ 9 10 11]\n",
        " [12 13 14]] \n",
        "\n",
        "\n",
        "----------\n",
        "A[2][1] = \n",
        "\n",
        "7 \n",
        "\n",
        "\n",
        "----------\n",
        "A[2,1] = \n",
        "\n",
        "7 \n",
        "\n",
        "\n",
        "----------\n",
        "A[1:3] = \n",
        "\n",
        "[[3 4 5]\n",
        " [6 7 8]] \n",
        "\n",
        "\n",
        "----------\n",
        "A[:, :2] = \n",
        "\n",
        "[[ 0  1]\n",
        " [ 3  4]\n",
        " [ 6  7]\n",
        " [ 9 10]\n",
        " [12 13]] \n",
        "\n",
        "\n",
        "----------\n",
        "A[1:4, 2] = \n",
        "\n",
        "[ 5  8 11] \n",
        "\n",
        "\n",
        "----------\n",
        "A[-2, -3:-1] = \n",
        "\n",
        "[ 9 10] \n",
        "\n",
        "\n",
        "----------\n"
       ]
      }
     ],
     "prompt_number": 61
    },
    {
     "cell_type": "heading",
     "level": 2,
     "metadata": {
      "slideshow": {
       "slide_type": "slide"
      }
     },
     "source": [
      "Further arrays (matrices) indexing"
     ]
    },
    {
     "cell_type": "markdown",
     "metadata": {
      "slideshow": {
       "slide_type": "slide"
      }
     },
     "source": [
      "In computing, the data often arize in the form of arrays.\n",
      "\n",
      "It is thus of crucial importance to be able to **retrieve the individual entries in as conveniently as possible**; here a few more ways:\n",
      "\n",
      "* by row/column skipping\n",
      "* by logical conditions"
     ]
    },
    {
     "cell_type": "heading",
     "level": 3,
     "metadata": {
      "slideshow": {
       "slide_type": "slide"
      }
     },
     "source": [
      "Row/column skipping"
     ]
    },
    {
     "cell_type": "markdown",
     "metadata": {
      "slideshow": {
       "slide_type": "fragment"
      }
     },
     "source": [
      "So far we say the general slicing syntax:\n",
      "\n",
      "    A[slice, slice]\n",
      "    \n",
      "where slice is a range \n",
      "\n",
      "    a:b    # from index a to index b not included\n",
      "    a:     # from index a until the end\n",
      "    :b     # from the beginning until index b\n",
      "    :      # the whole index range\n",
      "with $a$ and $b$ possibly negative."
     ]
    },
    {
     "cell_type": "markdown",
     "metadata": {
      "slideshow": {
       "slide_type": "slide"
      }
     },
     "source": [
      "One can range over indices in steps using the syntax:\n",
      "\n",
      "    a:b:n   # ranges between indices a and b in steps of n\n",
      "\n",
      "or simply specify a list of indices to be ranged over using the list syntax:\n",
      "\n",
      "    [a, b, c, d, e] # ranges only over the indices a, b, c, d, and e\n",
      "    "
     ]
    },
    {
     "cell_type": "code",
     "collapsed": false,
     "input": [
      "numb_array = array([0, 1, 2, 3, 4, 5, 6, 7, 8, 9, 10, 11])\n",
      "print numb_array[3:12:2]"
     ],
     "language": "python",
     "metadata": {
      "slideshow": {
       "slide_type": "fragment"
      }
     },
     "outputs": [
      {
       "output_type": "stream",
       "stream": "stdout",
       "text": [
        "[ 3  5  7  9 11]\n"
       ]
      }
     ],
     "prompt_number": 62
    },
    {
     "cell_type": "code",
     "collapsed": false,
     "input": [
      "numbers = [\\\n",
      "            [0, 1, 2, 3, 4, 5, 6, 7, 8],\\\n",
      "            [0, 1, 2, 3, 4, 5, 6, 7, 8],\\\n",
      "            [0, 1, 2, 3, 4, 5, 6, 7, 8],\\\n",
      "            [0, 1, 2, 3, 4, 5, 6, 7, 8],\\\n",
      "            [0, 1, 2, 3, 4, 5, 6, 7, 8],\\\n",
      "            [0, 1, 2, 3, 4, 5, 6, 7, 8],\\\n",
      "            ]\n",
      "\n",
      "NUMBERS = array(numbers)\n",
      "\n",
      "print NUMBERS[:, 0:8:3], NNL\n",
      "print NUMBERS[:, [1, 5, 8]]"
     ],
     "language": "python",
     "metadata": {
      "slideshow": {
       "slide_type": "fragment"
      }
     },
     "outputs": [
      {
       "output_type": "stream",
       "stream": "stdout",
       "text": [
        "[[0 3 6]\n",
        " [0 3 6]\n",
        " [0 3 6]\n",
        " [0 3 6]\n",
        " [0 3 6]\n",
        " [0 3 6]] \n",
        "\n",
        "\n",
        "[[1 5 8]\n",
        " [1 5 8]\n",
        " [1 5 8]\n",
        " [1 5 8]\n",
        " [1 5 8]\n",
        " [1 5 8]]\n"
       ]
      }
     ],
     "prompt_number": 63
    },
    {
     "cell_type": "heading",
     "level": 3,
     "metadata": {
      "slideshow": {
       "slide_type": "slide"
      }
     },
     "source": [
      "Logical indexing: retrieving data according to conditions"
     ]
    },
    {
     "cell_type": "markdown",
     "metadata": {
      "slideshow": {
       "slide_type": "fragment"
      }
     },
     "source": [
      "It is also very important to be able to **retrieve data that correspond to certain criteria.**\n",
      "\n",
      "The building block of this mechanism is **boolean indexing**:\n",
      "\n",
      "> A **logical range** is an **array of bolean values** <code>True False</code>\n",
      ">\n",
      "\n",
      "Given \n",
      "\n",
      "* an **array** <code>A</code> \n",
      "* a **logical range** <code>log_range</code>\n",
      "\n",
      "both being of the same shape, the method\n",
      "\n",
      "    A[log_range]\n",
      "returns a 1D array consisting of the values corresponding to the bolean value\n",
      "\n",
      "    True"
     ]
    },
    {
     "cell_type": "code",
     "collapsed": false,
     "input": [
      "A = array(range(9)).reshape(3,3)\n",
      "\n",
      "log_range = array([[True, False, True], \\\n",
      "                 [False, True, False],  \\\n",
      "                 [True, False, True]    \\\n",
      "                 ])\n",
      "\n",
      "\n",
      "print A, NNL\n",
      "print A[log_range]"
     ],
     "language": "python",
     "metadata": {
      "slideshow": {
       "slide_type": "slide"
      }
     },
     "outputs": [
      {
       "output_type": "stream",
       "stream": "stdout",
       "text": [
        "[[0 1 2]\n",
        " [3 4 5]\n",
        " [6 7 8]] \n",
        "\n",
        "\n",
        "[0 2 4 6 8]\n"
       ]
      }
     ],
     "prompt_number": 64
    },
    {
     "cell_type": "heading",
     "level": 3,
     "metadata": {
      "slideshow": {
       "slide_type": "slide"
      }
     },
     "source": [
      "Creating logical ranges"
     ]
    },
    {
     "cell_type": "markdown",
     "metadata": {
      "slideshow": {
       "slide_type": "fragment"
      }
     },
     "source": [
      "Given an array $A$, one can create a logical range by\n",
      "\n",
      "$\\longrightarrow$ stating a **bolean conditions** on the array:\n",
      "\n",
      "    A < 3, A == 2, (A - 2) < 1, etc.\n",
      "\n",
      "will return an boolean array \n",
      "\n",
      "* of the same shape as $A$\n",
      "* with entries\n",
      " * <code>True</code> where the condition is met\n",
      " * <code>False</code> where the condition is not met"
     ]
    },
    {
     "cell_type": "code",
     "collapsed": false,
     "input": [
      "A = array(range(15)).reshape(3,5)\n",
      "\n",
      "ind = A < 4\n",
      "\n",
      "print A, NNL\n",
      "print ind, NNL\n",
      "print A[ind]"
     ],
     "language": "python",
     "metadata": {
      "slideshow": {
       "slide_type": "slide"
      }
     },
     "outputs": [
      {
       "output_type": "stream",
       "stream": "stdout",
       "text": [
        "[[ 0  1  2  3  4]\n",
        " [ 5  6  7  8  9]\n",
        " [10 11 12 13 14]] \n",
        "\n",
        "\n",
        "[[ True  True  True  True False]\n",
        " [False False False False False]\n",
        " [False False False False False]] \n",
        "\n",
        "\n",
        "[0 1 2 3]\n"
       ]
      }
     ],
     "prompt_number": 65
    },
    {
     "cell_type": "code",
     "collapsed": false,
     "input": [],
     "language": "python",
     "metadata": {},
     "outputs": [],
     "prompt_number": 65
    }
   ],
   "metadata": {}
  }
 ]
}