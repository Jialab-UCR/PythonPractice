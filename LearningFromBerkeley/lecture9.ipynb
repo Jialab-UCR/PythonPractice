{
 "metadata": {
  "name": "",
  "signature": "sha256:032b4ec1f912bbe9e661dda6e4f3b2316507f71e95314dcb6f6403d2021721bf"
 },
 "nbformat": 3,
 "nbformat_minor": 0,
 "worksheets": [
  {
   "cells": [
    {
     "cell_type": "heading",
     "level": 1,
     "metadata": {
      "slideshow": {
       "slide_type": "slide"
      }
     },
     "source": [
      "Lecture 9: Quantitative Variables"
     ]
    },
    {
     "cell_type": "code",
     "collapsed": false,
     "input": [
      "import pandas as pd\n",
      "from pandas import Series, DataFrame\n",
      "\n",
      "%pylab inline"
     ],
     "language": "python",
     "metadata": {
      "slideshow": {
       "slide_type": "fragment"
      }
     },
     "outputs": [
      {
       "output_type": "stream",
       "stream": "stdout",
       "text": [
        "Populating the interactive namespace from numpy and matplotlib\n"
       ]
      }
     ],
     "prompt_number": 1
    },
    {
     "cell_type": "heading",
     "level": 2,
     "metadata": {
      "slideshow": {
       "slide_type": "slide"
      }
     },
     "source": [
      "Reading the data into DataFrames"
     ]
    },
    {
     "cell_type": "code",
     "collapsed": false,
     "input": [
      "url = 'https://db.tt/OBdD63fw'\n",
      "\n",
      "SCORES = pd.read_csv(url, index_col=0)\n",
      "SCORES.head()"
     ],
     "language": "python",
     "metadata": {
      "slideshow": {
       "slide_type": "fragment"
      }
     },
     "outputs": [
      {
       "html": [
        "<div style=\"max-height:1000px;max-width:1500px;overflow:auto;\">\n",
        "<table border=\"1\" class=\"dataframe\">\n",
        "  <thead>\n",
        "    <tr style=\"text-align: right;\">\n",
        "      <th></th>\n",
        "      <th>Score</th>\n",
        "      <th>Section</th>\n",
        "      <th>Major</th>\n",
        "    </tr>\n",
        "    <tr>\n",
        "      <th>SID</th>\n",
        "      <th></th>\n",
        "      <th></th>\n",
        "      <th></th>\n",
        "    </tr>\n",
        "  </thead>\n",
        "  <tbody>\n",
        "    <tr>\n",
        "      <th>0</th>\n",
        "      <td> 55</td>\n",
        "      <td> 103</td>\n",
        "      <td> ECON</td>\n",
        "    </tr>\n",
        "    <tr>\n",
        "      <th>1</th>\n",
        "      <td> 56</td>\n",
        "      <td> 101</td>\n",
        "      <td> MYST</td>\n",
        "    </tr>\n",
        "    <tr>\n",
        "      <th>2</th>\n",
        "      <td> 56</td>\n",
        "      <td> 103</td>\n",
        "      <td> ECON</td>\n",
        "    </tr>\n",
        "    <tr>\n",
        "      <th>3</th>\n",
        "      <td> 59</td>\n",
        "      <td> 101</td>\n",
        "      <td> ECON</td>\n",
        "    </tr>\n",
        "    <tr>\n",
        "      <th>4</th>\n",
        "      <td> 41</td>\n",
        "      <td> 103</td>\n",
        "      <td> ECON</td>\n",
        "    </tr>\n",
        "  </tbody>\n",
        "</table>\n",
        "</div>"
       ],
       "metadata": {},
       "output_type": "pyout",
       "prompt_number": 2,
       "text": [
        "     Score  Section Major\n",
        "SID                      \n",
        "0       55      103  ECON\n",
        "1       56      101  MYST\n",
        "2       56      103  ECON\n",
        "3       59      101  ECON\n",
        "4       41      103  ECON"
       ]
      }
     ],
     "prompt_number": 2
    },
    {
     "cell_type": "heading",
     "level": 1,
     "metadata": {
      "slideshow": {
       "slide_type": "slide"
      }
     },
     "source": [
      "Quantitative variables: reminder"
     ]
    },
    {
     "cell_type": "markdown",
     "metadata": {
      "slideshow": {
       "slide_type": "fragment"
      }
     },
     "source": [
      "**Quantitative Variable** = variables whose **values** are **numeric**\n",
      "\n",
      "**Examples:** Possible quantitative variables for a student dataset\n",
      "\n",
      "* **quantitative variable** = score at a given exam\n",
      " * **values** = range of possible scores (e.g. from 0 to 60 for our midterm)\n",
      "\n",
      "\n",
      "* **quantitative variable** = weight\n",
      " * **values** = sensible range for human weight\n",
      " \n",
      " "
     ]
    },
    {
     "cell_type": "heading",
     "level": 2,
     "metadata": {
      "slideshow": {
       "slide_type": "slide"
      }
     },
     "source": [
      "Questions one can ask about a single quantitative variable"
     ]
    },
    {
     "cell_type": "heading",
     "level": 3,
     "metadata": {
      "slideshow": {
       "slide_type": "fragment"
      }
     },
     "source": [
      "(1) What are the summary statitistics of our quantitative variable?"
     ]
    },
    {
     "cell_type": "markdown",
     "metadata": {
      "slideshow": {
       "slide_type": "fragment"
      }
     },
     "source": [
      "The summary statistics are a sequence of 5 numbers that describe our data points:\n",
      "\n",
      "* The **mean** and the **median** are two indicators of the **center** of our data set\n",
      "\n",
      "\n",
      "* The **min**, **max**, and **standard deviation** are indicators of the **spread** of our data set\n",
      "\n",
      "(Look up the definitions of these indicators.)\n"
     ]
    },
    {
     "cell_type": "heading",
     "level": 3,
     "metadata": {
      "slideshow": {
       "slide_type": "slide"
      }
     },
     "source": [
      "(2) What are the observation proportions of certain value intervals?"
     ]
    },
    {
     "cell_type": "markdown",
     "metadata": {
      "slideshow": {
       "slide_type": "fragment"
      }
     },
     "source": [
      "Consider a sample of **quantitative variable** $X$ with\n",
      "\n",
      "* $a$ = **minimum value** for $X$\n",
      "* $b$ = **maximal value** for $X$\n",
      "\n",
      "\n",
      "Consider the **variable value range**: $[a,\\, b]$\n",
      "\n",
      "Consider the **cut**\n",
      "\n",
      "$C = [a,\\, b_1,\\, \\dots,\\, b_{n-1},\\, b],\\quad$  where $\\quad a<b_1<b_2\n",
      "<\\cdots<b_{n-1} < b$\n",
      "\n",
      "of $[a,\\, b]$ into $n$ **value bins**:\n",
      "\n",
      "$B_1 = [a,\\, b_1],\\quad B_2 = [b_1,\\, b_2],\\quad\\dots B_n = [b_{n-1},\\, b]$\n",
      "\n",
      "**QUESTION: What proportion of our sample falls into bin $B_i$ for $i=1,\\dots,n$?**"
     ]
    },
    {
     "cell_type": "heading",
     "level": 3,
     "metadata": {
      "slideshow": {
       "slide_type": "slide"
      }
     },
     "source": [
      "(3) What are the values corresponding to a certain observation proportion?"
     ]
    },
    {
     "cell_type": "markdown",
     "metadata": {
      "slideshow": {
       "slide_type": "fragment"
      }
     },
     "source": [
      "Consider a data sample corresponding to a quantitative variable $X$:\n",
      "\n",
      "$S = ((a_1, x_1), (a_2, x_2), \\dots, (a_n, x_n))$\n",
      "\n",
      "Let again be \n",
      "\n",
      "$q = [0,\\, q_1,\\, \\dots,\\, q_{n-1},\\, 1],\\quad$  where $\\quad 0<q_1<\\cdots<q_{n-1}<1$ \n",
      "\n",
      "be a division of the interval $[0,1]$.\n",
      "\n",
      "We are interested to know the value $Q_i$ (called the $i^th$ $q$-tile) such that the subset of our data points with value smaller or equal to $Q_i$, i.e.\n",
      "\n",
      "$$S_i = \\{(a_l, x_l)\\in S:\\: x_l \\leq Q_i\\}$$\n",
      "\n",
      "represents exactly $q_i$ percent of our sample. \n",
      "\n",
      "**Remark:** When $q_1 = 0.25$, $q_2 = 0.5$, and $q_3 = 0.75$, the corresponding values $Q_1$, $Q_2$, and $Q_3$ are called respectively **first quartile**, **median**, and **3rd quartile**. \n",
      "\n"
     ]
    },
    {
     "cell_type": "heading",
     "level": 1,
     "metadata": {
      "slideshow": {
       "slide_type": "slide"
      }
     },
     "source": [
      "Quantitative variables using DataFrames"
     ]
    },
    {
     "cell_type": "markdown",
     "metadata": {
      "slideshow": {
       "slide_type": "fragment"
      }
     },
     "source": [
      "With Pandas, it is often nicer to use a DataFrame with a single column instead of a Series.\n",
      "\n",
      "More methods (in particular <code>boxplot</code>) are available this way.\n",
      "\n",
      "Let's store our midterm scores into a DataFrame:"
     ]
    },
    {
     "cell_type": "code",
     "collapsed": false,
     "input": [
      "scores = DataFrame(SCORES.Score, columns=['S'])\n",
      "scores.head()"
     ],
     "language": "python",
     "metadata": {
      "slideshow": {
       "slide_type": "fragment"
      }
     },
     "outputs": [
      {
       "html": [
        "<div style=\"max-height:1000px;max-width:1500px;overflow:auto;\">\n",
        "<table border=\"1\" class=\"dataframe\">\n",
        "  <thead>\n",
        "    <tr style=\"text-align: right;\">\n",
        "      <th></th>\n",
        "      <th>S</th>\n",
        "    </tr>\n",
        "  </thead>\n",
        "  <tbody>\n",
        "  </tbody>\n",
        "</table>\n",
        "</div>"
       ],
       "metadata": {},
       "output_type": "pyout",
       "prompt_number": 3,
       "text": [
        "Empty DataFrame\n",
        "Columns: [S]\n",
        "Index: []"
       ]
      }
     ],
     "prompt_number": 3
    },
    {
     "cell_type": "heading",
     "level": 3,
     "metadata": {
      "slideshow": {
       "slide_type": "slide"
      }
     },
     "source": [
      "Summary statistics: method <code>describe(column)</code>"
     ]
    },
    {
     "cell_type": "markdown",
     "metadata": {
      "slideshow": {
       "slide_type": "fragment"
      }
     },
     "source": [
      "The DataFrame method \n",
      "\n",
      "    describe(column)\n",
      "\n",
      "yields back a DataFrame containing the **summary statistics** of our data points. \n",
      "\n",
      "If the argument <code>column</code> is not specified, we will obtain a DataFrame giving the summary statitics for each column."
     ]
    },
    {
     "cell_type": "code",
     "collapsed": false,
     "input": [
      "scores.describe()"
     ],
     "language": "python",
     "metadata": {
      "slideshow": {
       "slide_type": "fragment"
      }
     },
     "outputs": []
    },
    {
     "cell_type": "heading",
     "level": 3,
     "metadata": {
      "slideshow": {
       "slide_type": "slide"
      }
     },
     "source": [
      "Summary statistics visualization: method <code>boxplot</code>"
     ]
    },
    {
     "cell_type": "code",
     "collapsed": false,
     "input": [
      "scores.boxplot();"
     ],
     "language": "python",
     "metadata": {
      "slideshow": {
       "slide_type": "fragment"
      }
     },
     "outputs": []
    },
    {
     "cell_type": "markdown",
     "metadata": {
      "slideshow": {
       "slide_type": "fragment"
      }
     },
     "source": [
      "The <code>boxplot</code> method display \n",
      "\n",
      "* a **box** (the rectangle in blue) \n",
      "\n",
      "\n",
      "* with a **whisker** (the vertical dashed line in black steming from the blue box) \n",
      "\n",
      "summarizing a sequence of data points. "
     ]
    },
    {
     "cell_type": "markdown",
     "metadata": {
      "slideshow": {
       "slide_type": "fragment"
      }
     },
     "source": [
      "* The box **lower edge** corresponds to the **1st quartile**  $Q_1$\n",
      "\n",
      "\n",
      "* The box **upper edge** corresponds to the **3rd quartile**  $Q_3$\n",
      "\n",
      "\n",
      "* The box **red line** in between corresponds to the **median** $Q_2$"
     ]
    },
    {
     "cell_type": "markdown",
     "metadata": {
      "slideshow": {
       "slide_type": "fragment"
      }
     },
     "source": [
      "\n",
      "* The **lower-whisker** end is located at the value $Q_1 - 1.5(Q_3 - Q_1)$\n",
      "\n",
      "\n",
      "* The **upper-whisker** end is located at the value $Q_3 + 1.5(Q_3 - Q_1)$\n",
      "\n",
      "**OUTLIERS** = Data points past the lower-and-upper whiskers\n",
      "\n",
      "Outliers are **exceptional** or **abnormal** values that somehow fall outside the standard population characteristics."
     ]
    },
    {
     "cell_type": "heading",
     "level": 2,
     "metadata": {
      "slideshow": {
       "slide_type": "slide"
      }
     },
     "source": [
      "Retrieving outliers with logical indexing"
     ]
    },
    {
     "cell_type": "markdown",
     "metadata": {
      "slideshow": {
       "slide_type": "fragment"
      }
     },
     "source": [
      "Let's now retrieve the outliers"
     ]
    },
    {
     "cell_type": "code",
     "collapsed": false,
     "input": [
      "scores[scores.S < 33]"
     ],
     "language": "python",
     "metadata": {
      "slideshow": {
       "slide_type": "fragment"
      }
     },
     "outputs": [
      {
       "html": [
        "<div style=\"max-height:1000px;max-width:1500px;overflow:auto;\">\n",
        "<table border=\"1\" class=\"dataframe\">\n",
        "  <thead>\n",
        "    <tr style=\"text-align: right;\">\n",
        "      <th></th>\n",
        "      <th>S</th>\n",
        "    </tr>\n",
        "  </thead>\n",
        "  <tbody>\n",
        "  </tbody>\n",
        "</table>\n",
        "</div>"
       ],
       "metadata": {},
       "output_type": "pyout",
       "prompt_number": 4,
       "text": [
        "Empty DataFrame\n",
        "Columns: [S]\n",
        "Index: []"
       ]
      }
     ],
     "prompt_number": 4
    },
    {
     "cell_type": "heading",
     "level": 2,
     "metadata": {
      "slideshow": {
       "slide_type": "slide"
      }
     },
     "source": [
      "Frequency distribution: methods <code>hist()</code>"
     ]
    },
    {
     "cell_type": "code",
     "collapsed": false,
     "input": [
      "scores.hist(column='S', bins=4);"
     ],
     "language": "python",
     "metadata": {
      "slideshow": {
       "slide_type": "fragment"
      }
     },
     "outputs": []
    },
    {
     "cell_type": "heading",
     "level": 1,
     "metadata": {
      "slideshow": {
       "slide_type": "slide"
      }
     },
     "source": [
      "Discretizing a continous variables by value bins"
     ]
    },
    {
     "cell_type": "markdown",
     "metadata": {
      "slideshow": {
       "slide_type": "fragment"
      }
     },
     "source": [
      "Pandas offers the method\n",
      "    \n",
      "    cut(quant_variable, bins, labels)\n",
      "    \n",
      "that\n",
      "\n",
      "* takes as input a **quantitative Series**\n",
      "* returns as output a **categorical Series** (in the form of a <code>Categorical</code> object) \n",
      "\n",
      "The **values** of the returned categorical objects are the **labels** that are passed as arguments.\n",
      "\n",
      "The **labels** corresponds to the ** value bins** that are passed as arguments in terms of a **cut** of the value range (see above)."
     ]
    },
    {
     "cell_type": "code",
     "collapsed": false,
     "input": [
      "from pandas import cut"
     ],
     "language": "python",
     "metadata": {
      "slideshow": {
       "slide_type": "fragment"
      }
     },
     "outputs": []
    },
    {
     "cell_type": "code",
     "collapsed": false,
     "input": [
      "score_bins = [0, 30, 40, 50, 55, 60]\n",
      "letters  = ['F', 'D', 'C', 'B', 'A']\n",
      "\n",
      "letter_grades_abs = cut(scores.S, bins=score_bins, labels=letters)\n",
      "\n",
      "type(letter_grades_abs)"
     ],
     "language": "python",
     "metadata": {
      "slideshow": {
       "slide_type": "fragment"
      }
     },
     "outputs": []
    },
    {
     "cell_type": "markdown",
     "metadata": {
      "slideshow": {
       "slide_type": "slide"
      }
     },
     "source": [
      "One can invoke the method <code>describe()</code> on a <code>Categorical</code> object:"
     ]
    },
    {
     "cell_type": "code",
     "collapsed": false,
     "input": [
      "letter_grades_abs.describe()"
     ],
     "language": "python",
     "metadata": {
      "slideshow": {
       "slide_type": "fragment"
      }
     },
     "outputs": []
    },
    {
     "cell_type": "markdown",
     "metadata": {
      "slideshow": {
       "slide_type": "slide"
      }
     },
     "source": [
      "One can also plot the letter grade proportion: "
     ]
    },
    {
     "cell_type": "code",
     "collapsed": false,
     "input": [
      "letter_grades_abs.describe().freqs.plot(kind='bar', rot=True)"
     ],
     "language": "python",
     "metadata": {
      "slideshow": {
       "slide_type": "fragment"
      }
     },
     "outputs": []
    },
    {
     "cell_type": "markdown",
     "metadata": {
      "slideshow": {
       "slide_type": "slide"
      }
     },
     "source": [
      "Let's add the letter grades computed in an absolute way to the <code>score</code> DataFrame:"
     ]
    },
    {
     "cell_type": "code",
     "collapsed": false,
     "input": [
      "scores['LG_abs'] = letter_grades_abs\n",
      "\n",
      "scores.head()"
     ],
     "language": "python",
     "metadata": {
      "slideshow": {
       "slide_type": "fragment"
      }
     },
     "outputs": []
    },
    {
     "cell_type": "heading",
     "level": 1,
     "metadata": {
      "slideshow": {
       "slide_type": "slide"
      }
     },
     "source": [
      "Discretizing a continous variables by quantiles"
     ]
    },
    {
     "cell_type": "markdown",
     "metadata": {
      "slideshow": {
       "slide_type": "slide"
      }
     },
     "source": [
      "Pandas offers the method\n",
      "    \n",
      "    qcut(quant_variable, q, labels)\n",
      "    \n",
      "that\n",
      "\n",
      "* takes as input a **quantitative Series**\n",
      "* returns as output a **categorical Series** (in the form of a <code>Categorical</code> object) \n",
      "\n",
      "The **values** of the returned categorical objects are the **labels** that are passed as arguments.\n",
      "\n",
      "The **labels** corresponds to the **quantile ranges**.\n",
      "\n",
      "\n",
      "The **quantile ranges** are determined by a **cut** $q$ of the intervale $[0,1]$:\n",
      "\n",
      "$$q = [0, q_1, \\dots,q_{n-1}, 1]$$"
     ]
    },
    {
     "cell_type": "code",
     "collapsed": false,
     "input": [
      "from pandas import qcut"
     ],
     "language": "python",
     "metadata": {
      "slideshow": {
       "slide_type": "slide"
      }
     },
     "outputs": []
    },
    {
     "cell_type": "code",
     "collapsed": false,
     "input": [
      "q = [0, 0.1, 0.2, 0.5, 0.8, 1]\n",
      "letters  = ['F', 'D', 'C', 'B', 'A']\n",
      "\n",
      "letter_grades_rel = qcut(scores.S, q, labels=letters)"
     ],
     "language": "python",
     "metadata": {
      "slideshow": {
       "slide_type": "fragment"
      }
     },
     "outputs": []
    },
    {
     "cell_type": "code",
     "collapsed": false,
     "input": [
      "letter_grades_rel.describe()"
     ],
     "language": "python",
     "metadata": {
      "slideshow": {
       "slide_type": "fragment"
      }
     },
     "outputs": []
    },
    {
     "cell_type": "code",
     "collapsed": false,
     "input": [
      "letter_grades_rel.describe().counts.plot(kind='bar', rot=True);"
     ],
     "language": "python",
     "metadata": {
      "slideshow": {
       "slide_type": "fragment"
      }
     },
     "outputs": []
    },
    {
     "cell_type": "heading",
     "level": 3,
     "metadata": {
      "slideshow": {
       "slide_type": "slide"
      }
     },
     "source": [
      "Retriving the corresponding quantile ranges"
     ]
    },
    {
     "cell_type": "code",
     "collapsed": false,
     "input": [
      "scores['LG_rel'] =  letter_grades_rel\n",
      "scores.head()"
     ],
     "language": "python",
     "metadata": {
      "slideshow": {
       "slide_type": "fragment"
      }
     },
     "outputs": []
    },
    {
     "cell_type": "code",
     "collapsed": false,
     "input": [
      "for letter in reversed(letters):\n",
      "    grades = scores[scores.LG_rel == letter].S\n",
      "    min_cutoff = min(grades)\n",
      "    max_cutoff = max(grades)\n",
      "    print \"Grade range for \", letter, \": \", min_cutoff, \"--\", max_cutoff"
     ],
     "language": "python",
     "metadata": {
      "slideshow": {
       "slide_type": "fragment"
      }
     },
     "outputs": []
    },
    {
     "cell_type": "heading",
     "level": 1,
     "metadata": {
      "slideshow": {
       "slide_type": "slide"
      }
     },
     "source": [
      "Grouping a quantitative variable with a categorical variable"
     ]
    },
    {
     "cell_type": "markdown",
     "metadata": {
      "slideshow": {
       "slide_type": "fragment"
      }
     },
     "source": [
      "A **quantitative variable** can be analysed in terms of the **categories** or **groups** provided by a **categorical variable**. \n",
      "\n",
      "For instance, we have \n",
      "\n",
      "* the **categorical variables**: Major\n",
      "* the **quantitative variable**: Score\n",
      "\n",
      "**QUESTION:** We would like to understand the grade distribution per Section and Major."
     ]
    },
    {
     "cell_type": "code",
     "collapsed": false,
     "input": [
      "SCORES.head()"
     ],
     "language": "python",
     "metadata": {
      "slideshow": {
       "slide_type": "fragment"
      }
     },
     "outputs": []
    },
    {
     "cell_type": "heading",
     "level": 2,
     "metadata": {
      "slideshow": {
       "slide_type": "slide"
      }
     },
     "source": [
      "Visualizing statistics summaries by groups"
     ]
    },
    {
     "cell_type": "markdown",
     "metadata": {
      "slideshow": {
       "slide_type": "fragment"
      }
     },
     "source": [
      "The DataFrame method\n",
      "\n",
      "    boxplot(column, by)\n",
      "    \n",
      "allows to obtain the boxplot of the quantitative variable in <code>column</code> for each of the groups defined by the categorical variable passed to the arguement <code>by</code>."
     ]
    },
    {
     "cell_type": "code",
     "collapsed": false,
     "input": [
      "SCORES.boxplot(column='Score', by=['Major']);"
     ],
     "language": "python",
     "metadata": {
      "slideshow": {
       "slide_type": "fragment"
      }
     },
     "outputs": []
    },
    {
     "cell_type": "heading",
     "level": 2,
     "metadata": {
      "slideshow": {
       "slide_type": "slide"
      }
     },
     "source": [
      "Statistics summary by groups"
     ]
    },
    {
     "cell_type": "code",
     "collapsed": false,
     "input": [
      "scores = DataFrame(SCORES.Score)\n",
      "scores_by_majors = scores.groupby(SCORES.Major)"
     ],
     "language": "python",
     "metadata": {
      "slideshow": {
       "slide_type": "fragment"
      }
     },
     "outputs": []
    },
    {
     "cell_type": "code",
     "collapsed": false,
     "input": [
      "type(scores_by_majors)"
     ],
     "language": "python",
     "metadata": {
      "slideshow": {
       "slide_type": "fragment"
      }
     },
     "outputs": []
    },
    {
     "cell_type": "code",
     "collapsed": false,
     "input": [
      "scores_by_majors.describe().unstack()"
     ],
     "language": "python",
     "metadata": {
      "slideshow": {
       "slide_type": "fragment"
      }
     },
     "outputs": []
    }
   ],
   "metadata": {}
  }
 ]
}