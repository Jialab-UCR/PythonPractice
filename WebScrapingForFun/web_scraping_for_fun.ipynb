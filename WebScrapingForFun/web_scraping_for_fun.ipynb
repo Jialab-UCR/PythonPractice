{
 "cells": [
  {
   "cell_type": "code",
   "execution_count": 122,
   "metadata": {},
   "outputs": [
    {
     "name": "stdout",
     "output_type": "stream",
     "text": [
      "Which part would you like to crawl (8hr, hot, or history)?\n",
      "hot\n",
      "How many pages do you want to crawl?\n",
      "5\n"
     ]
    }
   ],
   "source": [
    " __author__ = 'Ruidong'\n",
    "    \n",
    "import urllib.request\n",
    "import os\n",
    "import re\n",
    "\n",
    "part = input('Which part would you like to crawl (8hr, hot, or history)?\\n')\n",
    "page = input('How many pages do you want to crawl?\\n')\n",
    "url = 'http://www.qiushibaike.com/'\n",
    "\n",
    "if part == '8hr':\n",
    "    code = '?s=4886106'\n",
    "elif part == 'hot':\n",
    "    code = '?s=4886109'\n",
    "elif part == 'history':\n",
    "    code = '?s=RAKMJITH5H04WZIE'\n",
    "    \n",
    "def url_open(url):\n",
    "    req = urllib.request.Request(url)\n",
    "    #req.add_header('User-Agent','Mozilla/5.0 (X11; Ubuntu; Linux x86_64; rv:36.0) Gecko/20100101 Firefox/36.0')\n",
    "    req.add_header('User-Agent','Mozilla/5.0 (X11; U; Linux i686; en-US) AppleWebKit/534.3 (KHTML, like Gecko) Chrome/6.0.472.63 Safari/534.3')\n",
    "    response = urllib.request.urlopen(req)\n",
    "    return response.read().decode('utf-8')\n",
    "\n",
    "def get_stories(url):\n",
    "    content = url_open(url)\n",
    "    pattern = r'<div class=\"content\">\\n\\n(.*?)\\n\\n</div>'\n",
    "    stories = re.findall(pattern, content)\n",
    "    \n",
    "    return stories    \n",
    "    \n",
    "f = open('qiushibaike.txt', 'wt')\n",
    "    \n",
    "for i in range(int(page)):\n",
    "    i = str(i+1)\n",
    "    sub_url = url + part + '/page/' + i + '/' + code\n",
    "    stories = get_stories(url)\n",
    "    \n",
    "    f.write(part+'-'+i+'\\n')\n",
    "    \n",
    "    for j in range(len(stories)):\n",
    "        pattern_s = r'(<br/>)+'\n",
    "        rp_s = r'\\n'\n",
    "        story = re.sub(pattern_s, rp_s, stories[j])\n",
    "        f.write(story+'\\n\\n')\n",
    "        \n",
    "f.close()"
   ]
  },
  {
   "cell_type": "code",
   "execution_count": null,
   "metadata": {
    "collapsed": true
   },
   "outputs": [],
   "source": []
  }
 ],
 "metadata": {
  "kernelspec": {
   "display_name": "Python 3",
   "language": "python",
   "name": "python3"
  },
  "language_info": {
   "codemirror_mode": {
    "name": "ipython",
    "version": 3
   },
   "file_extension": ".py",
   "mimetype": "text/x-python",
   "name": "python",
   "nbconvert_exporter": "python",
   "pygments_lexer": "ipython3",
   "version": "3.6.5"
  }
 },
 "nbformat": 4,
 "nbformat_minor": 1
}
