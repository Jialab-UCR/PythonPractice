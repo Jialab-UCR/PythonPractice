{
 "metadata": {
  "name": "",
  "signature": "sha256:f6ba08b492cf2d2aa6a3c248dd4e85eec1f74dd2af25207b0abe27bfd55f754a"
 },
 "nbformat": 3,
 "nbformat_minor": 0,
 "worksheets": [
  {
   "cells": [
    {
     "cell_type": "heading",
     "level": 1,
     "metadata": {},
     "source": [
      "Python first steps: Input, Output, and variables"
     ]
    },
    {
     "cell_type": "markdown",
     "metadata": {},
     "source": [
      "##### #!/usr/bin/env python\n",
      "this line is called shebang, #('sh' for 'sharp'), !(bang)\n",
      "\n",
      "#### Variables: integers, floating-point numbers(decimal), strings(text)\n",
      "type();\n",
      "- int\n",
      "- str\n",
      "- float\n",
      "\n",
      "#### Numerical operations\n",
      "+ plus, +\n",
      "+ minus, -\n",
      "+ time, *\n",
      "+ devision, /\n",
      "+ exponents, **  \n",
      "+ residue, %\n",
      "\n",
      "#### String quotes: single, double, and triple\n",
      "Single and double quotes can more or less be used **interchangeably**, the only exception being which type of quote is allowed to appear *inside* the string. If the string itself is double-quoted, single quotes may appear inside the string, and visa-versa.\n",
      "\n",
      "    s = 'hello \"world\", if that is your real name.' # 4 spaces as code\n",
      "\n",
      "    print s      ### hello \"world\", if that is your real name.\n",
      "\n",
      "    s2 =\"That's World, to you, buddy.\"\n",
      "\n",
      "`print s2     ### That's World, to you, buddy.` # \\` \\` for multiple spaces\n",
      "\n",
      ">In order to use both single and double quotes in the same print statement, employ the extra-spiffy triple quote, which is actually just three single quotes:  \n",
      ">s = '''hello \"world\", if that is your real name.\\nThat's World, to you, buddy.'''  \n",
      ">\\## 2 spaces for newline    \n",
      ">s = '''hello \"world\", if that is your real name.\n",
      "That's World, to you, buddy.'''  \n",
      "\n",
      "1) Both single and double quotes can be used inside triple quotes.  \n",
      "2) Triple quoted strings can span multiple lines, and line breaks inside the quoted string are stored and faithfully displayed in the **print** operation.\n",
      "\n",
      "#### Strings: escapes and special characters; raw strings\n",
      "    s = 'some\\thing is missing'\n",
      "    print s, \"\\n\"\n",
      "\n",
      "    s2 = \"somethi\\ng is broken\"\n",
      "    print s2, \"\\n\"\n",
      "\n",
      "    s3 = '''something th\\at will drive you b\\an\\an\\as'''\n",
      "    print s3, \"\\n\"\n",
      " \n",
      "    s4 = r'\\a solu\\tio\\n'\n",
      "    print s4, \"\\n\"\n",
      " \n",
      "    s5 = '\\\\another solu\\\\tio\\\\n'\n",
      "    print s5, \"\\n\"\n",
      "\n",
      "+ tab (\\t)\n",
      "+ newline (\\n)\n",
      "+ bell noise (\\a)\n",
      "\n",
      "\n",
      "Raw strings start with **r'** and end with **'** will treat every character between as exactly what it looks like, with the exception of the single quote (which ends the string). If you do use raw strings, watch out for two catches:\n",
      "+ 1) You must still escape single quotes you want to appear inside the string.\n",
      "+ 2) The last character of the string cannot be a backslash, since this will escape the closing quote.\n",
      "\n",
      "\n",
      "#### Strings: as sequence type, index and slice(substring)\n",
      "    name = 'Sara M. Branco'\n",
      "    middle_initial = name[5]\n",
      "    print name\n",
      "    print middle_initial\n",
      "Sara M. Branco  \n",
      "M  \n",
      "\n",
      "**Numbering starts at 0**  \n",
      "\n",
      "** The slice starts at the index of the first number, and ends at the index before the second number**\n",
      "\n",
      "    first = name[0:4]\n",
      "Sara  \n",
      "    \n",
      "    last = [8:]  \n",
      "Branco  \n",
      "\n",
      "**Omission of the first number starts at the beginning of the sequence, and omission of the second number goes all the way to the end**\n",
      "\n",
      "#### Concatenating (+) strings\n",
      "    simple_name = first + ' ' + last\n",
      "    last_first = last + ', ' + first + ' ' + middle_initial + '.'\n",
      "    print simple_name\n",
      "    print last_first\n",
      "    \n",
      "**int()**, **float()**  \n",
      "    integer_text = '5'\n",
      "    decimal_text = '3.14'\n",
      "    print integer_text + decimal_text\n",
      " \n",
      "    integer = int(integer_text)\n",
      "    decimal = float(decimal_text)\n",
      "    \n",
      "#### inserting and formating variables in strings (string interpolation)\n",
      "**%s, %f, %d**  \n",
      "    \n",
      "    i = 42\n",
      "    f = 3.14159265\n",
      "    string = 'variables can be interpolated as strings here %s and here %s' % (i,f)\n",
      "    print string  ## ...here 42 and here 3.14159265\n",
      "    \n",
      "    print '''To get 2 decimal places write %.2f, or to get 2 decimal places padded to a total width of 5, write [%5.2f] (notice that the '.' counts as a character). The brackets above don't do anything--they're just there to point out to you the leftpadding; you can replace the spaces in the second example with zeros this way: %07.3f.''' % (f,f,f)\n",
      "+ 2 decimal places: **%.2f**\n",
      "+ 2 decimal places padded to total width of 5: **%5.2f** ('.' counts as a character)\n",
      "+ replace space with zeros: **%05.2f**\n",
      "\n",
      "#### Another way to format strings: The string.format() method\n",
      "    string = 'variables can be interpolated as strings here {} and here {}'.format(i, f)\n",
      "    #Use the curly-brackets {} to specify where you want to insert the variables. Follow that with the format method with the variables you want to enter in the parentheses\n",
      "    \n",
      "    t = 'the'\n",
      "    n = 'in'\n",
      "    print \"With {0} new way, you can use indexes to plug {1} {0} same variables multiple times, and {1} any order you wish.\".format(t, n)\n",
      "    # You can also reference the same variables more than once by their index in the parentheses.\n",
      " \n",
      "     print '''To get 2 decimal places write {pi:.2f}. To get 2 decimal places padded to a total width of 5, write {pi: >6.2f} (notice that I have to include the space if I want to pad with spaces). You can replace the spaces in the second example with zeros this way: {pi:0>6.2f} Or you could even do this: {pi:X>6.2f}'''.format(pi=f)\n",
      "     \n",
      "#### Input: raw_input() function\n",
      "    user = raw_input(\"what's your name? \")\n",
      "    print 'hello %s!' % (user)"
     ]
    },
    {
     "cell_type": "code",
     "collapsed": false,
     "input": [
      "i = 42\n",
      "f = 3.14159\n",
      " \n",
      "# addition uses the plus sign (+)\n",
      "sum = i + f\n",
      "# subtraction uses the minus sign (-)\n",
      "diff = i - f\n",
      "# multiplication uses the asterisk (*)\n",
      "prod = i * f\n",
      "# division uses the slash (/)\n",
      "quo = i / f\n",
      "# and exponents use a double-asterisk (**)\n",
      "pow = i ** f\n",
      " \n",
      "print 'sum',sum\n",
      "print 'diff',diff\n",
      "print 'prod',prod\n",
      "print 'quo',quo\n",
      "print 'pow',pow\n",
      " \n",
      "x = 5\n",
      "print \"x = \", x\n",
      "x += 1\n",
      "print \"now x is one more than before = \", x\n",
      "\n",
      "\n",
      "user = raw_input(\"Sample name? \")\n",
      "print 'This is %s!' % (user)"
     ],
     "language": "python",
     "metadata": {},
     "outputs": [
      {
       "output_type": "stream",
       "stream": "stdout",
       "text": [
        "sum 45.14159\n",
        "diff 38.85841\n",
        "prod 131.94678\n",
        "quo 13.3690265121\n",
        "pow 125771.933736\n",
        "x =  5\n",
        "now x is one more than before =  6\n"
       ]
      },
      {
       "name": "stdout",
       "output_type": "stream",
       "stream": "stdout",
       "text": [
        "Sample name? capflu\n"
       ]
      },
      {
       "output_type": "stream",
       "stream": "stdout",
       "text": [
        "This is capflu!\n"
       ]
      }
     ],
     "prompt_number": 59
    },
    {
     "cell_type": "code",
     "collapsed": false,
     "input": [
      "### hello.py\n",
      "#!/usr/bin/env python\n",
      "\n",
      "\n",
      "print 'hello California' \n",
      "print 'hello','California'\n",
      "\n",
      "print 'hello'\n",
      "print 'California', '\\n';\n",
      "\n",
      "\n",
      "##\n",
      "s = 'hello world'\n",
      "i = 42\n",
      "f = 3.14159\n",
      "print s\n",
      "print 'the variable s is type',type(s), '\\n';\n",
      " \n",
      "print i\n",
      "print 'the variable i is type',type(i), '\\n';\n",
      " \n",
      "print f\n",
      "print 'the variable f is type',type(f), '\\n';\n",
      "\n",
      "##\n",
      "i = s\n",
      " \n",
      "print i\n",
      "print 'the variable i is now type',type(i), '\\n';\n",
      "\n",
      "s = 'hello \"world\", if that is your real name.'\n",
      "print s\n",
      "s2 =\"That's World, to you, buddy.\"\n",
      "print s2, \"\\n\" ## you cannot include s2 in the double quotes\n",
      "\n",
      "s = '''hello \"world\", if that is your real name.\\nThat's World, to you, buddy.'''\n",
      "print s\n",
      "\n",
      "##\n",
      "s = 'some\\thing is missing'\n",
      "print s, \"\\n\"\n",
      "\n",
      "s2 = \"somethi\\ng is broken\"\n",
      "print s2, \"\\n\"\n",
      "\n",
      "s3 = '''something th\\at will drive you b\\an\\an\\as'''\n",
      "print s3, \"\\n\"\n",
      " \n",
      "s4 = r'\\a solu\\tio\\n'\n",
      "print s4, \"\\n\"\n",
      " \n",
      "s5 = '\\\\another solu\\\\tio\\\\n'\n",
      "print s5, \"\\n\"\n",
      "\n",
      "# s6 = r'don't do this'\n",
      "s6 = r'but there ain\\'t a problem with this' ## didn't escape the '\n",
      "print s6, \"\\n\"\n",
      " \n",
      "# s7 = r'this is bad\\'\n",
      "s7 = r'but this is okay\\ '\n",
      "print s7, \"\\n\"\n",
      "\n",
      "name = 'Sara M. Branco'\n",
      "middle_initial = name[5]\n",
      "print name\n",
      "print middle_initial\n",
      "\n",
      "first = name[0:4]\n",
      "print first\n",
      "\n",
      "last = name[8:]\n",
      "print last\n",
      "\n",
      "\n",
      "name = 'Sara M. Branco'\n",
      "middle_initial = name[5]\n",
      "first = name[0:4]\n",
      "last = name[8:]\n",
      " \n",
      "print name\n",
      " \n",
      "simple_name = first + ' ' + last\n",
      "last_first = last + ', ' + first + ' ' + middle_initial + '.'\n",
      "print simple_name\n",
      "print last_first\n",
      " \n",
      "simple_name_also = first, last\n",
      "print simple_name_also, '\\n';\n",
      "\n",
      "last_first = '%s, %s %s.' % (last, first, middle_initial)\n",
      "print last_first\n",
      "\n",
      "i = 42\n",
      "f = 3.14159265\n",
      "string = 'variables can be interpolated as strings here %s and here %s' % (i,f)\n",
      "print string  ## ...here 42 and here 3.14159265\n",
      "\n",
      "\n",
      "print '''To get 2 decimal places write %.2f, or to get 2 decimal places padded\n",
      "to a total width of 5, write [%5.2f] (notice that the '.' counts as a character).\n",
      "The brackets above don't do anything--they're just there to point out to you the left\n",
      "padding; you can replace the spaces in the second example with zeros this\n",
      "way: %07.3f.''' % (f,f,f)\n",
      "\n",
      "\n",
      "i = 42\n",
      "f = 3.14159265\n",
      "string = 'variables can be interpolated as strings here {} and here {f:.2f}'.format(i, f=f)\n",
      "print string\n",
      "\n",
      "print '''To get 2 decimal places write {pi:.2f}.To get 2 decimal places padded to a total width of 5, write {pi: >6.2f} (notice that I have to include the space if I want to pad with spaces).\n",
      "You can replace the spaces in the second example with zeros this way: {pi:0>6.2f} Or you could even do this: {pi:X>6.2f}'''.format(pi=f)"
     ],
     "language": "python",
     "metadata": {},
     "outputs": [
      {
       "output_type": "stream",
       "stream": "stdout",
       "text": [
        "hello California\n",
        "hello California\n",
        "hello\n",
        "California \n",
        "\n",
        "hello world\n",
        "the variable s is type <type 'str'> \n",
        "\n",
        "42\n",
        "the variable i is type <type 'int'> \n",
        "\n",
        "3.14159\n",
        "the variable f is type <type 'float'> \n",
        "\n",
        "hello world\n",
        "the variable i is now type <type 'str'> \n",
        "\n",
        "hello \"world\", if that is your real name.\n",
        "That's World, to you, buddy. \n",
        "\n",
        "hello \"world\", if that is your real name.\n",
        "That's World, to you, buddy.\n",
        "some\thing is missing \n",
        "\n",
        "somethi\n",
        "g is broken \n",
        "\n",
        "something th\u0007t will drive you b\u0007n\u0007n\u0007s \n",
        "\n",
        "\\a solu\\tio\\n \n",
        "\n",
        "\\another solu\\tio\\n \n",
        "\n",
        "but there ain\\'t a problem with this \n",
        "\n",
        "but this is okay\\  \n",
        "\n",
        "Sara M. Branco\n",
        "M\n",
        "Sara\n",
        "Branco\n",
        "Sara M. Branco\n",
        "Sara Branco\n",
        "Branco, Sara M.\n",
        "('Sara', 'Branco') \n",
        "\n",
        "Branco, Sara M.\n",
        "variables can be interpolated as strings here 42 and here 3.14159265\n",
        "To get 2 decimal places write 3.14, or to get 2 decimal places padded\n",
        "to a total width of 5, write [ 3.14] (notice that the '.' counts as a character).\n",
        "The brackets above don't do anything--they're just there to point out to you the left\n",
        "padding; you can replace the spaces in the second example with zeros this\n",
        "way: 003.142.\n",
        "variables can be interpolated as strings here 42 and here 3.14\n",
        "To get 2 decimal places write 3.14.To get 2 decimal places padded to a total width of 5, write   3.14 (notice that I have to include the space if I want to pad with spaces).\n",
        "You can replace the spaces in the second example with zeros this way: 003.14 Or you could even do this: XX3.14\n"
       ]
      }
     ],
     "prompt_number": 60
    },
    {
     "cell_type": "code",
     "collapsed": false,
     "input": [
      "%%bash\n",
      "cd 2/\n",
      "# echo 'print \"hello California\" ' > hello.py\n",
      "# echo 'print \"hello\",\"world\" ' >> hello.py\n",
      "python hello.py\n",
      "\n",
      "chmod +x hello.py\n",
      "./hello.py\n"
     ],
     "language": "python",
     "metadata": {},
     "outputs": [
      {
       "output_type": "stream",
       "stream": "stdout",
       "text": [
        "hello California\n",
        "hello California\n",
        "hello\n",
        "California\n"
       ]
      }
     ],
     "prompt_number": 11
    },
    {
     "cell_type": "code",
     "collapsed": false,
     "input": [],
     "language": "python",
     "metadata": {},
     "outputs": []
    },
    {
     "cell_type": "code",
     "collapsed": false,
     "input": [
      "##### Exercises:\n",
      "usr = raw_input(\"What's your name?\")\n",
      "print \"Hello\", usr\n",
      "\n",
      "birth = int(raw_input(\"The year of birth?\"))\n",
      "age = 2015 - birth\n",
      "print 'Your age is', str(age) + \".\" # no space between 'age' and '.'\n",
      "\n",
      "num1 = float(raw_input(\"Enter a number and press return\"))\n",
      "num2 = float(raw_input(\"Another number\"))\n",
      "ratio = num1/num2\n",
      "print \"The ratio of %i and %i is\" %(num1, num2), str(ratio) + \".\"\n",
      "\n",
      "print \"Enter five numbers, pressing return after each number:\"\n",
      "num1 = float(raw_input(\"Number 1:  \"))\n",
      "num2 = float(raw_input(\"Number 2:  \"))\n",
      "num3 = float(raw_input(\"Number 3:  \"))\n",
      "num4 = float(raw_input(\"Number 4:  \"))\n",
      "num5 = float(raw_input(\"Number 5:  \"))\n",
      "sum = num1 + num2 + num3 + num4 + num5\n",
      "mean = sum / 5\n",
      "print \"The sum of these numbers is\", str(sum) + \".\"\n",
      "print \"And the mean is\", str(mean) + \".\"\n",
      "\n",
      "num1 = float(raw_input(\"The first number: \"))\n",
      "num2 = float(raw_input(\"The second number: \"))\n",
      "num3 = num1\n",
      "num1 = num2\n",
      "num2 = num3\n",
      "print \"After swapping, Number 1 is\", str(num1), \"and Number 2 is\", str(num2) + \".\""
     ],
     "language": "python",
     "metadata": {},
     "outputs": [
      {
       "name": "stdout",
       "output_type": "stream",
       "stream": "stdout",
       "text": [
        "What's your name?2\n"
       ]
      },
      {
       "output_type": "stream",
       "stream": "stdout",
       "text": [
        "Hello 2\n"
       ]
      },
      {
       "name": "stdout",
       "output_type": "stream",
       "stream": "stdout",
       "text": [
        "The year of birth?1\n"
       ]
      },
      {
       "output_type": "stream",
       "stream": "stdout",
       "text": [
        "Your age is 2014.\n"
       ]
      },
      {
       "name": "stdout",
       "output_type": "stream",
       "stream": "stdout",
       "text": [
        "Enter a number and press return1\n"
       ]
      },
      {
       "name": "stdout",
       "output_type": "stream",
       "stream": "stdout",
       "text": [
        "Another number3\n"
       ]
      },
      {
       "output_type": "stream",
       "stream": "stdout",
       "text": [
        "0\n"
       ]
      }
     ],
     "prompt_number": 87
    },
    {
     "cell_type": "code",
     "collapsed": false,
     "input": [
      "print \"Enter five numbers, pressing return after each number:\"\n",
      "num1 = float(raw_input(\"Number 1:  \"))\n",
      "num2 = float(raw_input(\"Number 2:  \"))\n",
      "num3 = float(raw_input(\"Number 3:  \"))\n",
      "num4 = float(raw_input(\"Number 4:  \"))\n",
      "num5 = float(raw_input(\"Number 5:  \"))\n",
      " \n",
      "sum = num1 + num2 + num3 + num4 + num5\n",
      "mean = sum / 5\n",
      " \n",
      "print \"The sum of these numbers is\", str(sum) + \".\"\n",
      "print \"And the mean is\", str(mean) + \".\""
     ],
     "language": "python",
     "metadata": {},
     "outputs": [
      {
       "output_type": "stream",
       "stream": "stdout",
       "text": [
        "Enter five numbers, pressing return after each number:\n"
       ]
      },
      {
       "name": "stdout",
       "output_type": "stream",
       "stream": "stdout",
       "text": [
        "Number 1:  1\n"
       ]
      },
      {
       "name": "stdout",
       "output_type": "stream",
       "stream": "stdout",
       "text": [
        "Number 2:  2\n"
       ]
      },
      {
       "name": "stdout",
       "output_type": "stream",
       "stream": "stdout",
       "text": [
        "Number 3:  3\n"
       ]
      },
      {
       "name": "stdout",
       "output_type": "stream",
       "stream": "stdout",
       "text": [
        "Number 4:  4\n"
       ]
      },
      {
       "name": "stdout",
       "output_type": "stream",
       "stream": "stdout",
       "text": [
        "Number 5:  5\n"
       ]
      },
      {
       "output_type": "stream",
       "stream": "stdout",
       "text": [
        "The sum of these numbers is 15.0.\n",
        "And the mean is 3.0.\n"
       ]
      }
     ],
     "prompt_number": 88
    },
    {
     "cell_type": "code",
     "collapsed": false,
     "input": [
      "num1 = float(raw_input(\"The first number: \"))\n",
      "num2 = float(raw_input(\"The second number: \"))\n",
      "\n",
      "num3 = num1\n",
      "num1 = num2\n",
      "num2 = num3\n",
      "\n",
      "print \"After swapping, Number 1 is\", str(num1), \"and Number 2 is\", str(num2) + \".\""
     ],
     "language": "python",
     "metadata": {},
     "outputs": [
      {
       "name": "stdout",
       "output_type": "stream",
       "stream": "stdout",
       "text": [
        "The first number: 1\n"
       ]
      },
      {
       "name": "stdout",
       "output_type": "stream",
       "stream": "stdout",
       "text": [
        "The second number: 2\n"
       ]
      },
      {
       "output_type": "stream",
       "stream": "stdout",
       "text": [
        "After swapping, Number 1 is 2.0 and Number 2 is 1.0.\n"
       ]
      }
     ],
     "prompt_number": 93
    },
    {
     "cell_type": "code",
     "collapsed": false,
     "input": [
      "input1 = float(raw_input(\"Please enter a number and press return:\\n\"))\n",
      "input2 = float(raw_input(\"Please enter another number and press return:\\n\"))\n",
      " \n",
      "# If you googled for tuples and quick swap, you hopefully read something about \"tuple packing\"\n",
      "# This is not available in most programming languages, in that you are assigning input2 to input1\n",
      "# and input1 to input2 simultaneously (i.e. from left to right as ordered pairs across the equals sign)\n",
      " \n",
      "input1, input2 = input2, input1\n",
      " \n",
      "print \"Ohhh, so you entered\", str(input1), \"and\", str(input2)"
     ],
     "language": "python",
     "metadata": {},
     "outputs": [
      {
       "name": "stdout",
       "output_type": "stream",
       "stream": "stdout",
       "text": [
        "Please enter a number and press return:\n",
        "2\n"
       ]
      },
      {
       "name": "stdout",
       "output_type": "stream",
       "stream": "stdout",
       "text": [
        "Please enter another number and press return:\n",
        "1\n"
       ]
      },
      {
       "output_type": "stream",
       "stream": "stdout",
       "text": [
        "Ohhh, so you entered 1.0 and 2.0\n"
       ]
      }
     ],
     "prompt_number": 94
    },
    {
     "cell_type": "code",
     "collapsed": false,
     "input": [
      "digits2 = int(raw_input('Specify a number of digits: ')) + 1\n",
      "cluster_f2 = raw_input('Please specify 5 numbers containing %s digits each, separated by spaces: ' % (digits2-1))\n",
      "print int(cluster_f2[0:digits2]) + int(cluster_f2[digits2:2*digits2]) + int(cluster_f2[2*digits2:3*digits2]) + int(cluster_f2[3*digits2:4*digits2]) + int(cluster_f2[4*digits2:5*digits2])\n",
      "print float((int(cluster_f2[0:digits2]) + int(cluster_f2[digits2:2*digits2]) + int(cluster_f2[2*digits2:3*digits2]) + int(cluster_f2[3*digits2:4*digits2]) + int(cluster_f2[4*digits2:5*digits2]))/5)"
     ],
     "language": "python",
     "metadata": {},
     "outputs": [
      {
       "name": "stdout",
       "output_type": "stream",
       "stream": "stdout",
       "text": [
        "Specify a number of digits: 2\n"
       ]
      },
      {
       "name": "stdout",
       "output_type": "stream",
       "stream": "stdout",
       "text": [
        "Please specify 5 numbers containing 2 digits each, separated by spaces: 11 12 13 14 15\n"
       ]
      },
      {
       "output_type": "stream",
       "stream": "stdout",
       "text": [
        "65\n",
        "13.0\n"
       ]
      }
     ]
    }
   ],
   "metadata": {}
  }
 ]
}