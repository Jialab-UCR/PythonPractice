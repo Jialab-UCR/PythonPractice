{
 "metadata": {
  "name": "",
  "signature": "sha256:e39b3b61ec43951bcd48b36c0cefa402e300e70fdaa559eb362dbe864a46e55e"
 },
 "nbformat": 3,
 "nbformat_minor": 0,
 "worksheets": [
  {
   "cells": [
    {
     "cell_type": "code",
     "collapsed": false,
     "input": [
      "def hello(name):\n",
      "    greeting = \"Hello %s!\" % (name)\n",
      "    testVariable = \"\"\"The hotel room is a mess, there's a chicken hangin'\n",
      "                   out, somebody's baby is in the closet, there's a\n",
      "                   tiger in the bathroom that Mike Tyson wants back, Stu\n",
      "                   lost a tooth and eloped, and Doug is missing.\"\"\"\n",
      "    print 'Inside of the function:', testVariable\n",
      "    return greeting\n",
      "\n",
      "testVariable = \"What happens in Vegas stays in Vegas.\"\n",
      "grt = hello(\"Stu Price\")\n",
      "print 'Outside of the function:', testVariable"
     ],
     "language": "python",
     "metadata": {},
     "outputs": [
      {
       "output_type": "stream",
       "stream": "stdout",
       "text": [
        "Inside of the function: The hotel room is a mess, there's a chicken hangin'\n",
        "                   out, somebody's baby is in the closet, there's a\n",
        "                   tiger in the bathroom that Mike Tyson wants back, Stu\n",
        "                   lost a tooth and eloped, and Doug is missing.\n",
        "Outside of the function: What happens in Vegas stays in Vegas.\n"
       ]
      }
     ],
     "prompt_number": 1
    },
    {
     "cell_type": "code",
     "collapsed": false,
     "input": [
      "def whichFood(balance):\n",
      "    if balance < 10:\n",
      "        return 'ramen'\n",
      "    elif balance < 100:\n",
      "        return 'good ramen'\n",
      "    elif balance < 200:\n",
      "        return 'better ramen'\n",
      "    else:\n",
      "        return 'ramen that is truly profound in its goodness'\n",
      " \n",
      "print whichFood(14)"
     ],
     "language": "python",
     "metadata": {},
     "outputs": [
      {
       "output_type": "stream",
       "stream": "stdout",
       "text": [
        "good ramen\n"
       ]
      }
     ],
     "prompt_number": 2
    },
    {
     "cell_type": "code",
     "collapsed": false,
     "input": [
      "def useless():\n",
      "    print 'What was the point of that?'\n",
      "    print\n",
      " \n",
      "useless()\n",
      " \n",
      "def countToTen():\n",
      "    for i in range(10):\n",
      "        print i\n",
      " \n",
      "countToTen()"
     ],
     "language": "python",
     "metadata": {},
     "outputs": [
      {
       "output_type": "stream",
       "stream": "stdout",
       "text": [
        "What was the point of that?\n",
        "\n",
        "0\n",
        "1\n",
        "2\n",
        "3\n",
        "4\n",
        "5\n",
        "6\n",
        "7\n",
        "8\n",
        "9\n"
       ]
      }
     ],
     "prompt_number": 3
    },
    {
     "cell_type": "code",
     "collapsed": false,
     "input": [
      "def returnStuff():\n",
      "    a = '>Gene1'\n",
      "    b = 'ATGGTGGG'\n",
      "    return [a,b] # returns the output as a list\n",
      " \n",
      "print type(returnStuff())"
     ],
     "language": "python",
     "metadata": {},
     "outputs": [
      {
       "output_type": "stream",
       "stream": "stdout",
       "text": [
        "<type 'list'>\n"
       ]
      }
     ],
     "prompt_number": 4
    },
    {
     "cell_type": "code",
     "collapsed": false,
     "input": [
      "# We can index the output the same as any list\n",
      "print returnStuff()[0]\n",
      "print returnStuff()[1]\n",
      " \n",
      "(name, seq) = returnStuff() # stores output to the variables name & seq,\n",
      "                            # so you can access name and seq directly\n",
      "print name\n",
      "print seq\n",
      "\n",
      "both = returnStuff() # stores the output to the variable both\n",
      "                     # which will be a list\n",
      "print both\n",
      " \n",
      "dictOfStuff = {}\n",
      "dictOfStuff[returnStuff()[0][1:]] = returnStuff()[1]\n",
      "print dictOfStuff"
     ],
     "language": "python",
     "metadata": {},
     "outputs": [
      {
       "output_type": "stream",
       "stream": "stdout",
       "text": [
        ">Gene1\n",
        "ATGGTGGG\n",
        ">Gene1\n",
        "ATGGTGGG\n",
        "['>Gene1', 'ATGGTGGG']\n",
        "{'Gene1': 'ATGGTGGG'}\n"
       ]
      }
     ],
     "prompt_number": 6
    },
    {
     "cell_type": "code",
     "collapsed": false,
     "input": [
      "import sys\n",
      "commandLine = sys.argv\n",
      "print commandLine"
     ],
     "language": "python",
     "metadata": {},
     "outputs": [
      {
       "output_type": "stream",
       "stream": "stdout",
       "text": [
        "['-c', '-f', '/Users/DONG/.ipython/profile_default/security/kernel-9fe04691-a4b0-4a0c-8690-f13c2aa70cfa.json', \"--IPKernelApp.parent_appname='ipython-notebook'\", '--profile-dir', '/Users/DONG/.ipython/profile_default', '--parent=1']\n"
       ]
      }
     ],
     "prompt_number": 7
    },
    {
     "cell_type": "code",
     "collapsed": false,
     "input": [
      "import collections\n",
      " \n",
      " \n",
      "my_genera = ['Helicobacter', 'Escherichia', 'Lactobacillus', 'Lactobacillus', 'Oryza',\n",
      " 'Wolbachia', 'Oryza', 'Rattus', 'Lactobacillus', 'Drosophila']\n",
      " \n",
      "c = collections.Counter(my_genera)\n",
      "print c\n",
      "print c['Rattus']"
     ],
     "language": "python",
     "metadata": {},
     "outputs": [
      {
       "output_type": "stream",
       "stream": "stdout",
       "text": [
        "Counter({'Lactobacillus': 3, 'Oryza': 2, 'Drosophila': 1, 'Escherichia': 1, 'Rattus': 1, 'Wolbachia': 1, 'Helicobacter': 1})\n",
        "1\n"
       ]
      }
     ],
     "prompt_number": 12
    },
    {
     "cell_type": "code",
     "collapsed": false,
     "input": [
      "d = collections.Counter()\n",
      " \n",
      " \n",
      "for genus in my_genera:\n",
      "    d[genus] += 1\n",
      " \n",
      "print d"
     ],
     "language": "python",
     "metadata": {},
     "outputs": [
      {
       "output_type": "stream",
       "stream": "stdout",
       "text": [
        "Counter({'Lactobacillus': 3, 'Oryza': 2, 'Drosophila': 1, 'Escherichia': 1, 'Rattus': 1, 'Wolbachia': 1, 'Helicobacter': 1})\n"
       ]
      }
     ],
     "prompt_number": 13
    },
    {
     "cell_type": "code",
     "collapsed": false,
     "input": [
      "e = {}\n",
      " \n",
      "for genus in my_genera:\n",
      "    if genus not in e:\n",
      "        e[genus] = 0\n",
      "    e[genus] += 1\n",
      " \n",
      "print e"
     ],
     "language": "python",
     "metadata": {},
     "outputs": [
      {
       "output_type": "stream",
       "stream": "stdout",
       "text": [
        "{'Lactobacillus': 3, 'Oryza': 2, 'Drosophila': 1, 'Escherichia': 1, 'Rattus': 1, 'Wolbachia': 1, 'Helicobacter': 1}\n"
       ]
      }
     ],
     "prompt_number": 14
    },
    {
     "cell_type": "code",
     "collapsed": false,
     "input": [
      "c = collections.Counter(my_genera)\n",
      " \n",
      "print c\n",
      "print c.most_common()\n"
     ],
     "language": "python",
     "metadata": {},
     "outputs": [
      {
       "output_type": "stream",
       "stream": "stdout",
       "text": [
        "Counter({'Lactobacillus': 3, 'Oryza': 2, 'Drosophila': 1, 'Escherichia': 1, 'Rattus': 1, 'Wolbachia': 1, 'Helicobacter': 1})\n",
        "[('Lactobacillus', 3), ('Oryza', 2), ('Drosophila', 1), ('Escherichia', 1), ('Rattus', 1), ('Wolbachia', 1), ('Helicobacter', 1)]\n"
       ]
      }
     ],
     "prompt_number": 15
    },
    {
     "cell_type": "code",
     "collapsed": false,
     "input": [
      "import collections\n",
      " \n",
      "my_species_list = [('Helicobacter','pylori'), ('Escherichia','coli'),\n",
      "              ('Lactobacillus', 'helveticus'), ('Lactobacillus', 'acidophilus'),\n",
      "              ('Oryza', 'sativa'), ('Wolbachia', 'pipientis'), ('Oryza', 'glabberima'),\n",
      "              ('Rattus', 'norvegicus'), ('Lactobacillus','casei'),\n",
      "              ('Drosophila','melanogaster')]\n",
      " \n",
      "d1 = {}\n",
      " \n",
      "for genus, species in my_species_list:\n",
      "    if genus not in d1:\n",
      "        d1[genus] = []\n",
      "    d1[genus].append(species)\n",
      " \n",
      "print d1"
     ],
     "language": "python",
     "metadata": {},
     "outputs": [
      {
       "output_type": "stream",
       "stream": "stdout",
       "text": [
        "{'Lactobacillus': ['helveticus', 'acidophilus', 'casei'], 'Oryza': ['sativa', 'glabberima'], 'Drosophila': ['melanogaster'], 'Escherichia': ['coli'], 'Rattus': ['norvegicus'], 'Wolbachia': ['pipientis'], 'Helicobacter': ['pylori']}\n"
       ]
      }
     ],
     "prompt_number": 16
    },
    {
     "cell_type": "code",
     "collapsed": false,
     "input": [
      "d2 = collections.defaultdict(list)\n",
      " \n",
      "for genus, species in my_species_list:\n",
      "    d2[genus].append(species)\n",
      " \n",
      "print d2"
     ],
     "language": "python",
     "metadata": {},
     "outputs": [
      {
       "output_type": "stream",
       "stream": "stdout",
       "text": [
        "defaultdict(<type 'str'>, {'Lactobacillus': 'casei', 'Oryza': 'glabberima', 'Drosophila': 'melanogaster', 'Escherichia': 'coli', 'Rattus': 'norvegicus', 'Wolbachia': 'pipientis', 'Helicobacter': 'pylori'})\n"
       ]
      }
     ],
     "prompt_number": 25
    },
    {
     "cell_type": "code",
     "collapsed": false,
     "input": [
      "x=3\n",
      "import greeting_module\n",
      " \n",
      "hi = greeting_module.hello('Aisha')\n",
      "print hi\n",
      "print greeting_module.x\n",
      "print x"
     ],
     "language": "python",
     "metadata": {},
     "outputs": [
      {
       "output_type": "stream",
       "stream": "stdout",
       "text": [
        "Hello Aisha!\n",
        "5\n",
        "3\n"
       ]
      }
     ],
     "prompt_number": 29
    },
    {
     "cell_type": "code",
     "collapsed": false,
     "input": [
      "from greeting_module import ahoy\n",
      " \n",
      "hi = ahoy('everybody')\n",
      "# if you grab a function from a module with a 'from' statement,\n",
      "# you don't need to use the <module>.<function> syntax\n",
      "print hi"
     ],
     "language": "python",
     "metadata": {},
     "outputs": [
      {
       "output_type": "stream",
       "stream": "stdout",
       "text": [
        "Ahoy-hoy everybody!\n"
       ]
      }
     ],
     "prompt_number": 30
    },
    {
     "cell_type": "code",
     "collapsed": false,
     "input": [
      "#!/usr/bin/env python\n",
      "from greeting_module import *\n",
      " \n",
      "hi = ahoy('everybody')\n",
      "hi2 = hello('everybody')\n",
      " \n",
      "print hi\n",
      "print hi2"
     ],
     "language": "python",
     "metadata": {},
     "outputs": [
      {
       "output_type": "stream",
       "stream": "stdout",
       "text": [
        "Ahoy-hoy everybody!\n",
        "Hello everybody!\n"
       ]
      }
     ],
     "prompt_number": 31
    },
    {
     "cell_type": "code",
     "collapsed": false,
     "input": [],
     "language": "python",
     "metadata": {},
     "outputs": []
    }
   ],
   "metadata": {}
  }
 ]
}