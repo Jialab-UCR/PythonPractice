{
 "metadata": {
  "name": "",
  "signature": "sha256:e3fc0c5424d94e71b768a18080b950902d523bade8f98784548ab15e023a2efc"
 },
 "nbformat": 3,
 "nbformat_minor": 0,
 "worksheets": [
  {
   "cells": [
    {
     "cell_type": "heading",
     "level": 2,
     "metadata": {},
     "source": [
      "1. Introduction"
     ]
    },
    {
     "cell_type": "markdown",
     "metadata": {},
     "source": [
      "###### link: http://intro-prog-bioinfo-2014.wikispaces.com/"
     ]
    },
    {
     "cell_type": "heading",
     "level": 2,
     "metadata": {},
     "source": [
      "2. Using the UNIX shell"
     ]
    },
    {
     "cell_type": "markdown",
     "metadata": {},
     "source": [
      "##### Unlike the computers you are used to, UNIX doesn't automatically know what to do with files\n",
      "##### The first thing that controls a file is the file's permissions. You can control who can read, write, and execute (run as a program) each of your files\n"
     ]
    },
    {
     "cell_type": "raw",
     "metadata": {},
     "source": [
      "pwd: Print Working Directory \n",
      "cd: Change Directory, just type 'cd' can change to the home directory\n",
      "..: upper directory\n",
      "~: home directory\n",
      "ls: LiSt contents of a directory\n",
      "ls -l; ll: list the Long form of the directory entries\n",
      "ls -lt: shows Long listing, and sort by modification Time\n",
      "ls -lh: long and with the sizes in a human-readable format (MB, GB,...)\n",
      "ls -lr: Reverses the list\n",
      "\n",
      "mkdir directory_name: creat a given directory\n",
      "echo ' ~~ ' > file; OR ' ~~ ' >> file (append)\n",
      "cp original_name copy_name\n",
      "cp -R original_file copy_file\n",
      "mv source destination: move files or directories; rename a file or directory(renaming is the same as moving within the same directory)\n",
      "\n",
      "less file_name: view contents of a file\n",
      "       / world: search the world\n",
      "       q: quit\n",
      "       h: help\n",
      "more: lower version of less?\n",
      "head: print first 10 lines of the file\n",
      "head -n: first n lines\n",
      "tail: print last 10 lines\n",
      "cat file1 file2 ...: print named files to the screen\n",
      "cat file1 file2 ... > file3: cancatenate files to a new file\n",
      "\n",
      "\n",
      "grep 'search_string' file1 [file2 ...]': Global Regular Expression Print\n",
      "searching files on UNIX: http://www.robelle.com/smugbook/regexpr.html\n",
      "grep -c: Count the number of lines with a match\n",
      "grep -v: inVert (print lines that dont contain the string)\n",
      "cut -f column_numbers file: pull out the column numbers you specify and print them out to the shell, while leaving the original file alone\n",
      "\n",
      "wildcard '*': matches any number of characters\n",
      "\n",
      "pipe '|'\n",
      "env | grep HOME\n",
      "\n",
      "permissions:\n",
      "drwxr-xr-x\n",
      "1st: if it's a directory: d or -\n",
      "2nd to 4th: your permissions\n",
      "5th to 7th: your groups' permissions\n",
      "the last three: the rest of the world's permissions\n",
      "\n",
      "chmod flags filenames: chmod +x/w/r filename\n",
      "\n",
      "man command_name: MANual"
     ]
    },
    {
     "cell_type": "markdown",
     "metadata": {},
     "source": []
    },
    {
     "cell_type": "code",
     "collapsed": false,
     "input": [
      "%%bash\n",
      "ls -lh\n",
      "ls -lr\n",
      "mkdir python_course\n",
      "cd python_course\n",
      "echo 'Hello world' > python_notes_1.txt\n",
      "less python_notes_1.txt\n",
      "cd python_course | rm -R python_course_2/ | ls"
     ],
     "language": "python",
     "metadata": {},
     "outputs": [
      {
       "output_type": "stream",
       "stream": "stdout",
       "text": [
        "total 16\n",
        "-rw-r--r--  1 DONG  staff   2.1K May 17 18:04 intro_prog_bioinfo_2014_1_1.ipynb\n",
        "-rw-r--r--  1 DONG  staff   1.4K Aug 29  2014 transcript_comparison.ipynb\n",
        "total 16\n",
        "-rw-r--r--  1 DONG  staff  1458 Aug 29  2014 transcript_comparison.ipynb\n",
        "-rw-r--r--  1 DONG  staff  2185 May 17 18:04 intro_prog_bioinfo_2014_1_1.ipynb\n",
        "Hello world\n"
       ]
      }
     ],
     "prompt_number": 9
    },
    {
     "cell_type": "heading",
     "level": 2,
     "metadata": {},
     "source": [
      "3. Text Editors"
     ]
    },
    {
     "cell_type": "raw",
     "metadata": {},
     "source": [
      "PROGRAM 1: vi [normal mode, command mode, insert mode, replace mode]\n",
      "http://www.jonathanmoeller.com/screed/?p=2774\n",
      "\n",
      "command mode:\n",
      "q: return to the command prompt, only if you haven't made any changes\n",
      "q!: force quit without saving\n",
      "w: writes the current text file to disk\n",
      "wq: save and exit\n",
      "exit: and then hit the Enter key, does the same thing as wq\n",
      "\n",
      "Replace mode:\n",
      "works almost exactly like Insert mode, but with one key difference. Replace mode overwrites text as you replace it\n",
      "\n",
      "normal mode:\n",
      "\n",
      "insert mode:\n",
      "\n",
      "\n",
      "PROGRAM 2: EMACS\n",
      "http://www.cs.princeton.edu/~hains/os/emacs.html\n",
      "\n",
      "PROGRAM 3: nedit(gedit) [MAC doesn't have this]\n",
      "\n",
      "PROGRAM 4: Aquamacs\n",
      "\n"
     ]
    },
    {
     "cell_type": "heading",
     "level": 2,
     "metadata": {},
     "source": [
      "4. Exercises"
     ]
    },
    {
     "cell_type": "code",
     "collapsed": false,
     "input": [
      "%%bash\n",
      "pwd | ls\n",
      "#mkdir fasta_files\n",
      "cd fasta_files\n",
      "# cat *.fsa > cerevisiae_genome.fasta\n",
      "# head cerevisiae_genome.fasta\n",
      "grep -c '>' cerevisiae_genome.fasta\n",
      "grep -v '>' cerevisiae_genome.fasta | wc"
     ],
     "language": "python",
     "metadata": {},
     "outputs": [
      {
       "output_type": "stream",
       "stream": "stdout",
       "text": [
        "fasta_files\n",
        "intro_prog_bioinfo_2014_1_1.ipynb\n",
        "transcript_comparison.ipynb\n",
        "17\n",
        "  202628  202628 12359733\n"
       ]
      }
     ],
     "prompt_number": 67
    },
    {
     "cell_type": "code",
     "collapsed": false,
     "input": [
      "%%bash\n",
      "cd fasta_files/\n",
      "# mv SGD_features.tab.txt SGD_features.tab\n",
      "# ls\n",
      "# cut -f 7 SGD_features.tab\n",
      "\n",
      "grep -c 'ORF' SGD_features.tab #number of total genes\n",
      "grep 'ORF' SGD_features.tab | grep 'Verified' |wc -l #number of Verified genes\n",
      "cut -f 3 SGD_features.tab | sort -u #sort the input alphabetically, then take only unique lines"
     ],
     "language": "python",
     "metadata": {},
     "outputs": [
      {
       "output_type": "stream",
       "stream": "stdout",
       "text": [
        "6650\n",
        "    5122\n",
        "\n",
        "Dubious\n",
        "Uncharacterized\n",
        "Verified\n",
        "Verified|silenced_gene\n",
        "silenced_gene\n"
       ]
      }
     ],
     "prompt_number": 75
    },
    {
     "cell_type": "code",
     "collapsed": false,
     "input": [
      "%%bash\n",
      "cd fasta_files/\n",
      "head *.fsa | grep 'chr'"
     ],
     "language": "python",
     "metadata": {},
     "outputs": [
      {
       "output_type": "stream",
       "stream": "stdout",
       "text": [
        "==> chr01.fsa <==\n",
        ">tpg|BK006935.2| [organism=Saccharomyces cerevisiae S288c] [strain=S288c] [moltype=genomic] [chromosome=I] [note=R64-1-1]\n",
        "==> chr02.fsa <==\n",
        ">tpg|BK006936.2| [organism=Saccharomyces cerevisiae S288c] [strain=S288c] [moltype=genomic] [chromosome=II] [note=R64-1-1]\n",
        "==> chr03.fsa <==\n",
        ">tpg|BK006937.2| [organism=Saccharomyces cerevisiae S288c] [strain=S288c] [moltype=genomic] [chromosome=III] [note=R64-1-1]\n",
        "==> chr04.fsa <==\n",
        ">tpg|BK006938.2| [organism=Saccharomyces cerevisiae S288c] [strain=S288c] [moltype=genomic] [chromosome=IV] [note=R64-1-1]\n",
        "==> chr05.fsa <==\n",
        ">tpg|BK006939.2| [organism=Saccharomyces cerevisiae S288c] [strain=S288c] [moltype=genomic] [chromosome=V] [note=R64-1-1]\n",
        "==> chr06.fsa <==\n",
        ">tpg|BK006940.2| [organism=Saccharomyces cerevisiae S288c] [strain=S288c] [moltype=genomic] [chromosome=VI] [note=R64-1-1]\n",
        "==> chr07.fsa <==\n",
        ">tpg|BK006941.2| [organism=Saccharomyces cerevisiae S288c] [strain=S288c] [moltype=genomic] [chromosome=VII] [note=R64-1-1]\n",
        "==> chr08.fsa <==\n",
        ">tpg|BK006934.2| [organism=Saccharomyces cerevisiae S288c] [strain=S288c] [moltype=genomic] [chromosome=VIII] [note=R64-1-1]\n",
        "==> chr09.fsa <==\n",
        ">tpg|BK006942.2| [organism=Saccharomyces cerevisiae S288c] [strain=S288c] [moltype=genomic] [chromosome=IX] [note=R64-1-1]\n",
        "==> chr10.fsa <==\n",
        ">tpg|BK006943.2| [organism=Saccharomyces cerevisiae S288c] [strain=S288c] [moltype=genomic] [chromosome=X] [note=R64-1-1]\n",
        "==> chr11.fsa <==\n",
        ">tpg|BK006944.2| [organism=Saccharomyces cerevisiae S288c] [strain=S288c] [moltype=genomic] [chromosome=XI] [note=R64-1-1]\n",
        "==> chr12.fsa <==\n",
        ">tpg|BK006945.2| [organism=Saccharomyces cerevisiae S288c] [strain=S288c] [moltype=genomic] [chromosome=XII] [note=R64-1-1]\n",
        "==> chr13.fsa <==\n",
        ">tpg|BK006946.2| [organism=Saccharomyces cerevisiae S288c] [strain=S288c] [moltype=genomic] [chromosome=XIII] [note=R64-1-1]\n",
        "==> chr14.fsa <==\n",
        ">tpg|BK006947.3| [organism=Saccharomyces cerevisiae S288c] [strain=S288c] [moltype=genomic] [chromosome=XIV] [note=R64-1-1]\n",
        "==> chr15.fsa <==\n",
        ">tpg|BK006948.2| [organism=Saccharomyces cerevisiae S288c] [strain=S288c] [moltype=genomic] [chromosome=XV] [note=R64-1-1]\n",
        "==> chr16.fsa <==\n",
        ">tpg|BK006949.2| [organism=Saccharomyces cerevisiae S288c] [strain=S288c] [moltype=genomic] [chromosome=XVI] [note=R64-1-1]\n",
        "==> chrmt.fsa <==\n"
       ]
      }
     ],
     "prompt_number": 6
    },
    {
     "cell_type": "code",
     "collapsed": false,
     "input": [
      "%%bash\n",
      "grep -o '/G=[^ ]*' palin/palinscmp.txt | cut -d '=' -f 2 | sort -u > terminated_genes.txt\n",
      "head terminated_genes.txt\n",
      "\n",
      "# -o, only the matching part; -d, delim; -f, column"
     ],
     "language": "python",
     "metadata": {},
     "outputs": [
      {
       "output_type": "stream",
       "stream": "stdout",
       "text": [
        "aaeB\n",
        "abrB\n",
        "accD\n",
        "acpS\n",
        "acrB\n",
        "acs\n",
        "actP\n",
        "adhE\n",
        "adiA\n",
        "adiC\n"
       ]
      }
     ],
     "prompt_number": 26
    },
    {
     "cell_type": "code",
     "collapsed": false,
     "input": [
      "%%bash\n",
      "df -h\n",
      "#how much disk space you have left"
     ],
     "language": "python",
     "metadata": {},
     "outputs": [
      {
       "output_type": "stream",
       "stream": "stdout",
       "text": [
        "Filesystem      Size   Used  Avail Capacity  iused    ifree %iused  Mounted on\n",
        "/dev/disk0s2   465Gi  311Gi  154Gi    67% 81507969 40378773   67%   /\n",
        "devfs          182Ki  182Ki    0Bi   100%      630        0  100%   /dev\n",
        "map -hosts       0Bi    0Bi    0Bi   100%        0        0  100%   /net\n",
        "map auto_home    0Bi    0Bi    0Bi   100%        0        0  100%   /home\n"
       ]
      }
     ],
     "prompt_number": 27
    },
    {
     "cell_type": "code",
     "collapsed": false,
     "input": [],
     "language": "python",
     "metadata": {},
     "outputs": []
    }
   ],
   "metadata": {}
  }
 ]
}