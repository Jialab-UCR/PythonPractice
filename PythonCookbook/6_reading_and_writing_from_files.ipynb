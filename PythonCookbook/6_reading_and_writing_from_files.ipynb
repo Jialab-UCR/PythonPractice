{
 "metadata": {
  "name": "",
  "signature": "sha256:572aefd9cfc05c6775de54b605c8b01ea290915247b54118c3fd0f8ba6629f18"
 },
 "nbformat": 3,
 "nbformat_minor": 0,
 "worksheets": [
  {
   "cells": [
    {
     "cell_type": "heading",
     "level": 3,
     "metadata": {},
     "source": [
      "Manipulating Files and Processing Text"
     ]
    },
    {
     "cell_type": "markdown",
     "metadata": {},
     "source": [
      "**Differences between functions and methods**\n",
      "+ function: like **print()**\n",
      "+ method: like **myfile.append()**. Method can accept arguments"
     ]
    },
    {
     "cell_type": "markdown",
     "metadata": {},
     "source": [
      "**split()**\n",
      "\n",
      "convert a character string of a sentence into a list of words separated by spaces and puncutation marks"
     ]
    },
    {
     "cell_type": "code",
     "collapsed": false,
     "input": [
      "sts = \"I am a well-written sentence, and so I \\\n",
      "dependably have punctuation\"\n",
      "lfs = sts.split(' ')\n",
      "for i in lfs:\n",
      "    print i"
     ],
     "language": "python",
     "metadata": {},
     "outputs": [
      {
       "output_type": "stream",
       "stream": "stdout",
       "text": [
        "I\n",
        "am\n",
        "a\n",
        "well-written\n",
        "sentence,\n",
        "and\n",
        "so\n",
        "I\n",
        "dependably\n",
        "have\n",
        "punctuation.\n"
       ]
      }
     ],
     "prompt_number": 19
    },
    {
     "cell_type": "code",
     "collapsed": false,
     "input": [
      "string_to_split = \"I am a well-written sentence, and so I \\\n",
      " dependably have punctuation. \"\n",
      "list_from_string = list(string_to_split)\n",
      "print list_from_string\n",
      "for letter in list_from_string:\n",
      "     print letter"
     ],
     "language": "python",
     "metadata": {},
     "outputs": [
      {
       "output_type": "stream",
       "stream": "stdout",
       "text": [
        "['I', ' ', 'a', 'm', ' ', 'a', ' ', 'w', 'e', 'l', 'l', '-', 'w', 'r', 'i', 't', 't', 'e', 'n', ' ', 's', 'e', 'n', 't', 'e', 'n', 'c', 'e', ',', ' ', 'a', 'n', 'd', ' ', 's', 'o', ' ', 'I', ' ', ' ', 'd', 'e', 'p', 'e', 'n', 'd', 'a', 'b', 'l', 'y', ' ', 'h', 'a', 'v', 'e', ' ', 'p', 'u', 'n', 'c', 't', 'u', 'a', 't', 'i', 'o', 'n', '.', ' ']\n",
        "I\n",
        " \n",
        "a\n",
        "m\n",
        " \n",
        "a\n",
        " \n",
        "w\n",
        "e\n",
        "l\n",
        "l\n",
        "-\n",
        "w\n",
        "r\n",
        "i\n",
        "t\n",
        "t\n",
        "e\n",
        "n\n",
        " \n",
        "s\n",
        "e\n",
        "n\n",
        "t\n",
        "e\n",
        "n\n",
        "c\n",
        "e\n",
        ",\n",
        " \n",
        "a\n",
        "n\n",
        "d\n",
        " \n",
        "s\n",
        "o\n",
        " \n",
        "I\n",
        " \n",
        " \n",
        "d\n",
        "e\n",
        "p\n",
        "e\n",
        "n\n",
        "d\n",
        "a\n",
        "b\n",
        "l\n",
        "y\n",
        " \n",
        "h\n",
        "a\n",
        "v\n",
        "e\n",
        " \n",
        "p\n",
        "u\n",
        "n\n",
        "c\n",
        "t\n",
        "u\n",
        "a\n",
        "t\n",
        "i\n",
        "o\n",
        "n\n",
        ".\n",
        " \n"
       ]
      }
     ],
     "prompt_number": 21
    },
    {
     "cell_type": "code",
     "collapsed": false,
     "input": [
      "string_to_split = \"I am a well-written sentence, and so I \\\n",
      " dependably have punctuation. \"\n",
      "list_from_string = string_to_split.split(' ', 3)\n",
      "print list_from_string"
     ],
     "language": "python",
     "metadata": {},
     "outputs": [
      {
       "output_type": "stream",
       "stream": "stdout",
       "text": [
        "['I', 'am', 'a', 'well-written sentence, and so I  dependably have punctuation. ']\n"
       ]
      }
     ],
     "prompt_number": 22
    },
    {
     "cell_type": "code",
     "collapsed": false,
     "input": [
      "for item in list_from_string:\n",
      "     print item"
     ],
     "language": "python",
     "metadata": {},
     "outputs": [
      {
       "output_type": "stream",
       "stream": "stdout",
       "text": [
        "I\n",
        "am\n",
        "a\n",
        "well-written sentence, and so I  dependably have punctuation. \n"
       ]
      }
     ],
     "prompt_number": 23
    },
    {
     "cell_type": "code",
     "collapsed": false,
     "input": [
      "list_from_string = string_to_split.split('t') # If delimiters are adjacent to each other, it will find that empty string between them and give it to you at the appropriate spot\n",
      "print list_from_string\n",
      "for consonant_crippled_lump in list_from_string:\n",
      "     print consonant_crippled_lump"
     ],
     "language": "python",
     "metadata": {},
     "outputs": [
      {
       "output_type": "stream",
       "stream": "stdout",
       "text": [
        "['I am a well-wri', '', 'en sen', 'ence, and so I  dependably have punc', 'ua', 'ion. ']\n",
        "I am a well-wri\n",
        "\n",
        "en sen\n",
        "ence, and so I  dependably have punc\n",
        "ua\n",
        "ion. \n"
       ]
      }
     ],
     "prompt_number": 24
    },
    {
     "cell_type": "code",
     "collapsed": false,
     "input": [
      "list_from_string = string_to_split.split()\n",
      "for item in list_from_string:\n",
      "     print item\n",
      " \n",
      "# this is not the same as splitting by spaces -- no empty items!\n",
      "string_to_split = \"   this      is    a   different                         string\"\n",
      "list_from_string = string_to_split.split()\n",
      "for item in list_from_string:\n",
      "     print item\n",
      " \n",
      "string_to_split = '''   complete\n",
      "\\t\\t whitespace                      chaos\n",
      "             !!!!!!!!!!!         '''\n",
      "list_from_string = string_to_split.split()\n",
      "for item in list_from_string:\n",
      "     print item"
     ],
     "language": "python",
     "metadata": {},
     "outputs": [
      {
       "output_type": "stream",
       "stream": "stdout",
       "text": [
        "I\n",
        "am\n",
        "a\n",
        "well-written\n",
        "sentence,\n",
        "and\n",
        "so\n",
        "I\n",
        "dependably\n",
        "have\n",
        "punctuation.\n",
        "this\n",
        "is\n",
        "a\n",
        "different\n",
        "string\n",
        "complete\n",
        "whitespace\n",
        "chaos\n",
        "!!!!!!!!!!!\n"
       ]
      }
     ],
     "prompt_number": 25
    },
    {
     "cell_type": "markdown",
     "metadata": {},
     "source": [
      "**We see that the default behavior of split() is to:**\n",
      "+ Remove all kinds of whitespace from the beginning and end of the string.\n",
      "+ Condense all adjacent whitespaces to single space characters.\n",
      "+ Split on those spaces."
     ]
    },
    {
     "cell_type": "code",
     "collapsed": false,
     "input": [
      "toes = '''went to the market\n",
      "stayed home\n",
      "had roast beef\n",
      "had none\n",
      "cried wee wee wee all the way home'''\n",
      " \n",
      "# splitlines splits on linebreaks\n",
      "list_from_string = toes.splitlines()\n",
      "print list_from_string\n",
      "for toe in list_from_string:\n",
      "     print \"this little piggy %s\" % toe"
     ],
     "language": "python",
     "metadata": {},
     "outputs": [
      {
       "output_type": "stream",
       "stream": "stdout",
       "text": [
        "['went to the market', 'stayed home', 'had roast beef', 'had none', 'cried wee wee wee all the way home']\n",
        "this little piggy went to the market\n",
        "this little piggy stayed home\n",
        "this little piggy had roast beef\n",
        "this little piggy had none\n",
        "this little piggy cried wee wee wee all the way home\n"
       ]
      }
     ],
     "prompt_number": 2
    },
    {
     "cell_type": "code",
     "collapsed": false,
     "input": [
      "last_toe = \"and _this_ little piggy went wee wee wee all the way home\"\n",
      "# when given a second argument, reverse split counts\n",
      "list_from_string = last_toe.rsplit(' ',7)\n",
      "print list_from_string"
     ],
     "language": "python",
     "metadata": {},
     "outputs": [
      {
       "output_type": "stream",
       "stream": "stdout",
       "text": [
        "['and _this_ little piggy went', 'wee', 'wee', 'wee', 'all', 'the', 'way', 'home']\n"
       ]
      }
     ],
     "prompt_number": 3
    },
    {
     "cell_type": "code",
     "collapsed": false,
     "input": [
      "for item in list_from_string:\n",
      "     print item"
     ],
     "language": "python",
     "metadata": {},
     "outputs": [
      {
       "output_type": "stream",
       "stream": "stdout",
       "text": [
        "and _this_ little piggy went\n",
        "wee\n",
        "wee\n",
        "wee\n",
        "all\n",
        "the\n",
        "way\n",
        "home\n"
       ]
      }
     ],
     "prompt_number": 4
    },
    {
     "cell_type": "code",
     "collapsed": false,
     "input": [
      "## partition() works a lot like split(delimiter,1) with a little difference\n",
      "rhyme = '''There was a crooked man'''\n",
      " \n",
      "# you can split on words as well as single letters and symbols\n",
      "split_list = rhyme.split(' ',1)\n",
      " \n",
      "print \"List output:\"\n",
      "for item in split_list:\n",
      "     print item\n",
      "        \n",
      "print\n",
      "partition_list = rhyme.partition(' ')\n",
      "print \"Partition output:\"\n",
      "for item in partition_list:\n",
      "     print item"
     ],
     "language": "python",
     "metadata": {},
     "outputs": [
      {
       "output_type": "stream",
       "stream": "stdout",
       "text": [
        "List output:\n",
        "There\n",
        "was a crooked man\n",
        "\n",
        "Partition output:\n",
        "There\n",
        " \n",
        "was a crooked man\n"
       ]
      }
     ],
     "prompt_number": 8
    },
    {
     "cell_type": "code",
     "collapsed": false,
     "input": [
      "split_list = rhyme.split('happiness',1)\n",
      "print split_list\n",
      "print \"List output:\"\n",
      " \n",
      "for item in split_list:\n",
      "    print item\n",
      "print\n",
      "\n",
      "partition_list = rhyme.partition('happiness')\n",
      "print partition_list\n",
      "print \"Partition output:\"\n",
      "for item in partition_list:\n",
      "    print item\n",
      " \n",
      "if rhyme.split('happiness')[1]:\n",
      "# if it's there you're all good\n",
      "else:\n",
      "# if it isn't your program will crash\n",
      "\n",
      "if rhyme.partition('happiness')[2]:\n",
      "# parse the wanted information out of it\n",
      "else:\n",
      "# wait until the next line"
     ],
     "language": "python",
     "metadata": {},
     "outputs": [
      {
       "output_type": "stream",
       "stream": "stdout",
       "text": [
        "['There was a crooked man']\n",
        "List output:\n",
        "There was a crooked man\n",
        "\n",
        "('There was a crooked man', '', '')\n",
        "Partition output:\n",
        "There was a crooked man\n",
        "\n",
        "\n"
       ]
      },
      {
       "ename": "IndexError",
       "evalue": "list index out of range",
       "output_type": "pyerr",
       "traceback": [
        "\u001b[0;31m---------------------------------------------------------------------------\u001b[0m\n\u001b[0;31mIndexError\u001b[0m                                Traceback (most recent call last)",
        "\u001b[0;32m<ipython-input-11-05f03c04856a>\u001b[0m in \u001b[0;36m<module>\u001b[0;34m()\u001b[0m\n\u001b[1;32m     13\u001b[0m     \u001b[0;32mprint\u001b[0m \u001b[0mitem\u001b[0m\u001b[0;34m\u001b[0m\u001b[0m\n\u001b[1;32m     14\u001b[0m \u001b[0;34m\u001b[0m\u001b[0m\n\u001b[0;32m---> 15\u001b[0;31m \u001b[0;32mif\u001b[0m \u001b[0mrhyme\u001b[0m\u001b[0;34m.\u001b[0m\u001b[0msplit\u001b[0m\u001b[0;34m(\u001b[0m\u001b[0;34m'happiness'\u001b[0m\u001b[0;34m)\u001b[0m\u001b[0;34m[\u001b[0m\u001b[0;36m1\u001b[0m\u001b[0;34m]\u001b[0m\u001b[0;34m:\u001b[0m\u001b[0;34m\u001b[0m\u001b[0m\n\u001b[0m\u001b[1;32m     16\u001b[0m     \u001b[0;32mprint\u001b[0m \u001b[0;34m'if it\\'s there you\\'re all good'\u001b[0m\u001b[0;34m\u001b[0m\u001b[0m\n\u001b[1;32m     17\u001b[0m \u001b[0;32melse\u001b[0m\u001b[0;34m:\u001b[0m\u001b[0;34m\u001b[0m\u001b[0m\n",
        "\u001b[0;31mIndexError\u001b[0m: list index out of range"
       ]
      }
     ],
     "prompt_number": 11
    },
    {
     "cell_type": "code",
     "collapsed": false,
     "input": [
      "broken = ['hu','m','pty',' du','mpty']\n",
      "all_the_kings_horses = 'n~n*^'\n",
      "all_the_kings_men = '>+O'\n",
      "first_try = all_the_kings_horses.join(broken)\n",
      "second_try = all_the_kings_men.join(broken)\n",
      "print first_try\n",
      "print second_try\n",
      "if (first_try == 'humpty dumpty') or (second_try =='humpty dumpty'):\n",
      "     print 'hooray!'\n",
      "else:\n",
      "     print '''All the king's horses and all the king's men couldn't put Humpty together again'''\n",
      "\n",
      "third_try = ''.join(broken)\n",
      "print third_try"
     ],
     "language": "python",
     "metadata": {},
     "outputs": [
      {
       "output_type": "stream",
       "stream": "stdout",
       "text": [
        "hun~n*^mn~n*^ptyn~n*^ dun~n*^mpty\n",
        "hu>+Om>+Opty>+O du>+Ompty\n",
        "All the king's horses and all the king's men couldn't put Humpty together again\n",
        "humpty dumpty\n"
       ]
      }
     ],
     "prompt_number": 14
    },
    {
     "cell_type": "code",
     "collapsed": false,
     "input": [
      "fairy_tale_characters = ['witch','rapunzel','prince']\n",
      "plot = 'hair'.join(fairy_tale_characters)\n",
      "print plot"
     ],
     "language": "python",
     "metadata": {},
     "outputs": [
      {
       "output_type": "stream",
       "stream": "stdout",
       "text": [
        "witchhairrapunzelhairprince\n"
       ]
      }
     ],
     "prompt_number": 15
    },
    {
     "cell_type": "code",
     "collapsed": false,
     "input": [
      "id_number = '1131431a'\n",
      " \n",
      "# let's see if the id_number string starts with the number one\n",
      "if (id_number[0] == '1'):\n",
      "    print \"this id starts with a 1!\"\n",
      " \n",
      "# now let's use the string method startswith()\n",
      "if ( id_number.startswith('1') ):\n",
      "    print \"this id starts with a 1!\"\n",
      "\n",
      "if ( id_number.endswith('1') ):\n",
      "    print \"This id number ends with a 1!\"\n",
      "else:\n",
      "    print \"This id number doesn't end with a 1 at all!\"\n",
      " \n",
      "# and these methods can get a little fancier by having multiple things to\n",
      "# test for if you provide a tuple of characters\n",
      "if ( id_number.endswith( ('1', 'a') ) ):\n",
      "    print \"this id number ended with either an 'a' or a '1' \"\n",
      "else:\n",
      "    pass"
     ],
     "language": "python",
     "metadata": {},
     "outputs": [
      {
       "output_type": "stream",
       "stream": "stdout",
       "text": [
        "this id starts with a 1!\n",
        "this id starts with a 1!\n",
        "This id number doesn't end with a 1 at all!\n",
        "this id number ended with either an 'a' or a '1' \n"
       ]
      }
     ],
     "prompt_number": 18
    },
    {
     "cell_type": "code",
     "collapsed": false,
     "input": [
      "beatles = \"johnpaulgeorgeandringo\"\n",
      " \n",
      "# the wrong way\n",
      "if ( beatles.find('paul')):\n",
      "    print \"At least we've got a bassist.\"\n",
      "else:\n",
      "    print \"Anyone here play bass?\"\n",
      "    \n",
      "# let's do a comparison for -1 instead\n",
      "if not (beatles.find('paull') == -1):\n",
      "    print \"At least we've got a bassist\"\n",
      "else:\n",
      "    print \"Well, I guess we're a three piece.\""
     ],
     "language": "python",
     "metadata": {},
     "outputs": [
      {
       "output_type": "stream",
       "stream": "stdout",
       "text": [
        "At least we've got a bassist.\n",
        "Well, I guess we're a three piece.\n"
       ]
      }
     ],
     "prompt_number": 23
    },
    {
     "cell_type": "code",
     "collapsed": false,
     "input": [
      "beatles = 'johnpaulgeorgeandringo'\n",
      "beatles = beatles.replace('george', 'PETER')\n",
      "print beatles\n",
      "# YES! Peter's in!\n",
      " \n",
      "beatles = beatles + \"MOREPETER!\"\n",
      "print beatles.replace(\"PETER\", \"DIANA!\")\n",
      "print beatles\n",
      "\n",
      "print beatles.replace(\"PETER\", \"DIANA!\", 1)\n",
      "print beatles"
     ],
     "language": "python",
     "metadata": {},
     "outputs": [
      {
       "output_type": "stream",
       "stream": "stdout",
       "text": [
        "johnpaulPETERandringo\n",
        "johnpaulDIANA!andringoMOREDIANA!!\n",
        "johnpaulPETERandringoMOREPETER!\n",
        "johnpaulDIANA!andringoMOREPETER!\n",
        "johnpaulPETERandringoMOREPETER!\n"
       ]
      }
     ],
     "prompt_number": 26
    },
    {
     "cell_type": "code",
     "collapsed": false,
     "input": [
      "blast_hit = 'ACTGTCAGTACGT1AGCATCGAaaatCGATCGACTGAatacgatCG'\n",
      " \n",
      "if ( blast_hit.isupper() ):\n",
      "    pass\n",
      "else:\n",
      "    blast_hit = blast_hit.upper()\n",
      "    print blast_hit\n",
      "\n",
      "# or if you prefer lower case\n",
      " \n",
      "blast_hit = blast_hit.lower()\n",
      "print blast_hit\n",
      "\n",
      "# or if you are (or the program you're writing is) indecisive\n",
      " \n",
      "blast_hit = blast_hit.swapcase()\n",
      "print blast_hit\n",
      "\n",
      "if ( blast_hit.isalpha() ):\n",
      "    print \"we got all letters here\"\n",
      "else:\n",
      "    print \"whoa, something doesn't look like nucleotides!\""
     ],
     "language": "python",
     "metadata": {},
     "outputs": [
      {
       "output_type": "stream",
       "stream": "stdout",
       "text": [
        "ACTGTCAGTACGT1AGCATCGAAAATCGATCGACTGAATACGATCG\n",
        "actgtcagtacgt1agcatcgaaaatcgatcgactgaatacgatcg\n",
        "ACTGTCAGTACGT1AGCATCGAAAATCGATCGACTGAATACGATCG\n",
        "whoa, something doesn't look like nucleotides!\n"
       ]
      }
     ],
     "prompt_number": 32
    },
    {
     "cell_type": "code",
     "collapsed": false,
     "input": [
      "fh = open('hello.py', 'r')\n",
      "contents = fh.read()\n",
      "print contents\n",
      "fh.close()"
     ],
     "language": "python",
     "metadata": {},
     "outputs": [
      {
       "output_type": "stream",
       "stream": "stdout",
       "text": [
        "#!/usr/bin/env python\n",
        "\n",
        "fh = open('hello.py')\n",
        "contents = fh.read()\n",
        "print contents\n",
        "fh.close()\n"
       ]
      }
     ],
     "prompt_number": 33
    },
    {
     "cell_type": "code",
     "collapsed": false,
     "input": [
      "fh = open('hello.py', 'r')\n",
      "#print fh.readline()\n",
      "#print fh.readline()\n",
      "\n",
      "\n",
      "lines = fh.readlines()\n",
      " \n",
      "fh.close()\n",
      " \n",
      "print lines\n",
      "\n",
      "#for i in fh.readlines():\n",
      "#    print i"
     ],
     "language": "python",
     "metadata": {},
     "outputs": [
      {
       "output_type": "stream",
       "stream": "stdout",
       "text": [
        "['#!/usr/bin/env python\\n', \"fh = open('hello.py')\\n\", 'contents = fh.read()\\n', 'print contents\\n', 'fh.close()']\n"
       ]
      }
     ],
     "prompt_number": 44
    },
    {
     "cell_type": "code",
     "collapsed": false,
     "input": [
      "fh = open('hello.py', 'r')\n",
      " \n",
      "print fh.readline().strip()\n",
      "print fh.readline().strip()\n",
      "\n",
      "lines = fh.readlines()\n",
      " \n",
      "fh.close()\n",
      " \n",
      "lines[0] = lines[0].strip()\n",
      " \n",
      "print lines"
     ],
     "language": "python",
     "metadata": {},
     "outputs": [
      {
       "output_type": "stream",
       "stream": "stdout",
       "text": [
        "#!/usr/bin/env python\n",
        "fh = open('hello.py')\n",
        "['contents = fh.read()', 'print contents\\n', 'fh.close()']\n",
        "contents = fh.read()\n",
        "print contents\n",
        "\n",
        "fh.close()\n"
       ]
      }
     ],
     "prompt_number": 56
    },
    {
     "cell_type": "code",
     "collapsed": false,
     "input": [
      "fh = open('hello.py', 'r')\n",
      "lines = fh.readlines()\n",
      "for line in lines:\n",
      "    l = line.strip()\n",
      "    print l"
     ],
     "language": "python",
     "metadata": {},
     "outputs": [
      {
       "output_type": "stream",
       "stream": "stdout",
       "text": [
        "#!/usr/bin/env python\n",
        "fh = open('hello.py')\n",
        "contents = fh.read()\n",
        "print contents\n",
        "fh.close()\n"
       ]
      }
     ],
     "prompt_number": 60
    },
    {
     "cell_type": "code",
     "collapsed": false,
     "input": [
      "fh = open('hello.py', 'r')\n",
      "lines = fh.readlines()\n",
      "for line in lines:\n",
      "    print line[0:6].strip()\n",
      "    fields = []\n",
      "    fields.append(line[0:6].strip())\n",
      "    fields.append(line[6:10].strip())\n",
      "    print '0th field: %s, 1st field: %s' % (fields[0],fields[1])"
     ],
     "language": "python",
     "metadata": {},
     "outputs": [
      {
       "output_type": "stream",
       "stream": "stdout",
       "text": [
        "#!/usr\n",
        "0th field: #!/usr, 1st field: /bin\n",
        "fh = o\n",
        "0th field: fh = o, 1st field: pen(\n",
        "conten\n",
        "0th field: conten, 1st field: ts =\n",
        "print\n",
        "0th field: print, 1st field: cont\n",
        "fh.clo\n",
        "0th field: fh.clo, 1st field: se()\n"
       ]
      }
     ],
     "prompt_number": 65
    },
    {
     "cell_type": "code",
     "collapsed": false,
     "input": [
      "fh = open('hello.py', 'r')\n",
      "for line in fh:\n",
      "    l = line.strip()\n",
      "    print l"
     ],
     "language": "python",
     "metadata": {},
     "outputs": [
      {
       "output_type": "stream",
       "stream": "stdout",
       "text": [
        "#!/usr/bin/env python\n",
        "fh = open('hello.py')\n",
        "contents = fh.read()\n",
        "print contents\n",
        "fh.close()\n"
       ]
      }
     ],
     "prompt_number": 66
    },
    {
     "cell_type": "code",
     "collapsed": false,
     "input": [
      "import operator\n",
      "x = {m1: 2, m2: 4, m3: 3, m4: 1, m5: 0}\n",
      "sorted_x = sorted(x.items(), key=operator.itemgetter(0))\n",
      "print sorted_x"
     ],
     "language": "python",
     "metadata": {},
     "outputs": [
      {
       "ename": "NameError",
       "evalue": "name 'm1' is not defined",
       "output_type": "pyerr",
       "traceback": [
        "\u001b[0;31m---------------------------------------------------------------------------\u001b[0m\n\u001b[0;31mNameError\u001b[0m                                 Traceback (most recent call last)",
        "\u001b[0;32m<ipython-input-102-ef8de12a8dc5>\u001b[0m in \u001b[0;36m<module>\u001b[0;34m()\u001b[0m\n\u001b[1;32m      1\u001b[0m \u001b[0;32mimport\u001b[0m \u001b[0moperator\u001b[0m\u001b[0;34m\u001b[0m\u001b[0m\n\u001b[0;32m----> 2\u001b[0;31m \u001b[0mx\u001b[0m \u001b[0;34m=\u001b[0m \u001b[0;34m{\u001b[0m\u001b[0mm1\u001b[0m\u001b[0;34m:\u001b[0m \u001b[0;36m2\u001b[0m\u001b[0;34m,\u001b[0m \u001b[0mm2\u001b[0m\u001b[0;34m:\u001b[0m \u001b[0;36m4\u001b[0m\u001b[0;34m,\u001b[0m \u001b[0mm3\u001b[0m\u001b[0;34m:\u001b[0m \u001b[0;36m3\u001b[0m\u001b[0;34m,\u001b[0m \u001b[0mm4\u001b[0m\u001b[0;34m:\u001b[0m \u001b[0;36m1\u001b[0m\u001b[0;34m,\u001b[0m \u001b[0mm5\u001b[0m\u001b[0;34m:\u001b[0m \u001b[0;36m0\u001b[0m\u001b[0;34m}\u001b[0m\u001b[0;34m\u001b[0m\u001b[0m\n\u001b[0m\u001b[1;32m      3\u001b[0m \u001b[0msorted_x\u001b[0m \u001b[0;34m=\u001b[0m \u001b[0msorted\u001b[0m\u001b[0;34m(\u001b[0m\u001b[0mx\u001b[0m\u001b[0;34m.\u001b[0m\u001b[0mitems\u001b[0m\u001b[0;34m(\u001b[0m\u001b[0;34m)\u001b[0m\u001b[0;34m,\u001b[0m \u001b[0mkey\u001b[0m\u001b[0;34m=\u001b[0m\u001b[0moperator\u001b[0m\u001b[0;34m.\u001b[0m\u001b[0mitemgetter\u001b[0m\u001b[0;34m(\u001b[0m\u001b[0;36m0\u001b[0m\u001b[0;34m)\u001b[0m\u001b[0;34m)\u001b[0m\u001b[0;34m\u001b[0m\u001b[0m\n\u001b[1;32m      4\u001b[0m \u001b[0;32mprint\u001b[0m \u001b[0msorted_x\u001b[0m\u001b[0;34m\u001b[0m\u001b[0m\n",
        "\u001b[0;31mNameError\u001b[0m: name 'm1' is not defined"
       ]
      }
     ],
     "prompt_number": 102
    },
    {
     "cell_type": "code",
     "collapsed": false,
     "input": [
      "import operator\n",
      "d = {'m1': 2, 'm2': 4, 'm3': 3, 'm4': 1, 'm5': 0}\n",
      "for ke, va in sorted(d.items(), key=operator.itemgetter(0), reverse=True):\n",
      "    print ke, va"
     ],
     "language": "python",
     "metadata": {},
     "outputs": [
      {
       "output_type": "stream",
       "stream": "stdout",
       "text": [
        "m5 0\n",
        "m4 1\n",
        "m3 3\n",
        "m2 4\n",
        "m1 2\n"
       ]
      }
     ],
     "prompt_number": 117
    },
    {
     "cell_type": "code",
     "collapsed": false,
     "input": [
      "d = {'m1': 2, 'm2': 4, 'm3': 3, 'm4': 1, 'm5': 0}\n",
      "for ke in sorted(d, key =d.get, reverse=True):\n",
      "    print ke, d[ke] ## sorted by values\n",
      "print\n",
      "for ke in sorted(d, reverse=True):\n",
      "    print ke, d[ke] ## sorted by keys\n",
      "    "
     ],
     "language": "python",
     "metadata": {},
     "outputs": [
      {
       "output_type": "stream",
       "stream": "stdout",
       "text": [
        "m2 4\n",
        "m3 3\n",
        "m1 2\n",
        "m4 1\n",
        "m5 0\n",
        "\n",
        "m5 0\n",
        "m4 1\n",
        "m3 3\n",
        "m2 4\n",
        "m1 2\n"
       ]
      }
     ],
     "prompt_number": 122
    },
    {
     "cell_type": "code",
     "collapsed": false,
     "input": [],
     "language": "python",
     "metadata": {},
     "outputs": []
    }
   ],
   "metadata": {}
  }
 ]
}