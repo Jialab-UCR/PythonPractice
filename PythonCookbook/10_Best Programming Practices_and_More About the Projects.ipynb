{
 "metadata": {
  "name": "",
  "signature": "sha256:90e6bd6378420fe20c92e4053fe5d5bfd4a20b3f70eb89a98164e347554e85ca"
 },
 "nbformat": 3,
 "nbformat_minor": 0,
 "worksheets": [
  {
   "cells": [
    {
     "cell_type": "code",
     "collapsed": false,
     "input": [
      "$ git add .\n",
      "$ git commit -m \"first commit\"\n",
      "$ git remote add origin https://github.com/username/rails-girls.git\n",
      "$ git push -u origin master\n",
      "\n",
      "\n",
      "$ ipython nbconvert --to markdown notebook.ipynb --stdout"
     ],
     "language": "python",
     "metadata": {},
     "outputs": []
    }
   ],
   "metadata": {}
  }
 ]
}