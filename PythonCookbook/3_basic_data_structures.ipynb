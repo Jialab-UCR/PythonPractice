{
 "metadata": {
  "name": "",
  "signature": "sha256:38e63ed8a5e69ee5f54da35f52b110eb4c36e30f02227a95b52081e49c4cc646"
 },
 "nbformat": 3,
 "nbformat_minor": 0,
 "worksheets": [
  {
   "cells": [
    {
     "cell_type": "heading",
     "level": 1,
     "metadata": {},
     "source": [
      "Basic Data Structures"
     ]
    },
    {
     "cell_type": "markdown",
     "metadata": {},
     "source": [
      "+ list  --> array\n",
      "+ tuples -->\n",
      "+ dictionaries  --> hash\n",
      "\n",
      "### List\n",
      "\n",
      "#### Adding to a list\n",
      "+ add single item to list: list.append('var')  \n",
      "+ combine two lists by extension: list.extend(list2), or by concatenation:\n",
      "list3 = list + list2  \n",
      "+ insert elements: list.insert(n, \"var\")\n",
      "\n",
      "#### Shrinking a list\n",
      "+ remove an item: del li[3]\n",
      "+ remove the last item: li.pop()\n",
      "+ slicing: another_li = li[:-1]\n",
      "\n",
      "#### Change lists in place\n",
      "+ create list of zeros: noLi = 4\\*[0] or noLi = [0] + [0] + [0] + [0]\n",
      "+ modify items in list: noLi[2] = 3\n",
      "+ sort list: noLi.sort() #from low to high\n",
      "+ reverse order: noLi.reverse()\n",
      "+ sorting to a new list: another_noLi = sorted(noLi)\n",
      "\n",
      "#### Characterizing lists\n",
      "+ length: len(li)\n",
      "+ maximum: max(li)\n",
      "+ minimum: min(li)\n",
      "+ find where something is stored: idx = li.index(3)\n",
      "\n",
      "\n",
      "### Tuples\n",
      "\n",
      "A tuple is essentially a list that you can not change. You can index, slice them and add them together to make new tuples but not use sort(), reverse(), delete or remove items from them. If you ever have a tuple that you want to change, you have to turn it into a list.\n",
      "\n",
      "    SNP[0] = 'chrV' # doesn't work\n",
      "    \n",
      "    SNP = list(SNP)\n",
      "    SNP[0] = 'chrV' # works\n",
      "    \n",
      "    \n",
      "### Dictionaries\n",
      "\n",
      "#### Adding to a dictionary\n",
      "+ add single item: names['jeff'] = 'ma'\n",
      "+ combine two dictionaries: names.update(drinks)\n",
      "\n",
      "#### shrinking a dictionary\n",
      "+ remove: del names['sara']\n",
      "\n",
      "#### changing dictionaries in place\n",
      "+ modify items: names['fernando'] = 'racimo'\n",
      "\n",
      "#### characterizing dictionaries\n",
      "+ ks = names.keys()\n",
      "+ vs = names.values()\n",
      "+ sort keys: ks.sort()\n",
      "\n",
      "### Summary So Far ...\n",
      "**Lists are:**\n",
      "+ ordered collections of arbitrary variables\n",
      "+ accessible by slicing\n",
      "+ can be grown or shrunk in place\n",
      "+ mutable (can be changed in place)\n",
      "+ defined with list = [x,y]\n",
      "\n",
      "**Dictionaries are:**\n",
      "+ unordered collection of arbitrary variables\n",
      "+ accessible by keys\n",
      "+ can be grown or shrunk in place\n",
      "+ mutable\n",
      "+ defined with list = [x:y]\n",
      "\n",
      "List methods include: append(), extend(), insert(), pop(), sort(), reverse(), index()  \n",
      "Dictionary methods include: update(), keys(), values()  \n",
      "Built in functions include: sorted, len, max, min, type"
     ]
    },
    {
     "cell_type": "code",
     "collapsed": false,
     "input": [
      "protSeq = []\n",
      "f1 = open('2Q6H.pdb', 'r')\n",
      "for ne in f1: # line by line\n",
      "    if ne[:6] == 'SEQRES':\n",
      "        line = ne.strip().split() # split the line by space\n",
      "        del line[:4]\n",
      "        for aa in line:\n",
      "            protSeq.append(aa)\n",
      "f1.close()\n",
      "\n",
      "print \"The length of the protein is %s.\\n\" % (len(protSeq))\n",
      "# print protSeq\n",
      "\n",
      "aaDict = {} # Initialize a dictionary\n",
      "\n",
      "for x in protSeq:\n",
      "    aaDict[x] = 0\n",
      "    \n",
      "for x in protSeq:\n",
      "    aaDict[x] = aaDict[x] + 1\n",
      "    \n",
      "ks = aaDict.keys()\n",
      "ks.sort()\n",
      "print ks\n",
      "\n",
      "for x in ks:\n",
      "    print x, '=', aaDict[x]\n",
      "    \n",
      "##### an alternative way\n",
      "setOfAAs = set(protSeq)\n",
      "print setOfAAs\n",
      "\n",
      "print 'The protein contains %s unique amino acids.' % (len(setOfAAs)) # And it turns out one is missing! Can you figure out which one?\n",
      "print\n",
      "\n",
      "Dict = {} # Initialize a dictionary\n",
      "for uniqueAminoAcid in setOfAAs:\n",
      "    Dict[uniqueAminoAcid] = 0 # Write each amino acid in setOfAAs into this dictionary as a key and set its initial value to 0.\n",
      "for aminoAcid in protSeq:\n",
      "    Dict[aminoAcid] = Dict[aminoAcid]+1\n",
      "\n",
      "listOfAAs = Dict.keys() # Make a list using the keys in the dictionary.\n",
      "listOfAAs.sort() # Sort the list alphabetically.\n",
      "\n",
      "print 'aa  #' # Print headers for columns that you will print below. The tab isn't necessary, but the result looks prettier.\n",
      "for alphabeticalAminoAcid in listOfAAs: print alphabeticalAminoAcid, Dict[alphabeticalAminoAcid] # Print the amino acids along with their values in the dictionary. I included the tab for consistency.\n",
      "print"
     ],
     "language": "python",
     "metadata": {},
     "outputs": [
      {
       "output_type": "stream",
       "stream": "stdout",
       "text": [
        "The length of the protein is 519.\n",
        "\n",
        "['ALA', 'ARG', 'ASN', 'ASP', 'GLN', 'GLU', 'GLY', 'HIS', 'ILE', 'LEU', 'LYS', 'MET', 'PHE', 'PRO', 'SER', 'THR', 'TRP', 'TYR', 'VAL']\n",
        "ALA = 54\n",
        "ARG = 21\n",
        "ASN = 14\n",
        "ASP = 12\n",
        "GLN = 6\n",
        "GLU = 24\n",
        "GLY = 45\n",
        "HIS = 6\n",
        "ILE = 54\n",
        "LEU = 61\n",
        "LYS = 19\n",
        "MET = 13\n",
        "PHE = 50\n",
        "PRO = 25\n",
        "SER = 18\n",
        "THR = 27\n",
        "TRP = 16\n",
        "TYR = 17\n",
        "VAL = 37\n",
        "set(['GLN', 'HIS', 'ASN', 'VAL', 'LYS', 'PRO', 'GLY', 'THR', 'PHE', 'ALA', 'MET', 'ILE', 'LEU', 'ARG', 'ASP', 'TRP', 'GLU', 'TYR', 'SER'])\n",
        "The protein contains 19 unique amino acids.\n",
        "\n",
        "aa  #\n",
        "ALA 54\n",
        "ARG 21\n",
        "ASN 14\n",
        "ASP 12\n",
        "GLN 6\n",
        "GLU 24\n",
        "GLY 45\n",
        "HIS 6\n",
        "ILE 54\n",
        "LEU 61\n",
        "LYS 19\n",
        "MET 13\n",
        "PHE 50\n",
        "PRO 25\n",
        "SER 18\n",
        "THR 27\n",
        "TRP 16\n",
        "TYR 17\n",
        "VAL 37\n",
        "\n"
       ]
      }
     ],
     "prompt_number": 43
    },
    {
     "cell_type": "code",
     "collapsed": false,
     "input": [
      "L = [1,2,3] + [4,5,6]\n",
      "print L, \"\\n\", L[:0],\"\\n\",L[-2],\"\\n\",L[-2:]\n",
      "L.reverse()\n",
      "print L\n",
      "L.sort()\n",
      "print L\n",
      "\n",
      "print {'a':1, 'b':2}['b']\n",
      "\n",
      "D = {'x':1, 'y':2, 'z':3}\n",
      "D['w'] = 0\n",
      "print D['x'] + D['w']\n",
      "\n",
      "print D.has_key('z')"
     ],
     "language": "python",
     "metadata": {},
     "outputs": [
      {
       "output_type": "stream",
       "stream": "stdout",
       "text": [
        "[1, 2, 3, 4, 5, 6] \n",
        "[] \n",
        "5 \n",
        "[5, 6]\n",
        "[6, 5, 4, 3, 2, 1]\n",
        "[1, 2, 3, 4, 5, 6]\n",
        "2\n",
        "1\n",
        "True\n"
       ]
      }
     ],
     "prompt_number": 108
    },
    {
     "cell_type": "code",
     "collapsed": false,
     "input": [
      "names = {'aisha':'ellahi', 'sara':'branco', 'melinda':'yang'}\n",
      "print names\n",
      "\n",
      "ks = names.keys()\n",
      "vs = names.values()\n",
      "\n",
      "print ks\n",
      "print vs\n",
      "\n",
      "for x in sorted(names.keys()):\n",
      "    print \"The category is %s and the varietal is %s.\" % (x, names[x])\n",
      "    \n",
      "ks.sort()\n",
      "print ks\n",
      "\n",
      "if 'aisha' in names.keys():\n",
      "    print names['aisha']\n",
      "    \n",
      "if 'aisha' in names:\n",
      "    print names['aisha']"
     ],
     "language": "python",
     "metadata": {},
     "outputs": [
      {
       "output_type": "stream",
       "stream": "stdout",
       "text": [
        "{'aisha': 'ellahi', 'sara': 'branco', 'melinda': 'yang'}\n",
        "['aisha', 'sara', 'melinda']\n",
        "['ellahi', 'branco', 'yang']\n",
        "The category is aisha and the varietal is ellahi.\n",
        "The category is melinda and the varietal is yang.\n",
        "The category is sara and the varietal is branco.\n",
        "['aisha', 'melinda', 'sara']\n",
        "ellahi\n",
        "ellahi\n"
       ]
      }
     ],
     "prompt_number": 109
    },
    {
     "cell_type": "code",
     "collapsed": false,
     "input": [
      "names = {'aisha':'ellahi', 'sara':'branco', 'melinda':'yang'}\n",
      "print names\n",
      "print names['sara']\n",
      "names['jeff'] = 'ma'\n",
      "print names\n",
      "drinks = {'emily':'milk', 'fernando':'coffee', 'jeff':'soda'}\n",
      "names.update(drinks)\n",
      "print names\n",
      "\n",
      "del names['sara']\n",
      "print names\n",
      "\n",
      "names['fernando'] = 'racimo'\n",
      "print names"
     ],
     "language": "python",
     "metadata": {},
     "outputs": [
      {
       "output_type": "stream",
       "stream": "stdout",
       "text": [
        "{'aisha': 'ellahi', 'sara': 'branco', 'melinda': 'yang'}\n",
        "branco\n",
        "{'jeff': 'ma', 'aisha': 'ellahi', 'sara': 'branco', 'melinda': 'yang'}\n",
        "{'melinda': 'yang', 'jeff': 'soda', 'aisha': 'ellahi', 'sara': 'branco', 'fernando': 'coffee', 'emily': 'milk'}\n",
        "{'melinda': 'yang', 'jeff': 'soda', 'aisha': 'ellahi', 'fernando': 'coffee', 'emily': 'milk'}\n",
        "{'melinda': 'yang', 'jeff': 'soda', 'aisha': 'ellahi', 'fernando': 'racimo', 'emily': 'milk'}\n"
       ]
      }
     ],
     "prompt_number": 77
    },
    {
     "cell_type": "code",
     "collapsed": false,
     "input": [
      "SNP = ('chrII', '378445')\n",
      "print type(SNP)\n",
      "\n",
      "for i in SNP:\n",
      "    print i\n",
      "    \n",
      "# SNP[0] = 'chrV'\n",
      "# print SNP\n",
      "\n",
      "SNP = list(SNP)\n",
      "print type(SNP)\n",
      "SNP[0] = 'chrV'\n",
      "print SNP"
     ],
     "language": "python",
     "metadata": {},
     "outputs": [
      {
       "output_type": "stream",
       "stream": "stdout",
       "text": [
        "<type 'tuple'>\n",
        "('chrII', '378445')\n",
        "chrII\n",
        "378445\n",
        "<type 'list'>\n",
        "['chrV', '378445']\n"
       ]
      }
     ],
     "prompt_number": 69
    },
    {
     "cell_type": "code",
     "collapsed": false,
     "input": [
      "li= [1,3,5,7,9,11]\n",
      "print len(li)\n",
      "print max(li)\n",
      "print min(li)\n",
      "for x in li: \n",
      "    print x\n",
      "print li.index(5)"
     ],
     "language": "python",
     "metadata": {},
     "outputs": [
      {
       "output_type": "stream",
       "stream": "stdout",
       "text": [
        "6\n",
        "11\n",
        "1\n",
        "1\n",
        "3\n",
        "5\n",
        "7\n",
        "9\n",
        "11\n",
        "2\n"
       ]
      }
     ],
     "prompt_number": 65
    },
    {
     "cell_type": "code",
     "collapsed": false,
     "input": [
      "li = ['wabbit', 'season']\n",
      "li2 = ['duck', 'season']\n",
      "print li\n",
      "print li[0]\n",
      "print li[0:2]\n",
      "print\n",
      "\n",
      "# add single item to list\n",
      "li.append(li2[0])\n",
      "print li\n",
      "print\n",
      "\n",
      "# combine two lists by extension\n",
      "li.extend(li2)\n",
      "print li2\n",
      "print li\n",
      "print\n",
      "\n",
      "# combine two lists by concatenation\n",
      "li3 = li + li2\n",
      "print li3\n",
      "print\n",
      "\n",
      "# access single item in list\n",
      "print li[:]\n",
      "print\n",
      "\n",
      "# print out slices\n",
      "li4 = [\"I\", \"am\", \"it\", \"is\", \"ha\"]\n",
      "print li4[2:] # from 2\n",
      "print li4[:4] # to 3\n",
      "print li4[-2:] # the last 2\n",
      "print li4[:-2] # without the last 2\n",
      "print li4[1:4:2]\n",
      "print li4[::-1]\n",
      "\n",
      "li4.insert(2, \"what\") # insert 'what' before 2\n",
      "print li4\n",
      "\n",
      "li4[2:2] = [\"are\"] # same as above\n",
      "print li4\n",
      "\n",
      "li4[2:5] = [\"do\"] # chang 2~4 to 'do'\n",
      "print li4\n",
      "\n",
      "\n",
      "print li4[1:5:2]   # what's this?\n"
     ],
     "language": "python",
     "metadata": {},
     "outputs": [
      {
       "output_type": "stream",
       "stream": "stdout",
       "text": [
        "['wabbit', 'season']\n",
        "wabbit\n",
        "['wabbit', 'season']\n",
        "\n",
        "['wabbit', 'season', 'duck']\n",
        "\n",
        "['duck', 'season']\n",
        "['wabbit', 'season', 'duck', 'duck', 'season']\n",
        "\n",
        "['wabbit', 'season', 'duck', 'duck', 'season', 'duck', 'season']\n",
        "\n",
        "['wabbit', 'season', 'duck', 'duck', 'season']\n",
        "\n",
        "['it', 'is', 'ha']\n",
        "['I', 'am', 'it', 'is']\n",
        "['is', 'ha']\n",
        "['I', 'am', 'it']\n",
        "['am', 'is']\n",
        "['ha', 'is', 'it', 'am', 'I']\n",
        "['I', 'am', 'what', 'it', 'is', 'ha']\n",
        "['I', 'am', 'are', 'what', 'it', 'is', 'ha']\n",
        "['I', 'am', 'do', 'is', 'ha']\n",
        "['am', 'is']\n"
       ]
      }
     ],
     "prompt_number": 35
    },
    {
     "cell_type": "code",
     "collapsed": false,
     "input": [],
     "language": "python",
     "metadata": {},
     "outputs": []
    },
    {
     "cell_type": "code",
     "collapsed": false,
     "input": [
      "li= ['Why','do','superheroes','wear','spandex?']\n",
      "del li[3]\n",
      "print li\n",
      "print\n",
      "\n",
      "word = li.pop()\n",
      "print word\n",
      "print li\n",
      "print\n",
      "\n",
      "another_li = li[:-1]\n",
      "print another_li\n",
      "print li"
     ],
     "language": "python",
     "metadata": {},
     "outputs": [
      {
       "output_type": "stream",
       "stream": "stdout",
       "text": [
        "['Why', 'do', 'superheroes', 'spandex?']\n",
        "\n",
        "spandex?\n",
        "['Why', 'do', 'superheroes']\n",
        "\n",
        "['Why', 'do']\n",
        "['Why', 'do', 'superheroes']\n"
       ]
      }
     ],
     "prompt_number": 41
    },
    {
     "cell_type": "code",
     "collapsed": false,
     "input": [
      "noLi = 4*[0]\n",
      "print noLi\n",
      "\n",
      "noLi1 = [0] + [0] + [0] +[0]\n",
      "print noLi1\n",
      "\n",
      "noLi[2] = 3\n",
      "print noLi\n",
      "\n",
      "noLi.sort()\n",
      "another_noLi = sorted(noLi)\n",
      "another_noLi.reverse()\n",
      "print noLi\n",
      "print another_noLi\n"
     ],
     "language": "python",
     "metadata": {},
     "outputs": [
      {
       "output_type": "stream",
       "stream": "stdout",
       "text": [
        "[0, 0, 0, 0]\n",
        "[0, 0, 0, 0]\n",
        "[0, 0, 3, 0]\n",
        "[0, 0, 0, 3]\n",
        "[3, 0, 0, 0]\n"
       ]
      }
     ],
     "prompt_number": 56
    },
    {
     "cell_type": "code",
     "collapsed": false,
     "input": [
      "%%bash\n",
      "pwd"
     ],
     "language": "python",
     "metadata": {},
     "outputs": [
      {
       "output_type": "stream",
       "stream": "stdout",
       "text": [
        "/Users/DONG/Documents/Python/Python_world/3\n"
       ]
      }
     ],
     "prompt_number": 1
    },
    {
     "cell_type": "code",
     "collapsed": false,
     "input": [],
     "language": "python",
     "metadata": {},
     "outputs": []
    }
   ],
   "metadata": {}
  }
 ]
}