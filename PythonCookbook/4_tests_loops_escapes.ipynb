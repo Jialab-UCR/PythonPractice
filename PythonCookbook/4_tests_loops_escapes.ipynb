{
 "metadata": {
  "name": "",
  "signature": "sha256:b8b6333215109ca00eef0f2ff4b7f05c7bfbed7fa404bb16288c638b3519f0c7"
 },
 "nbformat": 3,
 "nbformat_minor": 0,
 "worksheets": [
  {
   "cells": [
    {
     "cell_type": "heading",
     "level": 3,
     "metadata": {},
     "source": [
      "Tests, Loops, and Escapes"
     ]
    },
    {
     "cell_type": "markdown",
     "metadata": {},
     "source": [
      "### Topics\n",
      "+ **if**\n",
      "+ **and, or,** and **not** logic\n",
      "+ **for** loop\n",
      "+ Using **range()** in a loop\n",
      "+ Nested for loops for complex data structures\n",
      "+ Indexing loops with **enumerate()**\n",
      "+ Loops with **zip()**\n",
      "+ **While** loops\n",
      "+ Loop control and escapes with **continue** and **break**\n",
      "\n",
      "### The *Syntax* of *if*\n",
      "    if condition A:\n",
      "        excute this line\n",
      "    elif condition B:\n",
      "        excute this line\n",
      "    else:\n",
      "        excute this line\n",
      "**>, <, >=, <=, ==, !=**\n",
      "\n",
      "### The Nature of truth\n",
      "+ Any nonzero number, nonempty object, and the special object True are things Python believes to be True.\n",
      "+ Zero numbers, empty objects, and the special objects None and False are things Python believes to be False.\n",
      "\n",
      "### and, or, not\n",
      "\n",
      "### for loops\n",
      "**The for loop allows you to perform the same actions multiple times**\n",
      "\n",
      "### looping a given number of times\n",
      "+ rang(3): [0,1,2]\n",
      "\n",
      "### Mutating lists with loops\n",
      "    li2 = [1,22,48,36,101]\n",
      "    for xInd, x in enumerate(li2): # enumerate(index, element)\n",
      "        li2[xInd] = li2[xInd] + 23\n",
      "    print li2\n",
      "    \n",
      "### while loop\n",
      "\n",
      "### escaping loops\n",
      "**break, continue**\n",
      "\n",
      "### List Comprehensions\n",
      "\n",
      "\n",
      "\n",
      "**ord(), ASCII**  \n"
     ]
    },
    {
     "cell_type": "code",
     "collapsed": false,
     "input": [
      "L = [1,2,4,8,16,32,64]\n",
      "x = 5\n",
      " \n",
      "# Less convoluted, but still indexing\n",
      "i = 0\n",
      "while i < len(L):\n",
      "    if 2 ** x == L[i]:\n",
      "        print 'at index', i\n",
      "        break\n",
      "    else:\n",
      "        i = i+1\n",
      "else:\n",
      "    print x, 'not found'\n",
      "print\n",
      "\n",
      "# b)\n",
      "print 'b)'\n",
      "L = [1,2,4,8,16,32,64]\n",
      "x = 5\n",
      "for yInd, y in enumerate(L):\n",
      "    if 2 ** x == y:\n",
      "        print 'at index %s' % (yInd)\n",
      "        break\n",
      "print\n",
      "\n",
      "print 2 in [1,2,3]  # T or F\n",
      "L = [1,2,4,8,16,32,64]\n",
      "x = 5\n",
      "print 2**x in L # T or F\n",
      "print\n",
      "\n",
      "# d)\n",
      "print 'd)'\n",
      "L = []\n",
      "for x in range(7):\n",
      "    L.append(2 ** x)\n",
      "print L\n",
      "print\n",
      "\n",
      "#e)\n",
      "print 'e)'\n",
      "print [2**x for x in range(7)]"
     ],
     "language": "python",
     "metadata": {},
     "outputs": [
      {
       "output_type": "stream",
       "stream": "stdout",
       "text": [
        "at index 5\n",
        "\n",
        "b)\n",
        "at index 5\n",
        "\n",
        "True\n",
        "True\n",
        "\n",
        "d)\n",
        "[1, 2, 4, 8, 16, 32, 64]\n",
        "\n",
        "e)\n",
        "[1, 2, 4, 8, 16, 32, 64]\n"
       ]
      }
     ],
     "prompt_number": 14
    },
    {
     "cell_type": "code",
     "collapsed": false,
     "input": [
      "rockString = 'Rock and Roll'\n",
      "print rockString\n",
      "print\n",
      " \n",
      "# a)\n",
      "print 'a)'\n",
      "for x in rockString: print 'The ASCII value of %s is %s' % (x, ord(x))\n",
      "print\n",
      "\n",
      "print 'c)'\n",
      "rockASCIIlist = [ ]\n",
      "for xInd, x in enumerate(rockString):\n",
      "    rockASCIIlist.append(ord(x))\n",
      "    #print rockASCIIlist # uncomment this to see the list grow with each iteration\n",
      "print rockASCIIlist\n",
      "print"
     ],
     "language": "python",
     "metadata": {},
     "outputs": [
      {
       "output_type": "stream",
       "stream": "stdout",
       "text": [
        "Rock and Roll\n",
        "\n",
        "a)\n",
        "The ASCII value of R is 82\n",
        "The ASCII value of o is 111\n",
        "The ASCII value of c is 99\n",
        "The ASCII value of k is 107\n",
        "The ASCII value of   is 32\n",
        "The ASCII value of a is 97\n",
        "The ASCII value of n is 110\n",
        "The ASCII value of d is 100\n",
        "The ASCII value of   is 32\n",
        "The ASCII value of R is 82\n",
        "The ASCII value of o is 111\n",
        "The ASCII value of l is 108\n",
        "The ASCII value of l is 108\n",
        "\n",
        "c)\n",
        "[82, 111, 99, 107, 32, 97, 110, 100, 32, 82, 111, 108, 108]\n",
        "\n"
       ]
      }
     ],
     "prompt_number": 6
    },
    {
     "cell_type": "code",
     "collapsed": false,
     "input": [
      "s = raw_input(\"Enter a number: \")\n",
      "s = int(s)\n",
      "t = int(not s)\n",
      "print t"
     ],
     "language": "python",
     "metadata": {},
     "outputs": [
      {
       "name": "stdout",
       "output_type": "stream",
       "stream": "stdout",
       "text": [
        "Enter a number: 0\n"
       ]
      },
      {
       "output_type": "stream",
       "stream": "stdout",
       "text": [
        "1\n"
       ]
      }
     ],
     "prompt_number": 4
    },
    {
     "cell_type": "code",
     "collapsed": false,
     "input": [
      "hexamer = raw_input(\"Please enter a six-nucleotide sequence in all capital letters:  \")\n",
      "if len(hexamer) != 6:\n",
      "    print \"Oh, hrmmmm... I'm fairly certain that sequence isn't of length 6.\"\n",
      "    hexamer = raw_input(\"Please enter a six-nucleotide sequence in all capital letters:  \")\n",
      " \n",
      "start = 0\n",
      "stop = 3\n",
      " \n",
      "if hexamer[start:stop] == 'ATG':\n",
      "    print start, \"is the position of the first Met codon.\"\n",
      "else:\n",
      "    start += 1\n",
      "    stop += 1\n",
      " \n",
      "if hexamer[start:stop] == 'ATG':\n",
      "    print start, \"is the position of the first Met codon.\"\n",
      "else:\n",
      "    start += 1\n",
      "    stop += 1\n",
      " \n",
      "if hexamer[start:stop] == 'ATG':\n",
      "    print start, \"is the position of the first Met codon.\"\n",
      "else:\n",
      "    start += 1\n",
      "    stop += 1\n",
      "if hexamer[start:stop] == 'ATG':\n",
      "    print start, \"is the position of the first Met codon.\"\n",
      "else:\n",
      "    print \"-1\"\n"
     ],
     "language": "python",
     "metadata": {},
     "outputs": []
    },
    {
     "cell_type": "code",
     "collapsed": false,
     "input": [],
     "language": "python",
     "metadata": {},
     "outputs": []
    },
    {
     "cell_type": "code",
     "collapsed": false,
     "input": [
      "query = raw_input(\"Query:\")\n",
      "\n",
      "if query:\n",
      "    print 'Query is true'\n",
      "else:\n",
      "    print 'Query is false'"
     ],
     "language": "python",
     "metadata": {},
     "outputs": []
    },
    {
     "cell_type": "code",
     "collapsed": false,
     "input": [
      "a = range(10)\n",
      "b = []\n",
      "for i in a:\n",
      "    b.append(i + 1)\n",
      "a = b\n",
      "print a\n",
      "\n",
      "\n",
      "\n",
      "a = range(10)\n",
      "print [ i + 1 for i in a]\n",
      "\n",
      "a = [i + 1 for i in a]\n",
      "print a"
     ],
     "language": "python",
     "metadata": {},
     "outputs": []
    },
    {
     "cell_type": "code",
     "collapsed": false,
     "input": [
      "y = 30\n",
      "x = y-1\n",
      "while x > 1:\n",
      "    if y % x == 0:\n",
      "        print x, 'is a factor of', y\n",
      "        break\n",
      "    x = x-1\n",
      "else:\n",
      "        print y, 'is prime'"
     ],
     "language": "python",
     "metadata": {},
     "outputs": []
    },
    {
     "cell_type": "code",
     "collapsed": false,
     "input": [
      "x = 10\n",
      "while x:\n",
      "    x = x-1\n",
      "    if x % 2 == 0:\n",
      "        continue # go to next number\n",
      "    print x, # se comma to print multiple things on same line"
     ],
     "language": "python",
     "metadata": {},
     "outputs": []
    },
    {
     "cell_type": "code",
     "collapsed": false,
     "input": [
      "while True:\n",
      "    dividend = int(raw_input(\"Dividend: \"))\n",
      "    divisor = int(raw_input(\"Divisor: \"))\n",
      "    if divisor == 0:\n",
      "        break  # won't go back\n",
      "    print dividend/divisor"
     ],
     "language": "python",
     "metadata": {},
     "outputs": []
    },
    {
     "cell_type": "code",
     "collapsed": false,
     "input": [],
     "language": "python",
     "metadata": {},
     "outputs": []
    },
    {
     "cell_type": "code",
     "collapsed": false,
     "input": [
      "x = 'Ni!'\n",
      "while x:\n",
      "    print x\n",
      "    x = x[1:]\n",
      "print\n",
      "\n",
      "x = 5\n",
      "while x > 0:\n",
      "    print x\n",
      "    x = x - 1\n",
      "print"
     ],
     "language": "python",
     "metadata": {},
     "outputs": []
    },
    {
     "cell_type": "code",
     "collapsed": false,
     "input": [
      "li2 = [1,22,48,36,101]\n",
      "print li2\n",
      "for x in li2:\n",
      "    x = x + 42\n",
      "    print x\n",
      "print li2\n",
      "\n",
      "a = ['a', 'b', 'c', 'd', 'e', 'f', 'g', 'h', 'i', 'j']\n",
      "a[0] = 'X'\n",
      "print a\n",
      " \n",
      "b = a\n",
      "print b\n",
      " \n",
      "b[1] = 'Y'\n",
      "print b, \"is the value of b\"\n",
      "print a, \"is the value of a\"\n",
      "\n",
      "li2 = [1,22,48,36,101, 42]\n",
      "print li2\n",
      "for x in range( len(li2) ):\n",
      "    li2[x] = li2[x] + 23\n",
      "print li2"
     ],
     "language": "python",
     "metadata": {},
     "outputs": []
    },
    {
     "cell_type": "code",
     "collapsed": false,
     "input": [
      "li2 = [1,22,48,36,101]\n",
      "for xInd, x in enumerate(li2):\n",
      "    #print x\n",
      "    li2[xInd] = li2[xInd] + 23\n",
      "    #print x\n",
      "    #print\n",
      "print li2"
     ],
     "language": "python",
     "metadata": {},
     "outputs": []
    },
    {
     "cell_type": "code",
     "collapsed": false,
     "input": [
      "for x in range(4):\n",
      "    print 'hello'\n",
      "y = range(4)\n",
      "print y"
     ],
     "language": "python",
     "metadata": {},
     "outputs": []
    },
    {
     "cell_type": "code",
     "collapsed": false,
     "input": [
      "li = ['Red Leicester', 'Gruyere', 'Camembert', 'Parmesan', 'Mozarella', 'Cheddar']\n",
      " \n",
      "#iterate over list\n",
      "for x in li:\n",
      "    print x\n",
      "    \n",
      "li = ['Red Leicester', 'Gruyere', 'Camembert', 'Parmesan', 'Mozarella', 'Cheddar']\n",
      " \n",
      "#iterate over list\n",
      "for x in li:\n",
      "    print \"Cleese: Do you have any %s?\" % x\n",
      "    if x == 'Camembert':\n",
      "        print \"Chapman: Oooh, the cat's eaten it!\"\n",
      "    else:\n",
      "        print \"Chapman: No.\"\n",
      "print \"Cleese: Well I'm sorry, but I'm going to have to shoot you.\""
     ],
     "language": "python",
     "metadata": {},
     "outputs": []
    },
    {
     "cell_type": "code",
     "collapsed": false,
     "input": [
      "true_statement = 'truth itself' # non-empty strings are true\n",
      "false_statement = '' # empty strings are false\n",
      "\n",
      "if true_statement and false_statement:\n",
      "    print \"This should not print.\"\n",
      "else:\n",
      "    print \"This should print.\""
     ],
     "language": "python",
     "metadata": {},
     "outputs": []
    },
    {
     "cell_type": "code",
     "collapsed": false,
     "input": [
      "s = 0\n",
      "if s == 0:  # True\n",
      "    print \"True\"\n",
      "else:\n",
      "    print \"False\"\n",
      "    \n",
      "if s:  # False\n",
      "    print \"True\"\n",
      "else:\n",
      "    print \"False\""
     ],
     "language": "python",
     "metadata": {},
     "outputs": []
    },
    {
     "cell_type": "code",
     "collapsed": false,
     "input": [],
     "language": "python",
     "metadata": {},
     "outputs": []
    },
    {
     "cell_type": "code",
     "collapsed": false,
     "input": [
      "checkingAccountBalance = 4\n",
      " \n",
      "# Let's imagine that I have to eat crappy ramen if I\n",
      "# have less than $10 at the start of the week, but I\n",
      "# can eat the fancier kind if I have more...\n",
      " \n",
      "if checkingAccountBalance < 10:\n",
      "    thisWeeksFood = 'ramen'\n",
      "if checkingAccountBalance >= 10:\n",
      "    thisWeeksFood = 'goodRamen'\n",
      " \n",
      "print \"We are eating %s this week\" % (thisWeeksFood)"
     ],
     "language": "python",
     "metadata": {},
     "outputs": []
    }
   ],
   "metadata": {}
  }
 ]
}