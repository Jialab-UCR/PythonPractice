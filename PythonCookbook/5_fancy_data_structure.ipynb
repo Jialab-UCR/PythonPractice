{
 "metadata": {
  "name": "",
  "signature": "sha256:ea87ef42f91a55c82c7b688ca4decc47d277ae5ff3c895d03a11924a4fb77cb6"
 },
 "nbformat": 3,
 "nbformat_minor": 0,
 "worksheets": [
  {
   "cells": [
    {
     "cell_type": "heading",
     "level": 1,
     "metadata": {},
     "source": [
      "Fancy Data Structures"
     ]
    },
    {
     "cell_type": "markdown",
     "metadata": {},
     "source": [
      "### Topics\n",
      "+ Tuples\n",
      "+ Sets\n",
      "+ Lists of lists\n",
      "+ Dictionaries of dictionaries\n",
      "+ Lists of Dictionaries, dictionaries of lists\n",
      "+ Nested structures\n",
      "\n",
      "#### Introduction\n",
      "\n",
      "#### A Bit more on tuples\n",
      "**a tuple is like a frozen list**\n",
      "    mytuple = (1,2) # Actually, the parentheses are optional (but helpful for clarity)\n",
      "    mytuple = 1,2\n",
      "\n",
      "**Also, if your tuple only has one item, you need to use a comma to make it clear that the tuple is a tuple and not just a value in parentheses:**\n",
      "    tuple_A = (\"Is this a tuple?\",)\n",
      "    \n",
      "#### Sets\n",
      "Like a set in mathematics, it has a bunch of elements with no repeats. To build a set, you pass in a list, and it will automatically remove duplicates  \n",
      "\n",
      "Sets make doing Venn diagrams of your data really easy  \n",
      "**UCs.intersection()**  \n",
      "**UCs.difference()**  \n",
      "**bay_area_schools.difference()**  \n",
      "**UCs.union()**  \n",
      "**bay_area_schools.remove(\"Stanford\")**  \n",
      "**bay_area_schools.discard(\"Stanford\")**  \n",
      "\n",
      "The difference between remove and discard is that discard doesn't care whether or not the item is already in the set or not, whereas if the item isn't in the set, remove will give an error\n",
      "\n",
      "#### Lists of lists\n",
      "    list1 = [x, y, z]\n",
      "    list2 = [a, b, c]\n",
      "    list12 = [list1, list2]\n",
      "    list12 = [[x, y, z],[a, b, c]]\n",
      "    \n",
      "    xlist = list12[0]\n",
      "    xplace = xlist[0]\n",
      "    # or\n",
      "    xplace = list12[0][0]\n",
      "    \n",
      "    importantPlaces[0][0] = 'm' # change 'x' to 'm' \n",
      "    \n",
      "**importantPlaces.append(another list)**  \n",
      "**importantPlaces[2].append(an element)** add an element to the 3rd list  \n",
      "Take note of that very last step: although you made a change while naming importantPlaces, you also changed home. That's because they're one and the same  \n",
      "**importantPlaces.append(home[:]) ** only append the elements, not the list  \n",
      "\n",
      "#### Dictionaries of dictionaries\n",
      "    definitions['aTableAlphabeticall'] = {'status':'an image of wood, or any other matter', 'vapor': 'moisture, ayre, hote breath, or reaking'}\n",
      "    definitions['aTableAlphabeticall']['statue'] = 'an image of wood, or any other matter'\n",
      "    \n",
      "    \n",
      "#### Lists of dictionaries, dictionaries of lists\n",
      "    a = [{},{}, ]  # a is a list of empty dictionaries\n",
      "    b = {'l1': [], 'l2': []} # b is a dictionary of empty lists\n",
      "    listOfDictionaries = [{},{}]\n",
      "    listOfDictionaries[1]['ventricle'] = []\n",
      "    listOfDictionaries[1]['ventricle'].append('One of two lower chambers of the heart')\n",
      "    listOfDictionaries[1]['ventricle'].append('One of four cavities in the brain')\n",
      "\n",
      "#### Fancy loops for fancy data structures\n"
     ]
    },
    {
     "cell_type": "code",
     "collapsed": false,
     "input": [],
     "language": "python",
     "metadata": {},
     "outputs": []
    },
    {
     "cell_type": "code",
     "collapsed": false,
     "input": [],
     "language": "python",
     "metadata": {},
     "outputs": []
    },
    {
     "cell_type": "code",
     "collapsed": false,
     "input": [
      "species = {}\n",
      "species['human'] = {}\n",
      "species['mouse'] = {}\n",
      "species['rat'] = {}\n",
      " \n",
      "## add human data\n",
      "species['human']['TallnessGene'] = 'AATAGCAG'\n",
      "species['human']['SmartnessGene'] = 'TGACGGA'\n",
      " \n",
      "## add mouse data\n",
      "species['mouse']['FuzzynessGene'] = 'CCCCCCA'\n",
      "species['mouse']['BeadyLittleEyesGene'] = 'ATAGCGC'\n",
      " \n",
      "## add rat data\n",
      "species['rat']['FuzzynessGene'] = 'CCCTCCA'\n",
      "species['rat']['BiggerThanMouseGene'] = 'GGACAATT'\n",
      " \n",
      "##   (B)\n",
      "print species['human'].keys()\n",
      " \n",
      " \n",
      "##   (C)\n",
      "print species['mouse']['FuzzynessGene'],species['rat']['FuzzynessGene']\n",
      " \n",
      "##   (D)\n",
      "print species['human']['TallnessGene'][2]\n",
      " "
     ],
     "language": "python",
     "metadata": {},
     "outputs": [
      {
       "output_type": "stream",
       "stream": "stdout",
       "text": [
        "['TallnessGene', 'SmartnessGene']\n",
        "CCCCCCA CCCTCCA\n",
        "T\n"
       ]
      }
     ],
     "prompt_number": 45
    },
    {
     "cell_type": "code",
     "collapsed": false,
     "input": [
      "liLi = [[1,2,3],[7,8,9]]\n",
      "for x in liLi:\n",
      "    print x\n",
      "    for y in x:\n",
      "        print y\n",
      "    print"
     ],
     "language": "python",
     "metadata": {},
     "outputs": [
      {
       "output_type": "stream",
       "stream": "stdout",
       "text": [
        "[1, 2, 3]\n",
        "1\n",
        "2\n",
        "3\n",
        "\n",
        "[7, 8, 9]\n",
        "7\n",
        "8\n",
        "9\n",
        "\n"
       ]
      }
     ],
     "prompt_number": 42
    },
    {
     "cell_type": "code",
     "collapsed": false,
     "input": [
      "knights = {'gallahad': 'the pure', 'robin': 'the brave'}\n",
      "for x in knights:    ## loops over the keys\n",
      "    print x\n",
      "    print knights[x]"
     ],
     "language": "python",
     "metadata": {},
     "outputs": [
      {
       "output_type": "stream",
       "stream": "stdout",
       "text": [
        "gallahad\n",
        "the pure\n",
        "robin\n",
        "the brave\n"
       ]
      }
     ],
     "prompt_number": 41
    },
    {
     "cell_type": "code",
     "collapsed": false,
     "input": [
      "listOfDictionaries = [{},{}]\n",
      "listOfDictionaries[1]['ventricle'] = []\n",
      "listOfDictionaries[1]['ventricle'].append('One of two lower chambers of the heart')\n",
      "listOfDictionaries[1]['ventricle'].append('One of four cavities in the brain')\n",
      " \n",
      "print listOfDictionaries\n",
      "\n",
      "list_of_stuff = [[], 1, \"Hello\", {'name': 'Batman'}]\n",
      "#This is totally legal, but just try writing a for loop that handles each one correctly!\n",
      " \n",
      "for thing in list_of_stuff: print thing\n",
      "# This is about the only thing I can think of that would work on\n",
      "# all of the things in that list..."
     ],
     "language": "python",
     "metadata": {},
     "outputs": [
      {
       "output_type": "stream",
       "stream": "stdout",
       "text": [
        "[{}, {'ventricle': ['One of two lower chambers of the heart', 'One of four cavities in the brain']}]\n",
        "[]\n",
        "1\n",
        "Hello\n",
        "{'name': 'Batman'}\n"
       ]
      }
     ],
     "prompt_number": 39
    },
    {
     "cell_type": "code",
     "collapsed": false,
     "input": [
      "#!/usr/bin/env python\n",
      " \n",
      "# we keep our definitions in a dictionary\n",
      "definitions = {}\n",
      " \n",
      "# and, as above, we have several dictionaries in this dictionary\n",
      "definitions['wiktionary'] = {}\n",
      "definitions['aTableAlphabeticall'] = {}\n",
      "definitions['aTableAlphabeticall'] = {'status':'an image of wood, or any other matter', 'vapor': 'moisture, ayre, hote breath, or reaking'}\n",
      "print definitions\n",
      " \n",
      "# and each dictionary is full of definitions\n",
      "definitions['aTableAlphabeticall']['statue'] = 'an image of wood, or any other matter'\n",
      "definitions['aTableAlphabeticall']['vapor'] = 'moisture, ayre, hote breath, or reaking'\n",
      " \n",
      "#print definitions"
     ],
     "language": "python",
     "metadata": {},
     "outputs": [
      {
       "output_type": "stream",
       "stream": "stdout",
       "text": [
        "{'wiktionary': {}, 'aTableAlphabeticall': {'status': 'an image of wood, or any other matter', 'vapor': 'moisture, ayre, hote breath, or reaking'}}\n"
       ]
      }
     ],
     "prompt_number": 37
    },
    {
     "cell_type": "code",
     "collapsed": false,
     "input": [
      "coffee = ['yalis','peoples','brewedawakening']\n",
      "lab = ['stanley','barker','LSA','Koshland','VLSB']\n",
      "home = ['rockridge','the mission','lake merritt','gourmet ghetto']\n",
      "importantPlaces = [coffee,lab]\n",
      "\n",
      "# importantPlaces.append([])\n",
      "# print importantPlaces\n",
      "\n",
      "#importantPlaces[2].append(home[0])\n",
      "#importantPlaces[2].append(home[1])\n",
      "#print importantPlaces\n",
      "\n",
      "importantPlaces.append(home[:]) # append the elements, not the list\n",
      "print importantPlaces\n",
      "\n",
      "importantPlaces[2][3] = 'alcatel'\n",
      "print importantPlaces\n",
      "print home"
     ],
     "language": "python",
     "metadata": {},
     "outputs": [
      {
       "output_type": "stream",
       "stream": "stdout",
       "text": [
        "[['yalis', 'peoples', 'brewedawakening'], ['stanley', 'barker', 'LSA', 'Koshland', 'VLSB'], ['rockridge', 'the mission', 'lake merritt', 'gourmet ghetto']]\n",
        "[['yalis', 'peoples', 'brewedawakening'], ['stanley', 'barker', 'LSA', 'Koshland', 'VLSB'], ['rockridge', 'the mission', 'lake merritt', 'alcatel']]\n",
        "['rockridge', 'the mission', 'lake merritt', 'gourmet ghetto']\n"
       ]
      }
     ],
     "prompt_number": 35
    },
    {
     "cell_type": "code",
     "collapsed": false,
     "input": [
      "coffee = ['yalis','peoples','brewedawakening']\n",
      "lab = ['stanley','barker','LSA','Koshland','VLSB']\n",
      "importantPlaces = [coffee,lab]\n",
      "print importantPlaces\n",
      "\n",
      "alist = importantPlaces[0]\n",
      "print alist\n",
      "aPlace = alist[0]\n",
      "print aPlace\n",
      "\n",
      "aPlace = importantPlaces[0][0]  # aPlace is 'yalis'\n",
      "print aPlace\n",
      "importantPlaces[0][0] = 'peets' # 'yalis' is changed to 'peets'\n",
      "print importantPlaces\n",
      "anotherPlace = importantPlaces[0][0]\n",
      "\n",
      "# make a list of lists!\n",
      "home = ['rockridge','the mission','lake merritt','gourmet ghetto']\n",
      "importantPlaces.append(home)  # important places is now [coffee,lab,home]\n",
      "importantPlaces[2].append('bushrod park')  # home now includes 'bushrod park'\n",
      "print importantPlaces\n",
      "\n",
      "print importantPlaces[2]\n",
      "print home"
     ],
     "language": "python",
     "metadata": {},
     "outputs": [
      {
       "output_type": "stream",
       "stream": "stdout",
       "text": [
        "[['yalis', 'peoples', 'brewedawakening'], ['stanley', 'barker', 'LSA', 'Koshland', 'VLSB']]\n",
        "['yalis', 'peoples', 'brewedawakening']\n",
        "yalis\n",
        "yalis\n",
        "[['peets', 'peoples', 'brewedawakening'], ['stanley', 'barker', 'LSA', 'Koshland', 'VLSB']]\n",
        "[['peets', 'peoples', 'brewedawakening'], ['stanley', 'barker', 'LSA', 'Koshland', 'VLSB'], ['rockridge', 'the mission', 'lake merritt', 'gourmet ghetto', 'bushrod park']]\n",
        "['rockridge', 'the mission', 'lake merritt', 'gourmet ghetto', 'bushrod park']\n",
        "['rockridge', 'the mission', 'lake merritt', 'gourmet ghetto', 'bushrod park']\n"
       ]
      }
     ],
     "prompt_number": 25
    },
    {
     "cell_type": "code",
     "collapsed": false,
     "input": [
      "UCs = set([\"UC Berkeley\", \"UCLA\", \"UCSF\", \"UCSB\", \"UC Riverside\", \"UC Davis\",\n",
      "           \"UCSD\", \"UC Santa Cruz\", \"UC Irvine\", \"UC Merced\"])\n",
      "bay_area_schools = set([\"UC Berkeley\", \"Stanford\", \"UCSF\", \"San Jose State\",\n",
      "           \"Santa Clara University\", \"University of San Francisco\" ])\n",
      " \n",
      "bay_area_UCs = UCs.intersection(bay_area_schools)\n",
      "print \"Bay Area UCs\", bay_area_UCs\n",
      "\n",
      "non_bay_area_UCs = UCs.difference(bay_area_schools)\n",
      "print \"UCs in less awesome places\", non_bay_area_UCs\n",
      "\n",
      "bay_area_non_UCs = bay_area_schools.difference(UCs)\n",
      "print \"Bay area schools that aren't UCs\", bay_area_non_UCs\n",
      "\n",
      "california_schools = UCs.union(bay_area_schools)\n",
      "print california_schools"
     ],
     "language": "python",
     "metadata": {},
     "outputs": [
      {
       "output_type": "stream",
       "stream": "stdout",
       "text": [
        "Bay Area UCs set(['UC Berkeley', 'UCSF'])\n",
        "UCs in less awesome places set(['UC Santa Cruz', 'UC Irvine', 'UCLA', 'UC Davis', 'UC Riverside', 'UCSD', 'UCSB', 'UC Merced'])\n",
        "Bay area schools that aren't UCs set(['University of San Francisco', 'San Jose State', 'Santa Clara University', 'Stanford'])\n",
        "set(['University of San Francisco', 'Stanford', 'UC Berkeley', 'UC Santa Cruz', 'UC Irvine', 'UCLA', 'UCSB', 'UC Davis', 'UC Riverside', 'UCSD', 'UCSF', 'UC Merced', 'San Jose State', 'Santa Clara University'])\n"
       ]
      }
     ],
     "prompt_number": 16
    },
    {
     "cell_type": "code",
     "collapsed": false,
     "input": [
      "myset = set([1,1,2,3,5,8])\n",
      "print myset\n",
      " \n",
      "# You can also use the new syntax:\n",
      "myset = {1,1,2,3,5,8}\n",
      "print myset\n",
      "print type(myset)\n",
      "\n",
      "myset = set()\n",
      "myset.add(1)\n",
      "myset.add(1)\n",
      "myset.add(2)\n",
      "myset.add(3)\n",
      "myset.add(5)\n",
      "myset.add(8)\n",
      "print myset"
     ],
     "language": "python",
     "metadata": {},
     "outputs": [
      {
       "output_type": "stream",
       "stream": "stdout",
       "text": [
        "set([8, 1, 2, 3, 5])\n",
        "set([8, 1, 2, 3, 5])\n",
        "<type 'set'>\n",
        "set([8, 1, 2, 3, 5])\n"
       ]
      }
     ],
     "prompt_number": 11
    },
    {
     "cell_type": "code",
     "collapsed": false,
     "input": [
      "a = 1\n",
      "b = 2\n",
      "a,b = b,a\n",
      "print a, b\n",
      "\n",
      "a = 1\n",
      "b = 2\n",
      "mytuple = (b,a)\n",
      "a,b = mytuple\n",
      "print a, b"
     ],
     "language": "python",
     "metadata": {},
     "outputs": [
      {
       "output_type": "stream",
       "stream": "stdout",
       "text": [
        "2 1\n",
        "2 1\n"
       ]
      }
     ],
     "prompt_number": 8
    },
    {
     "cell_type": "code",
     "collapsed": false,
     "input": [
      "tuple_A = (\"Is this a tuple?\")\n",
      "tuple_B = (\"What about this?\", )\n",
      " \n",
      "print tuple_A, type(tuple_A)\n",
      "print tuple_B, type(tuple_B)\n",
      "tuple_C = list(tuple_B)\n",
      "print type(tuple_C)\n",
      "\n"
     ],
     "language": "python",
     "metadata": {},
     "outputs": [
      {
       "output_type": "stream",
       "stream": "stdout",
       "text": [
        "Is this a tuple? <type 'str'>\n",
        "('What about this?',) <type 'tuple'>\n",
        "<type 'list'>\n"
       ]
      }
     ],
     "prompt_number": 6
    },
    {
     "cell_type": "code",
     "collapsed": false,
     "input": [
      "mytuple = (1,2)\n",
      "# Actually, the parentheses are optional (but helpful for clarity)\n",
      "mytuple = 1,2\n",
      " \n",
      "mylist = [1,2]\n",
      " \n",
      "mydict = {}\n",
      "mydict[mytuple] = 'hello'\n",
      "print mydict\n",
      "mydict[mylist] = 'world'\n",
      "print mydict"
     ],
     "language": "python",
     "metadata": {},
     "outputs": [
      {
       "output_type": "stream",
       "stream": "stdout",
       "text": [
        "{(1, 2): 'hello'}\n"
       ]
      },
      {
       "ename": "TypeError",
       "evalue": "unhashable type: 'list'",
       "output_type": "pyerr",
       "traceback": [
        "\u001b[0;31m---------------------------------------------------------------------------\u001b[0m\n\u001b[0;31mTypeError\u001b[0m                                 Traceback (most recent call last)",
        "\u001b[0;32m<ipython-input-3-3c7cf1d0c44d>\u001b[0m in \u001b[0;36m<module>\u001b[0;34m()\u001b[0m\n\u001b[1;32m      8\u001b[0m \u001b[0mmydict\u001b[0m\u001b[0;34m[\u001b[0m\u001b[0mmytuple\u001b[0m\u001b[0;34m]\u001b[0m \u001b[0;34m=\u001b[0m \u001b[0;34m'hello'\u001b[0m\u001b[0;34m\u001b[0m\u001b[0m\n\u001b[1;32m      9\u001b[0m \u001b[0;32mprint\u001b[0m \u001b[0mmydict\u001b[0m\u001b[0;34m\u001b[0m\u001b[0m\n\u001b[0;32m---> 10\u001b[0;31m \u001b[0mmydict\u001b[0m\u001b[0;34m[\u001b[0m\u001b[0mmylist\u001b[0m\u001b[0;34m]\u001b[0m \u001b[0;34m=\u001b[0m \u001b[0;34m'world'\u001b[0m\u001b[0;34m\u001b[0m\u001b[0m\n\u001b[0m\u001b[1;32m     11\u001b[0m \u001b[0;32mprint\u001b[0m \u001b[0mmydict\u001b[0m\u001b[0;34m\u001b[0m\u001b[0m\n",
        "\u001b[0;31mTypeError\u001b[0m: unhashable type: 'list'"
       ]
      }
     ],
     "prompt_number": 3
    },
    {
     "cell_type": "code",
     "collapsed": false,
     "input": [],
     "language": "python",
     "metadata": {},
     "outputs": []
    },
    {
     "cell_type": "code",
     "collapsed": false,
     "input": [
      "# define dictionaries\n",
      "wiktionary = {}\n",
      " \n",
      " \n",
      "aTableAlphabeticall = {}\n",
      " \n",
      "# insert words, starting with, naturally, 'ventricle'\n",
      "wiktionary['ventricle'] = '''1. (anatomy) One of two lower chambers of the heart.\\\n",
      "2. (anatomy) One of four cavities in the brain.'''\n",
      " \n",
      " \n",
      "aTableAlphabeticall['ventricle'] = 'the stomacke which receiues the meate'\n",
      "print aTableAlphabeticall"
     ],
     "language": "python",
     "metadata": {},
     "outputs": [
      {
       "output_type": "stream",
       "stream": "stdout",
       "text": [
        "{'ventricle': 'the stomacke which receiues the meate'}\n"
       ]
      }
     ],
     "prompt_number": 2
    },
    {
     "cell_type": "code",
     "collapsed": false,
     "input": [],
     "language": "python",
     "metadata": {},
     "outputs": []
    }
   ],
   "metadata": {}
  }
 ]
}