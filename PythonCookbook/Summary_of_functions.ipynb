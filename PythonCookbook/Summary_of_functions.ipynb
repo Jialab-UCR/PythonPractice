{
 "metadata": {
  "name": "",
  "signature": "sha256:0536e4fd7a0e28bd5f409c372662e518d9c018a52584a4263c35beda93258abf"
 },
 "nbformat": 3,
 "nbformat_minor": 0,
 "worksheets": [
  {
   "cells": [
    {
     "cell_type": "markdown",
     "metadata": {},
     "source": []
    },
    {
     "cell_type": "heading",
     "level": 3,
     "metadata": {},
     "source": [
      "Basic text processing"
     ]
    },
    {
     "cell_type": "markdown",
     "metadata": {},
     "source": [
      "**1. split()**: converting a character string of a sentence into a list of words\n",
      "+ split(): \n",
      "    + Remove all kinds of whitespace from the beginning and end of the string.\n",
      "    + Condense all adjacent whitespaces to single space characters.\n",
      "    + Split on those spaces.\n",
      "+ split(delimiter) --> split(' ')\n",
      "+ split(delimiter, number) --> split(' ', 3): specify how many times you want to split\n",
      "\n",
      "**2. rsplit()**: reverse split counts\n",
      "\n",
      "**3. partition()**: works a lot like split(delimiter,1), partition() will always return a tuple of length three. \n",
      "+ (first part, delimiter, and the second part)\n",
      "+ use an if statement to test for the presence of a delimiter with partition()\n",
      "\n",
      "**4. join()**: it turns lists into strings\n",
      "+ character.join(list)\n",
      "+ **join the list is much faster than plus '+'**"
     ]
    },
    {
     "cell_type": "heading",
     "level": 3,
     "metadata": {},
     "source": [
      "Text testing"
     ]
    },
    {
     "cell_type": "markdown",
     "metadata": {},
     "source": [
      "**1. startswith()**\n",
      "+ string.startswith('x', 'y')\n",
      "\n",
      "**2. endswith()**\n",
      "\n",
      "**3. find()**\n",
      "+ Will return the index of the substring only if the substring is found\n",
      "+ \n",
      "+ Otherwise,find()returns the integer -1, which is not a zero, and thus will pass the if test as True  \n",
      "    if not (beatles.find('paul') == -1)"
     ]
    },
    {
     "cell_type": "heading",
     "level": 3,
     "metadata": {},
     "source": [
      "Text conversions"
     ]
    },
    {
     "cell_type": "markdown",
     "metadata": {},
     "source": [
      "**1. replace()**\n",
      "+ beatles.replace('x', 'y', number), specify how many replacements to make, starting at the beginning\n",
      "\n",
      "**2. upper(), lower(), swapcase()**\n",
      "+ if hit.isupper(), hit.islower(), isalpha() - check if there are non-letter characters-\n",
      "+ swapcase(), when you are (or the program you're writing is) indecisive"
     ]
    },
    {
     "cell_type": "heading",
     "level": 2,
     "metadata": {},
     "source": [
      "File and Filehandles"
     ]
    },
    {
     "cell_type": "heading",
     "level": 3,
     "metadata": {},
     "source": [
      "Opening filehandles"
     ]
    },
    {
     "cell_type": "markdown",
     "metadata": {},
     "source": [
      "**1. open()**\n",
      "+ open(file_path, 'r')\n",
      "+ open(file_path, 'w')\n",
      "+ open(file_path, 'a')\n",
      "\n",
      "**2. fh.read()**\n",
      "+ sucks in the whole file in a single string\n",
      "\n",
      "**3. fh.readline()**\n",
      "+ fh.readline() takes in one line \n",
      "+ and since print() also supplies a newline, we've got an extra linebreak after each of the first two print statements\n",
      "\n",
      "**4. fh.readlines()**\n",
      "+ takes the entire file, from the current read position all the way to the end, giving back a list of lines\n",
      "+ again, with newlines intact  \n",
      "    lines = fh.readlines()  \n",
      "    for line in lines  \n",
      "    =  \n",
      "    for line in fh  \n",
      "\n",
      "**5. fh.readline().strip()**\n",
      "+ remove the spaces and newlines\n",
      "\n",
      "**6. close()**\n",
      "\n",
      "**7. seek()**\n",
      "+ get back to the beginning of the file, or any positions\n",
      "\n",
      "**8. write()**  \n",
      "    fh.write('xxx')\n",
      "    \n",
      "**9. writelines()**  \n",
      "+ writelines() takes a list of strings, and writes them all\n",
      "\n",
      "**10. read line by line from a file**  \n",
      "    with open(...) as f:  \n",
      "        for line in f:  \n",
      "            do something with line  "
     ]
    },
    {
     "cell_type": "heading",
     "level": 2,
     "metadata": {},
     "source": [
      "Functions, modules"
     ]
    },
    {
     "cell_type": "markdown",
     "metadata": {},
     "source": [
      "**1. def**  \n",
      "    def func():  \n",
      "        xxxxxxxx\n",
      "        \n",
      "**2. sys**\n",
      "+ sys.argv. returns a dictionary\n",
      "+ sys.argv contains only strings, even if you type integers.\n",
      "+ And, remember, the first element is the command itself-- usually\n",
      "\n",
      "**3. math**\n",
      "+ math.log(x)\n",
      "\n",
      "**4. collections**\n",
      "+ collections.Counter(): counts the number of each element\n",
      "    c = collections.Counter(x)  \n",
      "    print c  \n",
      "    print c['name']\n",
      "    print c.most_common()  \n",
      "+ collections.defaultdict\n",
      "\n",
      "**5. from modulename import variablename as newvariablename**\n",
      "\n",
      "**6. import a_long_module_name as mname**\n",
      "\n"
     ]
    },
    {
     "cell_type": "heading",
     "level": 2,
     "metadata": {},
     "source": [
      "create your own python modules directory"
     ]
    },
    {
     "cell_type": "markdown",
     "metadata": {},
     "source": [
      "+ place the modules in ~/dong/python_modules  \n",
      "+ add the following lines to .bash_profile in the home directory  \n",
      "    echo 'PYTHONPATH=~/python_modules' >> ~/.bash_profile  \n",
      "    echo 'export PYTHONPATH' >> ~/.bash_profile  \n",
      "    source ~/.bash_profile  "
     ]
    },
    {
     "cell_type": "markdown",
     "metadata": {},
     "source": [
      "**1. dir(x)**\n",
      "+ can tell you all the methods and functions available to an object\n",
      "\n",
      "**2. help()**\n",
      "+ help(dir)\n",
      "+ help(x.append)\n",
      "\n",
      "**3. %hist -nt**\n",
      "+ show you the lines of code you have previously entered in this session\n",
      "\n",
      "**4. %save histfile.py 6-7**\n",
      "+ write 6~7 blocks to the file\n",
      "\n",
      "**5. run histfile**\n",
      "+ can run the code saved in histfile directly\n",
      "\n",
      "**6. run -p yeast_genome.py**\n",
      "\n",
      "**7. %edit histfile**\n",
      "+ Note that edit assumes you want to run the code immediately afterwards. If this isn't the case, you can call edit -x\n",
      "\n",
      "**8. x.append?**\n",
      "\n",
      "**9. try, except, else, finally**\n",
      "    try:  \n",
      "        f1 = open('AwesomeDataFile.txt', 'r')  \n",
      "    except IOError:  \n",
      "        print \"The file 'AwesomeDataFile.txt' doesn't exist!\"  \n",
      "    except IndexError:  \n",
      "        handle_indexerror()  \n",
      "    else:  \n",
      "        return result  \n",
      "    finally:  \n",
      "        print \"executing final clause\"  \n"
     ]
    },
    {
     "cell_type": "markdown",
     "metadata": {},
     "source": [
      "**1. os.system(command)**\n",
      "\n",
      "**2. subprocess.Popen( ['ls', '-l'], stdout=fh )**\n",
      "\n",
      "**3. time python os.py**\n",
      "\n",
      "**4. a.wait()**\n",
      "\n",
      "**5. proc = sp.Popen(['ls', '-l'], stdout=fh)**\n",
      "+ print the output into a file\n",
      "\n",
      "**6. proc_output = proc.communicate()**\n",
      "+ only when stdout=sp.PIPE in '5'\n",
      "+ proc_output[1]  -> none\n",
      "\n",
      "**7. "
     ]
    }
   ],
   "metadata": {}
  }
 ]
}