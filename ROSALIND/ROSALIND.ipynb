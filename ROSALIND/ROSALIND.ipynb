{
 "cells": [
  {
   "cell_type": "code",
   "execution_count": 5,
   "metadata": {
    "collapsed": false
   },
   "outputs": [
    {
     "name": "stdout",
     "output_type": "stream",
     "text": [
      "213\t234\t225\t235\n"
     ]
    }
   ],
   "source": [
    "### 1. Counting DNA Nucleotides ###\n",
    "\n",
    "seq = ''\n",
    "ntCounts = []\n",
    "with open('/Users/DONG/Downloads/rosalind_dna.txt') as f:\n",
    "    for line in f:\n",
    "        line = line.rstrip()\n",
    "        seq += line.upper()\n",
    "        \n",
    "for nt in ['A','C','G','T']:\n",
    "    ntCounts.append(seq.count(nt))\n",
    "\n",
    "print ('\\t'.join(map(str, ntCounts)))"
   ]
  },
  {
   "cell_type": "code",
   "execution_count": 9,
   "metadata": {
    "collapsed": false
   },
   "outputs": [
    {
     "name": "stdout",
     "output_type": "stream",
     "text": [
      "GAAUCAAUGUUUCUUAUAGGUCCGGAGUAAGUAAGUCUAGUGGCCAUGGUGCAGACCUUUGCUGAGUACAGCAGGAUCUAAAGGCCGGACGUGCCUGAUGCAGAAUCAGGGUAUAGGUCAGCCAAUGUUGGCGACCAACGGCCAGCUGGCUCCAAGGGUUGAGGGGUGCAACACAUACGAGCUGAACGGAGUUCACACCCUAUAGCGGAGGCUCUCGGUGGAGUCGUACCCAUAUACUCUGGGGGGGGGCAGGAACCUACACUUAUGAGGGCGGGGGUGCACUCCCUAUAUAUUGCUAUCAAAUAUUUUCUAUUAAAGAUGGGGCAAAUGUCUUGACUUGAGCUACAUCUUAAUUUCCUCGGUUAACUACUCAAUCUCUCCAUCAGAACACAGUACAAAAGGUGAUUUCUAAGAAUGGUUGACCCGAGGACCUGCUGACUGAUUGACGUUAGGUUCCGGUAGUUAUGCUAUGAGGAGCAGAUAGGGUGAUCAGAAACGGCUUAUCUGUGUAAAGCGAGCGUUCCGUGGCCCGUUCCGCUCUAAUAAAACGCAGAUGGUUAUACUGUCGGAUAAGCGCUACUAGUUUGCUUUAUCUGGAACAGUCUUAUAUAAUGGCCCGCGAGAAGGAAUUGGUCGGCGAGUACAGGAGUUCUGUCUUUCACUCAACCACUGCACAUAUAGCCACAUUCGCCUACAACCAAUGGUUCCAGACCAUCUACCUGCCUACAUGCAACGUGCGGAUUGUAUAGACUCUGACGCUAUUUUUAGGAGGACUCAAACUCAUCAGACAUCUUGCCUCCGGCUCCGAUGAGAUGGAGCGGUACCAAUCACAGCCAGCGAUACUAGUCUUGCCCACACGGUCAAGUUGCCCGCUAAUAUUUUCCGGAUCAGGGGCAUGCAUCGCGCAAGCCUGAGUCGCGUCUGAGUGCACCGCGUCUUUACGCUAGGCCCAAGGUGAUGUUCUGCCUGCAGGCGCUGGGUGGCCUGAAC\n",
      "GAAUCAAUGUUUCUUAUAGGUCCGGAGUAAGUAAGUCUAGUGGCCAUGGUGCAGACCUUUGCUGAGUACAGCAGGAUCUAAAGGCCGGACGUGCCUGAUGCAGAAUCAGGGUAUAGGUCAGCCAAUGUUGGCGACCAACGGCCAGCUGGCUCCAAGGGUUGAGGGGUGCAACACAUACGAGCUGAACGGAGUUCACACCCUAUAGCGGAGGCUCUCGGUGGAGUCGUACCCAUAUACUCUGGGGGGGGGCAGGAACCUACACUUAUGAGGGCGGGGGUGCACUCCCUAUAUAUUGCUAUCAAAUAUUUUCUAUUAAAGAUGGGGCAAAUGUCUUGACUUGAGCUACAUCUUAAUUUCCUCGGUUAACUACUCAAUCUCUCCAUCAGAACACAGUACAAAAGGUGAUUUCUAAGAAUGGUUGACCCGAGGACCUGCUGACUGAUUGACGUUAGGUUCCGGUAGUUAUGCUAUGAGGAGCAGAUAGGGUGAUCAGAAACGGCUUAUCUGUGUAAAGCGAGCGUUCCGUGGCCCGUUCCGCUCUAAUAAAACGCAGAUGGUUAUACUGUCGGAUAAGCGCUACUAGUUUGCUUUAUCUGGAACAGUCUUAUAUAAUGGCCCGCGAGAAGGAAUUGGUCGGCGAGUACAGGAGUUCUGUCUUUCACUCAACCACUGCACAUAUAGCCACAUUCGCCUACAACCAAUGGUUCCAGACCAUCUACCUGCCUACAUGCAACGUGCGGAUUGUAUAGACUCUGACGCUAUUUUUAGGAGGACUCAAACUCAUCAGACAUCUUGCCUCCGGCUCCGAUGAGAUGGAGCGGUACCAAUCACAGCCAGCGAUACUAGUCUUGCCCACACGGUCAAGUUGCCCGCUAAUAUUUUCCGGAUCAGGGGCAUGCAUCGCGCAAGCCUGAGUCGCGUCUGAGUGCACCGCGUCUUUACGCUAGGCCCAAGGUGAUGUUCUGCCUGCAGGCGCUGGGUGGCCUGAAC\n"
     ]
    }
   ],
   "source": [
    "### 2. Transcribing DNA into RNA ###\n",
    "import re\n",
    "\n",
    "dnaSeq = ''\n",
    "with open('/Users/DONG/Downloads/rosalind_rna.txt') as f:\n",
    "    for line in f:\n",
    "        line = line.rstrip()\n",
    "        dnaSeq += line.upper()\n",
    "\n",
    "rnaSeq1 = re.sub('T','U',dnaSeq)\n",
    "rnaSeq2 = dnaSeq.replace('T','U')\n",
    "\n",
    "print (rnaSeq1)\n",
    "print (rnaSeq2)\n"
   ]
  },
  {
   "cell_type": "code",
   "execution_count": 16,
   "metadata": {
    "collapsed": false
   },
   "outputs": [
    {
     "name": "stdout",
     "output_type": "stream",
     "text": [
      "GCATATCCCATAGCATTACGCGGGGCGAGAGCGCGGTAGTCTCAATGCCTCCCCCCGTACAGTTAGCGACACGATTGGCTTCCGGGTGTCAGGACTTACAAAGCATGCACCAAAGATTTCGACTTGGGGTAATGTCATGTGAACACAGCAGGATCCTTACCAGGGGAAACCCAAAAATTTCTCACCCCCGAGAAGGCGTGTACAGGCACCTGCTGCCGTGCGTGGGCCCGGAGAGCTTCTCATATGCAGAAACTGGTCTAGCTGGGGATTCTGAATTATCCCTACTGTCCTGATGACGTTTACGCTGTTCATGCCGTTCATATATACAAAGACTTTTCACTGGAGCTTACTATCAGAAGCAATTTCACCGCAGTTCACAGTTTTCCACACCGCCTCGTGGTTCGAGTGATTTTGTTCCGCAAGGTCCACGGTAGTCCGGAAGATTCCCCCCGTAGGGCATAATGCATAAACTTATTACGTTCCTTCATCTGCAGTCCAAATGATTTAGCTCGCCGTATAGGTCTCTTTGCTGGTATGTCAGCCTCCCCATGGAAGTTGCAGTCGATCTCTGAATTTCACATTAGGAGTAAGCATCCGGTTGCTTGAGCGTCAGTTCTGTAGGTACGATTTTACATGCGCCTCTTTTAACTGTTGGAAGCCCACGCGCAACCAACAGTAACAGTGTGTGGCAACTGTGCACCACATACACGAGAGGTGCCCGTCCGGTATGGGTCACCTAACTTTTGTGCGGCACGGCTTACACGCCAGAGGAGAGAAGCCCCAAGATAATAAGTGCACCTCTCAGGGACGCCTACTCCATAAATAGGACACTATACAATGGGTTGTAACGCCTCGTATCGTTAACATAGAGGTGGCTACCT\n"
     ]
    }
   ],
   "source": [
    "### 3. Complementing a Strand of DNA ###\n",
    "\n",
    "def reverse_complement(seq):\n",
    "    ntComplement = {'A':'T', 'C':'G', 'T':'A', 'G':'C'}\n",
    "    \n",
    "    revSeqList = list(reversed(seq))\n",
    "    revComSeqList = [ntComplement[k] for k in revSeqList]\n",
    "\n",
    "    revComSeq = ''.join(revComSeqList)\n",
    "    return revComSeq\n",
    "\n",
    "seq = ''\n",
    "with open('/Users/DONG/Downloads/rosalind_revc.txt') as f:\n",
    "    for line in f:\n",
    "        line = line.rstrip()\n",
    "        seq += line.upper()\n",
    "        \n",
    "print (reverse_complement(seq))"
   ]
  },
  {
   "cell_type": "code",
   "execution_count": 36,
   "metadata": {
    "collapsed": false
   },
   "outputs": [
    {
     "data": {
      "text/plain": [
       "5164501096416"
      ]
     },
     "execution_count": 36,
     "metadata": {},
     "output_type": "execute_result"
    }
   ],
   "source": [
    "### 4. Rabbits and Recurrence Relations ###\n",
    "\n",
    "def fibonacciRabbits(n,k):\n",
    "    F = [0,1,1]\n",
    "    generation = 3\n",
    "    while generation <= n:\n",
    "        F.append(F[generation-1]+F[generation-2]*k)\n",
    "        generation += 1\n",
    "\n",
    "    return (F[n])\n",
    "\n",
    "fibonacciRabbits(30,5)\n",
    "\n",
    "### recursive version ###\n",
    "def fibonacciRabbits(n,k):\n",
    "    if n <= 2:\n",
    "        return (1)\n",
    "    else:\n",
    "        return (fibonacciRabbits(n-1,k) + fibonacciRabbits(n-2,k)*k)\n",
    "fibonacciRabbits(30,3)"
   ]
  },
  {
   "cell_type": "code",
   "execution_count": 27,
   "metadata": {
    "collapsed": false
   },
   "outputs": [
    {
     "name": "stdout",
     "output_type": "stream",
     "text": [
      "[('Rosalind_7347', 48.53603603603604), ('Rosalind_1699', 49.04306220095694), ('Rosalind_6118', 49.08675799086758), ('Rosalind_7014', 49.69249692496925), ('Rosalind_7037', 51.79775280898876)]\n",
      "most GC ratio gene is Rosalind_7037 and it is 51.79775280898876 \n"
     ]
    }
   ],
   "source": [
    "### 5. Computing GC Content ###\n",
    "from operator import itemgetter\n",
    "from collections import OrderedDict\n",
    " \n",
    "seqTest = OrderedDict()\n",
    "gcContent = OrderedDict()\n",
    " \n",
    "with open('/Users/DONG/Downloads/rosalind_gc.txt', 'rt') as f:\n",
    "    for line in f:  \n",
    "        line = line.rstrip()\n",
    "        if line.startswith('>'):\n",
    "            seqName = line[1:]\n",
    "            seqTest[seqName] = ''\n",
    "            continue\n",
    "        seqTest[seqName] += line.upper()\n",
    " \n",
    " \n",
    "for ke, val in seqTest.items():\n",
    "    totalLength = len(val)\n",
    "    gcNumber = val.count('G') + val.count('C')\n",
    "    gcContent[ke] = float(gcNumber/totalLength)*100\n",
    "     \n",
    "sortedGCContent = sorted(gcContent.items(), key = itemgetter(1))\n",
    " \n",
    "largeName = sortedGCContent[-1][0]\n",
    "largeGCContent = sortedGCContent[-1][1]\n",
    "\n",
    "print ('most GC ratio gene is %s and it is %s ' %(largeName,largeGCContent))\n"
   ]
  },
  {
   "cell_type": "code",
   "execution_count": 39,
   "metadata": {
    "collapsed": false
   },
   "outputs": [
    {
     "name": "stdout",
     "output_type": "stream",
     "text": [
      "466\n"
     ]
    }
   ],
   "source": [
    "### 6. Counting Point Mutations ###\n",
    "fh = open('/Users/DONG/Downloads/rosalind_hamm.txt', 'rt')\n",
    "seq = fh.readlines()\n",
    "      \n",
    "a,b = seq[0].strip(),seq[1].strip()    \n",
    "hammingDistance = 0\n",
    "\n",
    "for i in range(len(a)):\n",
    "    if a[i] != b[i]:\n",
    "        hammingDistance += 1\n",
    "        \n",
    "print (hammingDistance)"
   ]
  },
  {
   "cell_type": "code",
   "execution_count": 9,
   "metadata": {
    "collapsed": false
   },
   "outputs": [
    {
     "name": "stdout",
     "output_type": "stream",
     "text": [
      "Number of individuals(k,m,n):27,16,30\n",
      "0.731735159817\n"
     ]
    }
   ],
   "source": [
    "### 7. Mendel's First Law ###\n",
    "from scipy.misc import comb\n",
    " \n",
    "individuals = input('Number of individuals(k,m,n):')\n",
    "[k, m, n] = map(int,individuals.split(','))\n",
    "t = k+m+n\n",
    "\n",
    "rr = comb(n,2)/comb(t,2)\n",
    "hh = comb(m,2)/comb(t,2)\n",
    "hr = comb(n,1)*comb(m,1)/comb(t,2)\n",
    "\n",
    "prob = 1 - (rr+hh*1/4+hr*1/2)\n",
    " \n",
    "print (prob)"
   ]
  },
  {
   "cell_type": "code",
   "execution_count": 2,
   "metadata": {
    "collapsed": false
   },
   "outputs": [],
   "source": [
    "#from Bio.Seq import Seq\n",
    "#from Bio.Alphabet import generic_rna"
   ]
  },
  {
   "cell_type": "code",
   "execution_count": 40,
   "metadata": {
    "collapsed": false
   },
   "outputs": [
    {
     "name": "stdout",
     "output_type": "stream",
     "text": [
      "MVYRTKSFSLSELPDTITYLSHGMPNKNASPGYKILKVGHRHNCLAWLVSMKHKRAEVLFTKARYINCHQPRILTYFRTLPHFDRTWVCTKFNCWRYWRLRGYCTGKTIFIVFLSDVSVELNPAVFSVVGNIDEVAAKCMCRQPESAYGSPRQPPYRLFLASRKRNCDVSRGCGSERAASRANPLEVLPVLGRQYLPAVEESCTSTSRLSVSRREIVTPVSTWARERGLRSSAITHPLLRPTKTTNISPRTMCRFVISRGGRTLIFEGLAAKHVYYTVSSPSDSKGPVQPTIQSRSPPPCPSRYKRAHVCLRPVNCKHTNLITSRNSVAPIHAYFQRKAQVKRLLEPVIKPLVKSCPTTTHQRIEVYLYIGHPCTRALREVTPPSYFSELVQPIECTYGASATKHRYSGNALSQVLETTRGSSRRAEVNWERNRSLQDDQMYITKVGIQNAISISKRRLLGGYTSAWTHLNTSVTFFIPVLTALRSKTTDINRRGRLNSVPTVRATNAPKLAVEVLQANWIAPQNPTTLNRVQPRNMLLNGDFTKPTCWGELFISESASRCPTQTWLQMEFWPWGTIDANCAQCDENNYHIRAGDNQMPSQFVRVNADVPLSRNPVLPNHRRLLSNLKPMSNDMVPRIGLDSLRLPRVYIADSGTRFLWRWPCYFISTLAHQDNRDHHFTQVVAHCGPYSSVCLDSASKWIRSLDVSDPKSLKCRSWGPVIKAPYLGHVIKPCRWKQPCVARDSALSKWHCTSCFNTLERFCALAYRLDTYRGVRVTVPITMSLVGWVCNLLVDSLRFVDRMLLLAYPGRKPPVQGESICTTCNPRHIKPGGLRTALRRMYDKVGRFQPWHKLQPPSFASMCFTTNWGRIEHIQNPTVCLVLEPLGQRVVLTTLKRMGRSGKARSQYSGRTLRCLTWVRHRSIRIQNQPPRMSLRRCQVCVGESLRTVSRWYDISRHRCFSRVRPFSRVFKSGLYLARYVSFVAQRNIEVLPRPGEARCETCQRHRYAWLQIAAQHGKLGPSACAHYSVLAPTHTSICGITRRWRISKTICANGQHGAALPNYPRTKFSLCCIDRLGERQPELELNDNYESPTVTALRLTYPITTPTSESILAKLQEVVGEASIRTALRLLRDILSCPYLGRLRSSLGGMTGIFSAKALLNINCASPVNSFRRLRSKCPPELIYKFLRLGADSIPTVILTINSCPADWSLAPKAQIMWNTPAVIHSLNIHVTGRDDLQDLRNYTQPLPCCVATMTVSVALALLTHRRHLCVSDPRAIKDRVVYARSVMCSALIFVQIRKIHYSTPRDPRRIEVINANFGVVIADFYSKAYFGVTAQASHRATRLLQANFPGGSAACTIVCSDHGVNDPKRIIMESQPVRNYILVTAGRDDVSEWFKPEVMKRGPSADRIQLGINRYHGRLVFSVRPHRIIGLGVRSLRPSARHRVQCRSLALCPTHAITPRLSFCVLRARRENPVPLSDELPVIPGINNHRERCREPSIVALFSGGQRPTGSVGSDITVCVRGKGNVEVYLDMQVAHPLRGSLLRVGRGPEEATSIVRTPHRYCLNLSIQPVDGGALFGSETYLNLRTSRVGATTKDTVDHSELGVVFAGPCTGIAPHRVRSEHTTILIRSDAIFYEHSVLNVNTLINHAEGIQEKQHGLCSENYRMTYQMLDQLLKQTGDAVFVIGTYSSYSLLFEETSCELWGIAVLGAVTRYTGPGSGHSNSLWVMYAGLAGIGLRVRDVLNHGAPSAYRPELLSCALRPLTPSPGGGPEGCNLTPLCARQVKLRKASDLLWQPLWTIDISTLTHVMDHSRLVYMGFAVQDHVTGIDLRHVSSGGQARKTCNLLFRPVRHVSYRISIMVGHSYSIHRLSLVCYLLVQRYSCTQVGQSLRFCLALLRTLGHALASCLMEGIFVIGSILAAEIHPLSFLRKAFHTGAVLLNTPPFSVKAGITVRTGCTGVQISCTPLIPRSGPTCDVIPYLQGVVGHALKIKEMRQRANPGAERHFLSGTRRTKLVVTKSIGQSEKSGRNPLNHVRRFSTRIHMTPHVRRLESRHHASLRYEKDNLSISLSARMSLYVYVSAITPDFRDPGLVTCHSQQASLWILQIIVSLYLHPCFVLTPLYYSTAGSLGNSCHLPPSLSELQTLQVTIYYSGPDLGMPRPGWMIPYSSTRSYSPMALNVQTRVVINRQIYYWHENQEEGPSTVLPQLCHWGPFRVGYTISLVNSLIINRISHCTRVVFIHVCMFPCRRLVESVLWPCESTADIAGAYPLGVTIRPFSPESCLRTAQLGMVEPFACTRGDYKRSQLREGTTFIYRGSLRPPLMAGGFSWSRSCFMNGQNDTEEISTSVGGVARVYASGEWISIGRLVTLCFAQSLDLGACCFQEIHAEPLCTKGSGGISECSRSRLDLCMLKLSGIGTLPGSAFECYRQYDLIAIVTKGYPLVPRPSPIHGNHIHHLCYYITGTATIMASIVLKTAFILIRKVCSGRGVRGHIGLIGYSGPPANLSTPGDTTYYMVPRIHSLIALQRCLNNERVLFGLIDHPHPMVKNIFPVGFKNLVSEALPDCQCQSMRYNSDGRPPRITVAAAQSFAARPGCSTNTNVKFNLTSEREYRTGPFPIPFQTYKEHVFAVSPVPSIGSSRLIPFYWCHTGASGHNSLDGTRAYPRPSVPKRSRTTPLGTQPHEMYLIEGKHSRSEANLTMDGCAKRVKSRKRGLHPAINPTCRQDRSLDPRDVYHPSSLAHIRSGRCCTSSLGQRERLLAVGKPSVEAIYLKRTRKETVIYVIQVATRAEQGRSKISMRIAVSTSGRAQQVSDLLVSKRYNQSDGSDEFVDTVDSCADAACVTNRYSLVVCPVAALVYGESGDQILRPRTGSDETQNRMRVSNITPKRPVHTPCGAVRLRVLPILRINLGIGRVLHKALERRLMRLK\n"
     ]
    }
   ],
   "source": [
    "### 8. Translating RNA into Protein ###\n",
    "import re\n",
    "from collections import OrderedDict\n",
    "\n",
    "codonTable = OrderedDict()\n",
    "with open('/Users/DONG/Downloads/rna_codon_table.txt') as f:\n",
    "    for line in f:\n",
    "        line = line.rstrip()\n",
    "        lst = re.split('\\s+', line)\n",
    "        for i in [0,2,4,6]:\n",
    "            codonTable[lst[i]] = lst[i+1]\n",
    "\n",
    "rnaSeq = ''\n",
    "with open('/Users/DONG/Downloads/rosalind_prot.txt', 'rt') as f:\n",
    "    for line in f:\n",
    "        line = line.rstrip()\n",
    "        rnaSeq += line.upper()\n",
    "\n",
    "aminoAcids = []\n",
    "i = 0\n",
    "while i < len(rnaSeq):\n",
    "    codon = rnaSeq[i:i+3]\n",
    "    if codonTable[codon] != 'Stop':\n",
    "        aminoAcids.append(codonTable[codon])\n",
    "    i+=3\n",
    "    \n",
    "peptide = ''.join(aminoAcids)\n",
    "\n",
    "print (peptide)"
   ]
  },
  {
   "cell_type": "code",
   "execution_count": 39,
   "metadata": {
    "collapsed": false
   },
   "outputs": [
    {
     "name": "stdout",
     "output_type": "stream",
     "text": [
      "OrderedDict([('UUU', 'F'), ('CUU', 'L'), ('AUU', 'I'), ('GUU', 'V'), ('UUC', 'F'), ('CUC', 'L'), ('AUC', 'I'), ('GUC', 'V'), ('UUA', 'L'), ('CUA', 'L'), ('AUA', 'I'), ('GUA', 'V'), ('UUG', 'L'), ('CUG', 'L'), ('AUG', 'M'), ('GUG', 'V'), ('UCU', 'S'), ('CCU', 'P'), ('ACU', 'T'), ('GCU', 'A'), ('UCC', 'S'), ('CCC', 'P'), ('ACC', 'T'), ('GCC', 'A'), ('UCA', 'S'), ('CCA', 'P'), ('ACA', 'T'), ('GCA', 'A'), ('UCG', 'S'), ('CCG', 'P'), ('ACG', 'T'), ('GCG', 'A'), ('UAU', 'Y'), ('CAU', 'H'), ('AAU', 'N'), ('GAU', 'D'), ('UAC', 'Y'), ('CAC', 'H'), ('AAC', 'N'), ('GAC', 'D'), ('UAA', 'Stop'), ('CAA', 'Q'), ('AAA', 'K'), ('GAA', 'E'), ('UAG', 'Stop'), ('CAG', 'Q'), ('AAG', 'K'), ('GAG', 'E'), ('UGU', 'C'), ('CGU', 'R'), ('AGU', 'S'), ('GGU', 'G'), ('UGC', 'C'), ('CGC', 'R'), ('AGC', 'S'), ('GGC', 'G'), ('UGA', 'Stop'), ('CGA', 'R'), ('AGA', 'R'), ('GGA', 'G'), ('UGG', 'W'), ('CGG', 'R'), ('AGG', 'R'), ('GGG', 'G')])\n"
     ]
    }
   ],
   "source": [
    "codonTable = OrderedDict()\n",
    "with open('/Users/DONG/Downloads/rna_codon_table.txt') as f:\n",
    "    for line in f:\n",
    "        line = line.rstrip()\n",
    "        lst = re.split('\\s+', line)\n",
    "        for i in [0,2,4,6]:\n",
    "            codonTable[lst[i]] = lst[i+1]\n",
    "            \n",
    "print (codonTable)"
   ]
  },
  {
   "cell_type": "code",
   "execution_count": null,
   "metadata": {
    "collapsed": false
   },
   "outputs": [],
   "source": []
  },
  {
   "cell_type": "code",
   "execution_count": 65,
   "metadata": {
    "collapsed": false
   },
   "outputs": [
    {
     "name": "stdout",
     "output_type": "stream",
     "text": [
      "2\n",
      "10\n"
     ]
    }
   ],
   "source": [
    "### 9. Finding a Motif in DNA ###\n",
    "\n",
    "# Method 1: Use Module regex.finditer\n",
    "import regex\n",
    "matches = regex.finditer('ATAT', 'GATATATGCATATACTT', overlapped = True)\n",
    "for match in matches:\n",
    "    print (match.start()+1)\n",
    "    \n",
    "    \n",
    "# Method 2: Brute Force Search\n",
    "seq = 'GATATATGCATATACTT'\n",
    "pattern = 'ATAT'\n",
    "\n",
    "def find_motif(seq, pattern):\n",
    "    position = []\n",
    "    for i in range(len(seq)-len(pattern)):\n",
    "        if seq[i:i+len(pattern)] == pattern:\n",
    "            position.append(str(i+1))\n",
    "            \n",
    "    print ('\\t'.join(position))\n",
    "    \n",
    "find_motif(seq, pattern)\n"
   ]
  },
  {
   "cell_type": "code",
   "execution_count": 66,
   "metadata": {
    "collapsed": false
   },
   "outputs": [
    {
     "name": "stdout",
     "output_type": "stream",
     "text": [
      "10\t55\t62\t69\t117\t153\t160\t251\t269\t293\t301\t317\t332\t339\t365\t415\t422\t430\t445\t479\t486\t494\t501\t509\t542\t589\t674\t714\t721\t737\t827\t834\t852\t889\t919\t959\n"
     ]
    }
   ],
   "source": [
    "### \n",
    "seq = 'GCCGCCACTCCGCCACCCGCCACACCGCCACGAGTGCCGCCACGCCGCCACTCGCCGCCACCCGCCACCCGCCACCCGCCACGATACCGCCACTCACCTCTCGCCGCCACTGTCGCCCGCCACCCGCCACTCCGCCACGACCGCCACCATAACCGCCACCCGCCACCCGCCACTGTTTCCGCCACGTGCCGCCACCACCGCCACCAGGCCGCCACGGCCGCCACATCCCTCCGCCACGGATACCGCCACACCGCCACCCCGCCACGGACCGCCACCCGCCACATCCGCCACACCGCCACCCCGCCACCCGCCACGACCGCCACCCGCCACACCGCCACCCGCCACCCGCCACACCGCCACTCTTCCGCCACCCGCCACCACCGCCACGCCGCCACTACCGCCACTTCCGCCACTCCGCCACCCGCCACCCCGCCACCCGCCACTCCGCCACCCGCCACGGCCCGCCACGCCGCCACAGCCGCCACCCGCCACCCCGCCACCCGCCACCCCGCCACCCTCCGCCACGTTCACTCCGCCACTACCGCCACCCGCCACATAGGCCGCCACTCCCCGCCACCACCGCCACGCCCGCCACCCGCCACGCAAAATGACGCCGCCACGTCCGCCACTGCCTTGTCCAAGAGCCGCCACTGAACTCCGCCACACCGGGCCACCGCCACCCGCCACCACGCTATTCCGCCACGCCGCCACCACCGCCACCCGCCACCCCGCCACTCCGCCACCCGCCACATGGTGACCGCCACTCCGCCACACCGCCACCGGGTGTTTCTCTAAAGTTCCCCGCCACGACCGCCACTCCGCCACTCCGCCACCCGCCACCCGCCACAACCCCGCCACCCGCCACGCCGCCACAGCAACCGCCACTGACCGCCACCCCGCCACACCGCCACTTCTGCTCCGCCACCCGCCACACCGCCACAACCCGCCACCATTAGTCCCGCCACCCGCCAC'\n",
    "pattern = 'CCGCCACCC'\n",
    "\n",
    "def find_motif(seq, pattern):\n",
    "    position = []\n",
    "    for i in range(len(seq)-len(pattern)):\n",
    "        if seq[i:i+len(pattern)] == pattern:\n",
    "            position.append(str(i+1))\n",
    "            \n",
    "    print ('\\t'.join(position))\n",
    "    \n",
    "find_motif(seq, pattern)"
   ]
  },
  {
   "cell_type": "code",
   "execution_count": null,
   "metadata": {
    "collapsed": false
   },
   "outputs": [],
   "source": []
  },
  {
   "cell_type": "code",
   "execution_count": 108,
   "metadata": {
    "collapsed": false
   },
   "outputs": [],
   "source": [
    "### 10. Consensus and Profile ###\n",
    "\n",
    "from collections import Counter\n",
    "\n",
    "fh = open('/Users/DONG/Downloads/consesus_and_profile_output2.txt', 'wt')\n",
    "\n",
    "rosalind = OrderedDict()\n",
    "seqLength = 0\n",
    "with open('/Users/DONG/Downloads/rosalind_cons.txt') as f:\n",
    "    for line in f:\n",
    "        line = line.rstrip()\n",
    "        if line.startswith('>'):\n",
    "            rosalindName = line\n",
    "            rosalind[rosalindName] = ''\n",
    "            continue\n",
    "        rosalind[rosalindName] += line\n",
    "    seqLength = len(rosalind[rosalindName])\n",
    "    \n",
    "\n",
    "A,C,G,T = [],[],[],[]\n",
    "consensusSeq = ''\n",
    "for i in range(seqLength):\n",
    "    seq = ''\n",
    "    for k in rosalind.keys():\n",
    "        seq += rosalind[k][i]\n",
    "    A.append(seq.count('A'))\n",
    "    C.append(seq.count('C'))\n",
    "    G.append(seq.count('G'))\n",
    "    T.append(seq.count('T'))\n",
    "    counts = Counter(seq)\n",
    "    consensusSeq += counts.most_common()[0][0]\n",
    "\n",
    "\n",
    "fh.write(consensusSeq+'\\n')\n",
    "fh.write('\\n'.join(['A:\\t'+'\\t'.join(map(str,A)), 'C:\\t'+'\\t'.join(map(str,C)),\n",
    "                    'G:\\t'+'\\t'.join(map(str,G)), 'T:\\t'+'\\t'.join(map(str,T))]))\n",
    "\n",
    "fh.close()"
   ]
  },
  {
   "cell_type": "code",
   "execution_count": 79,
   "metadata": {
    "collapsed": false
   },
   "outputs": [
    {
     "name": "stdout",
     "output_type": "stream",
     "text": [
      "G 4\n",
      "C 2\n",
      "T 2\n",
      "A 2\n"
     ]
    }
   ],
   "source": [
    "from collections import Counter\n",
    "\n",
    "x = Counter('ATGGCACGGT')\n",
    "\n",
    "for k,v in x.items():\n",
    "    print (k,v)\n",
    "#for m in "
   ]
  },
  {
   "cell_type": "code",
   "execution_count": 87,
   "metadata": {
    "collapsed": false
   },
   "outputs": [
    {
     "data": {
      "text/plain": [
       "'G'"
      ]
     },
     "execution_count": 87,
     "metadata": {},
     "output_type": "execute_result"
    }
   ],
   "source": [
    "x.most_common()[0][0]"
   ]
  },
  {
   "cell_type": "code",
   "execution_count": 95,
   "metadata": {
    "collapsed": false
   },
   "outputs": [
    {
     "data": {
      "text/plain": [
       "0"
      ]
     },
     "execution_count": 95,
     "metadata": {},
     "output_type": "execute_result"
    }
   ],
   "source": [
    "'atc'.count('M')"
   ]
  },
  {
   "cell_type": "code",
   "execution_count": 39,
   "metadata": {
    "collapsed": false
   },
   "outputs": [
    {
     "data": {
      "text/plain": [
       "1"
      ]
     },
     "execution_count": 39,
     "metadata": {},
     "output_type": "execute_result"
    }
   ],
   "source": [
    "### 11. Rabbits and Recurrence Relations ###\n",
    "\n",
    "def fibonacciRabbits(n,m):\n",
    "    F = [0,1,1]\n",
    "    generation = 3\n",
    "    while generation <= n:\n",
    "        if generation <= m+1:\n",
    "            F.append(F[generation-1]+F[generation-2])\n",
    "        else:\n",
    "            F.append(F[generation-1]+F[generation-2]-F[generation-1-m])\n",
    "        generation += 1\n",
    "\n",
    "    return (F[n])\n",
    "\n",
    "fibonacciRabbits(6,3)\n",
    "\n"
   ]
  },
  {
   "cell_type": "code",
   "execution_count": 4,
   "metadata": {
    "collapsed": false
   },
   "outputs": [],
   "source": [
    "### recursive version ###\n",
    "def fibonacciRabbits(n,m):\n",
    "    if n == 1 or n == 2:\n",
    "        return (1)\n",
    "    if n == 3 or n == 4:\n",
    "        return (2)\n",
    "    else:\n",
    "        return (fibonacciRabbits(n-1, m) + fibonacciRabbits(n-2, m) - fibonacciRabbits(n-m-1, m))"
   ]
  },
  {
   "cell_type": "code",
   "execution_count": null,
   "metadata": {
    "collapsed": true
   },
   "outputs": [],
   "source": []
  }
 ],
 "metadata": {
  "kernelspec": {
   "display_name": "Python [Root]",
   "language": "python",
   "name": "Python [Root]"
  },
  "language_info": {
   "codemirror_mode": {
    "name": "ipython",
    "version": 3
   },
   "file_extension": ".py",
   "mimetype": "text/x-python",
   "name": "python",
   "nbconvert_exporter": "python",
   "pygments_lexer": "ipython3",
   "version": "3.5.2"
  }
 },
 "nbformat": 4,
 "nbformat_minor": 0
}
